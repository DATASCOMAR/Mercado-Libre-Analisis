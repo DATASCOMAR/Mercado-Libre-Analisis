{
 "cells": [
  {
   "cell_type": "markdown",
   "metadata": {
    "id": "tCZq0BNKkLHX"
   },
   "source": [
    "# **DataScience**"
   ]
  },
  {
   "cell_type": "markdown",
   "metadata": {
    "id": "d-he0ilbkSDR"
   },
   "source": [
    "# **1. Bucket**\n",
    "\n"
   ]
  },
  {
   "cell_type": "markdown",
   "metadata": {
    "id": "4bXTWKXTmPNz"
   },
   "source": [
    "### **Autenticación Google Colab**"
   ]
  },
  {
   "cell_type": "code",
   "execution_count": null,
   "metadata": {
    "colab": {
     "base_uri": "https://localhost:8080/"
    },
    "id": "jdBkY95cj86w",
    "outputId": "6697f906-5c1c-4479-9d1c-5cf08b790333"
   },
   "outputs": [
    {
     "name": "stdout",
     "output_type": "stream",
     "text": [
      "Authenticated\n"
     ]
    }
   ],
   "source": [
    "# Autenticación con Google Colab\n",
    "from google.colab import auth\n",
    "\n",
    "auth.authenticate_user()\n",
    "print('Authenticated')"
   ]
  },
  {
   "cell_type": "markdown",
   "metadata": {
    "id": "puleGloVmBLw"
   },
   "source": [
    "## **Conexión al Bucket de Google Cloud**"
   ]
  },
  {
   "cell_type": "code",
   "execution_count": null,
   "metadata": {
    "colab": {
     "base_uri": "https://localhost:8080/",
     "height": 393
    },
    "collapsed": true,
    "id": "TBW3lyRhl9Jt",
    "jupyter": {
     "outputs_hidden": true
    },
    "outputId": "ae977956-19da-4e3c-fdba-9ce033f7d3b9"
   },
   "outputs": [
    {
     "ename": "Forbidden",
     "evalue": "403 GET https://storage.googleapis.com/storage/v1/b/act_transf_datos_masivos?projection=noAcl&prettyPrint=false: jarc2802@gmail.com does not have storage.buckets.get access to the Google Cloud Storage bucket. Permission 'storage.buckets.get' denied on resource (or it may not exist).",
     "output_type": "error",
     "traceback": [
      "\u001b[0;31m---------------------------------------------------------------------------\u001b[0m",
      "\u001b[0;31mForbidden\u001b[0m                                 Traceback (most recent call last)",
      "\u001b[0;32m<ipython-input-9-5f25919bb239>\u001b[0m in \u001b[0;36m<cell line: 4>\u001b[0;34m()\u001b[0m\n\u001b[1;32m      2\u001b[0m \u001b[0;34m\u001b[0m\u001b[0m\n\u001b[1;32m      3\u001b[0m \u001b[0mclient\u001b[0m \u001b[0;34m=\u001b[0m \u001b[0mstorage\u001b[0m\u001b[0;34m.\u001b[0m\u001b[0mClient\u001b[0m\u001b[0;34m(\u001b[0m\u001b[0;34m)\u001b[0m\u001b[0;34m\u001b[0m\u001b[0;34m\u001b[0m\u001b[0m\n\u001b[0;32m----> 4\u001b[0;31m \u001b[0mbucket\u001b[0m \u001b[0;34m=\u001b[0m \u001b[0mclient\u001b[0m\u001b[0;34m.\u001b[0m\u001b[0mget_bucket\u001b[0m\u001b[0;34m(\u001b[0m\u001b[0;34m'act_transf_datos_masivos'\u001b[0m\u001b[0;34m)\u001b[0m\u001b[0;34m\u001b[0m\u001b[0;34m\u001b[0m\u001b[0m\n\u001b[0m\u001b[1;32m      5\u001b[0m \u001b[0;34m\u001b[0m\u001b[0m\n\u001b[1;32m      6\u001b[0m \u001b[0mprint\u001b[0m\u001b[0;34m(\u001b[0m\u001b[0;34mf'Conectado al bucket: {bucket.name}'\u001b[0m\u001b[0;34m)\u001b[0m\u001b[0;34m\u001b[0m\u001b[0;34m\u001b[0m\u001b[0m\n",
      "\u001b[0;32m/usr/local/lib/python3.10/dist-packages/google/cloud/storage/client.py\u001b[0m in \u001b[0;36mget_bucket\u001b[0;34m(self, bucket_or_name, timeout, if_metageneration_match, if_metageneration_not_match, retry)\u001b[0m\n\u001b[1;32m    770\u001b[0m         \"\"\"\n\u001b[1;32m    771\u001b[0m         \u001b[0mbucket\u001b[0m \u001b[0;34m=\u001b[0m \u001b[0mself\u001b[0m\u001b[0;34m.\u001b[0m\u001b[0m_bucket_arg_to_bucket\u001b[0m\u001b[0;34m(\u001b[0m\u001b[0mbucket_or_name\u001b[0m\u001b[0;34m)\u001b[0m\u001b[0;34m\u001b[0m\u001b[0;34m\u001b[0m\u001b[0m\n\u001b[0;32m--> 772\u001b[0;31m         bucket.reload(\n\u001b[0m\u001b[1;32m    773\u001b[0m             \u001b[0mclient\u001b[0m\u001b[0;34m=\u001b[0m\u001b[0mself\u001b[0m\u001b[0;34m,\u001b[0m\u001b[0;34m\u001b[0m\u001b[0;34m\u001b[0m\u001b[0m\n\u001b[1;32m    774\u001b[0m             \u001b[0mtimeout\u001b[0m\u001b[0;34m=\u001b[0m\u001b[0mtimeout\u001b[0m\u001b[0;34m,\u001b[0m\u001b[0;34m\u001b[0m\u001b[0;34m\u001b[0m\u001b[0m\n",
      "\u001b[0;32m/usr/local/lib/python3.10/dist-packages/google/cloud/storage/bucket.py\u001b[0m in \u001b[0;36mreload\u001b[0;34m(self, client, projection, timeout, if_etag_match, if_etag_not_match, if_metageneration_match, if_metageneration_not_match, retry)\u001b[0m\n\u001b[1;32m   1084\u001b[0m             \u001b[0;34m(\u001b[0m\u001b[0mOptional\u001b[0m\u001b[0;34m)\u001b[0m \u001b[0mHow\u001b[0m \u001b[0mto\u001b[0m \u001b[0mretry\u001b[0m \u001b[0mthe\u001b[0m \u001b[0mRPC\u001b[0m\u001b[0;34m.\u001b[0m \u001b[0mSee\u001b[0m\u001b[0;34m:\u001b[0m \u001b[0;34m:\u001b[0m\u001b[0mref\u001b[0m\u001b[0;34m:\u001b[0m\u001b[0;31m`\u001b[0m\u001b[0mconfiguring_retries\u001b[0m\u001b[0;31m`\u001b[0m\u001b[0;34m\u001b[0m\u001b[0;34m\u001b[0m\u001b[0m\n\u001b[1;32m   1085\u001b[0m         \"\"\"\n\u001b[0;32m-> 1086\u001b[0;31m         super(Bucket, self).reload(\n\u001b[0m\u001b[1;32m   1087\u001b[0m             \u001b[0mclient\u001b[0m\u001b[0;34m=\u001b[0m\u001b[0mclient\u001b[0m\u001b[0;34m,\u001b[0m\u001b[0;34m\u001b[0m\u001b[0;34m\u001b[0m\u001b[0m\n\u001b[1;32m   1088\u001b[0m             \u001b[0mprojection\u001b[0m\u001b[0;34m=\u001b[0m\u001b[0mprojection\u001b[0m\u001b[0;34m,\u001b[0m\u001b[0;34m\u001b[0m\u001b[0;34m\u001b[0m\u001b[0m\n",
      "\u001b[0;32m/usr/local/lib/python3.10/dist-packages/google/cloud/storage/_helpers.py\u001b[0m in \u001b[0;36mreload\u001b[0;34m(self, client, projection, if_etag_match, if_etag_not_match, if_generation_match, if_generation_not_match, if_metageneration_match, if_metageneration_not_match, timeout, retry)\u001b[0m\n\u001b[1;32m    244\u001b[0m             \u001b[0mheaders\u001b[0m\u001b[0;34m,\u001b[0m \u001b[0mif_etag_match\u001b[0m\u001b[0;34m=\u001b[0m\u001b[0mif_etag_match\u001b[0m\u001b[0;34m,\u001b[0m \u001b[0mif_etag_not_match\u001b[0m\u001b[0;34m=\u001b[0m\u001b[0mif_etag_not_match\u001b[0m\u001b[0;34m\u001b[0m\u001b[0;34m\u001b[0m\u001b[0m\n\u001b[1;32m    245\u001b[0m         )\n\u001b[0;32m--> 246\u001b[0;31m         api_response = client._get_resource(\n\u001b[0m\u001b[1;32m    247\u001b[0m             \u001b[0mself\u001b[0m\u001b[0;34m.\u001b[0m\u001b[0mpath\u001b[0m\u001b[0;34m,\u001b[0m\u001b[0;34m\u001b[0m\u001b[0;34m\u001b[0m\u001b[0m\n\u001b[1;32m    248\u001b[0m             \u001b[0mquery_params\u001b[0m\u001b[0;34m=\u001b[0m\u001b[0mquery_params\u001b[0m\u001b[0;34m,\u001b[0m\u001b[0;34m\u001b[0m\u001b[0;34m\u001b[0m\u001b[0m\n",
      "\u001b[0;32m/usr/local/lib/python3.10/dist-packages/google/cloud/storage/client.py\u001b[0m in \u001b[0;36m_get_resource\u001b[0;34m(self, path, query_params, headers, timeout, retry, _target_object)\u001b[0m\n\u001b[1;32m    375\u001b[0m                 \u001b[0mIf\u001b[0m \u001b[0mthe\u001b[0m \u001b[0mbucket\u001b[0m \u001b[0;32mis\u001b[0m \u001b[0;32mnot\u001b[0m \u001b[0mfound\u001b[0m\u001b[0;34m.\u001b[0m\u001b[0;34m\u001b[0m\u001b[0;34m\u001b[0m\u001b[0m\n\u001b[1;32m    376\u001b[0m         \"\"\"\n\u001b[0;32m--> 377\u001b[0;31m         return self._connection.api_request(\n\u001b[0m\u001b[1;32m    378\u001b[0m             \u001b[0mmethod\u001b[0m\u001b[0;34m=\u001b[0m\u001b[0;34m\"GET\"\u001b[0m\u001b[0;34m,\u001b[0m\u001b[0;34m\u001b[0m\u001b[0;34m\u001b[0m\u001b[0m\n\u001b[1;32m    379\u001b[0m             \u001b[0mpath\u001b[0m\u001b[0;34m=\u001b[0m\u001b[0mpath\u001b[0m\u001b[0;34m,\u001b[0m\u001b[0;34m\u001b[0m\u001b[0;34m\u001b[0m\u001b[0m\n",
      "\u001b[0;32m/usr/local/lib/python3.10/dist-packages/google/cloud/storage/_http.py\u001b[0m in \u001b[0;36mapi_request\u001b[0;34m(self, *args, **kwargs)\u001b[0m\n\u001b[1;32m     70\u001b[0m             \u001b[0;32mif\u001b[0m \u001b[0mretry\u001b[0m\u001b[0;34m:\u001b[0m\u001b[0;34m\u001b[0m\u001b[0;34m\u001b[0m\u001b[0m\n\u001b[1;32m     71\u001b[0m                 \u001b[0mcall\u001b[0m \u001b[0;34m=\u001b[0m \u001b[0mretry\u001b[0m\u001b[0;34m(\u001b[0m\u001b[0mcall\u001b[0m\u001b[0;34m)\u001b[0m\u001b[0;34m\u001b[0m\u001b[0;34m\u001b[0m\u001b[0m\n\u001b[0;32m---> 72\u001b[0;31m         \u001b[0;32mreturn\u001b[0m \u001b[0mcall\u001b[0m\u001b[0;34m(\u001b[0m\u001b[0;34m)\u001b[0m\u001b[0;34m\u001b[0m\u001b[0;34m\u001b[0m\u001b[0m\n\u001b[0m",
      "\u001b[0;32m/usr/local/lib/python3.10/dist-packages/google/api_core/retry/retry_unary.py\u001b[0m in \u001b[0;36mretry_wrapped_func\u001b[0;34m(*args, **kwargs)\u001b[0m\n\u001b[1;32m    291\u001b[0m                 \u001b[0mself\u001b[0m\u001b[0;34m.\u001b[0m\u001b[0m_initial\u001b[0m\u001b[0;34m,\u001b[0m \u001b[0mself\u001b[0m\u001b[0;34m.\u001b[0m\u001b[0m_maximum\u001b[0m\u001b[0;34m,\u001b[0m \u001b[0mmultiplier\u001b[0m\u001b[0;34m=\u001b[0m\u001b[0mself\u001b[0m\u001b[0;34m.\u001b[0m\u001b[0m_multiplier\u001b[0m\u001b[0;34m\u001b[0m\u001b[0;34m\u001b[0m\u001b[0m\n\u001b[1;32m    292\u001b[0m             )\n\u001b[0;32m--> 293\u001b[0;31m             return retry_target(\n\u001b[0m\u001b[1;32m    294\u001b[0m                 \u001b[0mtarget\u001b[0m\u001b[0;34m,\u001b[0m\u001b[0;34m\u001b[0m\u001b[0;34m\u001b[0m\u001b[0m\n\u001b[1;32m    295\u001b[0m                 \u001b[0mself\u001b[0m\u001b[0;34m.\u001b[0m\u001b[0m_predicate\u001b[0m\u001b[0;34m,\u001b[0m\u001b[0;34m\u001b[0m\u001b[0;34m\u001b[0m\u001b[0m\n",
      "\u001b[0;32m/usr/local/lib/python3.10/dist-packages/google/api_core/retry/retry_unary.py\u001b[0m in \u001b[0;36mretry_target\u001b[0;34m(target, predicate, sleep_generator, timeout, on_error, exception_factory, **kwargs)\u001b[0m\n\u001b[1;32m    151\u001b[0m         \u001b[0;32mexcept\u001b[0m \u001b[0mException\u001b[0m \u001b[0;32mas\u001b[0m \u001b[0mexc\u001b[0m\u001b[0;34m:\u001b[0m\u001b[0;34m\u001b[0m\u001b[0;34m\u001b[0m\u001b[0m\n\u001b[1;32m    152\u001b[0m             \u001b[0;31m# defer to shared logic for handling errors\u001b[0m\u001b[0;34m\u001b[0m\u001b[0;34m\u001b[0m\u001b[0m\n\u001b[0;32m--> 153\u001b[0;31m             _retry_error_helper(\n\u001b[0m\u001b[1;32m    154\u001b[0m                 \u001b[0mexc\u001b[0m\u001b[0;34m,\u001b[0m\u001b[0;34m\u001b[0m\u001b[0;34m\u001b[0m\u001b[0m\n\u001b[1;32m    155\u001b[0m                 \u001b[0mdeadline\u001b[0m\u001b[0;34m,\u001b[0m\u001b[0;34m\u001b[0m\u001b[0;34m\u001b[0m\u001b[0m\n",
      "\u001b[0;32m/usr/local/lib/python3.10/dist-packages/google/api_core/retry/retry_base.py\u001b[0m in \u001b[0;36m_retry_error_helper\u001b[0;34m(exc, deadline, next_sleep, error_list, predicate_fn, on_error_fn, exc_factory_fn, original_timeout)\u001b[0m\n\u001b[1;32m    210\u001b[0m             \u001b[0moriginal_timeout\u001b[0m\u001b[0;34m,\u001b[0m\u001b[0;34m\u001b[0m\u001b[0;34m\u001b[0m\u001b[0m\n\u001b[1;32m    211\u001b[0m         )\n\u001b[0;32m--> 212\u001b[0;31m         \u001b[0;32mraise\u001b[0m \u001b[0mfinal_exc\u001b[0m \u001b[0;32mfrom\u001b[0m \u001b[0msource_exc\u001b[0m\u001b[0;34m\u001b[0m\u001b[0;34m\u001b[0m\u001b[0m\n\u001b[0m\u001b[1;32m    213\u001b[0m     \u001b[0;32mif\u001b[0m \u001b[0mon_error_fn\u001b[0m \u001b[0;32mis\u001b[0m \u001b[0;32mnot\u001b[0m \u001b[0;32mNone\u001b[0m\u001b[0;34m:\u001b[0m\u001b[0;34m\u001b[0m\u001b[0;34m\u001b[0m\u001b[0m\n\u001b[1;32m    214\u001b[0m         \u001b[0mon_error_fn\u001b[0m\u001b[0;34m(\u001b[0m\u001b[0mexc\u001b[0m\u001b[0;34m)\u001b[0m\u001b[0;34m\u001b[0m\u001b[0;34m\u001b[0m\u001b[0m\n",
      "\u001b[0;32m/usr/local/lib/python3.10/dist-packages/google/api_core/retry/retry_unary.py\u001b[0m in \u001b[0;36mretry_target\u001b[0;34m(target, predicate, sleep_generator, timeout, on_error, exception_factory, **kwargs)\u001b[0m\n\u001b[1;32m    142\u001b[0m     \u001b[0;32mfor\u001b[0m \u001b[0msleep\u001b[0m \u001b[0;32min\u001b[0m \u001b[0msleep_generator\u001b[0m\u001b[0;34m:\u001b[0m\u001b[0;34m\u001b[0m\u001b[0;34m\u001b[0m\u001b[0m\n\u001b[1;32m    143\u001b[0m         \u001b[0;32mtry\u001b[0m\u001b[0;34m:\u001b[0m\u001b[0;34m\u001b[0m\u001b[0;34m\u001b[0m\u001b[0m\n\u001b[0;32m--> 144\u001b[0;31m             \u001b[0mresult\u001b[0m \u001b[0;34m=\u001b[0m \u001b[0mtarget\u001b[0m\u001b[0;34m(\u001b[0m\u001b[0;34m)\u001b[0m\u001b[0;34m\u001b[0m\u001b[0;34m\u001b[0m\u001b[0m\n\u001b[0m\u001b[1;32m    145\u001b[0m             \u001b[0;32mif\u001b[0m \u001b[0minspect\u001b[0m\u001b[0;34m.\u001b[0m\u001b[0misawaitable\u001b[0m\u001b[0;34m(\u001b[0m\u001b[0mresult\u001b[0m\u001b[0;34m)\u001b[0m\u001b[0;34m:\u001b[0m\u001b[0;34m\u001b[0m\u001b[0;34m\u001b[0m\u001b[0m\n\u001b[1;32m    146\u001b[0m                 \u001b[0mwarnings\u001b[0m\u001b[0;34m.\u001b[0m\u001b[0mwarn\u001b[0m\u001b[0;34m(\u001b[0m\u001b[0m_ASYNC_RETRY_WARNING\u001b[0m\u001b[0;34m)\u001b[0m\u001b[0;34m\u001b[0m\u001b[0;34m\u001b[0m\u001b[0m\n",
      "\u001b[0;32m/usr/local/lib/python3.10/dist-packages/google/cloud/_http/__init__.py\u001b[0m in \u001b[0;36mapi_request\u001b[0;34m(self, method, path, query_params, data, content_type, headers, api_base_url, api_version, expect_json, _target_object, timeout, extra_api_info)\u001b[0m\n\u001b[1;32m    492\u001b[0m \u001b[0;34m\u001b[0m\u001b[0m\n\u001b[1;32m    493\u001b[0m         \u001b[0;32mif\u001b[0m \u001b[0;32mnot\u001b[0m \u001b[0;36m200\u001b[0m \u001b[0;34m<=\u001b[0m \u001b[0mresponse\u001b[0m\u001b[0;34m.\u001b[0m\u001b[0mstatus_code\u001b[0m \u001b[0;34m<\u001b[0m \u001b[0;36m300\u001b[0m\u001b[0;34m:\u001b[0m\u001b[0;34m\u001b[0m\u001b[0;34m\u001b[0m\u001b[0m\n\u001b[0;32m--> 494\u001b[0;31m             \u001b[0;32mraise\u001b[0m \u001b[0mexceptions\u001b[0m\u001b[0;34m.\u001b[0m\u001b[0mfrom_http_response\u001b[0m\u001b[0;34m(\u001b[0m\u001b[0mresponse\u001b[0m\u001b[0;34m)\u001b[0m\u001b[0;34m\u001b[0m\u001b[0;34m\u001b[0m\u001b[0m\n\u001b[0m\u001b[1;32m    495\u001b[0m \u001b[0;34m\u001b[0m\u001b[0m\n\u001b[1;32m    496\u001b[0m         \u001b[0;32mif\u001b[0m \u001b[0mexpect_json\u001b[0m \u001b[0;32mand\u001b[0m \u001b[0mresponse\u001b[0m\u001b[0;34m.\u001b[0m\u001b[0mcontent\u001b[0m\u001b[0;34m:\u001b[0m\u001b[0;34m\u001b[0m\u001b[0;34m\u001b[0m\u001b[0m\n",
      "\u001b[0;31mForbidden\u001b[0m: 403 GET https://storage.googleapis.com/storage/v1/b/act_transf_datos_masivos?projection=noAcl&prettyPrint=false: jarc2802@gmail.com does not have storage.buckets.get access to the Google Cloud Storage bucket. Permission 'storage.buckets.get' denied on resource (or it may not exist)."
     ]
    }
   ],
   "source": [
    "from google.cloud import storage\n",
    "\n",
    "client = storage.Client()\n",
    "bucket = client.get_bucket('act_transf_datos_masivos')\n",
    "\n",
    "print(f'Conectado al bucket: {bucket.name}')"
   ]
  },
  {
   "cell_type": "code",
   "execution_count": null,
   "metadata": {
    "id": "BO9Apb6Snzt2"
   },
   "outputs": [],
   "source": [
    "# Función para subir archivos al bucket\n",
    "def upload_blob(client, bucket_name, source_file_name, destination_blob_name):\n",
    "    \"\"\"Subir un archivo a un bucket de Google Cloud Storage.\"\"\"\n",
    "    bucket = client.get_bucket(bucket_name)\n",
    "    blob = bucket.blob(destination_blob_name)\n",
    "\n",
    "    blob.upload_from_filename(source_file_name)\n",
    "\n",
    "    print(f'Archivo {source_file_name} subido a gs: //{bucket.name}/{destination_blob_name}.')"
   ]
  },
  {
   "cell_type": "markdown",
   "metadata": {
    "id": "enSQoD3Pq37C"
   },
   "source": [
    "## **Subiendo los archivos al bucket**\n",
    "\n",
    "* **Arhivos csv:** reviews del scrapping y análsis de sentimiento (BERT).\n",
    "* **Archivo xlsx:** Encuesta."
   ]
  },
  {
   "cell_type": "code",
   "execution_count": null,
   "metadata": {
    "id": "FyszYXkjpfMK"
   },
   "outputs": [],
   "source": [
    "upload_blob(client, 'act_transf_datos_masivos', '/content/reviews_scrapping.csv', 'reviews_scrapping.csv')\n",
    "upload_blob(client, 'act_transf_datos_masivos', '/content/sentiment_analysis.csv', 'sentiment_analysis.csv')\n",
    "upload_blob(client, 'act_transf_datos_masivos', '/content/Encuesta_de_Opinión_sobre_el_ZTE_Blade_A5_2020nm.xlsx', 'encuesta.xlsx')"
   ]
  },
  {
   "cell_type": "markdown",
   "metadata": {
    "id": "HsaNbs3vze7s"
   },
   "source": [
    "El archivo csv con los reviews y el análsis de sentimiento con BERT y la encuesta fueron subidos con éxito al Bucket.\n",
    "\n",
    "![Archivos en el Bucket.png](data:image/png;base64,iVBORw0KGgoAAAANSUhEUgAAB24AAAKgCAYAAABTHV2VAAAAAXNSR0IArs4c6QAAAARnQU1BAACxjwv8YQUAAAAJcEhZcwAAEnQAABJ0Ad5mH3gAAP+lSURBVHhe7N0LfE/1/wfwl8sYo7ZEY4n5hUYXkymjX1lRoZt+uhiSlS5LPwwpl8qlCyY/Wommfth+xQ8VU6iNf0xRpnIp/Iw01oRvMcbM/p/3uWzn+933+933uzteT49j33P5nvM553zO55zveZ/P51Sr12tcPqhKy8/PR3CAD666vC7O5p7FX9k5OJ59Sv09pf09rYYRERERERERERERERFdqGr51MQlfnUKuvqqq1mjOn49dgrpR3NRrVo1Y0qi8xcDt+cZ32p5qF/rHOrX9kH9urVwSd3aqK0KKyIiIiIiIiIiIiIiogtVzplcHD91BsezT+Ov02dxIlcNy/cxxhJdGBi4JSIiIiIiIiIiIiIiIiKqZNWNv0REREREREREREREREREVEmc1riVd6oSEREREREREREREREREVHFKBK41YK2qsvPP1fwme9zJiIiIiIiIiIiIiIiIiIqPwWBW72WbT7y8/JwffAVuPuma3DrDVfjxlZXol5dX5mEiIiIiIiIiIiIiIiIiIjKgRa4laBt/rlz8KkBDLzzRrwV/QCqsZotEREREREREREREREREVGFqG4Gbf/W2B9fvxWNGc/1ZtCWiIiIiIiIiIiIiIiIiKgCVdf+z8/DbTcE47qrm2i9RERERERERERERERERERUcapLbdvrmwfiX0MeNAYREREREREREREREREREVFFqg6cQ49Obdg8MhERERERERERERERERFRJalW585R+V9OfQrh17UwBhHR+SI39yyS132N7Tt/wfETJ4yhRBeO+vXqoW1Ia0Tcegt8fGoaQ4nIWzxfEBERERFdmPi7mYiI6MJSrU63Efl/fDIRdev6GoOI6HwgN+E/WPgfXNX0StzUoT0C/C81xhBdOI7Z/sS3323Brwd+w+P9HuWPUKISMM8XVwY1QVj7dvC/9BJjDBERERFRybw27V94+cURRh9Vlvz8fOTknMb/pX6D/b8e4O9mIiKiC0C1ut1j8rNXTTN6ieh8serLFOSrv3fd0VUfQHQB+0Lld2nQ/07mdyKvyfki79w5dOv6d2MIEREREVHpMHBbtUgAd3XyOvnA381EdNH78n/fYV16GtIO7sL/jmbgcLYNOWfPwLdmLTT088ffLgtCaJNWuDU4FHf8rYPxLSJgR8a3+OXQd/j1yM/I+usAjuccQ27eGfjUqIX6vgFodElTXNXgGrRu3AFtgm4yvlX2GLglOk9NnzUbj/d/lDVt6aIgNW8/WPAfDB/ytDGEiDwl54v+j/ZhTVsiIiIiKjMM3FY9p07l4N33P+TvZiK6KP32Zxbe2/wpFm5dpQVqPSWB3H7t7sRTYffhyksbGUPpYmI7mYWUHYuxcU+SFqj1lARyO13dE13b9IF/3bLNO9WNv0R0npF3FDJoSxcLyet8LydRycixw6AtEREREdGFzde3Nn83E9FFafLaf+OaGX3x1oaPtaBtWFAIXrp1AD7p9wZ2DE3AkbGf48TLX2p/pV+Gy3iZTqaX78n3ZT50cVmxdS5eXHQfVm9b6FXQVsj08j35vsynLDFwS0RERERERERERHQeq1ZNXjBERHTx2HpoN/4+91m8vm6B1t+/3V34evA7SHliFl66bYDWDPJVl16B2jV8tPHyV/pluIyX6WR6+Z6Q+cj8ZL50Yfv1yC94Y/kgJG2dZwwpHZmPzE/mWxYYuCUiIiIiIiIiIiIiIqLzwopfUnF7/PPYcnAXbmraFl8N+hfevW8EQhu3MqbwjEwv35Pvy3xkfjJfmT9dmH749f8wbeVg7D+y0xhSNmR+Ml+Zf2kxcEtERERERERERERERFRODh8+bHyi0pKg6iMfjcfpvFwMDruvIOhaGmbwV+Yn85X5M3h74ZGg6uzkF5Cbd8YYUrZkvjL/0gZvGbglIiIiIiIiIiIiIiIqJwzclg1pxvixxRO1zy/8PRLTewzRPpcVmZ/MV8hy2GzyhUOaMY5fN87oK1+ynNI0m8zALRERERERERERERERUTnZsWOH8YlK4/kVbxXUtB3X9XFjaNmS+Zo1b2V5lUWC/ZJv/vvf/+Ldd9/FhAkTtL/r1q1jfiqBxNQ3y62mrSNZjiyvpKrV7R6Tn71qmtFLnpr/tb6DV/14Fpl/5iPw0mq4oVkNbdiAW2pp/VXd4VNHsTZjk/b5ct8AdL3yJu0znR9efX0aXn5xhNFHdOFjnicqGTl2XhrxT6OPiIiIiKj0Xpv2r1L9Pjt4JBff7zqJQ+rvoSP6Pbb2rfxwT6dLtc9UMvzdTFQ1SaBNuvHjxxtDqg4JDkpgUNJXUg0bNkSbNm3wj3/8Q/tcXiav/TdeX7egoFnj8nb7vH/i2wPb8eKt/THmtseMoeVP9okEaIsLzsq2fuaZZ7RtT+6t2DoXSVvnGX0Vp2e7QejV7kmjz3M1fP4W/sqY/t2NXiqOBGmfij+FDbvy8MOv53DitD5c/v7v93Nal7rrLLJP5xcEcquqk2dP4dm1r2LDoS3odlVnBF9ypTGm7PzxxxFsSfsBW7b+iPWp3+DkyZM4eeoULr+8gTFFofUbNuLXA7/hqquaGkMqT1VKiyvr1qfitlvCjb6Sk5PA559/XnABIZo3b679JapKyirPE11s5Ni5Jfxmo4+IiIiIqPS+Tv22xL/PJGAbOTkd6344rn3e9dtprZP+FRv/RKumvmjSwMeYmrzB381EVZPce92/fz969OhhDKk6YmNj8d133xl9JSP3/GX9/Pz8yi2I+NufWXjk45e1z/P/MRZXXtpI+1yerrn8KsxP+wLr9/+IAaF34RJfP2NM+ZFg7ejRowua1pbgrNyrv/XWW7VOtrF0Ml62u3k/v6oHbyWdZh6RriLZTmbh3a9eMPoq1u7MNHRpdS98fbxbZwZuvfDD/jwtaGsGa6VW7YMdfdCuWQ3ceb0P6vlW0wK3Ml6CulLntioHbyVwm/DLcu1zeQRuP/ksCTPjZmPL1h/w8y+7tECofJYArnR169QpCIxKgPeNaW/h199+Q/c7IrRhlWn8hNeqTFpcKYuLcTkRzJ8/Xyvoza6qXkQQ8QcoUckwcFsy2XsW4/VlubitfaAxxFEuUt+dhB8bd0arS6r2w3pEREREZa2kgdunpu/HnBV/aJ8lOCtB2g6t6qJ+3Rpa7dvjp85pwVugGm5Uw8k7/N1MVPXI/VapOCNBNlHVAmySNiG1ZaUzA4TedBJcNGuHSn95mLo+Ed8c2I7+7e7CUx3vN4aWLwkOH/gzCz9m7oFPjZqIaHGjMaZ8mE0iC9mmI0aMwGOPPaZtU8k3EsANCwsr2O4SAJXtLp0ERmVcRQdFPSHrJTEIeUBAHmIw015RPv/hQ/wv60ejzztXNbgGzS4PgX/dhrCdPIz8/HPGGM/VqFYTIU06Gn2eqfB33JqZqKy6iiJB2+EJOUYf8NgtPkiIrqs1iyzdndfXxKhetbVhMk76ZfjF6OdfdmHE6LH45LMVWs3a++/thdEjh2HaG5PwxOMD0KVzJy1Q+8nyJK1mK1Ue80RgJRcTUpgSERFdtA4l4bWX1+DyG1oaA5zxwQ03XY5PX3gFSYeMQVR2tsQhMnIUkjKNfrpwZSZhVGQk4rYY/UREdMGS2rXSicG9GuKzyVfjveHN8PJjTbS/0i/DxZwVhwumJSI6n1nvv0o8wwxwVjUSGCxpV57NI5sWbl2l/R3c8V7tb0Uxl2cuv7xIvjDvyUtgc9asWdq2FXK/3oyrmflHtrkZbBfmAwJVkWMcr6KPgY17koxPnqlZ3QddWt2HCQ/+Fy/0iscTt07EkO4z8PpDn2nNHtetVc+Y0jPeLl9UeODWfGqgrDrJkBXh3+tzjU/A9Ehfl0FZqYUr4ySIe7GSmrYSmJUArQRr77+3J65p3UoL4sowCd5KIFc4azKZKoYUkK6On7J+KCJ9ahtUq1YNjV9KM4Y4SkfsddXUNG0Qu8cY5BXz+06662LVWOW3pRg7fiXK+/6vua52nU8A2g+Ix87CZz9K5uxOJI6Pw0ab0U9EVAm2vhuJyEiHbsBgjHorCbuPGxOdz/IO4tN/JeLkfWMQ3cHJE6BH1+DVyFex5ijg1z4aI+88jMR3kpBljCYiqjCHkvDqgEgMfmstsgp/rhIRVVlS21bIe2wH97pc+2wlNXBluPme21f/fVD765XN6ejw9M4iXdcRuzE26Q8c976iDBFRiTkGaqtycK0q+/J/3+Fwtg1hQSEIbdzKGFoxZHmyXFm+pKO8TJgwQfsrQVt5b61J8tCQIUO08ZJ3zL/mfX0J3JrvTjaDu1WNGYA2yTpWlB0Z3+J4zjGjzzNdQx7CPzr+EydP/4mE1DcQv24c5v3feOzJ3Iru1/VDv/CXUKumrzF18WT5kg5vVHjgVp4EsD6NUdquIqz68axW41ZIbdqybP44L9O7Khr5OfuMT1WTBG1//mWXFqiVAK0rMl6CuvKXKod5LDpjFp5yApDC3uxK+6BE5lvxSD5r9Fhti0fcNuNzafRJwKFDh+y7lGgEq1GZa+IweWJs6Wru7IlFG4+Cy72RYEnD3o2TELzmCbS5xQgil9RvyXh74lgs+dnoL7WViKxWDZF6i+lERF5ohZ7PD8VQsxsQBqQl4pWYf2O3fsl03sr9dhEWHQhDn3ubGUPsHUxeiV0twxF2md7f8sGBaLc3EYmpjJpQWclC0uhIRI7mAwGlotXavoBr8ubux6fvfIrsO8bgrWG3oRFfBUlEVdxyrfljndSwdedJo9btwSO5Ja91W7smIm70xX2qi2hSTd4Xhi+WH8Y/5vyOM8YkRETlyVWQVoaztUPvrEvXKwN1uzpM++uxcyfwy6YEvLRgDB6c+wqGf/op1mV6fxYwl2umo6yZQVu5X28N2kog1pqHzJrNcp/eOlzu8Zs1byVvlfYeflmzNsFtBpkryi+HvAu2161VH/fe+BSyT/+Ff6+fjNTdy/HDga+xZV8KFqa+gV2HtiC0eVe0DfLulWTepqPCA7eS8WTnlFVnZtby9MOvhXcgy6L5YwnWHp86AYfv6Iij/e7TOlvMM26DuOfSJ+LsVz7I29ASZzdcjbwtdyD/mOunJyTYPGXFaUTGndSaeDaDzzJMusw/840pnTPTKOmS9GXPn+tRkFmaRxbugrbekuaU35j6ltb8snTvfzBfq9FrJf0y3FXTyzJOOkcSaDbn7e77FyI5dswC3co63HyCx+zMk0iJBAYjOCcOcYuLVjtNficW6b6+8Pw5FRd8/REYGGjfXa7PNfDxr5Cf/xWiXL2qsEz5wt+ShuAO0ViyfAwCv4tHYmmCrs2jkZp/DNOqwKsqjx49CpvN5nVHRBeKy9HmpjCEmd0dT2Ly0+2A7BSk/s+Y5Lxkw9rVm+FzR3eEOzsp5e3AmhVZCOt+G/yNQfALQ+cOwObVa9W3iYgqiE8z3DdxDqYMaIOq9xYrIqKi5P21wqxN647UvDXfb1viwO0lvhj6ZDDGqW7K+GuQMtwPEi4+svUkNutTEBGVG1dBW5ME3hi89VzawV3a345NvanIdwa/fPUqOn/+AWbu/RarDq7HnK2z0DN+DObs8y54ay7XTEdZM2tlW4O2wsxDEpj96KOPtHiYed9evmOtzS1BUZlO8p7kr6rEDEhLV1GVMU2/HvHuZnyA3xVaU8nHTx1FTu4JY6ju5Jm/8NNv67E36yfUq11wV8gj3qajwgO35yOztq27mrYyjavOGiTN/eF7LRCas0oPcAoJiMrwP0c8rQVIraSGrQRqz+21BMxy9mtB27wdUVpA10qWJYFaCc5KsFb6JQ1mwFaGSeeOBGzNNEq6JH0nVbokfdLvys+/6AWX2SxyWZCgqgRUzXlLgFYL5E57Swu6mv44og//edduY4g9bZwxD5PMWwLN5nCZRpZlne+FTgpKs1A3O/ME4ezpnFI9EXZ5FGKe8cXS/yyFXej27ErEv5uD3iNjtJqxOr3p4zrPJhv9YifGBldD41ElDK4vj0S1apFYafSuHFAN1fpORnyPxmq4UYv2rA0rh7dHgI/exHGdlg8i9hv9Nrw2fcsRKhU7MaKl+jzAnJOH6tVBAI7hlJT3Rs3dEbNGoI0sy5yXLH/87WjsZPka7Xv2NWRtn4/F7U316asFtMcTy+yrFNu+icWDLevo430a48GpG7XAgt6kc08kqs+J96pxZpPSHgoICMDs2bPx9NNPe9ylp5eqvjERVXE+teTmWi7OnNL7s5JGITIyDlv1XsNWxEVGYlRSYT3C7D1rEDdmoNHs8kAMm5yIzUeNkYbsHxZjcowxzYDBGBO/2b5Z0OzdSHprGAZq84jEwJgZSNqTbYxUjPelJq5LwtRomcYxXQbbVmxSlxJh17n4IfHLZqSgO7rf5GMMED4Iu6kdsHsTtrqK3LpZfvauJMwoWLdoTP7vVmTb1VrOxcF1cRgzWF+3yIHDMCNpd8E0nmxnc5o1383FqAFqHmZNzjwbNi+cjGgZJvMePAZxq9S8tW8ZcrOwWf2wHWyZZu63WSpVFmr7r3l3jGX7T0bid96EsbOx47+F6Rg4Zi42O3lA2G5bSV5x1jx37kGsVWkx06vlhV3mGhk1Wd912PsO79M1t9dayXdD9Plo2z3loDb/NZa8NnicSqs1vzpsr4Fj1Hx+K9xaBfPeY7/fZ6w6qG9TLS3DkHhAfT6QiGFqfOHxkousb+cW5gVnx4In+9Qlc/uscVgH+3V0mZ88ySvKwfUqPw80phmi9s8vhTWwhCd5WuNyXxvrEZuqTZYaK+Mt8zvupLwoyCMGb/L0jn9r081wqHW/4wPZv2q5TlohKFUeU3tzd9IMDDO3oVkmGGOFJ+UqEVFFO3REv0neuIFnFSIkeCvM75Vai1q43vio+x1jtWaU07HBGCI2vKM3rRz5yV/GkLPq3JWOQcOMZpef3Yk+r/+KDX9ZCvhz2fjxk73o809jmiE/Y9DcTByxNMt8/JffMHbCzwjXlrkTXSfsxafphffnzOWOTTqEsaPk824s5Lv+ic5Lcu9Umra1BtUcmfdYpZKM4/1XKup/RzO0v60ub6r99cjJPfh0RxpyUA93hs/E/6JnI+6qeqpYT8N7aXuQ40XT+eZyzXSUJWuQ1TGoaeYNM1hrVrgyp7PmMRnnbPjFLusv+XHtucPHf8PJ08dxxaVXIaRJR2NooW//9znmrH0Jm9PXGEM84206GLgtAxIYlWCpq04CpiYJiooagY1Rd8CT8I99F/VHjtf6JUB6evUK7a/p3I4ntECtqN5CTdf+S1Rv8z7g20wbLgFda81bWZakR0igWd61K+/klXfvFlfLVkiw1gwq+9xwo5ZGa/rM9Dtj1oItq6Ct2eyyzE/eiStNK+vvzO2lB3BTiwZjPWUGg2Xe5nzNeZu1hi8WjrXgzQLeVYC2xE0mq98jEc/GIHj524j/zRim5CyOR6JvNKL7BhhDRDAiB3dCzgdLC5tW3rMSS/cFIuqhTsaAMvCfsYi/JhZLFr2NHoHAzgnt0fODYExLkyaO9yKpTzpGdIpC4gmgx/x85O+ehhD1b9pu9Xl+D2MmHjixE/EvTcNO/wfRs50xDDsR+1o6ohKXYMnz7VV/DlYODkbPWf6YZLf8CMS6eiBn/XMI7rESnebv1Ztknh+O5N4heG69Mf7nWER0mgTb4CTslfGro5A+KhwRb6UjeOQO5Ocnoa+arO9nan1+sgbOiyeB4BdeeAHt2hWskFsybWhoqNFHRBeaXNtW/Ps/qUCLvuh5rTHQE5lJeO3lD/FDvZ4Y+WYcpo7pg2YHkzBj9FxsNZ7yyd4Sh2FTPsEfrSMx5s238Fp0N9T9dgaGTTCDj7vx72GvIPG3Nhg46S3EvTkS3etvRuLLrzk0j5+BpDkrcbLN/Rj4eGdYzzoF9m7HDgSh+ZVGv51cpK5aDdwahjYOz/L5BLdS39qB3folmwtFl6+t26uJ2G+uW1Q7/LFsKoYlFD6IdjDpFYyc8wPqdh+K12ZMxZh+bbA/8RUMi99aJCDmXio+nLkbDbv3xcB7W6GW+vbW+FGY8fkfaBf1Gt6a8RqG/r0WUue/gtc+N4JjeQeRNGEYZqzLRZgxzZM35WLtzGF4Jcl851wWkt54BR+m1UXPUVPV9h+DPs3U994ahbk/eJbC/YvGYvKy/WhybzRGjhqJ6K5A4nw96GYyt9XuK4y8MqonmuyR5rnjsNWMWGnpHYm5Ki3dolV6VVoiW+9H4qvDPE5LoVTMnW9Dx35jMGZMNO5vnY3N77+C6KEjsdKvB4aOGYORj98Gv71rMWPmGr22tbm9vjWXPxI96/2AuS9MwVq7oJma91tbEfTAULW+at4hudistvtieYjsuoGIi3sF90uVoCb345W4OLx8eyPtW5IXhs1ci9ybnlR5QfJLGHLX6cfCQe3y34N96on1HyIxOxwDR6t1f+Z+tDys1nG0ZTtrHPKTR3lF7cfUqRj5bipOhg/EULWvRz4chK0JSero8JLbfR2A7mPiEPeM3pxZ2DPqc9xAtJWe7K2Ii1HlxZ4mRn5V++iK3dr34raYK+hlnm5zG3r6A5s3bi48JvN2YLPaFj53dEU7l8/+liCPKbvnq22auB9tHlfrHae25x3+2KzKhIJ97EG5SkRUGcyA7feOD8u4YNa0bd+qDNoVyD2BzR8fxxfyubWvQwDXvSOr9+HehTn4sUZN3CVNL7esgYz92fjny79ig5bE09gw5wAGfXEa6ZDmmWsjrE4+fvz+GO781yFoz5ht24d/vKWWn1kdYTKP1jVw+uBpTJy6D5/aNyiHL5bb8IUWM84H+D5eovOK3C+VQKw3lV4kwObtd8qbrIeky+yqAnm/rLiinvHOIk/UugoP9ZyJrx6ehnc6t8EVlwWieb162qjTZ06r0ttz5nLNdJQH89WFVlLLVjrHgK5JgrVW5nRV7WEA89iQrqJrA3v7ftszZ3OQsPENdRbOR2T4i3iu23RcGxQO/7oNtffa5uSewp8n/1B/PbueMXmbjgoP3Er1bnnipKy6isiEV/jrm+l3W8mumCRoKiToaQZlL502G34DntSCo7539tL6hVa7dYFe6/bcoX8XBGW1gG3wOFQLuBXVGz+GGjd+qX0WUvNWmLVrxZ3X19QCtvJXArgJ0XU9ejevuWxJlwSVzTRKJ9wFb/84ot+RurxBWQVu9QDq6BHDCt6FK4HW++/tqTXFbDaPXBJmk8gybzPQbM5bgrcXOzmuHAt+K3fjXPp5B9KvjUL0tRsRO2enMTAT8TOXInhkNCJqGoMMgX2iEJETh/jP9f70ZfHY2TwKkR30fqcW9NRrlhZ0xbyP9p4EJE/vi959IhCiztvpv6UDnXrgwWulieNgRLyUgK8WRSHE65tciehpTUf9NnhicwTe3/g2OhWsZyDGLF+CmD690btDoNoUCYj9IAfRS5cgylz+a8l4/+40jHjNWe1ete3Gx8H3xXhM6hqsN8l8z9uY9qgNcfP06VdOGYG0u6dhycgIBMv4rpOwZGYEDqUkq2+XnqybJ8FbBm2JLkSpmGrUBpNuYPRUrEZ3vDK6J5oUf7lRIHfvbuxDEO57vA/aXemPJm16Yug/eyKotvqBuFemOIiV81OR3T4akwZ3Q5srG6HZTX0wZmh3+OxdjM/l+a2dm7GpdhsMHPkkbgtuBP8r26Hv8wPRSs05Nc0arPJB+LApeDm6D7rd0Q7O3mCbdUgir80Q5KxZ/aNrsea7RujZzckPpoCGkDPjvoPugmOOyzfWreVAvGyu261P4uUBrZC9ahHWyu/BnFQsStyHRveNwZh/hKFZwyZoc4cxzbokbPDqN2MQHnpzCkb264lu4S3hr5a/e4f6odHlMTx5azM0atgMYf3+iSc7+MOmfpzLrOV9v4l7G+H+V6cUTHNb1BS8dl8j7Ev8QE9j7h7sVvsq6L4n0eeGJmr7t0HP6KHo2cRH/ch33hKKHbWOyz7NMtYxHO1uaKc1vT1psPXcUpgPpowy8soNfTBySjTaZafinWX6cgrS++IY9LlJpVelpdvglzGwZTbWrtjgZVPW7fDkhCfR7SZpkSQcfYYNVEOyYWsmaeuGduoHcTuVTgk8YvdW7FDXCvryfdB9qLn8dugzaii6++zAhyus20Lti7Fqmi7t1PoWznvrLyr/+PjB3/9S1JXjqEZdXOrvDz9ptrsgL7yGKVG3qbyg55cpr96PRnsT8cF6Wbvi96lHblDr+HxPhKt1bNNFHW8vqmWo7Zy41pq/7fOTnyd5Rfbjoq2AcTyHqX3dTuY/qmdh0+MeKm5fZ9f3Vz+sfbRpfeqqz/5+6ghUKfj830jNbofoKSON/Cr7aAqi22cjdfan0PaS13m6GTp3bQRs2YDN5jXj/zYjJdcHXVX+cc37PAbswObNPmgz4EV9O/s3QTu1jwe2VOVP6mbtYZbiy1UiosphNn1sNpnsjrzbVjphfs9rh0/gXqN2a4chB/DMurNo0PoSLH6uMeobk3ji5z16Oh4a0BKTpOnlYc0wqV01NPE5jc1yLaqu/97Zmg/U9sW/prXElCdb4N03GuNZuTj85QQ+VT++N6w/BYnPRjzcDP8y5jG+tRpwLhdffG9/47e+SuNns0Lw3exW6Of+VcBEVAWYQU5Patm6IvMwa9/K36oQLDVfmVdVgso5Z/XWF2rX0K/xPVKzHppf3QY3BR7Hv//zPDrPGoSeO1ShXLMNBoe2xKVeRMbM5ZrpKEve7m8JfJrfcQzomvfsKyJm5g0zX0sneasi05eb5/0+k/fZzl8/CTsyvkHLK0LxzB1T8UKvePQLfxHtmklMTo/3ecPbdFR44FZ2Sll2VYEEdiUw6thJ0NQZCdRKDVYrswauKGiOOOdX/a9vs4Igramab3MtkKsxauSu/rHw4ldq2jp6rIv7gk2CsmZgWWrZymdputnatLOk0+d6qR1Y1DWtW2p/S1oL1soMrHbp3KkgsGolw0uq2HmHV4EXiFYgOQE/8sgjBZ0UpFLIO3v/rXBsa987ek3a9Klx0PbCb0uQ8E0w+j4Uoo21ExiJqHuAxMUShMzEyqU7Edw/Ek6mLNQnQat5WtilIrq5Mc4Zf3+79+r2GDUNndY8gYA6LXB737GI2wyEP9ADoZcbE3isNxIs6Th2Kh/5B5Yg6hpjtCYAAda7lJuTkay+F3GL0a/xR0RXtcZpO500Y7wFG1PUlnm9fWGAWHUP/keN0mopp0ssAyG3hNvdDA0e8hUOfRaFsnrVb3HBWwZtiS5UYYiOk1ps0k3FmGf6qiGr8coo72p0+bRoiebIQGJsHJK+3Y+sbHUt06ovpsx6C33l98fhNGxVl3vtOoXZv8OxdV+13Bn4hzQVcK36PGsMulkLtssaQoruXLtn7hqh+ZUlr7Fh25yKXS17oJuz2ri+daE1FO32GT+H5Wemac0Bt7k1zK6c9r++HQpq7/6yHZvV2PAw+zCzf8QItf5D0dmbu45ohmZ2l59N0LKNSs/6uXh14Rrs+C1b/ZDwx23D1D6N0d/hu/0HdSLxD0dHhyYZmt1ym5bG7RIE8rkaLVsAGR9PQ1zSZuw/rOZToyX6qnP9W4+6C1oZtHX0UecR+3X0q2+5SWtsqyL5wC8ct4UD2dt2aQGr7ducpVet00i1Ts93ttvOxasLf+vCjH0c1Nb+faI1tQcVDuOYzdhePl0Rbl3tGm3QJkzljd16GnUO+8KYt1s71DZwkhcQ3Bm3NZEf+/tUT/H71CP1/e23s7GMjF8La846roNHecU4ntu0d3gna71L7fs9ULJ9nYW079ReaN8ZYXYL9EP4rZKRtmKXPNlWgjzdJKIHWmErUjbq4fHd36Qg178nbnN7CHifx9TWQ99ZcRhzp14LW+ePhleoP8ZPwWLLVSKiStK4gY/W/LEEZF/9t/WcUpQ5XoK2ZpPJXqsttV99cZ/RRTQEjvzyF56O/12vBeuhyxvoTyUumr8bM774Hb9k5qPL09fgsynXYKj6GXxk22n8osbXb1cfnc2kVvdHvxeuwqrXm+C+BkDnpyUQG4Ipt5r36mrj+mB9vn+dtG9Tv3OXIDQp4SoTUcWRuIQZQJN7qWUR3JR5mfMscYuHZUDuC0urjGYQsKzWrzR8a+qtNpzOK4x/eOzsMWzN2oEfbHqlM9/LQtH6Es+a7TeZyzXTUZbM/exJRSnJF+Z7b637yGTtryqxMyF52qoi0+ZToyT7TCpI/h/i143H5M8GYNl3b+NEjg0dgrvhsS7jcG/oYGM6z3mbjgoP3EowyNosa2k7TzJ0aZkBT6nROv/ropFxqVHrrDPfJXvDVfrFmBmQrX6FfdDWVMNheP4puQEDVKvjLvKkk3fhbv1Vv1soy3bGrDnsyrnfCy+c5X22ErCVd9sKCSpftvBTrZPAszNmTVt532xZcVd7V4KuUuvWbKLZU8XVDHYWzL1QWZ/QMZkXBua7b62k31XTDJ4KfPw59M6JR0IKsHNOLDbeHIPnnDar6Yvej/YGFiRg5W9JWPpNCKIHuA3bqq/4azVPCzt/dUI1xnnimhiknjqFQ1+/jd5XpyG+RxvUCRmBjfbvIfeAL/wt6fC3RofLkLxGMmKm3kyyXTczQp+ggrgK3jJoS3Qh80Fdf6nFJl0TtOnSE0PHDEQr21osTrHWyitGYE+8EjsUPf3349O4lzBs8ED9nZdmE3p5eiyirq/D3asaPvCTmojG4OxdaxA3LrrgnZCRkVNh39BuaR3Ems93oVUn+yBrqZz4U6sBueP96IKay1o3YpHWbOwZuYenPZHph7p11B8rrVamn7rwN/pLxAftot7CKwPa4MzGBEx+YTAGDhhoeWdqLk5KEL5+XTguHtX0k+v+Q7KvG6Hn+LcwtPul2P/pDLw0VOYTbfceXre0dWyEyy/Re506fdJ5PlB85PL2wD61hxRZnpP0+vipfFq/vO+AZsMmOzR3NV6x7k/VzZDMWIL7C1a5OTIDJ3kBNfXA3v4MZBW7T0vKWEaOvh+K8jCvGMez/6VlcBSVaF+f0tNZt65W+9aO9jMpA/u0jFSCPH1ZGMJbquN53WZ1XO9GanIuGnXtDGc1+0vtuP7+3WjzHbeqm2q+JkMUV64SEVUSCcC+/JhehXT5xj+14KxZq9Yk/U9N31/QTHKvTqU4Z1zii6FSu9XoprzaCP3U9caRrX9iQdEno11q3ScI8+6qjSanz2LhJ0cR+Uo6wofswpRUPfx7+qR+L65JgP0N2Vr1/NAgwA/aaUnegZu0F4NGGDWAVXfvF55cKBFRVSUxCbl3Kp3EKGbNmuWyEown5H6rzMOcj8y3IuIersiyrbGXyg7eNlTX+eL3E3bvoPHM5RFIfPFLZDz+CkZdXgs5WQl4NiUNf3rRuKq5XDMdZcm81+54j96RjLcGbZ3do5f7+qbKzD+OrPlZ/pY2vuCN+r5OX5RVLGkqWZpDlnfTfrn9P1oAV95tm336L9x1w2NoG+RdxUJv01HhgVvZKWXZVQQJeJrNDEsw1myO2B1rgNf8bvUr9AvU3B+2aH8d5f1e+G5bUVzAVoK1JqmBawZsJcDsyftsHZnpE1Lb1qwF3PDLTVqTyY61hB1JwFOaNC5NE8YmM3jqSRDYGmj1JIhbljWDz3dmYW8lQVvzRCy1a82LBunkpFBq9foi+hkg7q1ITJqajt7Pu6796dsnCn2RiNgB8Ui+ORqRVxsjysVOJD77BGK/AQI79ED0hCRsOfQ+euyJxdspxiTlKSwCEViK5K+Nfo0NySk7gdAQJ++fDUH7DkDq5p12QeLAy1WnRYqDERKm1mqjvIS/UObnk/HExJVl0lSylWPwlkFboouQUct1nx758JhPYBj6jpmCOfMT8OGs1zCwxQ4kvjoWi+V96OoSSu51ndSCVi7s+jeGvboYthuexGtxcZjzYQISEkYi3BhdJnasQdLhMHS71cWPtJyT0G8veqHepVoQWH//ZtFu4HVqpPZEZjZOypM65aGGH1reGY3JcR8i4cM5mDqqK5A8A8PeTkWuBOfldHL8pPagkJ18/eHEZo2NWn8+jRDWbwymzFHbPj4Orw1oiR2Jr2DsMg/ygifrWFsPtDnLB1ot56bNoV3FyiW3s/RWCAmmqz/Ge2mL7NMx3WGtI+ktHy1o7Ww7ncVZ+WnSLEifv9t9WlLGMnydBDw1HuYVT45nT5VoX9fR03nSSQBau2kThObmzyGv87Q/buuuroF2p2Lz+lSk5Abhji6Fv63KjLzTO+YVLLa1w5OTVL6ao/ZzQgJGdjHGG9yWq0RElUhq0A7upd+4leDt09P3494xe7QgrgRs5bMZtBVzVxy26y+V6g0Qpt1my8PBP7Qhnqnuh+vvb4HPZrVEyiuNMOWu2gjOy8Oi+RmYoX6uXx6g31o9eMxVE4h5+PHfBzBo+WlkNPTDpGcbY9XrV2Herfq9QiK6MEgwSgKucv/U24CZWdGtKgXahKTHmqbKrMH5t8uCtL+7/jig/fXIX2mYEv88bp87C59mnsGlV3XEgGvaaqMkEHvMi8CtuVwzHWXJjHEVt33NoKwEQYuLi8k0VYnkcYkzmA85VKRGlzQ1Pnnmuis74x9h/8S1Vxa9q/Tjr19j66/rUE39C2kSZgz1jLfpqPDA7flIAqJm08MSEJ2y4rTTmrcmGffvr/XbAY/d4lMQUPW5QW9iWGq2mk0SW51erTdHbL5Ptpr/37W/8p5b8123VvmHFugffPVnuc2avcLabLLJ2TArCcyawVlJg9SulYCtSWoMO0u3lbwjVkhQ1GyS2JU3pr6FTz5LMvrsmbVhXQVXZbgEaQvefeumZq5jOoqrGewqTRca6xM4jswnfMwTtOOJurQi+kbBd3kiEnP6IqqPm+qoNXsg6hlfJKdsRKe+D5ZZ877OBcM/ZwlG9I/C0m2ZyMzMxM5lK5GqhgebUdN6/miMnSo96ci0edEWqCcCIxHzuC/iej+IeG356Uie+iBGfB6KaS/1MCayCkbU+L7wXRCJnlOTka7Sm7kvGWNvqYPwd/WwrDT9HLo8Gj1npWnrk54Si8i+Y7GlXoixLQMQoDb/xq+TkflH6dfHDN4yaEt0kfptN+S14kFXGcGK6hKisem1EE3ZNrsA59Z3IxEZvRj6Sx/U9cdlzdDt0fsQhCxkSWXOhqFop04/Wzduhl1dsT2JiI4ciH+ry4TdmzaocTeg5z/aoYlZC9dhOZ5q1FiuqfYjw+Hplh3fpgB3dEe4q1PWscOQn1gtr/QiNNcwGG1VWrfuPmjUXDY7aSTVR1+P1m0RprZh6mZzC+my101FZORk/b2hHmxnpzKTMEpq6qUa14c+fmhyw2PoIwGg34/hmPrT9gb1Q8SWik0OtVL2f70WGWiDti1Uz5Y4lZZoLDan8fVHszv64j71myTrsAe1r12t43HLGgSGIsxZPshOxdpUwO/aVlrQsu21ztKbjbVTVD6bvFYtRZHNdVRtL/lssFtWKTRvoa5LD+7AvnPW/ak6CVga71stsTZqGzjZTkjfgLUH5cd+c4/2qUeO2+y3s7GMVi1cP1TqUV5xdTyf+NO+34M87dG+LqIRQjuonCLvorXPSEhdJxmpHVrJBVIJ87SPNMGMXUh4PwW5Lbuhc3lcuKZvxgaV9hvu1N9f668XeLBZ2vwstlwlIqpkg3tdjs8mX13QbLJ0EsQ1A7TWmrlms8plErw9kYnPpU1jVMMlRpMNtbW7omeRUXB76BT+sGtH+XdMfFZqyO7BFydron5gA0Tc3wJDtVbD8vHHCaBWy9qQ19Ue//EEfiwIApzAosnyvV1YePAvrN8llStq4OG+V+Gu6/3RQH6I53kRMSCi84bcP5XglCe1byX4JkEsT6atDPJ6PfMesQQCJfBmvvfW7IqrJVpWQpvoMYBNB7xYXvXayDmxA98e/BTPLpuGl5bMQvR3adqom5q0RKAXrTSayzXTUZbMe+4SuHUXvJX8InnFXVDWvN9flvfxy4qkv7iAc3m4qoHduwuLdcWlV+H2to/gxua3o4b227TQufw8nM07rX2uXs27B7C8TUeFB27lYJYMVFZdRXEM3kpgdnhCjhbElVq40knANjLuZEHQVr4z4JbCplJ8u+tNDEvwU5oiNgOh8tcW84z2Wfh214OfqFP4btu8HVE4lz6xIIibt+WOgmBujTbx2l95p64ZJJY0SNokrVJDWNJqpsuduv0L37N7fOqEgjTKu24ljZJu8323zkgg9f57exXUupUg6M+W4KsMl34J2srf9akbndaSlVq08g5aGSfTWqcxhwkzUGzS5mkJ1Mq0nyy3D8S6m7d8/5PPXK/fhcTd0znlfsHQJRoxzVVefyYKPYo5SUb0iYIvOiHygfIN26rUoMecnVjSbSeiQhujcePGaDPehuiVWzDJbMo5MBKTRoZg5eAWaDw82RhYVmT56UgaYsNYbfkt0HOOP8ZuTEaMi3Ld/54E7FwaBcy8HS1Uehu3jMTGbkuw8kljW10Tg+SNY+E/M1xbnxY94uD/UiqSh5mR6E6IeacHTk29HY3vjnPyHl3vSfCWQVuii0EuTtoksKK6w/uxdf1iTJ7wCbJqhOH+2/TgZaPr2qERdiDx3cVI/WGrmiYJM8bPxVZtrK7d7d3hZ/sEU2YmYcdvNmSlb8biDz7VAz1ajKgJegwIh9+WOIydsxb7D9tw8Ae1rClJsLXog7vVb6bmLeRclop/z1mDzd9uxuYvE/GqvGtXvu6tFm3VkjOwz1orLScVq78Eut7k+gdGbvouLc0tvWkXtYb60fV8OGp9ORnDVNoL1n/KUERHT8MaaYnJNxwP9W2OrE8nY/J/t+KgLQv7181V22Ir/G7tic7+nm1npwI7o4dapa2zX0OivAfTdhA7vpyLf68H/NrogVCfmx5C3xZZ+OT1yVgs06h9vfm/Ki2fZqF538dxm9QwvaE7uvvZ8Mm0GUjacVDLD5v/OxefHlA/zK7RA31ZX05F9JBElUon1Do+cF8jYx1TsVWtw2aVDlnHQtZ8oG+rgzvWYO74OGz1C8ezD+itqdil9wc9LWvnjMXcH/xwWy9572kjhN6g1mxHIuKMZaUmzXBYVsn53/GkWv4ufDja2F7GNh0VHY1R83d4UeO1EYIkL2XuwEaVp3ccUt+0ywvy3lWVF75Vx8Lr6rhr0RePd1E7w4N96nZfmH6Q7W9sZzneZBl+t+E+VzXOFY/yiuzHh9ppgVGZ/2YtvxrHszYXnSd5uvh9rTRpDnkefv8Pqaps2K8to8ndjyHcbyvi1PzWSH79bQfWqO/FbfFD+NP3QctJHuRpp9Q+6n6HD3Jzc4u8u7rMXNlclTSqxEtQ6Zfy7ts1SJw4Sq23PloUX64SEVU+Cc7OHt4M76lOgrRSC1c66Zeg7j2dLtX+ihIHb//KwYy56Zgo3Vu70fXFY/hC7rUG1kM/7Te+PzpLxBVnMWXCboyauxeDhu3DRLsfxpfjvjC5z5aLseN3Y6zMa9ZuTNimBlX3QZg8mNSkEZ5tp6Y5dUp9X5/PM6MOYIo6bzS4/lLc16QurtF+oufhnX/JPNT4F3dh0HrvW8ojovODBM3MGoauyD3ZqljL1uQsaCtkmLWrqFq4twbr9xrX7Nms/fVIvTb4591DMPjyevgzKxkzt32OdTn1cEOrGLxz69VwU5WoCHO5ZjrKkuQBMx8U1xy1dVpH5j4RlREg9YSZvorUunEH45NnpEbt4eMZuK5pZ9zR9hEEBfwNl9ULRMP6QegQfAfaXXUbzuadwbYM717Q5W06qtXtHpOfvWqa0Vv+yvpJjJI0P1AaEgiNWXiq2KaIpaatNWhrkqCnBERdqT9yvN07ZKU55LwN+s0oZySwW6P9l0af5+lLiK6LGrWOocdn+ouUp3Qeia5X3qR9liCt+W5bR1IT1z+2aPO6jiRgaw2ASrBUarpag7gS5B09cpj2WYKnI0aP1aab9sakgmFvTNMDq2ZzyNZ5SIDYGriVgK3ZRLNZE1emlc/y1928rTV8ZXqzNq45fVX06uvT8PKLI4y+kpGT65AhQ4w+nXnhUFVkzgpH42VROJTsuknli8aeWLRpOQKhn+Uj4R5j2EWkLPI80cVIjp2XRvzT6Cs9qc1l9z5FjQ8atemOvs/0RdhlxiDF9t1cTH17LfZJxMqvOcIHdATeXYT9fd/ClJ56gDd7VxLmzv0Umw/qVeD8WoSjz2MD0e1qqXmqy/5hMWbMT8KOTDWjGn5ofuuT+OeAMDTSHn7Mxu6kuXhnsfEez8va4P4nuuPkWzOwOmyouuYJ02vQxe5H39gp6On2ZGLDmleikdBsDD58XP+hY1v1KqI/b4OpM/rozfE6oW2T3wci7pVuzoM1bpavrf97i7FZ1s3pdszFwXVzEJeQin2yiaQJ1z7P4sm7WsLPeMCzuO2clTQKwxKbYWRCNPQG7Q25Wdg8/1/48Ot9sGmLb4Q2d/RF9KNhWi1RjTHN3HX79Pd7qvnfFvVPDLypkVZ5VXN8N5Len4tP0zIKpgl/cCAG3qnSqHpdLr+Avg9nfLwZNvV9n+a3qTQ0wuLXN+BWyzYrsq069MGzT/REy/r6eE3uQax9Pw6JG/X0SpOxfZ56Ej1bGfkpz4bNH05FXPI+LZAq+W2gyiJxHxfuH+fp3Yq4yKl2eVfo06Jw3zrZXsVvCyfzPrQWUyfNxVYb0GrAW3j5Thmei6xvP8S/4tW+lrxQ5FhQitmn7vdFFpJGD0Ni04EY6ru2YB20/RHzZEGedDkPT/KKYpdfLwtD33+2w76X1W+PmARE6w0UeVR2FLuvVb7asfBVTP48Q22r2zBm/pNa0FPPr+9g8XdZWh4o+j2lmDzt0nfqWH/rJKLjR7quoa+UJo9l71HHwbvGcVDDH23ufRLdj8/AjC/DMHR+NMLUfvakXCUiKq3Xpv2r3H+fSdBWmk8WZk1caW7Zrc3p6BBftEWpWnVq4IbQSzDu0UA0MU9MJ45g4dwjeOeXPJypDgS3rId+DU9h4vo8tL4rCAn3y0v4T+HHpEOqnD2NH6WNfjVdg0BfvDC4KSLM6lryDtvPfsfElNNIl+Bw7RoIu/ESTOoXiAZSZcZYTvzuPBw/p9almR+GhpzBqC9UWX79Zfju2Suw4Z2d+OePwF1RIZikrk1Kir+biaoWV7GQio5puPPII49of+V+sNwXlvRaA7LWGp6OFelkelkPGS6v5CvP+8rB0/6Bw9k2fD34HYQ29qbm6xn8uS8Nq34DWrcJxQ2XFY3ZuJN2aBdumfOs9n7b9BHl855f2eaSV4QEyZ3VqpV7+LJfzP3kyBxvDbRXFdZ3JFdG7GHURz1wPMfjNqjQJOBvePim4WjR8FocO3kYZ87moHq16vCv2xB5585i6XdvY9PeVdpnT8j7bac8stLo80yFB27lAC7LJzEkE1Z0IWfWYl31U+H7bs2arlLrVZosNt9r64zUYDVrs5qkiWIJ2prNJFtJ8FaaRT631xLw9W2G6i3GoXrjx4wB9qS2rZk2Sa+k687ramo1b8VXL/nh8KmjePlbvU3xPlffVRC4FRJgzlmdVJBGSV/t7r3smk4ujgRF16d+owVDpRMSJO0Srr+42Rp0lWkl6Crjn3h8gDG06DzMAK5MYwZnTea0Zi1ec1myHKlZ68m8zenNALB1+qqmrC7GpdB0PBk7K/wr3Akb0n9OwIhuzwHvnMKSR715DurCk2PLxKHPY9Cm705MSt+i1Vi+2PAHKFHJlHXg9kKXmzoDA+OA6PihCPfVA7lrwuwDKXZyUjEjSr7wIYaGW8NTpMtF6lsDEfenm8A2VZDi9oURuG02EgnPFA3rUnFysfXdJzE1ZzA+HBZuF6wmIroQVUTgVpQoeHsR4+9moqpF7rk6VppxFZirLI6B25KoiMDtuC/n4q0NH6N/u7vw7n0VV8498+k0LNj6BYZ1fhgT7/A8NuItM7gpsS7JI477woyrOcbDZJiMk+CvDK/od8h6wgwqm0qT10pi2XdxWL1todHnGZ8atXBN4zCE/e1OBPhdodWy/fngJmzauxrHsn83pvJM92v74YEO0UafZyo8cEuFJIAr77t1Fqx1RgK4oppv8REbCdaawWSTNOcsAV0ZLjVuPSFpNN97S1XLhX4xnj61DVqMSkfosCQkT4+46G/0rhxUDT0/AAKfTMLOOT0uyu3BH6BEJcPArZfyDuLTMSOxtv1reOuh4ts+3r9oGF766Q68NbGn1hQtOTiaihmT16DliJfRk5eUlavYfcHAbcnYsP/b3cg4sBofLtuPzi/PwWNl/+orIqIqp6ICt4LBW8/xdzNR1WMGNUV5BjZLygzcSvPOJa0gJ0FDWc/yrO35259ZuGZGX+3zV4P+hZuattU+l6dvD2zH7fP0+yk/D03ElZeW369+awBWyP4o7nWG1pq6oqIDop6S9bLW1q7oGue2k1l4cdF9Rl/Fe/2hT+Ff17u8w8DtBUbesysBWqlh69hUs9S2lVq4Uht4euTFXXvxQsCLcbrYMM8TlQwDtyVwKAljRnyKJjFvIbq966ZFs7fEYVjsQdw3bTKDknQBYOC2ZLZibuRUrK3hj7DHx2BoV1eNqhMRXVgqMnArzOCtBG7N999SUfzdTFQ1mU0mV6Umkk2OQbXSKO/axJPX/huvr1ugBW0leFveJGgrwdsXb+2PMbc5b/m0LEnwVvaF2ayw5BUJxEonn6WTaSQvmZ05nbNaulWFNShd3nnElRVb5yJp6zyjr+L0bDcIvdp5X1ObgdsLjNSolcCtkADtY118tNq31madJWjrrilnOj/wYpwuNszzRCXDwG3JZO9ZjGnrWuLlKFcBrFykvvsajt3zEnpeyUZRiYiI6OJS0YFbIcFbCdySa/zdTFQ1SSBOAnJVsRlbM1hoBgFLSoKGxdUQLQt/n/ssthzchcFh92F6D/tmqMvS8JWzMGfzp2jfpBX+78l3jKEVw2w22RPlWcv5QvPG8kHYf2Sn0Vf+mjUIweh7ShYsZuD2AhQZd1IL1jrz2C0+RWri0vmJF+N0sWGeJyoZBm6JiIiIqKxVRuCWisffzURVkwRHJRDHAFvpbT20G7fHP4/Tebl44e+RGNf1cWNM2ZmY8gHe/L8E1K7hg6+iZqJd45bGmIpjrVlrfhZmzVsJlEvQVj6TZ3498gumrRyM3LwzxpDyI+/IHdFjDq5q0NoY4p3qxl+6gMj7a0f1qq29y9Z8z600nSw1bRm0JSIiIiIiIiIiIiKqGGagjUpPgqj/7jNO+yzBVakZW5ZkfjJfIcupjKCtkDxj1qaVd9dKbe2PPvpI+yv9pXkn8cVKgqhRt040+sqXLKekQVvBwO0FSgK1EsCV7quX/LRALptHJiIiIiIiIiIiIiKqWAzclp1ercPx0SMTtBqx0pyx+S7a0pDvy3xkfjJfmb8sp6pgkLZs3HDV3/F0xJtajdjyIPOV+ctySoOBWyIiIiIiIiIiIiIionLCwFvZkqCqNGMs76A1g67PfDoNaYd2GVN4RqaX75nBX5mfzLcqBW2pbElQVZoxlnfQliWZn8y3tEFbwcAtERERERERERERERERnTekGeP/e/IdvHhrf61/wdYvcMucZ9H1/SF4be18fPm/7/Drn79r78MV8lf6ZbiMl+lkevmekPnI/CqreWSqONKM8eh75qFnu0HGkNKR+cj8StM8shUDt0RERERERERERETnsfz8fOMTEdHFZcxtj+HnoYkY1vlhNPTzx+aMnXht3Xzcv3A02syIRINJd6Peq3dof6Vfhst4mU6ml+/J92U+dHHp1e5JvP7Qp+h+bT/U9w0whnpGppfvyfdlPmWphs/fwl8Z07+70UtE54stW3/ENa1boo6vrzGE6MJ1zPYndvy8C51u6mAMISJPyfmidcur4etb2xhCRERERFQ6X6d+i9tuYTOSVUlOzmn8uG0HfzcT0UXpEl8/RLS4EUPDH0LHpm3QuH4D+Nashbz8cziTl4uz5/K0fhkuzSE/0PZWjL61P2b2Gqp9T75PFydfHz+ENOmIbtdGokXD6+Bf93LtXbXn8vNUvsnV/kq/DG92eQjaN49AjxsGoW/4C9r35PtlrVrd7jH52aumGb1EdL5Y9WUK5FnKu+7oqg8guoB9ofJ7NfX3TuZ3Iq/J+SLv3Dl061r6d2wQEREREYnXpv0LL784wuijyia1bVcnr5MP/N1MRER0nmNTyUTnqYhbb8GvB37TAlpSG5HoQiR5W/K45HXJ80TkPTl2fss4iDUp/wfbn38ZQ4mIiIiI6HwnAdtTp3K0oO3+Xw/wdzMREdEFgDVuic5jublnkbzua2zf+QuOnzhhDCW6cNSvVw9tQ1prPz59fGoaQ4nIWzxfEBERERFdmPi7mYiI6MLCwC0RERERERERERERERERUSVjU8lERERERERERERERERERJWMgVsiIiIiIiIiIiIiIiIiokrGwC0RERERERERERERERERUSVj4JaIiIiIiIiIiIiIiIiIqJIxcEtEREREREREREREREREVMmq1e0ek79jzhCjl4iIiIiIiIiIiIiIiIiIKpoWuM1eNc3oJSIiIiIiIiIiIiIiIiKiisamkomIiIiIiIiIiIiIiIiIKhkDt0RERERERERERERERERElYyBWyIiIiIiIiIiIiIiIiKiSsbALRERERERERERERERERFRJWPgloiIiIiIiIiIiIiIiIhKLD8/n52HnTsM3BIRERERERERERERERGRx4oLRjqOv5g7R+6mYeCWiIiIiIiIiIiIiIiIiIplDTRaA4/nzp2z66zjLvbO3bYxmf3V6naPyc9eNc0YTERERERERERERERERERkzww0WoOOjn9Njv0Xs2rVqhmfdGa/dXj16npdWwZuiYiIiIiIiIiIiIiIiMgla4DW7Ky1R03Wz2TPGqiVz9KZAVsGbomIiIiIiIiIiIiIiIjILTMYawZpJWCbfeos5iQdRXJaNv74K08bT567/JIaiAj1w+Cel2n99f1qaX8ZuCUiIiIiIiIiIiIiIiIip8yArTVoGz3zIH757YwxBZVU6yv1gO2HL1yl/dXr3RIRERERERERERERERERWUiw1vwrXV5eHt5bcYRB2zIi21E62a7SMXBLRERERERERERERERERE6ZwVupbSvBRWkemcoWA7dEREREREREREREREREVCyzmeTc3FwcOX7OGEplRbardAzcEhEREREREREREREREZFbZlPJVPbMGrfV6naPyc9eNc0YXP4OHz6MdevWYceOHWjYsKHWtWnTRuuszOnMz+LWW28tMh0RERERERERERERERERlS1rE8lmbdsTJ06gx/gj2nAqOysnNND+VnjgdsKECVrQ1pEEcCUwK50EbP/73/8aY+yNHz+ewVsiIiIiIiIiIiIiIiKicuQYuD1z5owWuO358lFtOJWdpFcv0/5WmaaSpVatBGuHDBniMmgrJMBLRERERERERERERERERBXHDORS+amUppKlxq2zWrfumDVyGbglIiIiIiIiIiIiIiIiKl8SqDU7qXF7+vRpZGdns8ZtOTBr3FZo4FaCtub7ap0xm0D2dDoiukgc3YdNNn90bOFvDCAiIiIiIiIiIiIiovJkDdzm5eVpTSUzcFs+KrypZKlhK80gyztuXXVmsPbdd991Ot7aXeiylsfgkbg0o68Uvp+FR0auQJbRW7VkYcXIRzDre6P3fHR8H/Zl5ho9lezgCoyOHI1lB1ylx35752aqtB/XP1d56csx/fN0o4fOb2mY9UgMVmQavXkZWPHSIxj9SQaqyJFEoiqVbeSdzBWIeWSWOtIuLmlxjyBmedW82jm/5SJr7z5k58ln+/K75NcR1nmWlsM5pQoqs2v6AuWzzhnJ0/F05CPl+7uhKp9bqvRvJhfKq7wvt/NIFTteq9D5Mlvlv6ioWdjkskwtq/KXLjpV8Lqw7M+LRERERBeeCgvcrlu3zvhUeu5q45Y17aLykUeKdMUHGy+AoORFypubv/s+ewOjP9yEbK2vMve5DSnxKxA0fBweaOpjDHMnG5s+HI03Ptun91bVG/15NmyaOxr9p24Avn4TT8euwC59Y2tyj2dg+5qP8eZLURjvZp/ZNr+H0f2N4/fZ6Vix2zKTgymY/qwxrv/zmJ6cYYyQGyTGcLvOyQ0nM53GNI7pzFo52mEezvNJxidS3rjZD3kZSIl92phHfzwfm4KMghvf2dg+vzANUS8txHZLGkrCut36j16INOsNotxsZO3dhBVzJ+L5/u+VOO/Y1s3DiqAXMO7+IHiScytS2QWCKrBsyNuOD9Q+G/+FzRjgGcd1tS/bykBVLWOcunjO3xdTsJOB3RLK3oQPXnoDy/Yb/QUcriO84TjPqh4wO6/KrxKypWDenAzc+cYCfDS1FxoZg8tamZ9bqojs3SswfWh/y/WZ/XVg1ZONXcunq+s3/Rrvkf6jMWttFXqATjvmil5vX7DleO52LFtwGA9MHIKO9Y1hbp0nv+NMZVjG81xOREREZSMdsddVQ7XrYtWnQrbPx+L2lnVQrZoap7qAsCewdE+OMVbZE4s2Mi54LNLOGsM0KxEpwwesNPpFDtIXP4H2Afq8qvkEoP3gpUi3zK5gftauTgs8OHUjbHbzF5mI6yTThCPuN2OQxcoBDvNRXZH0V0F3dbwEydNbaZ18dnTrDfWRODYY375zDb6bHYL/+1drvPZEEBoF+CCstR9WvtFSG+6s+78ZrdHjpksxrn9jrV/+DnmgEb6JuwaLxrdAXV/70OjCl4Kx6d0QvNg30BjiPn1P39MQG9/W02V2qbOuwTv/vArXBdcxpiq5CgvclmWwtbimlMtc036Y+dFH+MjSDbnRGEcXteaRs/HR6M7wM/orjz+6jput8qWnKfFD59EfYXZkc6O/arKtm4Xpu27CxA/VcbcgFnceWYiJi3fpIzNXYOLQWVhxLABBtbJd3wTcvRAxM224c+oCdewuUOvsg48nLMJ2LeCZgY9ffw9Z3WOxQB3XC17riqw5b+LjAzIuFEMcjvuPXr0Tfg07IrSw/NbsSojBLNudiF0g6ZyN/rU+xsSPthtjgdwzufC//w27eRUpQw4uw/SPzKCxcxlL3sR7R8zlvIGuR97Dm0v07+RueA8T1wVhyFw1LiEeTwWlYOLsDSW/CXfgY4yPTcdNr6ntpuY3rt02vDmh8KZLWvzTmJSQBjT0x5ncM8ZQ7/lHjMPs6NAqcAxdGHK/WYVVfv7ISlqlcnfJVZ2yjYgqlV9nvPDRbPRrYfQXKMV1hMt5UqXJyYYNzdHco4f/Su6CPLfs/RgvjluNgP6ztGtJuV59AMswfnqK2qZVU8byiRj/VQAenyXXxur69807kbtAXctuYEsblcKnLfrNmIBeTYz+Yp0fv+OIiIiIzie25ZEI7jEZyTV7Y9r8JVjyTgxC9sTjwZY9Ee8YKN03GZFTdxo9zu2cGo4WD8Uj/ZooNb8ETHs8BOlzH0SLW2Kx0yEoG/jo21iySC1zUQLGdD2FpaPC0X6Cw/z3JCDuG/mwEXH/cdUqZSfEaPOR9Eeh8VZJfyQSTxijq6CO1/ihfp0aWiefrcKvrYcXHrkCf2tSG9vTc7D6u79w/GQe7rjxEozv3xi/23Lx1Za/sPLbP7Hm+7/wlxp3Jjcfa7ce14Z9sfkvHMiyv2f9zY5sHD2ehysu88HtoYVPTco8mzTwge3EWWzYVrjB3KXPtC/zjL68TX/h8J9nEaame/7B0j8OXWGB2wuVY02+lINqoPbU6/NYeADYMFUNN5qB0Z7GLqjZNxoLrdXhsnfh41eMJ7XVfJb9bB+GsvtulPruVhdhqjwbNsQZNfLUMt77xiHAfXQT3httLMcxDQX02kZvxi8srG33yscFT45rT7rO+gBvPq3GyboVecrXobaSXW3E/hg9f7tdkO3kz4XrJrX6rElyun2dUdtvxRuF670w/s2CJ3uLpFdxPl+9huWbXwMZCc8b3y9a88ratE/BZ6/3uQ0pkx9B1HwjCOkge7va9lGF6VttNH/sbF3c7dPs3R+rgkyfz9Oxy7DdUmPSfGJZW4ehC5GBDXhTTWeuq6d5zkxTwbTPzsIGa/P2dul7HtO/KHyi3+n6WKTv2g6/dm3R3Ff1+AThgQc6I3f7Lm2/IrAXJsS/gRce6o62DWWAc7ZsP3R8/GF0DZSbkT7w79wFHXO3IV0Ojcw0bDrcGb3v0Wt7+jR9AL07ZyHtJ2dPcmdjw2er0OqRXggyhuhsyK7XEYP6dEUjbSb+6BzeEbk/p+vpVLIyMuB/SV2jzwlpLvhtNe8BDzjM20qla3MWOj+gptGWo2+PrK1p2nK2bd2EoHt660/q11Dr/IBK5+Zt2CZftZKn3vt/gIKclyP7vWithqyf1Hw799ZrcKv5terTG50PrFfbSx8f+vQCzBz3FHrdHFzsDVjbhll684ty/M9dD2upZOZDTZGay/Y1iqV2iD6fomVFAVm/4bPwgVYeGOWSuzLImj8jnzZqXDsrCxQpZyw1nq3z0dYjYTUWmvMq5nzg7rj1uNwrQpUrX2xCaP8h6Jq7AqsLnx3QaTW2n7dshzRk5zlf18JyzobV49R4y81c2xfj8Uis/lCA2/OawWkZU6T2hX0TgHacpltGuC+fHfOMNT95u788WU+dXvM9qmCZq5FhbjqHfPi8dZy23DexsCC9+nrus+SFIul3V+5aOc1rLvK422PQwjzOzONBHTuzNlhCFMUdK9Zy39NlCjfnE03mhsLxbs/tistywchXnxS2xmBf3hSTr9yc09xtF7d5x904r8s3Q3HbsoDrY1NbX6P81j7PXWa//X+xrK/dcVM4T/neI9KqxoGFeN5cTjF5wt05xXF72B1nDkpcfilur5GKuaZ3XcZ7eJ5z4HY93OUBkxzPlnXU9qnba/vijxFX+dVdGS0thRS07GEsf5nZfLOT48XVcej+OLNQeaX0v5lUHv58Gc7c8xwev9FfbznEpxG6Rj+Froc2Ic0sl4vJl8XlJ1e/cRzZzccub1mo8/7SBBt6RT+OUH8txfBp0hX97g/CpuT1zoPNbsoLazmgcTi/uz1eS8PdfvY0DzhyVy56PE/X+d/ZOcLdPvPk+tl5GeXm2FI8u87Uj3O5HxCj5qPvY++PO6dlvOIyDVr+WYjVahtqx0tx1+YlSJMdrayZiJSCjL8PH6v9Y7221BjXaR+Y6VLzG79oV+H83J23tHFqP8k4WZ8PZ9mVr27LcCt36+PFuc/j839x13rulml+1/p7zA23ZaCVWmZBuW1uSzMvuD1vKQ7pdXUMuy/T7POb3bnPbv4OecDd94iIqIrYiWnPJ8LmG42vfkpATP/e6P3MNKR+HoNAJGPynKJB2p0vRSJ2j9Hj6EQixo5SZ6Wu72PnxvfV/PoiZk4qds6JAL4bgbGL7WvBBoT2QO8+apl9+mLSypUYEwikz02wO4funB+nUhmBiK7q8zvx6rMzwYjQ5iPpfx9b5vdQw5YiYXnVrHV71RW1cMPf6iI755zWyWcZZvrH3/3RUP1mSVYXs4Om7sNL72dgckImbMfPok0zX7S60hexi37H+A8OYun/2ZBzJh9n8/K16WXYawmH8FP6KWNuus2/qPPygRzUrV0doS0L79W3V5/r1a2B/b+fwf/9qAdui0ufKcuWqy1v7LwMlZ5MHDtxFs3UdH+/vp4xRckwcFsathTMit2l10j7aAFiu2fhvdc/RkZgL8R+NBP9mgKdR36Ej6JDteDIe+OWwefxeO3J5vjoIKyaOA9p2sVcLtI+nIgVfoMwU2rSTe+NRscsF8VHUzBdvjtgtvYkd/yoUGx7Y7zTm2hZKydi1r4umCC17uaNRqj6GVcgbxc+GDkd6Te/YcynNTZNfA8bXBy7244GYfg8/cnx3meW2dUgzNh6DB3HzMbsgdcaQ1zbtSAG09NvwhuybupitvXmiXjPEgRI256Lh/8ly5mJQQ1W4Y0P0/QfD9Yaf7J978jAe285v1Gx/aOJWJjbW99+84bA73/2Pw/s0utyvnoNyxduAYIiZ3rXVJzX+9wfHQe8gBd6tdK+bkf96Jj42jaEjpLvLcDsAT74WJq9NS787dbF3T7NScO8CSvg9/hMbdysBxvBmq1Mje6JxUcz+iEIUgPGqAnqRZ4TGb/6oNebar0T4jG87VbMemu1fuOnIH0TsSDhIyyY+gCweDRmf1+4/93lpWtvVmej5fPwwVb1g1LWP2yI1034+bd7AE9FNNd78nKRkbwaW1t0RUepNZuZgYwmVyKohj5a+KhSUVuWowMr8PGPd6LXzY5hSn+E9n4KXY1FICcDKclb0bxrRyOdNtiOAodXjC/8kbnc8kNfyVg5CyuuegqD2rsLgaq0HgjCldbIrpTg2qbMQoY61JsHWUZWl5txTmrCtovAneqiY8Mvem/u998iramxPazUtrJTozmCm+5D+q9Gv6ckP8/ahy7jJT/Pw+jrZE2cy1gyvrCskBrWme9h+krjiP9lESYu8sGg2Xo+G9LUTY3ig1tx7OZxmD17ECRXuS6DbEiJm45dHfXjZ8Ebdxo1rp2VBbnYMHs8lvkOQrzKyx/NHYKgNRMxz3JjJyN5G4KGztOPg5A0vLdMlUPOygZ3x62r84q+CPeObsL63R3R5ca26BIRgFVrreWgOs/MHY+FeECvsa3OOTf9/CbeXBNcTLmnyqqubZGWusnY1jakbd6Fjjd3hI/bMq6Q0zLGY67S7aQwc2BLno7xnxh5Rp1fep8srKEuPN5fHq6nkHPwxJ9D8YK2zNkY5PuxdmNImPnQbEHgAahxc4zznWYbMvz6YZZWVvZG7so3Me6bazFazsMfTkCXfe9h4TeFU7ssd61c5jXn5zu3x6Cjg/vg00vtW5nv0LbYOms6VmtBCg+OFUu57/EyPTmffPMbQseoY0dtkwmd3Z/bi7s22bApS9++cg2UtwLzkvU0FZuvXJ7T3G8Xd3nHk3zlefmmRnmwLUsiY1c2uhrbXzumXn4PuQ/O0sqy2Y8HYMWsFXBsWDk0WqV7ZGejdZtY9FLnIrd5ophzSvHHmaE05Zfba6RirundXdt6c54zuV0PN3nA6kZ1bWVZx9h7PLvKcnWMuMuvVgXHUpyeZ1643r5lD7UEfJulyuT5Zpk4Dylm0MfNcbhr8UR8XMtynK2zP7ZNZfObSV1/qUzdtpXD9bxvRzz1zgvoepne6zZfFnPNXdxvnALmfLS8sAAz7812fv1wOEMdh23RtqXRb9Dy+riu6qzvoDTlhRfXgN5yvZ+LPwc5Vcx6epOv3OV/u3OEu33m4bZzVka5Pba8vM5M+5+az4zZmNCtUYmOO2dlfLG/8Q+kYNtVwzFPjoch6hp0zlJVpjk/l5e6LAjsgjtbbsf6LUY5feBbbLB1Rpd2eq+9bci6Uk+XlElnlk7EImPXujtv2dZMx/Qfr8U4KWvmx6JL9tbC7e3FNaa79fH43Oft8ezyWs+DZTr8HnPJi/sOduW22pZd83Z7XKaY6XV13ecRN+fpMvsdS0RElWPfSqxU1/W+T0YioqYxTNw8CTsPHULq8GBjgC5k5Bj0QBpGDI6H01vlKUlYqv70UPOz3m4NfDRKfQ9Y+nmyPsApfwRcrv7YbCj8+bERcVPT4fvMGCQN66vSG4u49cYoN3zr6Vf3OSeKv4dWGW67oT4CL/PB1j0nsWP/Ke2zDBPSjPFVjWrj1Jlz2Gh54il12wl8mvonUrYex8nT54yh3vnhfyeRezYfrZv6FjSXfH2LOjh3Lh8//q8w0Osufa6cOi3BY6Bm9WqoJUGGUqiwwO0//vEPjB8/3m3XsKFebc6baSuE9oSo/nSc1plP3PnWgh9sSP85A7YcHwTdMxHxEx1veht81A/42TPxdJgemPELuwkd1c/mDO3R2W3Y9LUfej1o1NjzbY7OnQoDMFnfrML2Gwfh6Zv1J7n9Wj+M/t2ysGKt4+2vLGzamIHQ+x9GK8lDPv7oeLPlV8dPKVjl8wCeNt4l6XddT3Rvuglbit5L0XSMMGsQBuGBJx6A39pNBbX0gu55GF2b+sPfTyZwJw0pX/ho39dqCdZvi57dg7Bpa2E9wM4PmjUIG6Hrg73g9/UmvZag1KicO9F4Z6vavjd3QdCBdCcX52lYvwa486HuBem1bj9hl16P51tKbve56m8ailbGDR2rrC3rse/m3ni4tXzPB/4398e46I7wN67s7dbF3T79eRM2+PXCwxGNtHE+zdWP0KYyh+J5nud0QX/vruc5qekZNQihu79FmpwTCtLXHD41VBoCu2JQn2BsSDaDQO7zkk+7pxAbcy1+mxOD/pHytPkm2Jz8kPWE9sS3mkdMfDYefs44TvPOqDT7aOvoXi42LFoG/8gH0NYS5LWnPwn+yMAYvJf9MIbcaZYEfgju3Au9oowbp5PvRFZC4Q99uTEzKykYTw0MLTYdEoZ1WebLBvWkRK/RFh1vA75N0/elVlP372aQuVCjdmrYhqVYJrW9JeC9dqH6bIz0guTnjBut+bkLnN4LURr1nID48YU1ijt2DkLGr8aRWbcuAnIzsP1/Gcg+p/LZ4JmYPbij823WROX724Lg7++nxrsrg/xQq666FkrfjoyjuVqN64lzJ+g3lYrwUcucjZlqmX6SB+p3xE0d1bXSwYLbTAi6v59es1uOg3AZmVF4E8rK3XHrzXnFQcaXK7BLyhlflZZOndHo6xTLTWZ1nlnrj16PFp5nej03Ds6eHXHkHx6B0O/XY5MWWFbl7Xa17jeqmRRTxpWNkqY7C+u/3I7QQU/rtdDV+aV7j87I2qzXUBce7y+P11Odg9fvQ+cHLOfgR8dhSEd/dXgW5kO9BQF1vnv8YQR/vVrfrpqO6G6W1007oksTNSS8M7QKUb6t0PYatYSjx7Qphcty18rL877bY9BR067orh3Xsk2exqAbd+HbrZIAD44VS7nv8TI9OZ+o6x+z1YFWD/ZGqKWVAHueXJuY+1FdU/zdTJMH+crlOc3ddnGXdzzLV16Vbx5sy5Kwy5M3q5VTeaRzc23Hwr9NWwTZslCYg11zlyfcn1M8Oc4MpSi/3F8jub+md3sN6s15zuR2Pbw5x3nP1THiOr9aWY4lKeTkmO3TH3eqa6KUvcYk6IyHH2mlHS8+TTur4yoD6dqGcn8c+tUNQO6h7dh1MBu56jh7euZsPCXnLDtl+5up4PpLpT+m4DejWbvQfb50n5+K/41jKpiPlhdU2XpXL3Q+vAlpjneSMrz8zVOK8sKba0Bvud7PxZ+DnCpmPT3OV8Xkf+s5wt0+K/m2K+bY8vI6U9albUN/+PmWxXFnKO63uCqr+t2mXw/5qXGuy+aySJPaR51bYfv327V9lKV+F2Xd0gWhkneKsF6nSV7xQ/Jm/e6I6/OWSuP/7ULbB9RvSEmjdn607EkvzkWu18eLc5+3x7PLaz0Plmn3e8w1z+87OJTbaluGtnN4AsUld9dLXnBzni6z37FERFQ5/jiGQ+pPcFPHH0u+8A8MRKC/nPAsGkYhXmrPpjyBqP8UDYqm/6w/bOlfz+F79dR1oPxN22n3bt1COchcPBaT1CnKt08PhBpDkZKA+BxfRPWJgO/dUYj2zUF8orvgr3IiDZMnJKoPIejRtYx+BJYxqeVaTf2VQOrmn7O1zzJMtG1WRw+q5kOrRWsV90kWJi44pAVxS+Lbn0/ij7/OovFlPghvW0+rGdsooKbWhLI0pWxylz5n5L27D9zij8svqYks21ns+s3xYsw7FRa4bdOmDXbs2IH//ve/LjvzvbXFTSfzqlCO77g1ayT5dsaQGU+h0TezECPN2g6ZhRS1Ck4vwGr4IHf3Qowzm7+NnI4NxihxRv2E8nO136Xmm7rYs863YaNGsB1xcvtLJvV1cQkoQSrbMowuuKGgNweZ8XsxP2RFXZW+3BOFtQTV+njqjPpxuOwlc5mP4PkEdQGb4eIGuSzHrCWoFpG1dhae7298d7jrp4HPqD3S8FKjxxlrer2Yb6kUs89dOSyP7mu1JU3+aH5zWwSZZb11XdztUxlX3w+uixM3vMlzjnzrqmXakC1lk5M0+MtDF1nHCm/eFpOX/MP6Ydw7H2HBjOFonT4dT88o2dOp2hPfHy3A7CEN8fFwtS8kfTVqaeta7PwyV2Hp5o6487Yi9RAs9CfB5en64Q0/RkxBOn3QPKIfHjCa0PNp/gAG3QXjh776UTpzBYKe7IdQh3O5M9IYQ66rh4lk5h4+aNT25ghkr/0W+7ALW78JQtcwJ7drmj6MFwY3wippSityEGb9GoR26kdosPP7ha45yUuu+KjtkRJnNon7CGKs7/xV6Xn91QicWDQRT6tjt/+4hdiV62KuKk9Zx7gug3zQ+fmZeKrht5g1Utbzacxaq44dF7P1yd2FhS9HFcxnuicHtDPujltvzitWeduxenmWXhNW+uVGS9NNWLXWuIA8elgr56yBf58mbdGxhbs8bfDtiC5hafj2e3WsbN+E7bd0RWfJryUs47xSmnSrrJc2y2gKTjqtqb4M78t7j9dTpXW/+mO9srqsOTpep9/4L3Kev6whGqpc6KwlBNnjckPNY9Zy18rL877bY9AtHznMYctWy5O+4o4VS7nv8TI9OZ9YadtEZQIXD/t4dW1iVVy+cnNOc71d3OWd4vJVCco3b7dlSVjT6yW3eaKYc4rHx1lpyq9irpHcXtOrL7m8BvXmPGdyux7enePKhvv8akc2o/U3Sw21rwJtkg2L5+Y4DHrwdUz4+wl8PPlplYf6Y1ziLjjdjI7Lt/Ky7Cy4/tJabZDrzRfQ2Rgk3ObLYvNTMb9xTDKf72cVHDePPPKmygtqmzgGboOC4dWlXGnKCy+uAb3lbj+X6HqtmPX0LF95kP+t5wh3+6w0206+6urY8vY607ouar6lPu6EGu6yHPRWGaTJv2MXtNIeULRh+9YMdL654BapW3X9/JCbrd8dcXveUmn0v9TFdasX5yJ36+Pxua9U53/7a71il6nWzWW+siqmDLTjmLe9UOLrPis35+ky+x1LRERVw55YtKlWDdXMbsBKY0ShwCffx7QOwMpB0Vjq9L6O53aOamEsqw4aP5QI281jkDyzB/RbxTlInBWHnMAYRHVVvTUjEPmkL3LejXPy7tpE9DTTXL89xn4XiN6JyYi52hhdhcj7a6W5Y+09tWnHC4KpMkzGlacd+05hW/oprWlkCcS2b+mHS/1qaE0oS1PKwpv0ybtvv5sdgpWvX43uHS7BH3/mYv7qI/j1d/26qaRKcVvFexKYlaCsq87kbJy1qzJys5HtF4p+42IRn7AAsyN98LG6CHPagJXWJFAWIiZKk0BFf9DXgprXSaPHkfzAO3lSrlMLHM7Kgo/6sVCETJpjndJCglRNHjZuKBR2b/TwoC7XSZU+n3rq8tx7tRCEh6fbL/Oj11w82SvL0cJTavNueA/jVwfg8VnGNtOagXLGD/V83Gw/B57Pt5SK2eeuNAxqDpyz7sNcZNuynTff626fyrjj2fBws9jzJs85yjmplilPZqvPTtJgkwc0LvEz9rI727FwyPiCWp4+gaF4/PFe8HP23lY3bFuX4b1k84ldeWK9N3o13KTXmggKQvODv1neP5Mrq10kYLI96WPk9n5YD1YVYUPa0veQUrAIf3S8V+XvzVv0dNrSsGxuChyfGdaotC3ca8OGqcbNJSfv0SsUhKAWGfjNeh9AbWv9V24jBF0lFQYtIy3HUhFtOyMiOwXfLt+A5EAnzSQbgiKGY7Y0x/XRAryhLg5241q08vYhLSd5yTm9abvV/o9jljQxpfLxzEjLkZmjjoEru2LIa7OxQJW3EzvuwvRp1iYVXXNdBqljK9sPoZHjEBv/ERbE9YfPovFYuNX4op0MfPzydGT9fYLWtJjMQ5prKxF3x6035xWrrclYpTbypoKbV/pN5l1Jq/SbYZc11Mo5u8C/2qa27OL3jGQyCQhv+mY9UlK34c7bjBtaJSzjvFKadKus1znGfht/9NFThU8sesrj9VRpbab+WNOq9qftuJ7WIuf5o4dx2CwrS8ta7lp5dd4v5hh0Sy87/f2kzPHmWPFimd6eT7RtojKBiwC4V9cmViXOV+62i7u8U1y+KkH5Vqpzc3krJk8Uc07x+DgrTflVzDWSu2t6t9egJTnPuV0Pb85xZcV9frUjm9H6myVP7atMH9Tz5De6m+Mw92Qugm4fgjdmq20izevvmo43VjnZio7Lt/K47GyE4Gt8sOlHV1VxdW7zpdv85MVvHJlP5+F26ZXuKcdqmv4BKs9tx/bdRr9Be1fqxBR1VeugNOWFx9eADlQaZUs7Pqxo7Xe9n0t4vVbMenqWr7zI/8LdPivpthPyVVfHlkpPia4zhSS3tMedUqa/xcsiTZd1RNe2Urt9PdZv7+yimeSiTmZnG8epu/NWLfhd4rA/rLw4F7lbH4/PfaU6/1uv9bxYZnHcloEOHPO2F0p83Wfl8jxdfr9jiYioglwegMbqT/oB46nHwB54e9ESLFkUg076ECeCEbNgEkJyEhE1fKnddXTw1fodAtsJh6frT9j06UJD1LcLBT76tlrWEiQM0b/X4/kR6GQ+93ViKZYsU38zJ6O9EZQNnyXzVcOLvLu2E2K0dE9Db/l+8yiM7VM1a9ve2LKuugSpgaYNa2Hpq3/D/NHN0aSBjzZMxm3ff0qd99WFdTWgZg2p61oo+v5GGNe/cakCvNL88ekz57QmkqXLy9Nr1pqKS5/VvswzWPntn/j51xycy1fz2XtK6y+tCg3cXnAyV2D8k29gdaZcPDqvHXNSXRjrH07imI+6kJX9mifNjqag8L7Jteh4SzZWLElBlswqZx82bCwMwDS6+U60/X4eZn9j0y5oc/ctw4I1Aeh1u2NbkY3QsVMQ0j75GLuOq95cGzZ9Y7k7c436UfLnCsz7Yp8eBFTLWR33ATbJtE5sVWnU0pObgWXvL0Pu7Z3htHXKhkFojk1Yv1nWNRe27auRYgTbtHW7zYYVH6zGPilL1Lrv+2IWPtCm1W1QpY82LjcLKUtWIPuWjtp7ULJPq2l8/REgT1Wqddm+dr36Ke5MK3S+PRfLElYXpNe6/Rx5Mt/sv8zithEkjropdZP6aSKTb8fq/3M9b+HZPlfLOJCGXcY7Yqwate+C5t8sxbJ9sjJqus2z8XzMQmzTe+2526dqXOfsFfg4WX5KqLTv24D1BfvFmZOwGUn3PM/pMjam6HkuLxub4uchrW0XhMoJ4rquuDN3GWZ/oqcv17YJCxbvQseILupnXXFaIbj5Lqz4bBNskgg1712b0pDdVg3XJ3AtJwPbv9mnnQz9stORkrAUKdpxqrbnLylYf7gtrv2b6mkYitCGG7B0eYa+ngdWYPn3QejS3vIT7uhqfLymFR64w+GWwtF92PSTfM8PJ9NTsNA8fiWd/7ceWdddq6fT3w/Z38wr3A+ZKVj2FRARprZlu6fsfzw6vKMKeTbs2roP2VpguRFC2zXChmXLkKHNKAMrktIQ1Elv5vja6zoiY/lSfd/Lfvh8dcGxVFQrdO0JdcysQiMnzSTbU8f03tWYPnkZGj7+gPMywA3Jz0HfL8XH2hNLal7frLc7Dgpl44w6P/oEBMBPnZnkWEuxHMe537+Hp0cvxHZZP2naSx/sAXdlUBZWjIvCG2v0feMjNw4cFJYF2Thp84F/fT9t+bkHU5CyxRjloYKywd1x6+68YpcfrHKxYe0G+HQbZ5+f3nkKbQ+bx72xHZYZx5OU6xPUuq8rfJq9cF2L8rm5KzpveQ/zfoxAx2uMgcWUcUUVljFajZ8DKdhwUH2W7yavVmcRZ9yl2135rM6HXZpjQ8IHSNO/CNv3CzHrE/1Y94SnZXkhY5nqGNXzmjoO5zyPmIRtapmh6HqXOk+pc6l+vlPn5/+oc3VYBLoUXxg65bLctfLgvG/N4+6OwSIOrEeK8SSinKfmfd8WXdpJArw5VrxYpgfnkwx1/bNJ9reUw0uWIq1pF3RsaIxUCte1+GsT50qTr9xtF3d5x924EpZvpTo3l5Pj6gesVra5zxPuzyleHGelKL/cXyOpfeLmmt7dNWiJznNu16P4c5xLbq/t3XGXX60aocsdbZE2b7ZxzKq8u3wBVvn3QvfWxiQuuTsOc9XynsaL87fr50qX66zmUUa/mdr2fBhB8g7LtWr5Wh6W7bUd+2QPaudw9/nSfX7y/DeO/vthIT743piPLQ0L44xrRivfzng40l+VGx9ju7b91LSqPFr4SRY693BSBhRTXgRdFYSM/9ugPwSprr9TkgvP5sVdA8pvoe3G9bkd37bo2FZd5/4nBRmyzbRt+jGWblD7TV0LS7/r/VzC6zW36+lFvvIo/+vc7TPPr59NZhlVzLHlwf0L50p53BWU8e7LQU9Yf6eXviwQ/ugSEYq0BFX+3uKqmWSxFSlrjd9zBySv5CKikxyn7s5b/gjtrPbHR0bZLnnCWtZ4fC5ytz5enPu8Pf+7vNYru+vaEt/rUtsybavlCZRS3pMyuSvTXJ+nS/E79ugupO0rmg4iIqpgzXugR3NV9M99W689Wy8EEX16o3efCPf3oK8Zg4QXg2H7IB52dXK79URv9Wfl3AS7d+Bm/kefrvfdEfoAQ0BoD7Ws3ug7PR5jVDpWPjsCK43atJkfqDSpVPR9RwKyZvc2+gYCSx3mL8FkPd0xiH+nB7BvMqJmOW+UuTJJE8g3t/HTmkCWd9VKkFO6terzuXPATSF+WtD216zT8K1VHWHXyMWSLqy1H3refCm6tquPurXVibeEvtmZrTVnfFWjWvhbUG2tNq3UqhWepM8qS12Ljv/gIOJX/gHbibPa+HvDvbwocqLka3cxcXzHrepilmdpTZ68EO2PZGl+TA2Lmm9Dr3H91GWsUBeW6mJz2+woPDI7DWj9EEZ3y8Dsp9W0kYPwXlaQ+iluPqXog9CB4/Bw3sd6k0FPzsOZtvpcNJd1xfCJDyB3vjSL8wj6T/wW145+HQ87eV9pox7jMLxVmvpBpuYzcDS+bdCx8AlW31A8NfUpNFo7Dv0j1fioN7Dtqs76+1acaOWfgemD1HT9Y7Dqkn54oY+LkE2NUPQf0hHbZ0itwf4Y/UUumjcxxsm6PRmLpxolY9xANa/I/nhjezA6q8xvCm3rg6XDZTnPY152LzWd/q5P/1sH4anAVRgt31Prkly9tVqXk+rA1b9n1SpyAgbVXapvv0GzsKuO64OjuPle2/lOVUKOxyMv6U9Bhj46BB13TkeUbPuXViFXXcw7580+Vz9u5r+JN1eYbw22CFTb4KVr8e1EPV89nZCLfhOfct6Urrt9qsYNGv8wsEhvsmfQh2dwrasniAM74s5rtuG9qEfwnvxa9CLPiaDGJ7HiBbX8yChM/19HDI/uqv/4q9EKj08djuBv9PT1H7IQuX1iMaSzux/PJh90fnoCHsiZpzUpJPOe+FMoXhhqzNsdWxrmzViuvS/Ap/MQxPYBlpnH6b+y0HXicHTVZhKEh1+U7TdaX8+XUhA0ZJzd+992ffYx0rv1RlfH9xGnL8f0+Wk4Jul8PhYPYxlijHROz+yKCQXpbIV+U4fAf3WMvoyYj+Hz0Dg81FYb6d7R9Zj3xjxsMAL8QQ++gKcapGC0LKf/aKQEDcE4o/aHT+enMO7WDLz3tJ6G92zdC44lZ5p3lPS5aCbZpL2rrT9i3v4WjaJmY1xEsVu+KMnPMa2QNsEoH75Xx0lB+WDlj65RTyHoS7UvJK+8lAx15tRuaGi3lmT9bvkNs2T9ZD6bmmOI+a5it9yVQbL/1b5Zq++bR56eB9s949DPOE7sy4JWeGj0nciYrR8Tg+ZkIega9TPdo2owDmWDu+PW3XnFIT8UOJqCVZvVuvR0yFTqOO7d7RhWrJaaQLIdJqBfzkIMkfwzcDy+vWZcQf5xLPeKUOV8RIQPfG5X6TRvaLkt4xw4ljGBd2LII3562S9Ncf/WCM4fMnCfbnfls5wPJ9x+DO9Fy7bsjyGLs3HT350011mEN2W5PVnmuGu+xURp8i7yaSzM6YcJT+rHYav+sRge/K2eD/sPUeMeRuzznT1Ij3Muy12rYs779vvd/TFYRBN15lwRo+fTGfvQMWaIUU56c6x4sUwPzidBN1+JtDcGadtk/AZVRrxYWEbYr2vx1yaulDxfud8u7vKO63ElLN9KdW4uB2274M7qKzA+cjRWHC4mTxRzTvH4OCtN+eX2GkntEzfX9O6uQUt0nnO7Hu7PcW65vbZ3z11etvKPGI4J9+dinhxLKu9O3HQtXnjtYZXq4rk+DuXacRw6H5yFKJV/5Frp2+ZDMOTOoltR5lEmv5lUnpw44yn4rR6vT6vSExOvrjVfVdeTxoMjbvNlMdfcHv/GkWPjle44Fm/MZ8jHyFbXetr7Fh0EqXwwoVMG3hsi209NO24V/J6ehSHO3klaTHnRqNsQPOy3FDGy7k/OQsZllrN5McfrrqQ3MXG5k99Ccm4YPgEP+xrHiuzjuRno8mrhceZ6P5fwes3tenqXrzzJ/xp3+6yYbWfHoYxye2y5vX/hXomPO7sy3n05WBzH69WyKAuEz41dtG3gvpnkVgj4dToGyb4auQoBkS/gIe1BE/fnLf9bh+OFsF/whpQ1A2Kw3mY5hj0+F7lfH4/Pfd6e/11e63mxzOJ4ea9rSPP1ermttmVKpmVppbwnZXJXprk+T7vPA+7O71nfzMOb8Ruc//4iIqIKFIKx70TBPycRD4b0xNgFS7F0cSJiB4yAvCUWNbWJnAqdkAB1eWWvXl9MmqKuK1KeQEinEYhbvBRxw8MROlidIzpMw6Q+LpqoqBmKsTP7wtcWj+dekzZRMrEkcaO63uuLEc9IQNbsojHi8UA1/3gs+U3/qiP/R9/GNHUaSxv+HBJd19OoFPJO2cYNfHD4z7OYtSxLC3pKN1N9lqaJm1zug7s6XoLlqX/i6F9ncUf7SzAnphleeyIIrwxsjMsvrYkd+3Pw5fd/GXP0njRjLDVk69SuDj/f6lrTydKEsvA0fY4kyJu6LRv16tTAfZ39tQBwaVSr2z0mP3vVNKO3fL377rtYt26d0VfUrFmz0LBhQ0yYMMFtk8hSk4jKUxZWjHwe6Y8Ytf7OB9qTp/pHIc19Pb/vYXykLt6pfKXFPYKFV81E7D3OfwiXBdmfb+IFz5fx/Sw8svJazB7nQZC3hCRNMUeewoKBLh5oqOr2foyn3/XDBPOd3UR03qiIctctKWM/CsZMlh9EROWLv3GIyl/OBrw5cAu6JwxxXuNWHmYdmo5+H6nxxiCvWI9juYZKuBKx0x/w6EGVSnM+XOvxepSIiEosHbHXtcAITMPen2IKatXavolD9JCxSPxOj3T6Boai90txiHumE/wleCvvvm05ApiyFztGFtbFzfn8CTTuEQ9b/yTkz+9hDkX64ufw4OB4pMnsavoj9PF4LJnZG8Fm3Nbp/DIRH9EYT6RE4P0vO2HyHZNx6sUtOPSaw1XI+udQ55Y4NB63A3snhGDlgGrouaAvkvITYKZApglQ02BIKo7NdN3osyfy8/MLury8PJw5cwbZ2dno+bKT5kSLMTkqSHsX7Jrv/8JL79u3vTL92Stxy3X1sfq7vzAmPgM9broUj93ZAMGBtVG9OnDy9Dms/+kEZizJQtaxwkf+pSbuq483QT3f6njjP5l2TRVLs8oSSP10gw0TFxwyhgL3dLoUIx4ORLVqwKylWVi8Tm+V0NP0Hcg6o6Utbc9JPDvjV238dcF1tO83uLQm5iYdxodfHNGGeyPpVf1JOQZuyYnzL3C7L+FpzK4xHOP6tILfyU2YNXQ6bJElrCFIXqmQAEJONrLh5+E7c3KxPX4c1t84EU+18/qZXw/ZsHridJx5coJd7dzzRq4NG2YPwaqWszDhLh4jROcbBm6JiC4O/I1DVM6k2dxPR2PcsUFYEOWiSaRSBG6zv34TMZs6YsLzXdU1UwaWvRyDFa0mIL6qP/zLwC0RERFZlGXgltwzA7dsKpkuCM3vH44uGdP1poOefg8Zt47DcN7QuHD4ehq0FT5oG/VGOQZthT+6jztPg7aHV2B0/6exIHsQnurGY4SIiIioquJvHKLylIb3Ivtj9PpQjH7Ek/fYeM8v/CkMumSV/kqd/qOR0uApTOh/nrbYREREREQVpkJr3P73v//VOldY45aIiIiIiIiIiIiIiIio8rHGbcWplBq3t956K9q0aWP0eU+CuuPHjzf6iIiIiIiIiIiIiIiIiIguDBVa49Z0+PBh45M9CcyK4sYTERERERERERERERERUflhjduKU6nvuJUArLPO5GycdEREREREREREREREREREF6JKCdwSERERERERERERERER0fmhWrVqxicqTwzcEhEREREREREREREREVERDNhWLAZuiYiIiIiIiIiIiIiIiMgtCeIykFs+zG3LwC0RERERERERERERERER2TGDtGZQ0ewP8NP+UDlg4JaIiIiIiIiIiIiIiIiIiiXB207XMLxY1szAOLcsEREREREREREREREREbkkQcUaNWpo3aN/90Gzy88ZY6g0ZDtKZ25bBm6JiIiIiIiIiIiIiIiIyCmziWQzeFvfrxZe7H0ONzU/hnq1crVx5B3ZbrL9ZDtKZwZuq9XtHpOfvWqaMRkRERERERERERERERERkS4/P1/rzp07h7NnzyInJwcnT56EzWbD77//juPHjyM3N1ebxpye7FmD3z4+Pqhfvz6uuOIK+Pv7a8Mvu+wy7S8Dt0RERERERERERERERETklDUgaw3eSnfq1CktaJuXl6eNI/eqV6+u1ayV4G2dOnXg6+urDa9Xr572l4FbIiIiIiIiIiIiIiIiInLJMXgrgVozYCuddTw559jktBnAFeZfBm6JiIiIiIiIiIiIiIiIyC3H4K1w/GtiALeQGbA1Sa1b618hQVzBwC0RERERERERERERERERFcsakHX1mdyzBnKLBHWNv0RERERERERERERERERELkmg0Qw2mp+lk9qj1s467mLv3G0bU8G0Rj8RERERERERERERERERUbGswUfpHDmOv5g7R+6mYeCWiIiIiIiIiIiIiIiIiErMWTCSnfPOHQZuiYiIiIiIiIiIiIiIiIgqGQO3RERERERERERERERERESVrFrd7jH5O+YMMXqJiIiIiIiIiIiIiIiIiKiiaYHb7FXTjF4iorK3f/9+NGvWzOgjIiIiIiIiIiIiIiIiR2wqmYiIiIiIiIiIiIiIiIiokjFwS0RERERERERERERERERUyRi4JSIiIiIiIiIiIiIiIiKqZAzcEhERERERERERERERERFVMgZuiYiIiIiIiIiIiIiIiIgqGQO3RERERERERERERERERESVjIFbIiIiIiIiIiIiIiIiIqJKxsAtEREREREREREREREREVElY+CWiIiIiIiIiIiIiIiIiKiSMXBLRERERERERERERERERFTJGLglIiIiIiIiIiIiIiIiIqpkDNwSEREREREREREREREREVWyanW7x+Rnr5pm9JZOfHy88Qlo1KgRTp06ZfSVv5ycHGzYsEH73LFjR0RFRWmfiajy7d+/H82aNTP6iIiIiIiIiIiIiIiIyFGZBm4HDRpkfAKuu+46HDp0yOgrf/Xq1cO6deu0zxIgmjdvnvaZiCofA7dERERERERERERERETuXXBNJV9yySXGJyIiIiIiIiIiIiIiIiKi88MFF7itVauW8YmIiIiIiIiIiIiIiIiI6PxQIYHbgIAA/O1vfyu2k+mK061bNzz11FPaX2dq1qxpfCKii93BI7lYvvFPo4+IiIiIiIiIiIiIqIo48TvGDtuJDi/uw+YTxjCqeOdsWDhB7Ydhe7Ao/awxsPJUSOBWgrISbC2u69Chg/EN5x566CEtYCvzk7/Opvfx8TE+VaI9sWhTrRqqDVhpDKgcKweoNFRrg9g9xgC66EkQ07H7ftdJLcB5oZF1evXfBzF3xWHMWfGHMZRKqmh5shKRUs5dF4t0Y0jlK02aPPzu8ki1HaqhzdTKWut0xF4n+yJSpZiIiIiIiIiIiFyRe4LSPTV9v9bJvUK5H+rI2TC6OMk9ZTPflL9c/JL0FzbU8MW/xjRHWD1jMFW4I18fxaIjNTF0eDAeCq78yqHnVVPJjjVyW7RoYXzSSW3b6tXLb5Vs6+MQGdYYdeTmvnQ+AWg/IBbJvxkTnMeKrFudxi7WrSoGa8gTHZ7eqV2cOHZy0bLiArs4MYO2ZlD6xlZ1jTFVlBEMdOwCQm7HiA/SYCvlQz7pU9to84tcbgwgssNynYiIiIiIiIguHBKIlXuhc7QKHYe1e4TSyXC5Z3jvmD0FwVq5N7plV7b2mS5uEqyVvGHmG/1zeQZwfdD64ZZImRaMzgzaVqoGt7bAZ/9qiX5NaxhDKtd5Fbj9/vvvjU86x/7yq21rw8aX2iPglueQuBUIfzQKUU9Goe8tvkhbMAK3N22B51JsxrTnn51Ti65bVLfG2KmtW2M8sfz8XTfSFVejVk5EFwpr0Fa8N7xZ1Q/cGnzb9daPP63rgeDMZMQOUsdnyHNI5mFIREREREREROQ1aw06uWdkDcRIv9lJIK+4e2i63zH26Z3o8M7veu/BA4iUfmv3z10Y9ckfOH5On8Slc4cx5Z8y/T5sLmbaDe84LEN1XSekIznTfOL/Lywcp4aPO4CDxhCNmT5Jr7O0WjtznYQXaatKzP0smjTwweBeDQu6ezpdqg2X/Syt9ElgzryH6MyRpN3adhmU5KIN278O453Xd6Hrs/r26/riXizcZgSBN6fbb1uHLvKTvwr2h/bZ4uAnu7Rpxm42Bpjc7RMX8ypgpEefp5GHXXQlWa7dPDzN/1WE5BlJt+M9cr3s0POJq1rZ5r5yfpycRvK/jG1iPbZMxR1jhzMxwy5/7cE737t6yMDx+Df28bN78IVd9i1aTjgrW7SuIM15OL7tAEa9aAxX6enz1gH8+FeeMV44yVNDfsaguZk4aBarBXnlZ0z50fpd3Zn1e43vpmODMazQCSyaLON2Y9ERY5Cds0j/ai8GSbPTzpat6PtqFxZaC8i//sDCt1wcwxrPt2NZqpDA7f/+9z+8/vrrxXZr1qwxvuGczGfRokX47rvv8N5772n9VuUVuLUti0bE62lAh0nYcfwQvkp8H+/PeR8JyYdw6qdJCEU64nqPxcbKb/rae9vGoucotW7X2q/b+59twakD76OHbybiH4rGSravfl475NFF5/nvfA7aiuC+0/TjT+uSsOXYKeyYGQH/PXG4vRtrQxIREREREREReUMCMtYadBJ8+d5Su1L6zU7uKT09fb/2nZJo0rY+pgwIUJ0/BjU9h+QvDiNy8TFjrAvfn8Ci0+rv6VP49PuigYyiaqKftgzV3e+Lyw/nYNSEX5HsOvZoz78+hprfv6c2msiwpn5GulV3u582mcbrtFU+uSdoBt8kSPvZ5KsxuNflBd3LjzXRhsn9QrmP6D5Q/xc+/0a/4f/jN8eKBmfk3aQv/4F5asTd96pt93A9dK55GjPePoCJ36sN1+KSwu3aRW96tTCPBGDojbW1YV4ps33ih/5m2syunx/CJLxSxxd3h+hTFfBguSXK/5VM8otZPrhj3nN2G+g/nYOUbQ7b5uRRfLHT+OyMu+168ndMfO0YFmZVw32SvwbUx311zmLeXCN/eepcLt78IBPHjV7XLGWL2RnlwfHNv+Ifb59AMnww6P4AjLpVZZTdJzDo5V+xwTFuZClPRl1fHT9/fwz3vpOJM8ZoXT4+33zU+Gw6jeTNbtbr4DF8ekA+nMWnXzs+nJCH9E/S0WfxaWQE+WGSLDusBjLS1LIn/+Y6sKodw4cxYzdw/a0q/97vh+tVOuQYHrv5lDGRwePtWDYqJHB77Ngxj7riyDQStJXgrWPQVpRP4HYnpg1PRA464e1lYxDiaww2+F47BnEjAwFbHKYtzjGGunDWho2zItE+wGwKtQ5aRIzAUsfmiF2+Q9HVuw3VfKc+iBZ1jPnWaY/IWRtxyBjrTubGjVowKGRA3yLrhiujMGmYWrecRCz92lx2TyTKuG0j0MJJ05p6k8sBejpUV6fl7RixLNMYaypcj6Xb4vBgU33aJz43Rv+WjNgB7RHgow/Xmm0evBTpzjbvb0sxIqKxPp3qAsKeUNtzqd7sp+M7hs9mYunw2y3bqQVuH74UBQ+l0XntfA/aOueLkCFfYckz6uD8bizGLnc8CBzKFK359jhsNGvnGmVJi1H6FULivfp0dk0me3O8ecj2jX05EBAWibhvilYZtq2PxYMhxZUXLtg2IrZ3i4Lm3euEyjJclXrFbKcSyXQod1vgwakb1ZIs3Lzv3NU7yDOXjcDtLevo81Sdq21XxM+xaC/fCVDlqvX3pVZGWraT3Tb2rFwnIiIiIiIiOh9JE7hmQMZa87JXJ39tmLDWxDSDeXqQ1/vgbf2mlyAiPFB1jfHsiIYYdAlw8Pvj+MUYX9RpJKfmAAE+6BwAfJF62CG44UxNhGnLUN1dwUj4hw9w7jS+cBfwsKrrX/j9UB/Ul2EBtY10q6612V5rSdJW+cyatrIvJUjrjOQFj6TbsEhln7BgNf3hU/jE4WbJj4uP4YtTNTDon3/DqLvUtuvaFJNeDEBE9Xx8uvoPHGnQwLJd9cBtYR4JRFhTbwO3ZblP6qG1mTata4igAznYnFsNd/UNdGi217Plep//K48c5+Z7j90H7+2Z35N8Zv+9amhyST4WpdhvmyMpEuyshvpOd3Ux23X7SXx6Coi4/yoMlfwVfiWGjvXHXVD56/+OerXvj2+3YUaxwV5L2WJ2WnlwDAuW5uBInTqYN/lqPKvS8tDDV2Pxs3XQ4FQO3kxyiOtZypOHnmyG8a3VsJ1qO1ji3U0uqYbjKm/YPXBy5DAWqcxSv3Y1Y4C9X74+hV+qq23VTH3+1mafr45lYsoXZ4HW/vjviKtwlyx7QEvMvLUGkHkCC7cZ0zn4JelPdQxXw0PP/g3/evhKVaZehX9NboiH6uTji6WHi+Rdz7Zj2TivmkouTrkEbvetxMp96m/XKDx4pT7IUadukQi8MhCHMt3d6k5HfI9ghD+fiJ3Ne2DMO29jzKOhOJUSiwebtkfsz8ZkJbBxeAjCRy1VSwhFD2litX9jpA0PxxMLjAncCLwyWPubnpZmH3AwhAxIwJJFSxB9XWP0mL5EfY5BJxkR2Bdvq+FLpvdAY21KNY8PbkewNLm8LRg9xr2Nt8f1ReiJZMT2boz2U509WrIUkWHPYekfgdr285fzlwQfmt6OEf/JQfiLb6vlqe3ULQBpcx9Ei1scggm2RDwY/CBiUzIR2LWv1rxsD98ktT0f1IMQVmd3IrZTYzz41g4EPjAGb78zBn07nELyWw+icScGKc53cqK88IK2hSIGxSAQOUhcnGwMETasHKCXKTm3xGDaO9MQc7c69hc8h/DgJ/Ra8qEjtOP37UcDtW90GinH8BKMCNV6vTvePGRbHongTqocOBGOmClvY9owVUZsTcRznYLxxOfqYsSgTXfLCCy1haCvY3nxVjFLPrsRI0LCMWKZmq5dD+3Yj2yappbxRNFj35PtVAI7R4Uj/KWdCOmvN2stLS8slWHj04wpvCfN1jfuHYvkE6HGNincdpHumqy3rURkpxFIU6mYtjEBvS83hmv7V5WROwPR2+k2Lr5cJyIiIiIiIjofyT0i630ia81Ls7lcYa2JKdNJEFes2GjzKqBTlA8ukWDN6XNweZv/2B9YvBO4vksgXriphhbc+NzLCoq16urvYzx+uoxrppRB2iqa1Jo295nsS1ck8Oay1qTFj2tP4mDtOhg0vD7uqp6HxWutwXwbvtuTDzSog7uvtrwTs24AnhkcgCkRdVHLGFRmynOfbDuA59flocH1AXghrI4x0FCi5XqQ/89jZg39QtXRRYLzv5zE+oKsdQJfbVXHZUhd9LnEGGRV3Ha9vIZWIz455ffCJomrB2LS7BB8N6yx5/mrrR8GBeTj04WH8GNJmq4+eAIbVLqadKyP663RxGvr4z4Jzm874aap4NoFQevTloxQv7UvrpcHTrYUDjzyzSn8WL02+tzsLGT5Bz5NzUP9Gy/F1Dt81bY7iU+twdidpyGte991UyP9YRRD6zsaQGqAd73MWVn+FzZLDelL6uK+ay3HcPXLcV/HamoZOdhsXbHSbkcvMXBbnJ+2QG7D+17bBnrow4lu03DowCGkDnNsQ6BQ5twn8MQaG4Kf+QqH0pIw6ZloTEpMxaGd0xCqljDi7rFQx6n3to1F5FuZRlPHW5BkNLG643AS+hY+POZatxhM6wDk/OdBhNwyAvHfZaIwtKLW+5oI9O7TG6FX+iKkW2/1OQJaqPfy9uihhvfuFgKtou5v8XhiUDJszaPx1SGVjgnRiJ6QgNQDO7T5p43qibFFnmzIQcj4HTh16pC2/aZ1UwXRvDgcurITJm3coc2jdx+1nT7bgVSp1fzdWMSuN76qJL8UhaVnfdF30TEcSk7QmpdN+PoQdkwxo1KF0sb3xIjvQjDpp3SkJk5C9DOT9GlfU/vsuxFa4IrOTxd60FbTIRwR8jdtZ0Ew1fafSPRckKPl/x2fTUPMM+pYVsfKsaV94WuLx3NTVIlyZah2/PYIDdC+E3yLHMNyPGu9Xh1vHrElIvLeROQ8ugTHfkrCtJHRiJku5dES9PW1If7ZSUY5l474CYnqErcH3t+ZigSzvNgp06nVfCkWG7XpnNs5IRKxqtgLeU2VH6o81Zt3V+v+WV84FnsebaeS8O+LpMNquxU0a52KmOYqbROjEefYioIn9sTiQWm2vsM07DhgbpPCbZf4/DTn5wh5KKVbTyTaQlX5ptJwjTk8DWPvHoE0OTekW7axKpMnXau28fARSDxRTLlOREREREREdJ6SwKuQQKx5n0juIZkBXcfODPhJENesebtio/N3WhbvLI6sP4IFhyVAUQfmT3VHR1JPYjNq4q6b66HJLXVxPXLxaaoXT5ifPoZ5SXJPswY6X2tp4rgMlDptlWCL0QS2NTDvyKxJLfvY2jVu4BAGO3cYX2zNR/3rpfngy3HfjdVwfOsJy3tIT2OvvGezuoSmrGojuF0gIm4KsAsglYVy2yfn/sCU+FM4UscX4wdeUSTd3i/Xs/xfmaTWtdxDlgc2PK6Brci0kl+caXJTXYSdO42FKca2ST+KhQeAu8LVsekkel3sdg0Owr961EStzGwMGrULXSfsxTspx7x/b3CN2ng2UmrHnsLYj52+HNaQg39q75c1O+NdsBlntZqn9es4bicjOH/4rIvKP3k4s+cA3pGYUMPaCNNvT+sa1MN9zYDkdYehp+gYPl5/FlDlWBc4WcEfT+Dz09Vwd9hlqHVjPTxUOx+ff1vYvPXBLOPBFR9LAFYYtd7Dmjjbx6fws8yidrUieb5+HQmb5uHnDL1f4/F2LBtlGri97777CrrQ0FB069atwrprrrkGDzzwQMHyy1pwU5dhWw+kI2Gm1JTrjUlTIuwDC9fEYJo0g7ovFnHeBkmU9M+lpi3Q46UYhOgtLuj8eyDyHuOzOzVDELMmFdPuDkTm+lg8EdYYdYwmnONS0u2CuO6k/ycW2hq+Ng0R1hWU+U+Jhq9KZewcx1BMX4wdaR8giJiyF4cOpGJMB2OAodMtErbKQWGL2iuR+K5KXWAMRvSxD9WEPBAJ+xD6RsS/pbbSPWMRc619OCKkT5Q27cqNJa8lR5XHMWgrJ0/pl/cNeNOdN7ZtMYJ3mVgyd6XT/O+v8n9v9Td9faqayj3PjzfPZC6OV0dmIGKG99Zr0Jv8eyOyj/q7byNSzURphYs/GlubXlHTxR84hEPp8u5wV9KxUmraogfGDrE/0v3viVRDrcpmOzkT8tIk9LDO0rcTRrwk220jln7u/RzTl8WrfeuL6CmOZXlvPKfKycCzaUgtEhC2YeWgcIz4zh99P0vGGGv59k08YvcZ5wZrsafK5L4DtFIPqVv1QUREREREREQXGvNeUWNLUEaGmc2jOnaHjMCtuLGVHgQ9dMSbxkiBX77IMAIeu3Hnwhwcb+KHfw24wkXNOCNQ0boe7m+gehsEaIGMH9cfLaZpWUtw5Z+ZeCerGu56tDH6NTFGl4mSpq1ymcH39sb+c0YC8xKwc+xkuNWZ1ONYdLoa+twqNbBrIOwmX9Q/fQqLUyur/mh57ZPT2DDnDyw6VQ33qUzUuUhM0vPlepf/qwYJ8s/W9n9DtwFcM9Crvx/ZRf667HL0CVHbZqtNC0b+silHq7F9341ncdDxlawebdcaCL63JVKnBGJc19oIPnYa8z7ORNdR6UXfK1ucaxtjfLtqOLjuCOYdcBX5LfqO2872t1M98+NRIx/sQvi0E/ilbm1Mer6J/j7tArVw9y21gQOn8JVsrPTj+OJYNTzU5XIcP5avT1LgNJJTTuG41Iy9vgZQvSHuUutSpKnliuDRdiwb5Ra4ve2225wGWMure+ihh+yWX7XsxBZ5sqBDODrZtQ+vi7hbwgc5SN3s/NkEd3b+JGGcEESE2QckveLfCTErD+HUoS14f1wPhPrnID0lFs/JexEbP4hED2qP6ekIRXgnJ+no2kMLkORsTC3y9IWvNUBhyNmzUnvnZmPz3ZHS3evQAOqenUiVv93C3QR4DHtSkSxBouWRBe95LOhajtACYTk2LyNU5xnzYtUdT6apaiTN1nTLBVpJuvPPFnXCUn8yJ+vvNbXrjPeVHrbB4RXqTnl0vHloy9fy+EYmJodZ5mV0PbWm2w/Bpl1YBKP3IDlyE9GzfntETk1E8jYbctT1iu/lgQgM9HdT49MoT6+NcFqe2iu77eSJwFsitAdBUn8qaVmuyjP7WLSm04QdOHQgCVEOzfWnTY1Q29UG/2ErkXCP/ZVU+sZkLTa+sm/h+3LNTn/nsfeBeSIiIiIiIqLzhRmw9aY2XWk1aVtfC3ZMukm/4dnl1oa43tW9Cy1Qof7+YkO4FuT4FRP3q/5jOfjK7W0FM7hSDxHSou2lddH/Fof6YuecVvDzXInTVjVYg/AlcxrrtfdY5mPeNFl/1b19CsfVkOTvjxnvFq2NFhJwK7KtTyN9ayaSvz2mTe+pM+eKCQKV0z45vvkgJmzNR4ObLse4G+3rDmu8WK5X+b8KkTJCAvdmANdKH9fQCNgW18KjvNvVFzhwEh/vOQxp2rdJ+KUIcxaB82Z/XhKA+x5ugXlvtULKAF80OJGDsYu9fQd3bXTu54+7aufhnfhjcP7WTsd33DZEsKxyYE2tpb7jpxyPq1z8JZm/oT6+QFM/PfB7V23IIdLkxktxV0OHmrBKrXA/3FX9LBZ+eQSbk0/iYIARmHV08hi+kGj2X9mI1LbVTgz6Nl9/t7fR1HKTRkaQKddoUtp05AiSUzOx+aCzMsE4hk/nFzlWj5+S47EGrgnS+wt5sh3LRpkGbn/++eeCbu/evfjf//5XYd22bduwaNEirZPll7Vjx9y8X7A4e3ZqzS0jJMQ+EzuQoEVl8g0MRdQEafIzXw/iPhkCZC5F5HXPYaPbtKVjp76CCGmuDXDOk+q7P8civGVPjFjji8jpS5C0eS8OHTqEQ/Ml9Fs6/n2mae/3dNo9396Y6sIjgck5KwqbDnBFaqqeb0FMeSpKmrSwsj4t52l33ri2vX1t8g4xSHCWn6Xz5D2l5XK8hSIm0Ul6tO5t9DAaLwgetgXHvn4bfa/ZicRRkbj9ugDUqdMYtw9fisyyLgtLu508VVMPN5f8QZBANPa4cYdEjB1lQ7Aqc20fvI2VTk9R/uitvcPWeVfwrmMiIiIiIiKiC4xZK85sMlnIfaTv5P2QTjprUOZ7o8lddzU3nanf9BIt4HHXY5dhUACQ/EkmNjitJ5GnByqq+2CQFoQ1Oz9cr8bZv0vVkRlcaYpx9/sAx7IxYYVZna82Lr9M/TlyWloWLXQ8TwtMtG7i8O5Sp0qTtspl7nNz/3lCWuKTQJC8s7TAkcNYuBNo0u4Sy/oHYFTbaih8D6k/Olyt+o+cQsoBS7DonA3xc45hlNqGHtXX9q8JiQ2l79YDw7o8/HHCGjgqp31y4ne8mZiDIwF+mPmYfY1jnXfL9Tz/Vy3SfLZ0ZgBXfx92w4KArQzT76//YZ9PnNGa8c3DFwtt+Px0DdzV0do+sMmz7frjBz+rvGk0V6ypgfrhdRGmPh3PPG00MeyFeoF4obcqMzJz8EXxoYJCTeuhq1qNg5uO27/bddtxfKqKnibX1rOvTRsgAWxVRt3fGMNaq+99fdSyDhbyLtkbq+Hg1qOY8WO+Ot7qQ01exJGU40g+VwP33W/dVvVx1yUqj339h74dQmpr22XD94ftgrAHvz6CUfNtSDnq7AEef3SWQPFf8r5c6zH8Bz7dlK/Wwxdh9mEHXUm3o5fKNHA7ZcqUgu7TTz/Fe++9V2Hd0qVLCz7L8svMde21Gp2Z23a6jjuuGYHGTRsj/C2pxeTE1SF6rdCdhe+ntFNpAdsc7FyzFEsXpxVpKlQL4s7Zga+kGWdbHN5eboxwKhgh+gpi5z5tgL2znkRsRSbinx2BNPRAws5UTHumN3p0CEZgYCAC/V3Xv/OUzTdEe7+n065DaZrCrtrmehC0FXICKvm7OyqPY/BWAtByse1NV+V9l6o1RS7VMe0e/shpjE7O8rN0xb6ntLyOtxw0DnOSHq2LQIjlSTv/LtFISDuF/FPHsHfzEoyR91y/9SAad48vUfPFLpVqO3nBdgzatbuTlgQ8k4lDHq+4NI+8BXs/n4QQWyJ6DpB3BjuywfdqJ+tsdOa7jomIiIiIiIguNL2M95xKoMV8r2lx5N6Y+UouCeK4e1eqW9Ub4Inevqh/KgdvfuokvHLuKFJ+zAda+uEJLQhrdlfgodZweJeqa/VvbYShDYFfvsjCF1qgtjYi/u6LBsjFxMnpWJSaieSUX/HP2ae0INFDt1yifc+tMkpbZTDv8UmNW09aFpS8YVZisd4fPPLNKfyIarjrjiDL+gfiobvroonlPaTX9/FHhE8e3pm+FzO+kG19AGNfPoovzlXDfd0v12obFqvuZbivXTUg3YZBs3/Tagd+8XE6Rq5X+6CZH+6WW55e7pPjB/7S5lPYHUZ6kc1xChvmH8MXp4Cwdj7I+MY6fSY2Hzhd8rxQXP6vYqRJdKn0JEF8yRNmANdsPlvKDxnnScUoacb3vpur4WDmWRxvWhcPO6vF5+F2vf4OP7SunocZ03fr+Sv1EN6ZpvaZmkXrtvU9y18O6t8aiHFe12EKQH+1P+XdroPG7MXCFJVHP9mLPu/p70V+oaez4LSog7serofW585ixseHnNRAr4GwW9UxdewsfjldE/3ucDafE/hq61ngEl88dJd1W12J/qHquNl/Um9qOSAQQ7vWwPHtxzBo1gF8ofLwovm78fjqPCCwHvpdq8/NUeuel+KuOvlY9M7/MPaTQ8YxfFhrOvyu3g2dBpJFybajd8o0cFsV1K9fxq/9bt4DPaQW6fK3Ee+iyeC0lARk/paJxoGu6tOGoL1kju9SsdH6tJMhec1S9b8vIjq5q4/rXMh1Uv9uJ1I3exoctTqElS89iAcfisYSF+sWHKynaec+920u6OlIQ+pGJ+n4OhnaGnYNd1vjWJo13SjNmkoTqA7tp+eccAhJXB2CcPm7JlWvzexOYGN9uYtXIrmSazVXBm+aQPb23R1VhTV4Kxdc59V7a4uVg5UzY7VAZu+75R2qQuVpedZg2xKs9KApc+e8ON481PhKSdROLCnuHa9/pGHl4qVYuc1Yjq8/gjv0xqSVO/H+3ao/JQ4Jzh4C0Rjl6Tbn5am9sthOnstM26jtp4hO3tfg18tQVZ45ef4n/T8j8MTgyVhpt1nlPeZqx10zBkteU99dHokIeZe3ofGVemm79HMt5E9ERERERER0UTGbOBVmUMZ8n60EZ03W99yagRvh2MKbt2qFNcTQZsDBr4/BMXalvz8ViGh/mcP7P2sjrK0P4PG7VC9Bv4froMG5XLxlNJ1a68ar8N/n6iECOZgy/xhGfZyNHwN8MWV8c9znQaSn7NJW8cwKGnrtSPdBNjNIL+S+ouQXnfHu0Uvq4varjUGmq+uiS23Le0jrBartGoB+jfKx6BPZ1iew4WxtDH2uqfNmh52qjc6Dm2LeXWr6nccxSu2zsWr5QTcG4LMRQVpwztt9cnC7Ph9rt6HIrb6/8LkED5XNKbYi08/4/nSp8oK7/F9VmXlCygHz9XweB2wtWt8sAX4gLCzAaXDV4+3atCk+kPzVIB+ffib7xYaFGTVw1z2NMPteDx7CcKoe7nusPlp7GRWsH2aWK6cx42OVR1er9LWoh3mvXoXO7prDbtIEL9xUDfjlT7xrrdVquro+7pJ4bTN1vDnbWOlHsfCAmk2oX5EgauvrfFEf0tSyVKOpgdYPq+PontqotecExqo8PGVzHoJC1XE05kqH9+ta1LsCk15VebUlsGG1Og4sx/CkMHctFJRsO3qjWt3uMfnZq6YZvaUzaNAg4xNw3XXXaU1uVpR69eph3bp1uOyyy7Tg7bx584wxpWf7T08E9F0JdJiEHV+PQYi1etbPsWgfMgJp/tFIPfw2OklNqz2xaCPvTu2fhPz5PbTJMufejsaDkxE8MhU7pnQqrOFlfr/5GOxIn6Q3g7pPDQtWw25+G4c2RqOgLqg5LfoiKT8B2px/i0N40+ew8VqVtjSVNrOml20lIoN7ItEWgmm7dyDG8URjMNPl/0ACdi7qK02WFzq7E7Gd2mDEd8EY89NeTNKeTFDzlXdDXqOWt1MtT5tQ+S0etzd9AsnNY5C6cxoKXnXrdB7piL2uBUZss6yHxhzeCdPSUxFjNrv8x1JEtnxQrQvQ97N8JNyjD05+tg5uf1cNW3oICQ8URp52Tm2PNqPSgILtn4OVAwLQc0EOQibswJZxlhp2OTsxufdYBM9Zgr4XaO0zZ4Fb88LE8SJU3v9ReKFSdvbv349mzcq/SWK5uDbXTdZDmrM4LyyP1N4rGzJlL3aMtD7eYMPG8T0QPnGjKn+mYe/mmIKHH9KnttHeVer76BKtaWN/89g9a8PSwZHYMjgBk27Wjwtz2r5L1fHzgDZI8e54WzlA3lNrLU+MsuBala6fjHSZZZ9vXyw5kIDellZWbIufQORPUUiY0An+maq8aKzKC8dyC5mI69QYz30TgfcPfYUoFxXhM2eFo/HzGxHy2g7seLGgFIJNbcdgtR1tljR5vp2crI8zxr6Cvyq/0lX5ZRY9Ocl4rvHtiLN1wtsHUhGtlScr8YSaZ7xvNL46/jYi3JXP5rZT+3nHxpiiZbm/eY5wUn4WlLOhmLZzC2KuUcNOqO81VN/LCcGkn7ZgzLWFJ66cbZPx4IRgxCeaZb6x7o7lOhEREREREdF5Tu4VSWt0Zs1KIcE989VZ0kyuldxPkvtl1hqYdP6wVuhwtS/1pnH1YJxMI+82LY/7oXR+kHvncj/ZWkY4Y+YnuX8utbrL6z46kTjvArcBAQH429/+pr3X9tixwvcImoHbK664Ar6+vmUauJXgSfLz7XH7rHSgZgh6PB6uvRPx1J5kLE1JRw4sN8uFk8CtBEniu7fHE2tsCOzSF1F9eyIg7W1Mmys1tBy+r4bERzTGEynQpu0ZUkcN2oKE5WlqWcI+4FkQqAzshL73tEGdE+lIWpys1fzCWfeBW1m3lYNC0PMDNXXNQET06YlgeUpCzSN5WTLS1QIDH0/Cznk9oMcnCtMWck8UwsN6Y9K4HlpwOf2D29F+UDJsko4nI9Gzfhrenh6PjWrWoVN2YMtIMxzgKnCr5m4EkgvScsJYbwkunFXLtAa2CoIfRlpUIg5tTsDKrUatX+v2V9M+EdIT8SotBdt/dwLiZ63EzrOhmPRTql1g40InFzBycqmo97tWVOBWnJfBWyMY6NuuNyLDzGYhDmHLgpVIk+x88xikfj7JvmasBOtuaYMR36jP1/RAzKBIBB9PQsLcRHXM+aPv0vTCBxrWP4c6t8QhxygjIp59H1HtvDvePArcKjvfCkeb4Rv1snJIFCJbHkNSYjwS12fCv/8SpM/Tg6fWcitq+HPoUW8H4mdOxsqfAX9V5hxSZY7LI7IgUFlYRp7ak4TEFKNKqjVNHm8n5+tThBm4FQXng8J9ZV/WARufD0D4LFVIqWVH3aLOHGb5rNX+ty+fC7bJlRGIej4KocdVGTVV5huIqM924n2pYeuq/DQf7LEEw23Ln0DIvdLsdCA6Par2xd0BSF8cj9jl6kep3YNIrst1IiIiIiIioguBBGXMyg1yv8gM5pk1bEWJm0amKsV6b1CY+1vygATczACdGYhjkJ4kT8grBJ3VrpV88mSvhiwfqGJJ4LasPP744wXd9OnT80eOHKl1s2fPzj969Gix3erVqwu+46yT+Zhkeuk3x7366qv5ERER+f3799eWXx6Off12ft8O/tKGgN75BuaH9n87P/WwMYFp97T8EBnfP8kYYMg9lp86s29+qL/xffjmBz8wJv+rA8Z4q2Op+dMeCM73NZble3VEfszSQ/lL+kt/33z7ORvz9TXm6xua33dman7qlBDVH5I/bbcxmRuyblFdQ/L9axrzUGkL7NA3f9rKvfmnjGkK7Hw/v/eVxnQ3v52/1xgsHLeR79W988esPmSMNe3Nn3atjHdcD92hpVGF28g3OD9iXFL+seRofVs4btMDS/JjugYWLM+/Q1T+ktWTnG//U3vzlwyLyA82t1NN//yQB6YV3X8XgXte2p0/OHaf0Vf+9u2ruGWJz1Jt+Tc+tUPrZF2rvM/6FuThwk6OwR75YxbtyD+Va0znyEmZEijHwG7Ho/ZY/lfDQgvKk6jVxmDF0+MtSSt7rOVJUn5fmebaaXZlgChSDgSG5kctcixLTuXvXRSTH3GN/XRSdh0zpnBLlZFv9y9cJ992ffPf3qjKTSlbHNPk0XZyvT52jH3Vd6ma55TeheWJ2na9pzhJe64qt58MLSxb/d2Xz4eWqm1yta8+rZwjusY4pNN1+bljSqj2Pf9nvirY1qd2SxlZeC6Bf4ieTsc85aZcJyIiIiIiIiI6n2T8cUa792neH3TsXvkww5iSqJDkm/eWH9byiNxTls9ElaFCatx26NABDz30kPbZnTVr1midK0899ZRW29ZknV5q3K5fvx5XXqm3d1u2NW7pvPLzZLQJGYudjychf561Pi+ZLuQatybr03XWd+ASERERERERERHRhc+saS01bU297N5pS1SU5BvmEapM5fj63PJnbSpZ+PjwYLqo/ByLnoOWwqY1OWrKQfLMaZC3U/TuFqEPoiKkCZAbW/kZfRcmM1gr68qgLRERERERERER0cVFgm9yj3Bwr8sLOgbkqDjMI1TZKqTGrfle2uI4vrfWkcxHau5edtll+O677+xq50qN2++//x4NGjTQ+lnj9sJnWx6J4HsTC96p+2DjQ4ifE6u/4/bmt7F3Y7Tr91RShaqMGrdERERERERERERERETnkwoJ3FYECdz+9NNPqF+/vtbPwO3FIWfPUowdPAJxKenIkQH+Iej9Ujzih3WCf01tEqoCGLglIiIiIiIiIiIiIiJy77xuKtkRm0q++Phe3RvTkvfiVH4+8qU7tgNLRjJoS0REREREREREREREROeXCypwW7Mmo3VERERERERE/8/evcBHVd77/v9SiTsR7ZnYwk5EtoRT2QZwHweFym3XhCPUAD0lVFEi/pWgqFy2JfHKpd1crJeEeoBUUALdQlBsCd0Coegh0c3NgjKerRCLHILFmBSsmV1Jkxrt/J+1Zk0yM5kkkxASLp+3ryWzLrMuz/OsZ61ZvzzPAgAAAACce9q1q+RnnnnG+SQlJCSopqbGGTvzvvGNb4S8H/eRRx5xPgHobHSVDAAAAAAAAAAA0Lx2DdwCQCQEbgEAAAAAAAAAAJp3XnWVDAAAAAAAAAAAAADnIgK3AAAAAAAAAAAAANDJCNwCAAAAAAAAAAAAQCcjcAsAAAAAAAAAAAAAnYzALQAAAAAAAAAAAAB0MgK3AAAAAAAAAAAAANDJCNwCAAAAAAAAAAAAQCcjcAsAAAAAAAAAAAAAnYzALQAAAAAAAAAAAAB0MgK3AAAAAAAAAAAAANDJCNwCAAAAAAAAAAAAQCcjcAsAAAAAAAAAAAAAnazLJaOyfIdemOmMAgAAAAAAAAAAAAA6mh24rd6e44wCQPv7+OOPddVVVzljAAAAAAAAAAAACEdXyQAAAAAAAAAAAADQyQjcAgAAAAAAAAAAAEAnI3ALAAAAAAAAAAAAAJ2MwC0AAAAAAAAAAAAAdDICtwAAAAAAAAAAAADQyQjcAgAAAAAAAAAAAEAnI3ALAAAAAAAAAAAAAJ2MwC0AAAAAAAAAAAAAdDICtwAAAAAAAAAAAADQyQjcAgAAAAAAAAAAAEAnI3ALAAAAAAAAAAAAAJ2MwC0AAAAAAAAAAAAAdDICtwAAAAAAAAAAAADQyQjcAgAAAAAAAAAAAEAnI3ALAAAAAAAAAAAAAJ2MwC0AAAAAAAAAAAAAdDICtwAAAAAAAAAAAADQyQjcAgAAAAAAAAAAAEAnI3ALAAAAAAAAAAAAAJ2MwC0AAAAAAAAAAAAAdDICtwAAAAAAAAAAAADQybpcMirLV709xxk9806ePKm33npLhw4dcqZEp1+/fvrRj37kjAE4l3z88ce66qqrnDEAAAAAAAAAAACE6/DA7fPPP28HbtvigQce0Pe+9z1nDMC5gsAtAAAAAAAAAABA8zo8cLtgwQK7ta0VgLVa0UYj0ELX+o4VvL2weVW6bY80JE3JLmdSmzW9Lu+mDCXdVqa57+9R1jXOxPNY2bP91OelTB19P0tJzjS0HwK3AAAAAAAAAAAAzeu0d9xaQdvu3bvbXScHD1ZwNng8sFyn2ZyhLl26NAxxfTRydqEqv3Lmd7gDyv3BGM3YVOmMn44m1vXJemXOunCCtgAAAAAAAAAAAEBn67TArcVqRfvrX/+6fgh0oRw8zQredr5J2urzyVdXo6r9yzXkg0wlDslVaacEb1O1qs6nHfckOOOno4l1XTlJG48TtAUAAAAAAAAAAAA6SqcGbptitbINDJ3a2jZc11i5BqRpUVGRph/J1ow1QS1VvcWam5rob5Ubk6gJy0pV68zSV6XKT++jOLvVbpz6pOeptH6m8UmhprrjGr777F55nVlFd3VRv0dyNbWXmXdtrspUpAyzXMZm/3yri98ukxab9TdsO+Pl0Ba0lZumamCctW0z9Jqg3Lfr1x6yLot321yNtLZlLztSc0sCyxpHctWvS4byt2XXry8xPb/pALZJk+zAcVnbfWKM+Zxhtuow6bL+roH16TJwdpG8gXVFsS1vSfC+TlDeBw2J2jjdzPJv52rC1c7+xPXRhBdL/QsDAAAAAAAAAAAAneysDNz+6Ec/qh/OSl2HKPOBBBVvLvYHZ78q1eIRI1V0c5Fq6nyqeX+Rah8ZqMzN/kDi3keGaurxTO35wiffF3uUeXyGBs4utufpVJGmXjtBB27b4/9u6SLpyaHKfLkhCFn6bIFiXzikipLpkd+/+vJGlc30qKamRodeGKqiSUM19wP/rNptU5WcfkAT9tbI56vR0QXSoiGZWn/KPz/EO3M1MG29kn9RoRqzbMWSBOWlDtTcd5z5tvXKfjFZBSdrVHO8QKlm/SEB7HqVyk8fqbz4RTpQZZbdO11Vb9SHbA2vCu8aqOmaq7Iac9wVW5X6xhgN/bkVYg1oZlsfLtbQ1CKlbjbHVWeOe36tsgdlqijouELSrTJfE4YsUuyTZebYzPb2Z6rsvjH16QQAAAAAAAAAAAB0pk4N3FqtacMHy4IFC+qHs6Or5MZc8fFSWYUqrJFtizT3sznKf9yt2K5S7DWZWvRjl9Zv8gdnqz7zKiElVe5LzcilbmWt3aGC8Yl20Ld2c57yY4O++51M5b00R/GnGlqDJjyer+W3JCvh27HOlDB3zNWilATFxsYq+Z48LbqxTPnrPWZGrQqfz1es+f6c66zvxirJzC+YF6+aI/Y3QxQtXayKB1Zp+TizLvNfwq0F2vhAhRYvDQ64ppn9y1TypWaJKycp41apeO8BZ16QIwXKLUnWohey5HZZy6Zq0fxJzkzjSL7mvpyqvF+kK8HsWmyCmf9EmkpfLbRbx/o1va2iJ+eqKnBcXc1x37tIWa71Ktxpz7aFpJtrggoqTLrcah2b2d4As74BZSp6IzhQDAAAAAAAAAAAAHSOTg3cfu9739OyZcvqh/nz5ztzzi1lH3qkysUaaHf56x8G/qxScrr1Tb0vS/E/H6o49xhlP1uoUtdQpd+cbAcQKz4pk1IGyu1f1JYwbpFW3dswJT7e5XxqQldrTQEJSv1Bsio/sULKFaowq08dFLJ2pS1YpczrnNF6ZSo1h5E6Yqgz7tfPbcY9pUHBVJdcVgA6WKSukksPqNQcVfJ3nPFw9vwiZVzWkGZxk4qsWHOQprbl39fKnw2s/26XLgO12CR5TdC+hKRbrEuxR/KVEegquUsfZX9gNhdp3wEAAAAAAAAAAIAO1qmB21//+te6/fbb64eZM2c6c85+3qoqKSlRic64UlapwueTL3h4Kc2eFTs8R4e+qNCeJ9MUu3ORhiYmauSaM9fSs/YLs2/tpOZU+62rkdjp2hOeZu9nRe4OOoLUFypCv2uGgnHOzHBHcjV0hNNVcp217FHlDHDmAQAAAAAAAAAAAJ3srHzH7Vnvq73Kf75SqeNS7VaziVcmSyVFKg5+b2x9S85KeX5VKM9nCXLfMl2LXjugsqXJKl7i7xI48cok890Dsjo2DvB+UKTCdyK9NzYatSr9oFIJV1oh5UQlmtUX7w9Zu0q3mf35xBmtl6Rkt1l25x5n3K/so1LJnRx1MLXetVYr4jKVNdqOIylJSbVF2hr8jtmoW7+a47ra7Os25x3DAc1932rhO2CuFlldJXe1JtTS2hYAAAAAAAAAAABnDQK3rfFVrbwfFGrqtUOV950cLb8nwZ4ce2u2prsKNf2ufJVZkcRTpcq/LVFDn/cHXw88P0Gps5x5tZUq3uuREl2KM6Ox46Yrs3axMn/msQOJtUfylTlijAo+aqF75GBr52puSaUVilTlrzI1fXOysqdY3SPHKv2BTNX+LFOL37M3rrI1mRqaVqDSCKtPmzVHic9nN6xr8wxNfT5Rc2b5Ww63Su8MTU/Zq7nmuEu9Zm2fFGvugvXOTGPADM1JKdPie+Zq72dm3EqX+QOV+GBYMDaiWE2aPV2uTdOVsabMXr72w3xN6GXypalAcfdEuT7IV545Nq/X2lam5n7ozAMAAAAAAAAAAAA6Wae/49Z6r23wYAke79evnz2tc63XGOu9qDFxih+UrbJbNqpib5aS7ZabRtchWv7RVmUez1afOLPcZQOV9+08Fd5rBXYTlFm4R3O1WP2seXGJyqrM0o5XM80c49I0rXp/owa+OlRxMV0Ud22eYpccUsEdwe+tbcEtqYpf5lZclzglTvJoQmGxspx3y8beskqlhQO1cYj1btc49Vsaq5z3CzQp/N2xlhsW6UBRqorSE/3rerBUk4oOaNENzvxWsY57hzLLZqhffJzihuQpPiU4AGzmFx3S8l7rldrdny4ZH2ao8El/K+YWDV+usqJMlc3uY/bVpJvbrP8XhZp+pTM/3I052vNCsgpGJSo+PknZlZladItUVeV1FgAAAAAAAAAAAAA6T5dLRmX5qrfnOKNn3oIFC3To0CE7INu9e3dnavOs5U+ePGkHeh944AFnKixlz/ZTn/dz6t+ne1axuiIOBLeN2pfHKO7JVB1txXtscX74+OOPddVVVzljAAAAAAAAAAAACNfhLW4DLWitYOxbb70V1WAFbS1nR+tbRKdMeSMSNWFNqb8L6MpCZT5YpOS70gnaAjg7fVWpwtkj/T0n2L0sDFXeMWfeabL+yMZeZ5cMFTnT0Jm8Kp4/Uv2SR2puCT0vAAAAAAAAADg7dHiLWysIawVtraE1rNa5P/rRj5wxBJzVLW4/KdTU8ZnKf8crdXXJPbNAxc+kyRXUChcXBlrc4uzn1fr0eGVsckZtbuWUHVBWb2f0NNh19SOl5tMkbfUV6CyssS8sx3I1MClbHuvzDTk6up+eIAAAAAAAAAB0vg4P3AK48BC4PRsVKaPLGK23Pk7e2sY//miPdZwlPpirPtcuVpn5GJuySFtXZ6pfbKxcCa7o3rvdgvYK3DasJ1k5Hx2qf585WumrUuWO6Kfst6UhS49qz0zCtgAAAAAAAAA6X4d3lQwAwFmnrMwO2koJynpmjlJ7JyihnYK2OAt1TVbWXp98Ph9BWwAAAAAAAABnDQK3ANCEX/7yl42GN998U8eOtdOLT3HWKPvQ7jTXiFe8y/kIAAAAAAAAAEAHInALABF06dJF99xzT6MhJSVF//Zv/+YsdebVHilUdmo/xcd0sfepS0y8+qVmq/BIrbNEqEjLD7wrT3s/cxZQmXKvteY5XRxb1o7xL3tXkTOhJVGs40iu+lnjZsjYVKnC+wYqzh6fqvqt1JapcPZI9Yv3L2cN8ckjlf2rMoUeXWB7ZjDrt45x6qD4+u/EuTOU/0GE9PCWKt+sv09cYP1xShyUobxdXmcBw9lPf/fDllJlX+1fvt+z/ja4rfKVOdbgbcYPVMayvap0ZkcSVR5vzrDnNd7Pfso94kyyNErTCMccLJo0ag1nP+39+jAsLeL6aOT8Inm/Mst9tld5dw1sOGYnnSJt1bsrTxmDEp3yY60nMaxMB/OqdE22Rl4d5+yHKR+Jzrqt7dazuvl21hcosyUz6rcx5uXw8rRXMwLHMSQvJD8b7V98P42cXaiyyKeoKt/INcs3lN+WlgcAAAAAAABwAbHecQsAZ9KxY8ecT+eGsrIyn6kefXfffbevpKQkZLCmWfM6QtVrmb4Esy1re40Hty+n1FnQ0ezyXYc4yx/15QyIMN8aJm+119OyKNbxUY4v2ZnmcrmClpnks5eo2urLTAhMazy4nzlkr8YvaHuuhCaOMdW36rizuMWsf5Ir0nL+oX79QfsZPiQ/c9S/TLTqDvlyboi8robBOX5H1Hn82qQI860h2ZfzkbNMS8f8+B5flbOoLdo0ao36/Yw1+d54ndaQ9MCcJrfrXhKa5oeWDIm4nD24TFqGHpBv6+TgshY23JDjO1TnLGpyYVJgen253+ObHutMG1fgq3Gm2vbPqc+n1BcqnIlm/55xN6w/fHCl+wqCy6TR/PLhxwMAAAAAAADgQkOLWwAIE+gK+Xvf+55uuummkKHDnCrS9Nvy/S37bpijHRU19vs4azyL5LYX8Cj7QWe+xbteGT9wxhPSter9KtV8UaWjxXP8y3+111k+SVnvW+/23KpJ1nTL5K32un0vpTkTWtK6dXi9XumaNGXem2mGVCWqVkWzJijf3lm35hRXqMb67hcHtOgG+yvyPDLDmR/GaybeulwHyipUUXFUOx73p4ZUrMUvBFqjmrEnJmi93XzTrUUef9r5ag41Xv93snTIzDv6TLJ/hpKV85F1bD4derh17z6tXDND2e/4P7tuztGOwD4+k6qIvS+3Jo/HFdjzGu/nIWV9xxqvVH76GOeYE5S++pCqvqhRVdkO5dzs37rnZ2nK3tbQrDPqNGqTWnmVqpzioyYNKkw5XKRU54XBZc8v1vqQeU4ZNTzP5JujdhzJ1YTZe+2PrvGrdOgL63hrVPHqJH96mjI/Yb5/vq1krias9bfZdT95QDV1/uUPPems/Z1szVjT3AENUca9zk5u3qrioBa6ZSWF/nww+z1pXIL9SbtmaOgjzt7eaPKvzH/OHXo105whhrdQGeNznXcnG5/kKdNZ3jV5oypq/OWsqrCJ4wEAAAAAAABwwSFwCwBnow89Kv12ghKuTND0BYuUmuAPKMVeN0dz77A/SiXFOuB8LHtxkdMFcZLmbN6ozAEuxV7qUlKKmb50iD1HJeu1tc2BuLaLvWOjqkq3atULq8yQKbdK5XnfZR9bwsxFWpSSIPvoLnVrzhOBUHCxivc7H4PduFyeV6fL3dt8NyFJqU/maXogIHgsECIrk2enE6C8ZbqmX+csEJusOS+ucgLISVassx2VqWBpsf9j7HRtLMpSamAfH96hjQ84+xCslXncrHeWa26J/2PyM3u08Z5kuS6Nlat3qrKKijTdHxlU/rMFzmGf+TSatHqHslKSTBokmHI4R8vnB4LOUvovtgbNW6T8x51gaOVeHXC26d1/QFVWGbkyVYueyVTypdbUWCXcOlfZ19iLqLZkT31gtOydYqeL7TRNf8Ct2K7W51glP56vVfbxWAHVCnuJpgy5K0v+PSlU0dv2B6NSxducPwpImaQx9gK1Wv9Mnr9r59hJ2vqGyb/e/nMu+dZV2vNCqjXH5Mtc5e7yf5Rnj5wwtDIfTJeT3XKNz1XBAv/+ZXSvOp0kBwAAAAAAAHCOI3ALAGejG+bowPEKVZhh+S3ONIc/IBWsVnt3OoGlhEma4LSYDEiYnK+tr27UxlfnaKgd/OpYSW53WItTt+Z4/MdWsTSshW6jYwtzdZITWAtIUJLd4tTwlDpBvCS5RzhRsW3ZmjC/UJ5PnCDldZlOAHmVMq/zT2oXp/aq+AP/x9h7M5QadhxJSRFa77Yqj5vX0CLUrcxbw7bVdYgyH3BSraRYe+yWpB2QRmHHkDwg0K42WUMHOdt2uOLjnU8V8p7yf3LdUeAvI8d3aHogj22xEdMn6YZU/x8AqEjZt81V4TuVqrWP1aSJczyr7g3sQxNumKBMJzC7schpTXuqWIVOUDzN5K0/JYu1dbP9QbojQ2lh51XCHZnyl+xaFQfOTfdQ+f+EwqvcyVOVV1Iqr53kCUqb5+zfvLSw8g0AAAAAAADgQkLgFgDOWrUq+9VcjRmUqPiYLurSxT+MWevMrlehikCzw2/HN+6W15WstFvTlX5rqtNq8exQe6RQc38wUInxDcfW5QfrnbmnJ/XJrU6wz6vihRM0sFecWX+c+qRmK/89f3e67aqyor7lZ1Kv1oTeos3j5pW+H+gmOlnJvZ2PQZKvHeh88qjM3xN4x6dRW3zl1d5lUzUyOVFxgTLSpY+ynSB5iJRF2jrTH7T2vrFYE0yaxpk0jbt6pLLXeOQN6vq4aW5NuMeff5VrNvq7bS7Z6rRmT1PGOCfgfKS0vkvn5OSGlsT1Lk2W2ykGpaVOybhyuvJfcLrNPpKvGan9FB9njid+oDKeLVKZEzcHAAAAAAAAcOEicAsAZ6VKrU9PVJ/bFqvIajn4bbfSnO5eUyME5s41lS9PUOLVE7R4s0eVtQlyj/MfW+bNEVqmtoUrVctLa3SoKEeTbnC6YraCpCW5muqOV+KUIn83t52q4/LYeypCVPBsT6OvPJqbHK+hs/JV/GGlYq9J1SQ7fdLlDm2w63ApdelR1ZRuVc5kd31XxLVHipU7ZaDie01VURQH5E7P9Ld6rSxU8RFp7xuF9nSNy1B61H/4UCvr1c7hku/doYqKA1r141QlB/7CwuvR+kfGqM9lQ5X7oTMNAAAAAAAAwAWJwC0AhHnrrbecT0178803nU9nyOYsZWzyR37SVleppuKAtjrdvWaNsCcHSVLStc7Hz6rOgoBkC74qUtakQv9+jlulqi8qdOA1p6vYmc77eNtD11gl35Klgv0VqvHVqOr9rZpzsz9aVrlmguYG3j3aHnonKdAJb1VVlDnQqjxuXvK1gVaflaqI8JLUirJDzqckJQY3CO7INGqlsp9naPER61OSsvaafSvdoQI7fXKUEdJ1cqjYa9KU9dIBVdT4VFN1SFvnOa1cK/M1Yb7/LbPNqu8uuVRFJetV8KI/6J12R7oT3Da+k1yf32XHIyT4qbL6FrQJVyb6PzhiE9zKXLJDh6p88lllf7X17l3jq73KfjCfd9wCAAAAAAAAFzACtwAQ5NixY/rpT3+q3r176+6773amNvjJT35iz7vnnnvsZc+Usg/rO2JV6ohA0zw//3s7Qw0d4gQ8K9drY1g3srUvj3G6mB2o3DO3y9E7FtTN7IhUuYLfVxpVd7YtOJanMb0SlWiGqZsCLU1j5RqQpkW/mGtS1FKr0o/aMcTd1a2BA/wfK1/eKE/YcZSVBTpSbtDaPG5O0pDA+12Llbs2bFtfebTxZScceGOaUq1Wo52RRq3U0P3zEKXeGNzEtjZC+pQpL81/PIlTCs0SfrFWN+ELVmmukze1Hx6K4g8bGrpLLp6fpY32yoK6SbYNVGqK/1Pti8tV5LyXN8C7ucDpXjlWE272h3iLZzv7N2SxAkemSxPkvmeVlk92xuvf0wwAAAAAAADgQkTgFgCC/Ou//qv9rxWctT6HD//2b/9mz7eCtoHPZ0LilYEug0uVt6RIZd5a1X5WqqL5I5X5sjMrSMLkGUqzP5Vp8fipKvzAq9qvalVZkqsxD/pDSLoxUxn1XfDGKz4Qh/J45KmsVKXZRuu0cR0Jif4WhkbpL3JVdMzs6ymvSrfN1cgp7fCO296pcnc1+/JJpfKnZCj/iLNPJj08vypwgmaxSr46NFh6epKUMSvV//HYYqXelifPMbMPlWUqfnakJjzfOF1am8eWOFeg9WaZDuwvM+u38tmMDp+r5U4gsfSRkZr6q1JZWVH7SbFy01K12A7Yu5Q53+kGuFPSqHUSrww0DS5U7s89dnfP3mMes79jNLdRl8JJSr0hzj6eyjWmnK8pqw/e1r63XgXOHzPEXtOv8TugI3BPclrBWmXa+rdRN8kJylww3b+u2vXKSM9V8SdWgpty/KupGjjJOeduWKQsJ1+GDhrq37+35yrjib3179ytrSxUwWb/Z7mT688NAAAAAAAAABegS0Zl+QDgTDp27Jjz6ezXu3dvn6kaoxruvvtu51tnQN0eX1ZC5O02DKm+VRXO8kbVa5m+hIjLmaHrEF9OqbOgY8cDsaHLTN7qzIlek+v4KMeX7ExLfuaof1qQPT9OCP1ehCH1hcDBHfXlDHCmN9rHoHkDcsyYozTH5w5aV/jgMuupcha1HH0m2ZmX7Mv5yJnYWnWHfDk3Nt5W6DDJV38Ebchj3/HlviEh84P2t2qrb5IreF7okDRzR8gxtzaNovLapPrvT3rNmRZQP69xGkdM/+OrfKldG/Yn4hA73bfHWdxO/xsiLBMYXCbt6w/IpFVgesRyf8g3p3fDd9PW1zjTQx16xt2w/vDBZfIu5Jyr8m2d7Iq8rD24G52jAAAAAAAAAC4sdovbG+4vDRn+6y8+BgYGhnYbziVr1qxRSUlJyGC1vrWG8OlWt8lnTNchyik7qo33uhu6Ena5NWnpHlW9NsmZUKyikoaWnK5xq1T20UZlpSQ3fCc2Qe57V+lAxR5lXeNMc6Q+Wayc8YFWjeb73w7uCjY6bV3HkCVlOvpqptyB5o9dXXJPXq49J7eq/ui2Fde3mmy1a7J04OQeLZ/sVkLQLrmuSVXWq0dV8VJaVC0vW6VrsrJ2Vmjjj1OVFNhmozwL0oY81pXTVVho0i2w/thExdZ/N00FFWZ9ZvvJ9QcXq4QbJmn5ziodXeq86zWgM9KoNa7M1A5TbnPGJ5mj8Iv9jtm3wgodesZ5p29tkbYGuga30n9vlfYsnSR3yAElK/XHG3W0okBpUR9QsjImB9q+hneT3CD54QOq2rlck25IqN/Hhu3tUGbIOedS2ksVptxnKfWaoB2xzlG77B9odI4CAAAAAAAAuLB0sVrcJidlOqN+O5bw5BBA+/Ge/IOuuuoqZ+zck5SUVB+4Pd8V3dVFY9Y6I01KVs5Hh5T1HWf0PEZ6kAYAAAAAAAAA0FF4xy0AAAAAAAAAAAAAdDJa3AI442hxCwAAAAAAAAAA0Dxa3AJAC2666SZ7AAAAAAAAAAAAOFMI3AJAC9asWaOf/OQnzhgAAAAAAAAAAED7I3ALAAAAAAAAAAAAAJ2MwC0AAAAAAAAAAAAAdDICtwAAAAAAAAAAAADQyQjcAgAAAAAAAAAAAEAnI3ALAAAAAAAAAAAAAJ2MwC0AAAAAAAAAAAAAdDICtwAAAAAAAAAAAADQyQjcAgAAAAAAAAAAAEAn63LJqCxfclKmM+q3Y8k1zqcz69+2f6b/e+Qvzlhk/+M7l+j/G/1tZwzAuch78g+66qqrnDEAAAAAAAAAAACE67QWt//3//1FL1mBW/Nvc8Pr+//L/hcAAAAAAAAAAAAAzledFrjdvu+/7H//x3+/RI/ckRhxsOZVfl5nD+er3+V/qGlb/+yMAQAAAAAAAAAAALgQdfo7bhMuj9HoQf8t4tD5/qxfPfmhRs4OGh7/vWa99Ed9/jdnkU5kBX1H5p9wxgAAAAAAAAAAAACcqzo8cGt1e7x9/3/Vt6K1/rXGIw1/rPIvY70H1xrvrC6TvzPyCvu9vztykvTvD16my0ur9NP/c8qZCwAAAAAAAAAAAACnp8slo7J8yUmZzqifFaQ8U2bn/aHNAVirFa7VhXLHsVrcfqr/8z+u0Mox33Sm+Vu6PqHLtSOzhxk7oSdn/5eufuRq3Zrgn1+59SNl/N84FTxxpexJn/1Ry1ZV6TdW49iYizTiny9X9phv6VIzaq1rdYKz/r959atnKvVq93ituefvdek3vtbHO/+gJ4v+qiN/lS7tEacnpl+p7172J7PNz7XDWrctVk8u6a3vqkaeV8r1U89XOlVnlk8wyz9gLX+RsxzQObwn/6CrrrrKGQMAAAAAAAAAAEC4Tu8q+dzytb4s/1TbjnTRLddH2ZVzzQnlLKnSB/3/XttyrtG2rMuk3SeV8/ZfnQUCavS7NX/UCl2qHDtoK53a9wfN2tZFdz78He14+kr9tM+XemJZhSrVQ08suUZP9jdf63+5dthBW+nztz5V9n92Vfaj/uWzv1WrJ16o1Of2+gEAAAAAAAAAAACcrc6pwO3/+M4lzqeOdWTHp847bj/SLbl/1h/+x7c067q/c+Y278sDX2hbTDc9PC5eF5vUvrhHgmZN6KZL/xrc6vhv+nhruZ74f3+nJ2deqavsXPmztv2fv8o9JlEjLu8qxVwq97jLNOKzWu1s4rW2X576m/T3sXI7y48Y/239dESsMxcAAAAAAAAAAADA2arDA7enE3z9H/+9cwK39e+4XXK1tj3xbQ0++plmbvuzM7d5n3v/JvW8WN9xxi2XX99L2d+Ld8akuo//pCd2fKURY7rru92ciarVR59JOzeWOUFjM8zxaqd8Vpw3ooTru+m7n3l160/+n57cVC5PzaUaMfhbutyZDwAAAAAAAAAAAODs1OGBW+s9tW2VcHmM86mzXKSLv/1t3TYkRkfe/i8dcaaero///Hd6MjNOB7ee1O+qnYm2LvrhvVbAOHhoeJduIwlX6Ml/TdKK27rp6i9qlbO0TFNe+UxfOrMBAAAAAAAAAAAAnJ06PHBrBV/bEoA9nYBvR/jya+dDmMtdJonLvwwJ8p46fkI7j5xyxqTvXPtNXdU/QdlX/1U5r5yQf45JJ5dPb39YZY/5mY000dpW+qs+fv+P8lTIXtetd/13FdwVpz/tOyWPswQAAAAAAAAAAACAs1OHB24tfx/f+sBtZ73fNtRXOnW8UkvfqNPlfeOc7o9jdfW3v1ZRyQl9Xuefv2J3QxT34oGX6Za6aj27uUpf/k368kSlcp7/XDs+C0+Dv9N3b3PJfaRKS/fVmPF4/XBEjCp3/0mrS61muF/p84Ofatq/fizPX+0vKKHHRZK3TpV//atZd1ed+k+vstee0MEvrADvX3Xk8Jc6FdtFl/oXBwAAAAAAAAAAAHCW6pTA7ejBrW8921nvt7Uc2fGp857ZI/pfy/9Ln18Tr5V3fNuZ+03d+v99U1f9/nPd+ugRZayp0bd6X+TMM+J6KHt2vAYc/KNuyf5Qt/z8lC4e/fd64sa/cxYI0u3vNWtsV+149VPtqJYuT7lKq0ddpF0vHbe3nfHqV/qfk3vI7Xz1qkHd9F3vF8p4/Lj+/bOL1P+OK/TTK/6qJxZ9pJHZZcr6fVc9Mf1K9fcvDgAAAAAAAAAAAOAs1eWSUVm+5KRMZ9TPepfqmVT5eZ0yFv0/Zyw6Z3qfAJw53pN/0FVXXeWMAQAAAAAAAAAAIFyntLi13nHbmha0Z/v7bQEAAAAAAAAAAADgdHRKi1vLv23/TH/8vM4Za57VtXJndpUM4PTQ4hYAAAAAAAAAAKB5nRa4BXDhIHALAAAAAAAAAADQvE7pKhkAAAAAAAAAAAAA0IDALYALUJlyr+2iLtfmmk+ReRYOVL/0/Cbnt5tP1isjeaCyd9U6EwK8KrorXl26DNTiD8LnAe3kSK76demifs+e8ZLegpbPyTY7a47xLNBkfYPzRemzA811I14Zm7zOFJlriTm3umSoyBkPV/ZsPzO/n3KP+Mc77PqHRppMe2+RMuJNPg5arFJOX1wo2vuatTnD1HVdlLHZGT+bdfK9S9maCepn6hvPV86E0+DdPFWJ5lj6zCqStx3W15TKlzPMPmdr7ylnAgAAAHAOI3AL4PzSxIMO/4PpaB/W1KrsfY9KS0pV6Uw5Y7xl8nzokeejhofsFm/JIs3dnKxF7+/RnAGxzlSglT4r0tzUPoozZd8q/3FXT1DurtCyhgtIE/VNm50LD8G/KtaMOFP+42ao+Aw+MD4b1H6Yr0VLKzSpsEwF413O1NbqwOtfe3Ku/VZ5rB9i4jXwrvzTDnS2FPhuP02lvVfFC+aq6JpFOrRzjpK5JUC7KlJG+LnjDJ3+B0/tfc1C1CrfL1bpewdUdrox81qP8hYUSJO36sDSNLm6OtPPgKpjpv58x6NDBG4BAABwHiBwCwCNxCr9VZ98VTka4kw5YwbM0SGfTzvuSXAm+LlScnSgiqAtToPVQuvqMVq8M1YZv9iojS/lKL1robJHJGnqNppsXZCaqG/Oa9vylWcV99o85W/zTzpfxV6TqYLjFacRtLV04PXvDEi4Y7k2vmrqOzMsn5mssrVT1W/EGWjJf0Y0lfYupS45oKq9BG1xBg3Pqj936s+hcYnOzE5yIV6zzhJDllTJV7dR6Zc6E9oq1q05+2tU8VKaqcnOrOTHD8nn26FMigsAAADOAwRuAVy4vjqg3PREf8uCuIGauqmhjUujFjZ2y0Vn2S5xGnhfoSoDrbe+qlTh7JFKjPG3ULBaNeYFd2/8lVdF84Pmu6eq8BNnXqMWwl7tfXaC+lgtxJx15b7duMvLxcsmOOsz+zK72HwLCLV3/gSt9yZpzt5DWvVAutInZ6lgf4HSTWnJf7Ygcms6717l3TWwvoVu/KBsFX3mzDO8b+dqQi//vC5xfTTh2b0hZa9y01QNtLrztOb3Ci274bxvz9VQp5wnpufqQHhryE8KNXWQ1V24WSYmsdG2gnnfzlOGO85ZNt6cE013x+c/h8ZorjnPgs+hsqBji3NnqzhoY5WbsjUy+LiXlarhDK9V6ZoMDXSOpdFxmzTNTQ+0eg6rOwItVn+W16Ztt/pYIvRI0HSeBbqvzlbebKdMWPnwYqk91972D9bbn9f/wHy+y6ktQ/LN5EXw8Xa4Wq1fY/axd6pSe5v9NJ/D/2Sh9oP8oLITVs6aq7stzZVR67pwX/C51Nx3m08nO63jMjQ3OB+CthW4LtRfryL2PGGOpYnvhwtfX7NpZD41d83qaPHuNKXfauo7M0xfskdFDydI7+Qo/x0zM5Auk2ZoTKLZ30mF/i81mRf+lohj1lqf12uM+VzfurzZvG++3DSXno3yMqz+6GPqyr2BhQPH80iesgPrM+dw/ofOfKA1klLrz53AkHqN85cCdjlsuAcOLoct1U+WZq+hrbpHDrtmxYfeuzdi6uH1dzXc52dvC94rS1j9FV7HBwmcm83dfze3b/7vt+7ew+YJnh8hbcLrs+buOQx7HwP3K82kn7+nouCeBppJK+deZsyD2epnjq3fz/z3CdHcv8yY7e+qf7FVb31Vqvyg32XZPzfrM58D9W6j+jGsfIR3+9/sbzejVWUJAAAA6GAEbgFcuD5cryLXXG18dbkyr/QoPz214cd+sK88mjtojBZ7+mnOSxtVMG+oyl6coKEL/A8mShcM1YSfH9DQpQd09P2NSv+qUDNGZGuv83DAM3+gxiw8oH6PF2jjS3M09Fi+JoyYK/+3Q1Va632kULJbDS1XhgqVPWSC8kMeJK1XzuZk5a4v0JybY+X5+RjN3eXMAmylKn6jVromUxk3OJMsl6Zr0esbtfHHA9W44Vat1k8ZqhlrpcyiQzpavEgDP8jVmNvy/UHeU+uVOSRbRVcv0o6yQ9p6r0uFjwxV5svOY7hdM5Scni/veKvsmrKZXByh7DrsdS3W3th05by6UbkDSlUUHGz4aq9mXGu+652g5WZ+weP9VGy2NeHFCA/V7HXN0Pqumdr6/lHtWDBQpeacmLCmuQdwRVpfmqo8cw5Nv6HWnEMj1Wd8kZKftM7vVMW+Z457/l7/oh/M1VArsDxouQ6Y4954q1Q4a6iynXPO+/IE9ZuyXl7nnM2Mtc7ZTK23u+qrNPWKWbYkSVmm7tj4iwx5zTmePNtZt2P9M4Vt2rZfK44lXDR5ZspArjdTBdax9baCkTOUb5I2dWmFKl5KtxdJf8l8XprakG9HBvrryscH2nVl+PF2mMoC5W+Shswu0KoHk6VN+SoILhbe9Zpw7VSTVxl2OVs+OS6kTDdbd7dQRu3rwotepb9qzqX9y5V6JMJ3W5NOteuV/2Ga8q18Sqk1+5mq6ZvrQx9RKFLBB234fgtpFN01q/MkdI83/69U5Un/uKX05TyVDcpUZkpSC3lhzquKChWY886UchWYz3k3m48t5H2z5aaF9Azl1B+mDNu9Jpj6Q5uyTZ3g1MmO0mdz5b3PbOsXmUqyAsoPhs4HTo//3iB7Wz8tKj6qQ0WZclnl0Fz36kttc/VTC9ex1twjB65ZZYPmmGuS2dagMnOOJGtGE/fAVj2csbZS7pnWujPlfaMhDGnx11/FSnrYzLfqr1Nm29fOqL9/b6yZ+++o9q311+vSl4sU/4R1/mcq8T2zf7eE9iAQUp+1dM9h54W55t+6UYfKDmh5irWPQzX3A//s5kSTVkXPF8h1q7nvvM7Uu1Hev+S97NKkezPkdkl7Zw/V1E21Sp3n5NcvciOXg2i08NuttWUJAAAA6HCXjMryXT/tUMjgrf4bAwMDQ7sNx44d83WYj3J8yZIv+ZmjzgS/o88k+0yV55v0mj3myxkgn65Z5DtkzzXen+NLsr73pH/K1slmvib5tlojO6f7Ys28tPU19jyfr8ZXMM7MH5Bj1lTjq6qo8FVUVJlPfv5tJftyPrLG9vimx5plxxXUz69Zn9YwP2R/D/jmJJhlb1zuq7CXNI4v9w0x8xMeP2CPBvZrY5096vPtn+NLMPPdS0KPFxe6rb5Jplz4y2gzQsqfKcvHTVk+GSipYeeBs+yQpU7prKvw7Xl1o2+rp8qMOOdEwhxTih3O8pHKZsULqWa9sb7pxc6EwDnp7K//HEnwzdnvn1s//4YIx/NFlTn/KnxVXzjjgWOfbO91ozqh0Tn02iQzHnRcplZYdE3QvlRZ57dZfyBZQtZX4VuVYpYNPm7nnLTrGudzQ90R2H6mP02dbU8qtGcZTh3gHGfz2279sYR+v6U8a1xP+vNFvswiZ0Jg/+16NTA/OF99vh0PxJppab6C+vzpOBVLh5htD/EtP25GnLq0IW0C5TC4nDnpb5ed5uvulsqonTex0307nLypen+rb+OrO3xHzcpam06N8vmLAl+aOZZAGQ/Md0p8y+XEfD/d+v4dG+3R0GtW6PqaT6OWr1kdJuyYbSf3+LKsPFG6P12dZRIe3uOfb0STF+Hp23zeN19umk/PsG059UdImbXLtPP9wDE79y1mS/5zOlC/AFFxrpnhQ/39g1O+g87zir0bfRtfO+Czrv6R6pfg+qn561hr7pGd8h1Ur/rqdjT6fgNn3cH1U8g1yzn3gr/rzK+/xgVpdJwh998t71uj70d7va4/v80S85LMd5J9i0rNSIT6LLp7jqD6ruqQb6u5j9vxUePU818XAvVeC2nlfE5bbZUIv+juX9J8q+q/stWXaeZH2kbgHiOQhvX1W9g6Q65lLfx2a11ZAgAAADoeLW4BXLi6xja0Ohww1H6nXGlp8N+x+5XtLVatkpU6KLB0rCa95pPv/Swlmc8uV5W2PpJa381bn0eC/j78yB4V10rJI4bUbyv2jq3y+Q4p6zvOhIDKA9pbKSWkDFWCM0lXDlWqGan8ILhrVrOOrs4HV7ys9kS1TbYOAKJlynLsAS2/rZ/TxV6gi1DHd9I1/UZp76xExbnHKPvnexSbkq6066y3lnm05w3zT+ViDXS+2+XqbLulRKSyWVF2yPw/VUMH+cfDecw5Z7UcWTzIWVeXPsq2WoREapR2qUuxnuWaEOgqtMsY+TvwbV79OeRI6h0460y9EDQv1uVS1bYspVpdEQYdl98BFZeYf24eKrd/gnTDIlX4fCoYZ47As9du+VY0KbBvgTStsf7XoH57LsV/2/zjHGfz224Q7bGEijLPgurJWJPWlpom6ht/voXm69ARqeb/B3Sow7tvLdXyJXulcTOUeaUZvXKCMlNM+V2yvD4ND+x09re+VbpbiypM3f5SWot1d0tlNPWOTCXU5mlkXKJGTpqrgpPJSrs1VUlmZW1Np/q8vHSIUgeYfz2lrXp3a/D3h1rff7+sxe83m0atuGZ1lNJH+jj5YYbuQ5X7QYLS1+dpUtB7GuO71+9tm/Ki2bxvodw0m55h/PVHglKHNOxvwpBUM6VSno+CUteco37W/Yj1b1j9AkQj/B23S9Lkf8NtktLvM3fIb89QYtxAjZmdqz2xqUof5w55Z2lT9VOz17HW3CMHrlnmejs0sK2u5rPVCn7/ocbXxlOmfjPrDqmfgjn1l9XNb+CeJ9D9f1PXOEv9cYbcf0e/b+HX5Bav1/Xnt0mnQfYvFR36yD9uCa7PWrznSMlQZkKt8lK7KDE1Q3NfrlDyuHSlfqdhGxFFmVaubzeUiOjuX1xKDHzlSKn2mH+Sh7jry8LpaP63WyvLEgAAANAJCNwCOD99FfRQ84yqVdF9AzV1rZS9t0o1Pp+OPpPszGtHp2pC3qMFNC9J/a4x/5jzIPRMqFXpG4Uq3OyJUJ7KlJtidSs3RAXHa+QzZXnrZGeWLUnTd9boUPFyZfWqUP4TEzSwe6LT7V2Vaq0N3bBIByoqVBE07HnA6r4vVOxl1uNOl2KbeDpXdcpamVuLPKHrqiiZbvYizJFcDU1brANDClTxhc/s91ZNcma1h9rNmRo4Zb30yAFV1Zj1f5SjaM/wmlNV9r+TXg07joo8WaGhlpzOtlvWujw7PV55O6pKDvigQOuPmX/rHzQnaqoVZD+2XgVRdAvZkpbKaOwtq1RWcUAbnxwj7c/VjNQ+ihvVUhe2nZBOZ0onXbMS7C6bncBT8SFVfVGhjXdEDNu0oOm8aFX9dIbUnuKOAO0s/B23NyfXB9CSZu5RTekOLX84URVrsjXBHa/EKLvAP7PXMYfXG3avY5gbDCsmGH9ZEzcatV5zFTQmbww9j81gd4neXiLt2xnS4j3HpWlaVVahA6/maIz2KvfBkepz2ciWu7ZvQ1q1Ot+7WqFV698m8qujdGB+AQAAAM0hcAvg/JKQaD84Ld25J+ShceVJ65FDsgYGPzUIDmp9sEfWI6jk5MaPXZOGpCpWpSre3/BT3vP8VE1dWKRKVajUY6YPyNCkG1z2Q4eQ1mrfGapUM7F0596Gbb2Tp6n3LVZR+BP8hIGyGtZUluxpeLj/yR4Vm5GEGwdGbjEARJSs1JtNwfuwQIUh744t1qJRE+x3Mjd+MFWqA1ZAa1yG0q/0PzgLLsuV2xZr6oO5KkuerkWvHVDVyVVKMyU1d7X1zjhTdlPMP+8cUOmlCUpI8A+xXWPlCmrpFhD/basdT6GKd/rHzZZCtjXQnHNWC5YDpa76dSXExirW5d+vEKVmm+aftFvTlWBtq53/aKPiQ4/Zu2Rl3OqWvfmQ9Q9UqnXcb+wxe+v4pEhz75uq/PdM3TFoqF0n7H2/quE4vm2OI9ZfV7Sk+W2frtblWTTcdr4Va89+/7hlT6CF4XX+8Y5S/AvrPYCpmhPcguzVLA2x/kDhBX/AYaDdstLs7zv2qFGpovmmbn/R5GYLdXfzZdSjfFMGZmyW0h9epR0f1WjPw6YGfyNPBcfank7158ipvSq2zlV3ckigsH5+E+Uk+Pt7rO9fm9RioLHZNDoLr1nx7rSGwFNKcotluS150Wzet1RumkvPMAnuIXbr2mK7qZtf5d5iMyVBQ9zcEaCDVBZpsanPcsv6afqCrTpQVaVVt5jJP89X8Btjm6qfmr2OteYeWW5/i0hzvd1TX9eZz07LyfpeLwK6JireWvdr1jnjCHzP0nuohlr7s9PczwTOYzPY10Brequ0ct9aIyi9Svfbv1TU72r/eLiW7jk8L5q6ZtZW6dYsrSo+qpq9WUow94V5v2qh74U2pFWr7196m99o5p+QstCElq51luZ/u53B/AIAAADaCYFbAOeXS9M1/R6XtG2qBk7JU+GvCrV+/kilPVsppWQpI7jrtQ/naoy9TJ6mjl+sMiUr89YIfw9+Y6ayektFD47R3LWFKnx2glIfzFdxTaISFCeXFYP6IE+Lnzfznp+qMU8Ed7I1RJk/TpI2T9eY+evNtnI14eYZyn+jRolWl6gh3Mp8xG13Rzc0sF8pM7TXTM+ewmMEtM6QBflK71qquUOGKtsqm2tzlXGt1Y2wS5kPZ0QIqsT7u6zbnGuXc+u8yXzZP8eScHWs9rw4VxkP5slzrEyel4vsbu2GuK1HbQnKeDjTrLlQGYOmKs8+78YouXuyZpQ0frCWcEem0lWrvEkTlGstOztTc4MCzAl3ZCnT7EvhXQM11d53c64mxyt5ttX1XZjuiXarmqJlc7X+V+s1Ny0zqq6Sw5UeifzgMs4OMpcq70nnnBw31w4U+yVowr1Wl7GLNcE+Z9drxvgxWvxiheJMnWF1PbnoBqlsYapz/pvvXxuv+HF5DQ+Sm9H8tpvW1LGEal2eRdQ1zv7Hs80c2zuVih033eSbydf0kfVlaMLztXLdM13pbQwGt8lXxSpcY45hnClXgSCePSzSjHFS7YsFKv7KpMCtmfYfHyy+wzn+WWkaszBfFZda4Ybm6+7my2iyEmsLlH9fpmZsK1XlB0UqKDE5HjtU7ivNP21Kp/XKvs9fxuamT1eRybnp9/m71/UHA9dr0WynjEUsJ+uVmeacI+b7hYrVpDsad88brvk0OvevWVHlhd2VpkdFZr7nk5byvoVy02x6hrkhU9mm/tg7a6h/O+b+YuisvWZ6tjLru1oG2kmZqTdNmQweij809WhCsmL35mvupOnKe6dMZe8UqMiKH97otgNtfk3XT81fx1pzjxyr9AfMNas2TxMCdVnaBOXVmnuaB9LtwGSoIZr+sFm3qZ/S7brRrPvB4LuDIcp60tRTxxYr1V5fofLu66f47mnKa6kFaiOt3bcGLV2vS58YU3/+j1lolh2QqUlWjyqRtHDPkZxQo4IXpypzVpFKK0tVtN4Kasdq6HUR6p8QrU+r1t+/pClzpqlY68uC+Y7Jt2DRXesczf52a3t+AQAAAB3mklFZvuunHQoZvNV/Y2BgYGi34dixY/63aneUuirfnmfSfUmx8plqzqeuLp/73o2+ozXOfN9RX84AM/3WRb7l4xP8y8S6fZmFFc58n2/rZOu7k3xbnXHfya2+OSnOstb6frzVV1XnzKva4cu6LtY/78p03/IF6fbnSa85883+bJ2X6kvoaq1TPtcNWb6tJ515H+X4ks205GeOOhNC9z32O+m+nL1VzrwI+9Xo+0CQ4xt9WYFyGyhPOxvKU6PyU7rKl36ls+x1Wb6cHyebz8m+nI/8s6t25tTPb3QeGBWFmT63y5lvzqlJS/eYEh1Z1d4cX1qCf9mE8Tm+rFvM5wE55ux0mH3PvMHlX5dife7Jy317mljZoRfSnfPLLPdjs65rgtYVdoyNzqHXJtnbaDiHnPqhfl+qfDt+7PbFWvvRNcGXvnSRL936PDmwhhrfodWTfO6gc3b5+/WVjfn6Hl/O+CT/982QkJLl23jcmedsu76uaOW2W30sEeqLpvMsfF+M8P2tO+TLGe7Ufffu8E8Lzjen7q0IKiMdoWa9vw5OWx+UD46KF1LteenOvJr3V/kmBerv2CSTxodMjjqaq7stzZXRmqO+jfc6eWeGRuWiFenkz+c03/SQshC8n4d8qwLXMjNv0uOZjcv8Ndb5HPT9ZxrOzaPPhJ7n4eWq2TQya2numtVhorkWNrVMS3lRmuMb4hxf5uvOtObyvoVy01x6NjqnQ+qPWF+SqSvrtxPheBp9H2jRVt8ku3w1HurL1kmrHDbcSwSX6Rbrp5auoa26Rw67ZrlC790bqasw9bBVv5llrfv8J/11Y8M1N+z3wpWpvqwm1tfo3GrlvjX6fpTX6/QFy4PuyzIb7h+aqs+au+cwuXL0VbOPgeNtVJ838F8XguuSZtKq0b2MpZX3L5bga5nJr6wH0kLX28K1Lvxa1uxvN6NVZQkAAADoYF2swG1yUqa5X22wY0lTf8YJAK3nPfkHXXXVVc4YAACIVtFdXTRm7SRt9RWo5TayANBxqJ/OT6U/66d+T7g7N183Z6jLD9Zr0ms+FYxzpgEAAAAXCDtwW709xxkFgPb38ccfE7gFAKANCIwAOFtRP51vKuX51UblPDJD6yuna0/Ncg1x5nQ4ArcAAAC4gPGOWwAAAAAAgAvaAeXcNkPrP0lQ5quLOi9oCwAAAFzgaHEL4IyjxS0AAAAAAAAAAEDzaHELAAAAAAAAAAAAAJ2MwC0AAAAAAAAAAAAAdDICtwAAAAAAAAAAAADQyQjcAgAAAAAAAAAAAEAnI3ALAAAAAAAAAAAAAJ2MwC0AAAAAAAAAAAAAdDICtwAAAAAAAAAAAADQyQjcAgAAAAAAAAAAAEAnI3ALAAAAAAAAAAAAAJ2MwC0AAAAAAAAAAAAAdDICtwAAAAAAAAAAAADQyc6ZwO3zzz+vX//6184YAKDepyV6esVuVTujHc+jZbffrmXvOqOfH9a+j7zOyJlmbTtLWyqd0eZUblFWtMu2g8OvLtGGjzovV84OrcifKJ3YnKXb8zzOGHC2qlP5bx7T7fevlKe+GmjpfOjMuhSd54S2PByU7631dblKcu/X7absXLB147vLdPvDW0xKRqn6sLYE0uz2yZq1Yp+iPtNaOi+/9urw24fl/doZv2C0VL9Vq/w9j8qd+tC+ltfnWei8dtHaMgEAAAAAZ5FzInC7YMECvfXWWzp58qQzBQDOfZ688Iesdao+flC7N6/UwtmZmr85isdN1R4tW7Bd/X8wTN0Ck36/RUsemtzwQDJ3iw53YPzwxL51WvKU2aYzfs74fJ9WPpHppNvtynximUqO1zkzW6/vmBSdyF2oLZ86EzpctQ5vXqJZk/3Hc/vkWVr4qkfV9Q+T/cGCrGjKGXCOsYMCtz/WOIjQQX/AUXd0i5a93lOP5k6TO1A5t9I5W5d2Cn/QO1B/20NmlpZsPtyJf9TUMbxvrdbKQ/01e8Varb1vgDMVzTn4ykKt+1OK5i1boRUrcjV7TF+5nHktCT8vG93LmXuJdc89rS1HnfGzXtP3AqHB1dN1TFuefVqr90cKeofN6+A/tAMAAACAs81ZEbi1grJNsYK2hw4dsj/369fP/hdN835QpKIPovmbca9KtxWpNMKi3k0Zio8ZqtwPnQkAOsa7K5T5xFrtqnHJ9ZfqKB4218nzyyU6Nma2xl7hTHlvpWb9ZJP0w6eU/8u1WvviUxqvTZq/eIvKO6j1R4/vL9Ar+XeqrzN+Tqj1aOXDS1T2T7O1NH+tXvllvhaMqtO6h+e1/cFhN7emTI7XuvyS6FvytKMTRQs1/zfS+CfztbZgrfKXTFPf957WrBc9puQAF4JjWre0c1pcxfQZr6d+MbPNQVvLOVmXdrJhD7+iV14xw9p8LZ3tVnnBQr160Jl5nvqy2lxhBg7XYFeMYmJinKlo2gmVfVinnkNS1L+7ud9y9VDvXtGGbaM4L7uP0oJX8nXn1c44HP01reAVzbspUlo3Nw8AAAAALjydHri1grZWN8gzZ850pjQIDto+8MAD+t73vmd/7miVm6ZqYHwXdelihph4DbwrX6W1zsyzzIGlYzRm9ka1HGc4oNwfjNGMTWFLfrJembPKNPf9Pcq6xpkGnFMad9UW3mKg+uA6PZYZaJHzmNa913yItHznMj3mtFqc/Ng6eb5wZhjVHwW1bp08S0uKy505lmodfOkxZWb4v5v5ROC7/pZBT+80H3c+beYtM1OM62bqlbVP6dHbUpR0mTWhBZ+XaNPOAUq/uYczoVyF+SXq9sN5mn1TT3WLjVHMZT2VMn2K3EfXqfA9Z7Gvvdr3Yuh+HQxKAqv1SFbBFq180MwPpNsXHm1Y6HQrmHG/Fr56sMnAcmh6+/Nj09uva4m1PvN9Kw2Dt9d8Gobzp+lkZz+WbD6ovzhzAprLryZ9uE8l1cOUfmt/9egWI8V2U8+bpmji1cdU8rZ/f+x0CW6REtYiJFK6dbtxrEYfXq1Nv/cv03FOaN+uY+o5bqJSenVTzEUx6ta9vyZmjNaXb+6Sp9za91lad9ykV8GsoPwKbaU7+aElKglqMWwfY+E+vR7oYnKyOX+CM7Ol/Gm27PnLyrrNK3W/mV+f1p+WBJWdldrd1kA6LjyuHuph6r6Vxc3/6UT1exu00Cljtz+4UBtCynQwp4z+1lxDAufITzeE9GjQUj1h8b4X9P2w+jBYo9ZuYd27PvbivpDuWKM/jgtATDf16D/K1H91+uBoUH40ey2LUAfZ+bdMm4rm2/Wa3Z1xW+qxMOXFS+z5/nzc3egPq6oPBuflEr3eRO8PVnmbVWCuUfa9REN3y82WhQjHZJe1ZZsauly26m9zLbbvl5oqqy3cSwTzr79EnuDrQ8i1vk7lbwZfu5dpd3O9VVQf1LrHnPsGkz5bPgy7E/i6XLvznG1ZafxSoLcJK3+Crn32/Vdoi9OW9rXhvLTWFeFeLuicP5hv9jGkZ5Vj2nD/7Vqy28nP4J4+MjLNfjZ9b3VWiCLPm67f/OkVuUvwhnl2+j60ztzRlmvdQ0HnUEvbbqlM1JWrJLhM5DU+7wAAAADgbNGpgdtA0NZidYMcHLw9W4K2tdumKjn9gNIKj6qqxqeaij2afipb/UbkqsxZ5myS+oJPvtczleCMNy1Vq+p82nFP2JJXTtLG4wRtcR7zlmjJwhL1vHeF1r6yVivu7amSp57W658788NU71+mx34ppS9bq1fWrtBj13r09ALnQbq1rnmbFHP7MrOuV7T2yRSdeOFpbThuf1XeN5do4Vs9NS3P/91pPUv09DOvyyu3ZprlHx1hFhrxqF55ZaaZYlxk/S963vd+p8P9B6t/bGDCYR0+6dKwwb2dCY7YwbpzzmylJvofFB4uyNKSsu9qXv4reqUg396vhSt2h7TCLN+8Sxffl6sV80erx9fHtOGJp7W71zStWGuOM2+KXNsX6vFXjjlLt6RcG16r0ugn12pt/lNK/3qLnvqV08lgC2kYzltspWkPTVniX9fo6g/8D0odzeZXc/4hSX21TyVvnQhKB5dGLXxFuT/s6Yy3LCTdrAkX9dd1N9bpd55o06q99FDSf49R+e4SHQ4OXPe/x6TzTA3uOVa5ryzVnb2knhlL9cqzY+39tcrs/N/E6E4r/cz58dRNJ7TyZxtMDjYof7VQVd9/SmvX5uup8XXa8tSr9V1GtpQ/LZe9cm3Ze7GmPbVCC6w/SPj6sNbMW6kT/zzPlD1zvk7vqzInkA606LJRmjHTrYMvLFNJE3W8jm7Q40/t1pWZzjXhLpdeX/i4NjTZzWm5Sg721EyrW9oV8zT2y02aH1Z/Ns+U8f+I0WRzjtn14Te2NKp/IzuhLYvna1PsFLsefuXFeXKXmfN1o3M+tPo4znd18h58XSXHeytlkPPHTVFdy8LqINtubSkdroXLVmjKP7WhHgv3+zWa/8IJpTxh8spcp2ZeXaZ9wUHKT02ZWujRgEdMPVywVrk/qtNas6wnwh+Nuqe/oqUZ5hpl30u8opnXm4lRlYXQY/JP+p1O2HW72ebkntr3QpbufyW0rNZfu41o7iVC7F6nkn+YqdVWXf5gf3leWK0S528qqncvUdZar1IX+o954Y3lWjbb5FXEKKZXJUsWqqT7FOVaPYssGq3qgyF3Atr3i8e0WulaZuXzisc04P2nNb/IuhOw7r+Crn2B+69wzexrgybu5YL0H56qmJ275PnamXD8d9rtHazvXm+1jD6sdVZPH4PnaW2BScMV09TzrYVaGQjqnoWiKvttqt8a9BiXq1eeu1M9zX93Pmfuwcb5z6Hmt91ymdj9XJbWeVO18Jfm+79cqO+WL1PWkt1nd6AcAAAAwAWr0wK3wUHb7t272/8GgreRgrbWeGD5jlT8q3x575irRSlJcsVKsd9OVubSRRryTr7WW10JH8lVvy4ZKvIvbiu6q4u63OVMceYvfnGCEmP8rXYT71qvyq/8s23eYs1NTXRa9CZqwrJSBZ7NWOvq90iupvYy867NVVnJDMVZ2wv6vucJ89309fZ3QrZteEuyG1oLxw9U9rbAU4ciZZhpGZudUcO7ba5GWtuxlu01UnODn1A4x5G/zawvzr9MYnq+SoOPAzgX1FbLq74acK1LMeY/142TNe+hsU10eXdCJa/u1oAp99tdECrGpf4T0uU+vkv7rFdudxusmSuW6v4brXWZ2b2GaXivE/K87w8TfvmFOYeuHqD+zncH3zHPfo9aeykrPWi22bPhvWz2sXVTt0uc8Xox6nntYPW/wtpLKWl8rvLnj1dvK+B7UTcNvvE6af8H+sCe6+f64f265zqz7svMd97brE3e0Zo22S3/oZjjnj1aVb/Z3PAwslkujZ860U6HmG69Neyfe6ru8GF/MLWFNAx1Qru2HVTfW6coxRxLTKzJj1vTNcyZ22J+NefyUZqdNVwn8mdp8uTH9PRLW+T5tPUPT0PSzdHzH3rK+1GZyZuO1f/2ebrzW7s0/97bdf/CZdrw5jF5WzikboNmasVSJ/2scnPjcPU86ZEnKP2sY5zY3+RXTDf1HpqinnW/12F7fkv5E03Zs8rKPXL3cqmbtcx727X9y9GafGt/U/Zi1K1XiiaOiz6QDriGzdDM6w9qZX7kB/SebZtUdfM03XN94JowU7NvrtKmbcEP/YP11Ng7TLnvZpZ2+Vuxx+w3dUzUPbH01MQZDfXh+Knj5dpfrF0tVRBHS7TlqFtTMgfb9bAu66uJU6eof9cTdt3S+uM4P+1+1t8az2pRd//CLepx/2MaG/gbxaiuZWF1kM2k+/RR6t3dTDPfa3U9Fsbzf7bry5sn19ejPW+aWP+6A4tn0wZVm3p2fG+zsYtMPZxq5nfbrX1RvsIkurIQeky2YenOPplt3jzarrsH/yDo2j3EXLsPOtduI5p7iRDXT9HMm3ra63cNG67BOqjDdszcXLt/4zHXjpka5Rxz7x8+pilXe1RYHOFeoHKXthw05f8ecx5aPYtcbs7D8UFXmsoSbdg9oP5csc/TH7pVvndf/b63qMl9baV/HKbUmH16z8m7E++ZfRj0XQ220uzrJI3PzdfCcb0VY/3h3mWDNXygtO/9JlPwjPK3QA6cP/7Bbs0dpOU8b2P9FoVmtx1FmSh818x/wJR56/uxZt+yp6jvu4UqoRcPAAAAAGehTgnchgdtly1bph/96Ef2uBW8jRS0tYK5nWGge4i0KV/5R4KeyF05XXt8hzQn6lap67WxbLo8VTWqKV2loZszNHRBqX/WV6VaPGKkim4uUk2dTzXvL1LtIwOVublhe6XPFij2hUOqKJmupJQMZcauV8E2Z6ZKtfHlSqXfmi7rd2iIynxNSM1X8gsVqvHVqOKFZOWnpSnvE2d+sHfmamDaeiX/wll2SYLyUgdq7jvOfNt6Zb+YrIKT5jiOFyh121TNWMOvXZxjEgZr7HVlWnnf/Vq4bINeP1itnoMGq/fl8nfPVv/AyuryrlxlxyXPMqfrNWu425peJ1kPeWO6KeaPJVoW6ObX6X6vznkA3GPQWLmPrVTmgwu17NXXdbC2pwbf2Lsh0HpavPJ+brbxrdavLSb2Sx1c29Dd3O3P7jZTv/TPdHQLiv6e+PSY9E991Te4RXDP3uqrYypvKSBqixBMDgQQW0jDUFZ+xCgpKeiYLwo8cba0kF8tcA2aptxfrtBT04fL9fEWPT17su5/qqRVXekFp1tAj4Te0p+rw1K4A3Trq7GPrdDaJfOU/o9/kSf/Md1/d1ZY18ahYmJjdKJ4WX1Xyf7uCkPTr/ExBua3lD/RlL3QsmKXvb691TOo7NkPuIGoddOwzGnq/+4yLW/UfO+Eyk0RG3BN6B/U9Ewy48fKmwzyxATfPV/TX4PNklWtCEyEfP+qJPU39Xl1S4HfqhPyXtHXH3QI6DNK09Ld5prStuM4H9W/4/aVtcp/dpqUn6WV7/kvONFdyyL98dMluiQo3Vtbj4Xy51XfpOA/QIkJqtf8872/eazhOnb7Y9pkyteXUV2Loi0Locdk+0ZQfR2ou5v5pRjNvUSISy4xRxrKf0zWtcOl/n2D72dc6m31GvGHCD0slJepPCbJvm+rF7yf1nxz5V92dyD9btfkZZ6G+45oNLmvrdVXw0ZKxfutlspevbev3NwHDvav26TxxbUHtXqe01WyGexul9u0ndPnb4EcOH/8g92aO0g0ed6m+i0KzW47mjLh6q++wfMv762kGFP26MQDAAAAwFmomZ/jZ0akoK0VrLUCt4HgrSW4e2TrO50l4YFCbZxcpqlXxynOPUbZzxap9JQzM2qTNHdBqhIujVXsNZnKWzBEZS8W+LuP3LZIcz+bo/zH3YrtKnv+oh+7tH5Tsf1NS8Lj+Vp+S7ISvm09YRmijHtjVbjNmX+kSIXH0jVhXKOwrXTKqwoNVerNCTJbVsKtuSp+NdtMaaxo6WJVPLBKy8cFli3QxgcqtHhpcFviNOW9lKlk6ziunKSMW6XivQececC5oodSrGDWszOV2tur3+VlaXLWOh2udbpnq39gFejyLkaj/zX0QdYrr+T6W/BUbtH8nzjd/Frd3Dnd79VLSNGjeWuVOz1VSf/1Oy17eLJmvXS4Vc8Om9ZNF4ef9rHd5FK1qsNf+mrUfRF4cFYnzwtOd3MvWN3hmv1+OLhNZJTqzHacj6elpTRstWbyKxoxLvW+caymzVuhV16crf4HV2r1W+3QVKQTxVzRX6Nue1RPWd1fTlBI18bhThTN93eV/L+dsmF3V9he2qnsAa11eYpm3tdfnhWrtS+Kd15/WduK2q2urtF7ts8WrTqO846/hf74kV+q5I19TV93W30t65h6rP995hpUfw3zD3Y3yG3U/mXhzKdDde1p3C3FjNaCsPQLvBKgo/Udkiq97dExr0e/+yjQTbJR69EKp6vkfKv7c7OPdrfLZ63OvIafiW1X68v2uSEHAAAAgHbXKYFbS3DQNjAtELwNbmkbaH3babomKP2FQ6qpOKCCSYnyLB2jfpclasyLTovZKFlB2YCEm8coubJMFeZz2YceqXKxBlrdEzvDwJ9VSkFdEMfHh7aoG3JbprSmUHvN58ptG1U6foLSL/XPC/GddGXdckBTuydq5KS5yiupUvL4dLmvdObXK1Op2Y3UEaEh3X5uM+4pDXqXr0uu8O3QVTLOUnV/cz6Eqfv0oPa9Xy5d0V/Dxk3TvGXzNPpPW7T9oLNAiB7q0b1Onv8b9uf4gdYQ1l/w9xqviVY3v3ZrmbqglqJ1Kn9/nw7+UerZf5jG3jtPK54Yraqi7U13I9gqMVaDEJ34U1BQ0dVXfbt7tfudsP2t3a0l996v1fYxVqn8WJ2GTRiv3oH+EZtIq4AeV/SW/vOwDge3AjlxUuXqrZ7+nu7brtk0DNdTSb3qVFYWdMxfBz91ayG/mnHslft1+zzr/cNBLhus7w6WDh4OeqN5yPaic6LymPTNbrrYGe8QJs+fvn2y1oSUa6fr4/qujRuzWjf1/OFEDb48UDZac7wt5U8by97hYyGtnpsuH0DTXKnTdGev3Vr2QklQoK6H1eBSH3wY+qcMJytMHdK7Z3RBnk8/MfdJPRRyq9ZCPRFyffq4TAfN/VWkLnVDxPeQ69PDOhbccu3zw/b1rK49juMC0D7XstbXY6H8eXU4pJlf8HUvXvEJ5rrjOWimBom63uuosnC66RDMunZ4zbU2+Ars1Umzy9arBhrpmWSuY2U6Fvze6uBt9zD3AnUeeYLfld+Z1w2ru+TqEpVsNPeE1zvdJFu85TpWN0wTf9i7vrvqpu5dzw7R5Xmb6rcWtbDtlsqENd97UIeD539unfum7PH2BQAAAABnoQ4P3FqCg7ZW61srOBv4bAVsA0HbzuoeOZLYBLfSH16lHcd9qno1VcX3zVB+W3sJPlVjfn4GSVmlCp9PvuDhpTRnZgTDM5Spjdr6TqW2btobuZtkW5IyiypU836BMt2VKryrn+KSs7U3yhbDNadC9hI4R1gPAMtVss0jb12dqo+XaN1vGh6QxnyxTysXL1Ph7/2P7uuOH9YHdd0U/017NExPjR7fXycKl2mDvXydvAc36LGZa3TQeqL6zXh1M+t//aBX1dVeHXx1pTZ8an/RiFH1uyu1cHmhDlstvL6u07Hff6C6buY7/gXUo2dPqbJcJ2qbC1Y2LSm5v9n/8qBgY0+NvXuYqguf1sq3y1Vt9rHuC5MWeavl6XOn0q+zlrlY3VzSvuISlVdX2+mzJN/qbq4Z143TeNd2rf3VQfsdqXVej9as2K74H46T+3S7rW02DcP10PBb+uvwr1ar5FOTZrVeedauU8Pet5Bfzeh901j1/miDlm0+qBN2wlWr/O2VWre7m1JuHGAvYz1ALt/xujwmEeqqTboWbFLwo/emlJeXy3V1kkL/BOcMix2sUTddrO0vrtS+49V2+ar7/KC2rNmi8j7DNdgOUvRQj3+wAsvlJi3NMZkp3S7rpvL/eF0HPzdlwyy/4fkNUR2jX0v505ayN1qjLw6UPXM+H31dqzdHv0dAgx4aO+tO9QypMyX3LeMV/8ZabTB1kHUWeN9do5VvxGv8Lf4+Fxor16YCU4atAGrtMW1atUnVI0bVB2NarifKtWH5Bh205/u/7x2UquEtVRB9UjS2j0er8/f531X9xWFtyJmvdaXW1aYtx3GeM9dcq/5f/ds69b++v51G7XMta0M9Fsb9P0fr4kBemWvNsd+u1page4dhY0er2/7VWvbmCbtervvUbGP6fL0eHHRqRseUhdNPhwY9lPJDd/21w75fKlqmtR+Z316pEULNCcM1tr8p/2us89Ac4ecmHwuCtt1rtMb3P6FN5vpl33/VmXuLXz2m+/PDguHtpOV7ub5KGSNtf8Mj91Cnm2SL3UvKPr1ebO7XTBqWv7lEq9uahB0imjxvY/0WrnsP9ba6/a4067FbXrew7ZbKREKK0q8PzDfjpu7ekrdWh69PV0q0PbIAAAAAQAfq8MCtFbSdP3++3crWGgItagMtbwPB2kB3yp3Lo7mJXTR0WWiE1mW1cFWx9tp9HfvVtqLlae1HHlUmJCnRfE68MlkqKVJxcDC1xXVZ3SV7lb96kQpL0iJ3k2zUfliswjdKpWtSNckKOpft0PRPcrW8xFmgXpKS3VLxzj3OuF/ZR+a77mQzFziX9NDYH09Tz/1P6/7Jk3V/rkfx1wX9Of0/3qPcrCR5nvG/U2zyvN+p9/QFuvNqZ34YV+pjyr27h3YvspY368sr1/Af36b+1pO3q+/Ugvt6ateT9yszc6bW/leKJl4nVTt9FfednKvZSR49ff/tuj1jsubt662ZC+9U4M1zPW8cK/fJdZp19zxtj/KBbDDXdd9V34P7dDCoBVa362dq6WPDdOKVx5Q52Rzf/fO1PXaiFswZ67wn1KWUh6xWxquVlZmpzJ951PeHKWbqX/SX4JZcwS7qrYlPPqoB/7nEpKlZ5/SV+mTEo/rZrb2dBU5DC2kYzpU6W/O+d0KrZ0/W5MzHVPKtwU6X1n7N5ldzEsZq4XPTlPTeSpMuk3X75Ew99ssy9c/K1bTr/F/ukTZb03r+zuSn2fb9T8vzrevUckONw3pvd4y+626HtGqVGLnvXaoF3/9ShT/N1OQMk28zl6gkdrxdFgKPwt2jzOc3n9bku1fbLcH7ZizQtIRdWvigKRv/slbekRNN+lZH7H47kubzpy1lr6/uWThNPf5jof98fqFMA26keQzayJznMzPCzsU+E/WzxwbIs+R+TbbqjPxPNOyxn2liH2d+Iz01+L8f1rJ7Tb1+92Pa/s07Ne9ud30wpuV6oqfG/nOd1s70nyOFF5tz8v5hDcGcJplr25wFGl+72q6Hb79/iQ5fZ+rhCc7aW30c56fdzzrvvzTX3Puf2q0epk6bnepEjdrlWtaGeiycuQ9ZcF8PlZjr3uTJ92vF8QEafIUzz2LmL30sRSfWzjJ5afbz0e3qljlbo4Lfz9mcDikL7ZAOQboNm63cW6VNj5rrr3W/9B8uTXl2toYF/tIthNn27HlKOWm2fbc5j+aWqPugkDsBpTyWqynf2q2F1nlq0nhZ+XDNvt0J4LezaO7leg+20sat4YFuki2uFM2eN1pVa7LM/U+mFr7bV+kjTVn9y1/OSID59EWT522t38Jc5NboceYcecqs55fW3UlL226pTHTTsIdyNVGb9Jj17mOTV7sun6Lch4bV/zElAAAAAJxNulwyKstXvT3HGT3zrADtzJkz7e6Qrc+//vWv1a9fP7uL5EDQ1npvjbWMNT84yGu1xLW+15HKfj5QfRbEK6dwlTKHJCm2tlRFs8dowqZUbT2+SmmxRcqIGaPKpYe09d4kefcuUlrqYnkmb/W3mj2Sq35XZyv28R0qmp8ql7dQmckT5HniqA49nCR9tVczug9VQcoqHVifqaSvSpV/V6ryb/ZozwMJKrqri7KvdZYN9s5cJQ5arMpxBap5bVJ9i1tr+TFytr1rhuJH7NH0ncVaNNyl2vcWa6A7R2l7q5Rzo9nvLmOk13wqGGe+aNbXZ1CRJhUXaW6KS97N2Rr6AzO+/6gW3WDm28dxQDm+AgXaAodsC2jGxx9/rKuuusoZQ/upkydvitb9Q65yx9EZ5tmobvcSTS52a8U86wEjgHObR8tuX6ek51rx3mwAAAAAAACgFTq8xe3Z0ZI2ekk/3qOjL7hVdF8/xcd1UVz8QE1/P1Ub31+lNOt9r13TlFecpYrZ/RQXF6fkR2o19Bb/dxukKTU+T+7LzPcTJ8hz60YV/9gJxHYdouUfbVXm8Wz1MevvctlA5X07T4X3tvBE8IYJyjSLpN3RVDfJxvDlKi0cqKJx8fa7c+OGbJT7pT3KudGZH+yGRTpQlKqi9ETFdYlT4oOlmro/ft0AAP/0SURBVFR0wB+0BXCWipH77tnqvXVJUDeLOGtUe7Ri7QndmUnQFgAAAAAAAADQsg5vcWu1qrW6Rz5XWtyetggtVYELDS1uz7BPS/T0axdrxv10+XY2OfzqEnnc0zTxanIFOD/Q4hYAAAAAAABnVoe3uAUAtLMrUvQoQduzTt/bZhO0Bc4rbs18haAtAAAAAAAAzpwOD9xarWutlrPdu3e3B+uzNVgifbaWCXzH+hcAAAAAAAAAAAAAzjcd3lUygAsPXSUDAAAAAAAAAAA0j66SAQAAAAAAAAAAAKCTEbgFAAAAAAAAAAAAgE5G4BYAAAAAAAAAAAAAOhmBWwAAAAAAAAAAAADoZARuAQAAAAAAAAAAAKCTEbgFAAAAAAAAAAAAgE5G4BYAAAAAAAAAAAAAOhmBWwAAAAAAAAAAAADoZARuAQAAAAAAAAAAAKCTEbgFAAAAAAAAAAAAgE5G4BYAAAAAAAAAAAAAOhmBWwAAAAAAAAAAAADoZARuAQAAAAAAAAAAAKCTEbgFAAAAAAAAAAAAgE5G4BYAAAAAAAAAAAAAOhmBWwAAAAAAAAAAAADoZARuAQAAAAAAAAAAAKCTEbgFAAAAAAAAAAAAgE5G4BYAAAAAAAAAAAAAOhmBWwAAAAAAAAAAAADoZARuAQAAAAAAAAAAAKCTEbgFAAAAAAAAAAAAgE5G4BYAAAAAAAAAAAAAOhmBWwAAAAAAAAAAAADoZARuAQAAAAAAAAAAAKCTEbgFAAAAAAAAAAAAgE5G4BYAAAAAAAAAAAAAOlmXS0Zl+aq35zijnWfBggXOJ7/58+c7nwCc6z7++GNdddVVzhgAAAAAAAAAAADCnRUtbg8dOtRoAAAAAAAAAAAAAIALRacFbt966y3nU+jngMC0kydPRpx/3vHuVW56orp06WKGOPWZUqhKZ9ZZ55O9Knw7wt59VqiM+C4a+vNSZwIAAAAAAAAAAACAaHRKV8lWt8hWq9ru3bvb41ZwNpJ+/frVt7790Y9+ZA+dorZMhbMmKHONR96vzLjLrczVRVo1PsE/vx0UPxinkfuztONXM9QvtkYVn8XJPaD91t+eypYNVZ/5Q7WnKkdDnGlSpdbf5tbyQcXa83CyMw3wo6tkAAAAAAAAAACA5nV4i9vgrpCtgG1TQVtLcJfJVqvb5pY9c8qUO6KPJnjStPGjKtXUVOloYZoOpCcrY7PXWeZ0lcmzs1bJt2UqtXeCEhKSztqgrSVp5h75QoK2lgRNerWCoC0AAAAAAAAAAADQBh0euG2u2+NAC9xIOqvL5NqXs5X9TpoK3lik1N4uxca6lJSySPmPx2r9E/kqc5bTZ0Wam+p0dRyTqJHzi1Uf1j2Sq35dMpS/LVsD46yukLsoMT1fpVbrXRUpo0sfZX8glT7Sx8zLMFPKlHttF/V7tn7t0of5mtDL/90491TlPthPXa7N9W/fWX+RvaBf0V1m2bv8U8qeNctOWqzcEXHO+o2vKlV430DFx/jXGT8oW8XBceiwrpsH3leoSnt/nfUFtm1p7tjt4+unxb/KC9r/sG0BAAAAAAAAAAAAF7gOD9xa3R1/73vfc8YaPPDAA1q2bJk9ROoS2fpOZ3SV7NlbJI3LULrLmeBwP1ikjfNTFWeNfOXR3EFjtH5AvipqfKo5nqeEZSM18AmPvazfemW/mKyCkzVmfoFSt03VjDXWe2LTVOA7qpwBUvIzR+XzFZgpYb7aqxlDpsozbqsqvqhRxdoh2vNyK98j+3KO9kzao6MVeUo1o3sfSdYEzwQVV/nkq6tSfnK+Rk5Zr1p74TLl3jxUiy7Ns4/Hd7JYaWbZoQsibDOqYy/V3GcqNH2/OfaqA5r7Va7GzN/rzAMAAAAAAAAAAADQ4YFbq1VtU4FZizU/PLBrvevWCux2hipvreRyKdYZr3elW+m3umV3aLwtR4srp2vVkjQlmAVjE9JVUDhdFT/LUZHTStUK0Oa9lKnkS2MVe+UkZdwqFe894MxrwbblyvNO0vKlZv3m+64Bmcp5opVdEo/LU8EDbiUl+I/F/USpqkrmyH2pGenqMseSJm0qVrG17Dv5ynnH7O8v0u3j0beHaNHzy5UaUyYr1BwiqmNP0JznFynVLBDrcmvSXcmq3bunocUuAAAAAAAAAAAAcIHr8MBtJM11kXwuKPvQI908VEO7OhMsyW4NlUelx5xxueSygqTB6gObzbPXP2CgkoPX31phwefYS2tUPLuhq+QuP1hvptb4Z1aUqfKaof6gbsAN07VqXpo/UB0kumOPV3xYi2WnaS8AAAAAAAAAAAAAo8MDt9a7ahcsWOCM+VnTfv3rX9v/WsPzzz/vzPE7dOiQZs6cac/raPGuWMnrbRxnrPWqsjLC9AAzv8r5ePapVdF9/fxdJZ+skc/nk++1Sc68dnBWHzsAAAAAAAAAAABw9unwwK0VlI0UgLUCt1ZA1wrQWoHacNZ33nrrLWes47iHpEmbN6rwlDPB4VmQrMSb81VhPidd45be2KM9wS1oy8pUKreSezvjpyFpwFDpSJnKWmihWxtlC16ZvS711GrS/DlyW4FpS/B3E5OU8OEeeYKP+ZO9KnyjtFGg+kwfOwAAAAAAAAAAAHAh6PDAbXPvqm2pRW2kd+OeabG3LlLODYWanp6r4k9q7dakZSVzlfmzWk16MlNJ1kK3ZGtOQp6y5xer0lqkskgzpuQp8fFspZ1O98YBN2dqeqyz/lO18n6Qr+wnS52ZRu9kubVeec+Xqra2VpVm/+audeZFFCdXolT4Yr5KvV57fRMetLpKdtyQqewbijT9wUL7ePTZXs0dP1TZO016+JdocKaPHQAAAAAAAAAAALgAdHjg1nqfbSAAa33+3ve+Z3+OxJoXeP/t/Pnz7X87XNdkZe08pJyEAk1IilOXuHj1u2+vUgtLVTDOeXFrV7cW7d+q1DcmKDGui+J6Zap08lYdWOD2zz9dXYdo+d5VSlo7UomXxSlx8l4NvDXZmWl0TVNecZYqZvdTXFyckh+p1dBbnHkRJSjz1R2afnyG+sXHK/6WIg19ItNM9cprt7JNUtYbezT31HT7eLokpmvvLeZ45gdtM+BMHzsAAAAAAAAAAABwAehyyagsX/X2HGe0YwRa1gaCslbXyOHvvbUCtf369bM/W/MDny9YVlfEQS1YPU8kauAn+fK9lOZMAc5eH3/8sa666ipnDAAAAAAAAAAAAOE6vMWtxQrYBoK2luDPAcGB2gs+aFtbrKm9BmpuSaX9jtna9xYr82deTbo11T8fAAAAAAAAAAAAwDmtUwK3kVjdJ1tdI1tDc+/BvSDFpipnU4ZK70tSXJcuihuSr6SlB5Q/rtEbZwEAAAAAAAAAAACcgzqlq2QAFxa6SgbOPdXvrlTWsyW6+PuP6meT3ep2kTMDwIXr0y2a//A6lfebogWPjFLPGGc6AAAAAAAA2sVZ0+IWAACcJeqO6fWNu6QRj+pndxO0BWDxavfGLSq76k4teIygLQAAAAAAwJlAi1sAZxwtbgEAAAAAAAAAAJpH4BbAGdfxgduv9cUHn2phwSkVV5nRb0hJV1+qeZlX6J++6TQd/PS4Mhac0u/9Y35/d5EGDY3XM7d212UR+yP4o+be/7l+2/1Svbawl66ItA7H9zOTdcv+Uv3LfzoTGrlID83vqzuvMB/r/qziX/5RC//zK31RJ10c11U/nPD3emj4N3Wxf2Hja/1pz3HN3Vyj/YFj6tVND03vqWGBYzov1an8zRVatna3jlWb0Yu6qfdN0zT77sHqEdza64vD2vLCcm3Yf8J8Q4pJGKyJD0zT2H/s5p8vj5bd/rR2y62Z+Y9qWGCyTmjLw7O0Tndq6bNj1cNM8eTdrqd3+ueGGPGoXjHpHb68pfq9DVryyy06WGltXerWJ0XTZk3R4ARnJ99dptuf3a1hD7+imdf7J1n82+qpO5/L1diEwD4Gaep4LQfXaPLC7dLN87Q2s78zMUhduUpeWKZ1e46p+msz3q23Uu6drSk39pB/Vc727ONy21Os9D7x9motebGk6fSu3KKsh9apvPt4PfXcRPWuL36R1nd+ObE5S7MKyp0xh0nXYZNn6v6bevrTNZA+9sxQdv73jDA/pocG3zZD09L6+ls3168jRqPnrdU9Ydlbt3uJJi/bZz4N06OvzDSlOrBvcsqStVS1Dv92tVb/KujcGXqnZt6XEtJSsvr3W7Ty+Q3aZ5fdGPUYNFEz7hurvpf559s+36d1eeu0/WDg/OqvsXfP1sTr6k+k806keiD8uCMt0+jctzRXPzVTXmzO+dRkvdQrqC76wqMNz63Rlvp8Cq8HLS3VqY3rREvL5ST6Ovb81PK1qvE5arSQZxG/EyKKOjtMo7Jk1WG3TtGU75v6x5kUsa6zNdQ5AYH6qGfGUuWOC85hr0oW3q+VB/tqyi8WaFRZ6HWw0TZMPdj/ZlNHZQyWK8Jtjfe383X/Lw+r790rtOD7Lmfq+S368y5IpLq++rBe/+VqbQi6Hwi+brWY35HqqeDr1qcbNOvhTToR4fp/+JeTNf+3Cr2WfX1Qa+5eqO0arXm/vEf9g/O7iW31H3ePZk8I9AASdr/hfEeNyqAj7B6sPcteNOfT+Si8bgqkaY8fPqWlt/d2ljJaSvuA4GtZ3Qnt++USrXyzqfvXCOluhF9/65e5eopWLByl0Jwr14aZWdp0Ug11VzPX4/r791bdDzU+P7v1GaaJ90zRqKsblo/q+l4v/Joa3bU3Psp6+rrdzdcFPaPJ50j3ucGC64k21AUh98vhdYGt9dfF80Ybz53wctzSNSFQDoJFvue0ePX6vPu1+iPnXuByZ3K9tt4/dcBv//pzMLrfVAAAtDe6SgZw3vli/x/0o+WnVGx+okz5Ybwe+Z65o/7olKb85A/afcpZyHFF/8v0zF3xZnBpSq+/aX/JZ/qXbWELtaBhHQ3D5D7SNSMbxu/sZS3ZRd8f1zBtmPUE4W9erVtcrkfe/VpJ/3SpFk28VLfEf61X15Xrnt94rS/Zvnz3D5r0Uo2OxsXpEev7P4jTZSeq9S/WMf3FWeg8VL55nrJW7Jb36vGa+ZD54Tm6p7w7lmjWT7aYn12OavPD7KH5WrdfGpA+RbMzx2uA9mndT2Zp2bvWr6tgHq1Yvc/8/GpJX40125sdPNyS5MwLVf3uMs16apMOfmOw7pxulsscq55/LNGSh55SyefOQq1xzdj6bU65yaVj1vEu3W3/KA3meXO7Pa3ujWJ5rB/nwb4u15afZGnlTq/6/q+ZZl1TNLaXVyXPzdK8ovqUa8RK71nPlejkFSnmWGbqzpt66qST3uXh2zi5Scs2N/lY5jzm0rC7A+XCpOsVJ7V7RVajdHUNM2UxUHacYVxQEWqYP1Pj+3+pfQXz9fjG8PSsU/HbB53PAXXat8cK2jbvRNFCzf/lbv3l2jvtc2fm7f31l50rlRV07thl9yfrzNkyQOMzTXlLHyDtX6f5Dy2TJ3CS1Hq08uEl2nLMpdFmGeuYR192TJuemqWV74WXyvNNUD0w/U65dTDCcQctk5ki18fWub9Mu2ud2S3VTy63pgS+f/cw/4PloDogtN6JUC/d5Va8NcveztPa9GGMhlv5ZPZ38Df82wne36jq1DBRlZN60dax55e2pGu0edacVtXZIQJlyXxnYJ12/3K+ZuV5wvItuK4LDOMUfiWMuTFFw8y/5f+xL/RYvR7tsqqv60crpdGD2oCGbUy52aXyoiW6f16kfT+hXTsO258O79jVdJqeR1p13oXfN5i6/rGXAteOE9qyeL5W7/yL+t9u3Q+YPL/2LxGuWy3nd5PXrV4pGmXd5+7cFXY/cli7d5iy7BqrlOA/QHqvWNutIl63XcXv+SeFC9/WwcKn9fQbDffFp689y14059OF4cRvlmnTp85IkyKUtcC1zL5/naUlO06q503m/sXUiynmPsu+f210z9nC9Tfgo13aF34/fnSXSk46n8M0ef/W1vuhwPlpjuW62t1aPS/S75Nmru9Raf7a27p6uuW6oNl8bs19TRvqgsj3yw3afl08x7X13DHLRb6/bakcBM2fbu5ta637l8e14bgzO6Byl7Z/ZH04rO27G9egbb9/6oDf/s45GM1vKgAAzgQCtwDOM1VaW1irP8XFafXi7+jB7yfotonf0a8ejNO3amr19FaruWqDy3p9U6lDE8yQqAdnu/R9M+0/P27do5aGdTQM//gt6Vv/2DA+yP7l/Q1d4w5M666kS6Qv93yu5yqlQelXavW9vfT9lF6aN/9KzbtK+v3rn6vYCcru/505JsXox9m9dZv1/e/31upb/04yx/Tv+//qX+h84y3R6oJj0vUzlfvYRA27cbBG3bVA89J7SEc3aKvT1Ll86xrtru6m0f+6VI/eNkqDb56oR3MXaHS3au3+pfmR7l+sXt3ulVrX4kPx7upvtjc4eOgT+rf6fuZHsvkhVx0zWvOenamxI8xyN1vvfxxrfs6aH8H/p+kHC03q3r9+m6Pufcr/F/77d2lf8IOo2t0q2Sn1uLa/esh8fjv0eLxvrda6o5J7Zq5Jk2FmXaN050/naXx36djLW81P5wjMOjdY6d1/mnIXTjPHMkxj712g3Pv6m/Repw1h27CUv7JMW0z5vbB0U9J1gXJhpeujGmuKxrHXSmRSr1633tfV52Ng6B0UvGiYP0wTH3tM4806ThTvClmHy+VS3RvbQx9Cfl6i7e9KMTHN/Yn3Ce0rMWtyjdfsh8ba586wcbP16O09TV5uUYkpG/Vlt9toLch9VBNvNuXttke19F9Hq1v1bq3Z6pTdg7tUYqpE95R5utMs4z/maRqmapW8sa/RHxScX4LqgRFjNXvxNLkbHXfQMjdP01MPWi0+9mnXu/4lWqyfYns2fP+6JH8LraA6ILTeiVAvXetvMXf4V0vMdnpo/MJcTbPyyezvzCdnarC1v5t3yQ53RFmnhoqynASJro49j7QpXaPMs+a0oc5uEChL5jvTc5Vr6obqnUv0asjfiQTXdYGht/8hfLCL3Eq92ZTC4yXaF3Q98B7YZa6C0uChg+tb+jTWsA0rzXKzhinG7PvK8ACdWffrx82hmmuejr+ukvAHw+edVp53IfcNszXxCnMefljmf6Bcuc+u810/nK3Z46z7AZPnD5l1mmVCr1st53fT160eGj6yr1lit3YFB19+v1vFphj2SB2uhrZ5ddr95m57n/ubexLrc6SSGrKth6fYQafD/6/MP7NdtGfZi+Z8ulCUa8PyloIZEcqacy2re3uDff/a/75cLbjX3L+YenGaVUea5D9WsCEsKNv89dd2mcuU4cPaEnY/frBki7zmPipS3dTk/Vtb74cC56dVxz+bq4m9zPX/uVd1MCSI2PT1PVrNXntbVU9HU/c3k89R39e0oS5o4n653mldF89tbT53zHKR729bKgdB80eYe9tHxpt5J1SyOzRnyv/jdVNaTB6b/Sh/vcR8DtLG+6cO++1vn4PR/KYCAODMIHAL4Pzy6SntrpKuGHyZ/im4hhtwmf7XN83sD04p8h8If6U/7fyL3Z3VoO+Ed/Fz5uz/TyvoGqP/NfxS/wTbpbplqPn5/Le/qth56PPtb1n9QdVp7b9/pi/+5p+moX30zopkPfO9v3MmnGc++sB+mDDspmH+H/2Onv/T+ivYmRr836wfYCfk2X/C/JgapZR/9M+3XdRXKTebn5Yn98kTHFgcNl7ju5sfpsvW6XB7/NX1SY88J00OjhwW2r3X1ROVu2KFFoyxOmA6HTG65BLr3y/1ZdAPbu+eYu2z/jL4gWl2K5d9xaEP+Q8ftFNOKTeGpJxG/9ik3fTBckX67XrwgFmn5E4dHvJwxjU01fyYN9t47wP/BEfPcePN9GNa92JJywGG89lFLrmsbiu9XoX+WUhrXKJu1jqq/2JyukG3Qd81ubxPvwt6COndt0uHNVhjmy1b8Yq3uhLzvq7CN/1diFl6/jBXr7yyQhP7mJFKj/aZsuu6OUV9g8vuP6ZolPVQbL/H/0CuRw9/N2JbC3X4C2uCcdFgzXzlFb3y8LBWPVQ853VzmZwyqqqazOuYWHsJfflX6w+AWlk/tVm5Dv6nyeUrUjTcytuA2MGaOMec82lJ/nyKqk4NE205CWjvOvZc0JZ0jTbPmtPKOrs5PW8aq/6mpijeH/HPelrU/8ZUs7/lZpuBq4FXnt1WqgzWd6+PvpboNmi0Us3ih025Crmm7diiEzGjlf7IWHNlO6EtTgvI81Zrz7sgdcf2aZe50e3Wv69dd8sVb67+JkfeKFSJ8zoHk+Mav8TU4SsmBgVUWyv0uuUaPNxcr6xyZ+W73+G9xaZU9dCwIdYeOLy7TDmT+o6ZqWmjzPT9xdrV7E1Enbxv/84u6/2Tg9v8ta/2LHunez6du3pq7A9N7WMFwIvbdmf4wXt2rabUoSG1moan+oOyBxqKVyOh11/HF/313ZtjdGLnroZgztcHte9NUzLHjTU1VCu0x/3QRT2Vckt/U6zNffwRZ1p7iOLa2171dHvks63VdYEl8v1yvXa8Lp5rTufcieb+tkWXdLPvgaprg3PmsF7ffEIxN6frsbRh5r53i14PDsa26f6po3/7R/GbCgCAM4TALYDzS/lX9jtnL4sL/wEao29a8c2TXyn47/V//9ty3XB/qRk+0uiX/6qL+8dr0ajgIGrLGtbhDL/4ozOnJX9WWYX170W6zP+sod7Fl/if1JWV/9n+9x9v7aGHrjDbeuukUv7lQ035+R/072Wtaxl8rjlR6fzFbviV6vLe9l/B9rffYVWuMqv1w2Xd/D84g1zSzfoJaOYH/9ntN/pq4gyrxcp2Lf9V6F8Eh9qtp2+/XbfXD1mRW5Z+UW0/4OvxreAfyZYY8xvYJVe31jwIaazu2CZt2Gk+9HKrf/0mvNpXYn7mXj1cgy93WrkcLAnqBu6ETvzB/ykm+IGv4epj/QVx/4jveDrxqT89LokNmxl7iT9tj5WHPij+ZoqmWX/BfnClVu4+v8tic6p/77TAGTRAA/yTbOUFs4LKjxnyPM6ccNZD6Q3aZNYRc+N1od2Q9hhmdy+577eB4Hi5tm89LI1IkfWX8U2L0bD7H1WKq1r7VszS5MmztPDFLfLUP7Q3ysvsh5jdujU6c/wPxY7756vXRD16lyljRzdp/r23K/OJp7Uh8O6sC0qdThS/bj8Q7HGd2x8QCVd7TJs2Wn/+01PuftYJ28r6qUVN1Usn9In1F0kXhbceilHPa805f31v+4FYdHVqmGjLSUDUdez5o03pGmWeNafVdXZzrOuV+afueHlQ0Kpc6x4KLm+3a9m7zqxw/YeFBr1qD2qf9TTW1FXDYq0J0XKpu/WA9PCxhn3/+qDd3W7MTSYtY/ytxup27A5rrXaeae15t/Pp+jya/NgGlfeeqAUZVhjViB2maQ+nyFW9TysfmqzJDy3Uys0enWj0PLwV+R3punX5YPt6VffmPqdXj2PyWK3beo1SSi97gs37dokOqq+GD3aZS9xo8+mgSt5uHK1puIZO1v3LduviG2drZmr4vVZ7aseyF/F8ujC4bppmt/A7+MJKNX1r2FRZO6Fyu1ozdVhYvREIyh77tIlardH1t8F1w1MVYwWMnMBV3dvbtb2up0bdcKUivW2myfu3drofcv03u3Tok/Lg0hHl746mRHPtjbqebrkuiC6fmxdtXdCgmftlR7teF88pp3HuNHl/24prQp35bbpxk/lGjAZfG5QzB61eF2KUan57xlyXqtExdSq2++b2a9v9U0f/9o/iNxUAAGcIgVsAF7Sk73XX9p/9gxkS9b9TzI+Dg1Wa9Zo/WBqtRu+4HdnS49Y2+IZLd87vq5JHXZrS5yKVHa3Wwqf/oNEr/qjAH30jSv94p2bc1M15P1NTP7rC33MzRe5onhdWblFW8I++JoN1zQh7AHvMNVgzHx/b8EP6+HZt+Uhyfz/FfjDoujFF/SN0A9cRXKnTdGcfybNitfZdMLHb0AcZmdY7s6w8uie0tUWjd6SFvSM55KH0c7tVffV4zbvbHRbEsf5SfnDD+9mO79LukzEafZNb1X9q4XFwN7emrVirpY/dqZS+0uEd6/T0Q5M1v6j15aRn2gK98uJTmpbuVvc/erRpxWPKnL4ywvtNzzfBD3Ema9YLHtWZfJoxJqj1WPAydz+mDUddGjxznsZaAYB218Z6qaNFVcfi7Nf4/XbB7+kO1VcpY0xhPLhLHlM11b1r/jW1mVVXnS5/kMWlsc5LUvtbQZg6M+087vKy1W6cqRUrVphhqZ66P0U9jm3Q/HxTXzmzu10/TSvWLtWjGSkmpw6rpOBpzbp7vraEdEHTcn43f91yWnbVFWu39ReUR3+nElMW+o4cHhIIsP/4KPA+TSfYe3jrdjMnVM8fLnCOKVePppuF3l6ip5p5R/+ZQNlrC5dS7r1TvZt9r2Rr6pbmRHn9/cdRGtu9TsVvWwGjOu17e5909WgNv6QqYhCvufu3M3c/1A7X9xavvdHW09HkTzT53Jzo64Lo7pfROtHc37ZUDoJ+D02+X0t2Vqtv+jxNqW+9Xafdv92uusA7zi/qr2EjYxq/AqYjnO5v/3b8TQUAQGsQuAVwfknoav8F7hc14Tfldfqz1Stxd//8gIvjLta34ruZwfw4mfhtTfyW9PtdXrvVbrQaveP2H6NtsdtNV9hPs77WF2F/8v3lX/x/vp3U85v2v34X6bKkRD3446tV8r//Qc/8Uxf96b0qPX+e9vrUI8HpwC/QNXTA58fshy4H7b907aErrzD/fFHd6K/m/1JtPUboadLQP94gRu7J0zQsxv9+pshvTAt/z01/9YzUauiybuZnrXQiEERzuTXF/rE31vz8iyD8WCK5Zqz/B2PGYLvFVY+b0jUs6N2o5Xt32w+aPMsm+38s37/S7maqoRu4HurxD/YH1YW1AvAe3WfS7mCEljYN6f2X2rCZtX/xp23vnkEPXwN6aOyMiepZt1sr1+6L2HLh/BP6IGPes/lamzc7JI8sjd6RVv9OL7/Ag8GZ3/enu/v7psxE+JuPmBtTNMwOzB/Twde36ET3sRrlf4YchRj1uG6sps1bqrVrc+3uvA6/tNp+mK7EK83ZIVVXNzpzVG39NUivJHt+vct6K+W2R/VU/ivKzxqmbt4SLfnV+d4NZPBDHHPsy0xeL5wYlk+BZe7UYGt69xSl3xjI67bUT81pql5ytvN1XX2gxq9O5e+bc/7dY/ZD1ejq1DCtLSe2aOrY80eb0jXKPGtO2+rsJni9/hZY3f0tBf0av98u+D3d4XoPtv6Y6KB2HTihfXs8phikavA1zsyoeXXSauHSq7uzH06QxUzf9ITzgPgn2+00s6ZHStnzQmvPu5hL7Heiu1w91PumabpzmPnum6+Hvhs/pofc46Zp3nNrtfbZier99WGtyw9+1UHL+d3SdSvm+uFym1wp3ntYx/ZZ6/a3pqtn//GR+ffdZZpsBwzu10rrBubkbu2yWlAF62YdjzX0lPu2KRprzpfwd8m3r3YsexHPpwtIwljNvL2n/72S+8PLsKWpsha4fzV1WFhgp87Ua5be/h9Ojuauv8F6KmWU2R8rYPRpibbvlwY7f/wYSUv3b6d7P+T9L/9Z1+Py4PVG+bujWS1fe6Orp6Os+1vM52a0oi6I9n7Z0q7XxXNKW8+d5u5vWyoHgd9DMzXa7i7YrdFj+ppvOWr36XfmXJN3kx6z8/h2zf+tXYPWvwLmtO6fOvy3fzO/qQAAOEMI3AI4v/S6VCnx0qf7vtB/Bv8I+OAL/fufpSsGXCrrXj+yr2X/zovpoovNP7t/YXV9fES/Dfwq+JvP/+8l31D7vFX2Ig13W2uq07/vOuWfZDulbXvMjnzj75RqB2g+0zP/YvZl3vGG9/N+o5tSB1nf9ans05Ye756jrh4g6/CtH27BR3hi9zIteW6Z9v2X9Re9Pc0PK/ND1Pu6SoKj7V8fVskb5pdU98FyR2r51m2wptzvlo6WaHf4w8LW6O6Wu7vJwR3b/S1OY3s6P/r6m59/QeJ72A+IDh4OfrBTLa/dXLq3egYv3L2//wfjuGmacr053t+saOgu7euD9ruC1H+882PbGcb1DXlvUN/+dsrpdwdCUk67nl+iJXn75I30Z+rXDrTf9eUJe1+u9T5dq93w4OuCOwIOcsV4zfxhD1W/WWIvd/4LfZDRv1e3Rl1SRyPwYHDY5Ps13uS/Z/U6eSL9BfpF/u4ZT+xcobXWO9lGDA99YB+Jt0QLrYckwS2+Y3o67xk8rGNWb+5XmP032/W+URL6zqffl+h1UwB6DPJ3l3b4l9YfCIR22ddt0HBdZ/49/7uBDH6I41bv7iavnTkNAsuM1bQppk45uUkrtgfa8LSxfmo1U+/8k9mzT3dpX3ALuq8/UOFic84XlfmDDFHVqWGiLCeNtFcdey5oS7pGm2fNaWudHUH5m1t00JTu0SPCW161Qp/hSjFl5eB/rFTxu6bKCX/3exSq929XsTnwvv/stNL83B9k6TEitAXclGHmihrV+xDPUW0972x1qrOvJZcoxhQxb/FC+4F5cBeXMb2GabjVfXFwt8BRaPG6FTtYwweZPXh7g9buNjvaP0WDgx702398ZM6W8UF56f9Dt5beHVunL6178UsujlAHt4/2LHvtcj6d43qOm+l/r+SbrbszdA+0azUV7wmp1bSr2K7VNND+XRTQ3PU3lL8r3n3avHy7uQtq7Ttd/drlfujrcpVsO2hOwtEafq0zrT21dO1th3o6WFvzuTV1QdT3y5Z2vC6ea9p27lhDU/e3LQn8Hhqme6aON/WmR6vXNvT04H3T/DY2U4dlBufxFFlV6L5A/rTx/qlDf/tH85sKAIAzhMAtgPNMvCanx+pbNTWaMueo1pVU6re/OapbV9boT3GxenRMvLOc3xfH/2x+4FSaoULrlv1Jq/8sfes7cXar3EH/5A+q/nzZH/RbM/8Xz3r1W2v69f9N37K+7GhYR8Pw+z85M1tw8dDL9ZD5cbG/8BNNeekT891P9NziT7TwY6tnr8uVar+8JV63pnSVTp7SPYuP6VVrGyV/0L9sML9av9FVwwY08WfH5zpXislL6y+5l+jx57Zot/lR9/pL8zW/oFzqM1Fj/tG/WM8x92hYt2pt/8ksLdm8W/t2btGyh+dre3U3Dbt7bJNBrm7D/O9nOj09lZ6Zom51u7Uk62lt2Gm1aN2tLXnrZL1pS4GHIX1SNLaP+e23+WktfNXso3UsKx7XyvfMfnx/tNwRH5qY/Z98p9nCMa1bu9v/g/bDffaDRXdquvNj2xkmmHWYshp4b5Dre5M1/oo67c593J8mb7+udT+dr3Xmh2rvO8YoYmvg2GGamNFb1jtrs+at0+tOej/2gllnnzs18camf9L3vnWGRp+nxbCtqo+9Z+dz8HCs/j3EQS7qrfS7hymmukRrfhO5LVH/lLFynTymY3V9NfZ/thi2NQVgsMaOMBmy82ll5fnPnX1vrNTTr5hzp9twXXeVtVBPjTXbtd75ND9ribaYsrt78zJlLdiu6m7DdI/TXVrfURPV2+oOzSo/b/jL94anVtrlu/f1/S/M1kRN6DbsHt3ZSzr20pr6d761tX6K7KQOhpWpfe+X2w/J+t56vwZfVK4N85x8srfztMmnbkoZN9yfT1HWqaGiKyeRtE8dew5oU7pGmWe2apW9F5TngXw/jTq7oSxZ16ssZZm6oduI2botJL8ibPftY80EJ3pq+Ige5jp1UAfN3o/954hXmjAN27D2PSt3t+rMvk+72X/03n27dNisa9gto0KueaPG+FuNNf8+xHNZK8+7kwfr8+j1lxZqtRWk7T9Afc29heu7Y00dJO1ekqVl9v2AWebFp+37gW7Dgt8T2Yr8bvK6FWPnj7ymDJy07lWCyvHXZh/fNLXV9alKD8rLwTdO1Ojrzd122LtjG66hpow+t0SbzI50+6f+zdaZja+7B1XeVICnXcteNOfTBcaUEfu9ks5otGJMebBewXHwhSzNf+l1k6bW/etjdmvM3hkTm3xndqTrb4jLU+xyduxouWJuHt3su7ebun9r8/1Q4Py06/gsbThurv8P3RYWMG36+t5azV97o6mnW1cXtDqfW1kX1Ivifvl0fsuc69p67jStFeWgT7ruGRGj6jfXqPCoNcGrfbsPmwvQMI27OTiPR2ncTeZMOVjifwVMG++fzsxv/ybOwah+UwEAcGYQuAVw3rls0D/o1zMuVar+quc2VGnu6381N/+XavW//oOGhfVi/OnBL/TIS1Vm8Oq5I9KgofFa//9925538fBErf7+3+mbn1Zrrpm/+tNvKHVcgv73qNCVNKyjYVhr/2iJgvXu2jk99cz1F6lsv7WeL/TqZxfptjt7as0PA48ALlLSD5P02p1x6nOqRs9Y29hQrf/85t/pkX+5Unc23YT4nNf7tgVaYH6kX/LuOi17bolWby+Xa+RsLf3XoHe+dnNr5nMLdOcgyVOwTEvy1mnf3wbrzn9dqpnXN/coIfB+ptMTc900LV04RcMuP6xNeUvsvxDe8H6M+eG4QPn3Blpb9NBYsz+zR3bXsX+3/orYHMtuaXDGAi2d3MzD7YSxmvZ9cwzvrtarv3feFSS3hoe3FIjtr8Hmh2j9e4OsBykLF2jKiEv8afLcam05bo73oaVamFafco30HLdQSx9KUfdPt2h1WHr3bO4v8i/qqztnprT6Ad35zLt7tZ3PwcPmJvqMjbl+sqaY/Dvxm7UqiRTcdVpIhLdealo3ue9fap87MQf8586S/F2qs7rhfnaa3M7Dm27XzzR5e6cGy6N1puwuK9inuoF3asFzM+UOZOYVY7Xwudka29Or7fn+8r3pI6t7tAWa10xZujCZ83yq9QDTo9WBbhPbXD9FctgOYISUq5c8qrJmdRum2ctMPvU+oS1WPgVtZ9p1DfVFVHVqmKjKSUTtU8eeC9qSrtHmmfUAdPcvg/I8KN/bXGfXl6VlWnfAf71aOt0dVodH2O5zm5vt+rrnP4/yPzDtnqLhdteJLWnYxuo3vOqZNlsrFgb23XkHoitF3w1fVx+3vmuSKNL7EM8XrTrvPtxSn0dWGeg+YooWzHa6gnXqoClDY/TeK879x3/Uqb9J61xzj9JQ0lqX301dt/zd+1sGh9yr+N8XK7mHDg5r2RWj/tdbNzCh745tuIaaMvquufxZ+9vc/ZLR+Lq72n6XZ2TtWfaiOZ8uQM57JVvlop7198vl2638DLp/Hddc2D7C9TdEjAabsmf9mzq8yciNrcn7t7beDwXOT1PHvxc7TFMWRrr+N3N9b7Xmr70t19OtrPtbmc+trQuCtXi/bLT9uniOa/O505TWlIMYue+Yov46oU0FJfIe364tH5mSeNN3G5XD3u7vmqWtV8D4a9C23T+did/+TZ2D0f2mAgDgTOhyyagsX/X2HGcUANrfxx9/rKuu4s8RAQAAAAAAAAAAmkKLWwAAAAAAAAAAAADoZARuAQAAAAAAAAAAAKCTEbgFAAAAAAAAAAAAgE5G4BYAAAAAAAAAAAAAOhmBWwAAAAAAAAAAAADoZARuAQAAAAAAAAAAAKCTEbgFAAAAAAAAAAAAgE5G4BYAAAAAAAAAAAAAOhmBWwAAAAAAAAAAAADoZARuAQAAAAAAAAAAAKCTEbgFAAAAAAAAAAAAgE5G4BYAAAAAAAAAAAAAOlmXS0Zl+aq35zijAND+Pv74Y0342V+cMZzL3lmR7HwCAAAAAAAAAADtiRa3AAAAAAAAAAAAANDJaHEL4IyzWtwCAAAAAAAAAABAuuqqq5xPoQjcAjjjrMBtU5UQAAABXC8AAAAAAABwIaOrZAAAAAAAAAAAAADoZARuAQAAAAAAAAAAAKCTEbgFAAAAAAAAAAAAgE5G4BYAAAAAAAAAAAAAOhmBWwAAAAAAAAAAAADoZARuAQAAAAAAAAAAAKCTEbgFAAAAAAAAAAAAgE5G4BYAAAAAAAAAAAAAOhmBWwAAAAAAAAAAAADoZARuAQAAAAAAAAAAAKCTEbgFAAAAAAAAAAAAgE5G4BYAAAAAAAAAAAAAOhmBWwAAAAAAAAAAAADoZARuAQAAAAAAAAAAAKCTEbgFAAAAAAAAAAAAgE5G4BYAAAAAAAAAAAAAOhmBWwAAAAAAAAAAAADoZARuAeACVPZsP3Xp0kUZm50JneRs2Q8AAAAAAAAAADobgVsA55/NGXYwsMu1i1X6lTMtnLNMv2fLnAnA2YOANjrKp3+q0+a9/2UP0bCWBwAAAAAAAHBmELgFcP76YK4mPFvqjAAAwr17+C/613/7VFv2ep0pTbOWu3/Jx/Z3AAAAAAAAALQ/ArcAzmulT0zQ4g+dEQBAm1hBW6tVrtXilla3AAAAAAAAwJlB4BbAeSs5JVUulWrurc10mRzuk2Ll3jVQ8TFd/N0txyVq4H2FKqt15htFd1nz+in3iDOhXplyr7W+M0PFQdvzvp2njEHx/vWZIX5QhvLejtC67ZNCZacmBi03VYVmWoY1fleRs5Cf94N8s2wfxTnLdonvpwnP7pU3wnFWbpqqgfHOcjGJGjnbHE9T6VFbpsLZI9UnLrB8vAbelafwxniBNFi8q0jZ7jh72YE/b77b6Vbtx1eVofsR18devjLKfKzclK2RV/v3yxoip7lXpWvClkueoNxdYcsFutX+2V4VzR7oT/NBuSa3A+mQocLKvcpNb8iPuKvNeiLlsdnm3mUZQekQlr7Otvo84m8pvv4H/uVCukyOoowGeHflakJyQ9mLu3qksjdVOnOB6Lyw5bP6rpTvG9td44b8N/szAAAAAAAAgPZF4BbA+euWHBXc47K7TM74eRRdJn+Yq4G9Rir75VoNfXy5Nr66XHNujpfnxQnqM8IfqLOk3TNdsSpV/qawQOWRQuV/IMXek67Urv5J3s0ZShoyQ+tPDVXWM8uV8+M0Jb63XjOGJGnqtqBIm3e9JiRNUG5JpRJSJinz3kylxW7VhF4TtN5ZJMBe57VTlVuaoIxnCrTxpRxlDqhS4SNDlXRfkYLjd5VrRioxPV+eUwlKvSNTmfekqublCRr5RIT0OLVX2df20YSfF6tmSKZyfpGjrFsS5Vk7Q0OTMlTUKA5ZpkU3j1HuB7FKuDJBibHO5AhatR9flSp3SKLZj0NKGD9Hy38xR5NuqFHxzycocUhDPjSl9NmBZlu5Kj7l1qR5y7V8XkOaZ2wOHIRXRXclqd+UXB1KyFDOSxtV8Eymkr2Fyh4RljeOsgWpGvNzj2LNsSZ0Dz5Yk3eJQzW3LFkZJt8yxyWr1pSF7CHJyt7lLGLzb3PorPWqHZEVlr5TVXTKLOLONuVuo5bfkWB/Y8jDG+3xbLc9GnUZtdjlZES2Cr3JTjpMkvtUsXLTE1sMsgMBVsD2hS0n7c9WwPa+sd+2PwMAAAAAAAA4Ay4ZleUDgDPp2LFjzqcO8tokn6nefMnPHPX5vtjqy3TJjLt9OaXOfEvwMo4dDyf5Eq4c4lu035ng2PNwglk21jd9pzOhbodveqxZ543LfRXOJEvF0iH+5YqdCVUFvjSzjdg7Nvqq6pxplqqNvknW93vP8R1yJu14INb+7qRXq5wpfoeecdv7qclbnSkVvlXjEsx+TvIVhCxa5Vt1i3Wcqb5VgZ36osCXbn03dpJvY/CydYd8OTdYy8o36TVnmrFnpsuelvqL4KMyazZp5bLWM77AV+NM2zrZ/33X5LBji6SV+3Hg8SQzLdm36P3A1vwOPZlsL5u+PnR6iI9yfMnWtm7I8R1qLs2Pr/KlXWnScXKBSbkgVWa69f2UVQ1565QVucz+n3SmOQLp4H7yUH3aWOrTLKiMVK1PM8s2zuOqwkm+WLNs0rxAafD5jj7jP9bgdLFEXUZ9R520TfOtCt5cIB1ip/v2OJNwYXttj9d3/bRDvvtyG9fTgXnW8NNfljtTz6wOv14AAAAAAAAAZxFa3AI4v12apuXrM+WSR9mTc5vtMjn1maOqOL5Hc274/9m7E7gqqr4P4D8UFBQMVIwlFXzcUDNRKUNLwbfcS/FRS9QSWsylTIlcwCy0hdQsxbRCS9FSH5dScXsEK0Uf0TBTcUtQYwkXSCBQUN5z5s6FuXAvXFzC5ff1M3JnztyZM2fmznL/95yjTlA9/oSv+D8fmZm6cVj6wm+kNbB3LTYVtzqbjk3r9gDWgfD3UaesjkQ0nDBxgh/s1Rq4Cns/+A8Sf5P3IE55fzRWfJ4POE1E0CB7OaGYxwB/eKivdZwQ+EOayOdyDDWY1R6+PnLONGTJmptS7CasFX+c3gyCn3ZeSw/4DTZcKgqjMX9eFuA2FfNf09X21LPvNxszOokX6yKx3KCVXQ8ETSm1bcZUJh/Yg0hZG7RfCCa2MazC6zEoUCmL6D0JuglGJIk8JsIaY8InwqNUmY99ywNOhQmI+0OMPxSITedEOS4dKkpOw94Xvm3E3/NZyNNNKeYRHAI/o5UNPcT+9BBrLVFcZsXHSDrWfBltdB/bi33sJ/4m7YoTc5XP7GNUUioN28PZVhnTEeUQKbc7aQb0lXiJjJE1bWW/tpKsafvOCy7KayIiIiIiIiIiIrp9GLglonueda/5uiaT9wdV2GRy/qlopf9QZ33fqnJ4pnRjxYDv0EBYIwYrNqihtvRNWBEr1vWyPx7XTcEvP8eI/9Mx00uzLHXos0zOoQZZTyUiTo4+5W12MC3roOzjtlVJP6di0PeLqpd0TBfg9H3cjKUmJ0KZ28e7VKBYckJvPzk1BqVjptYVBW2FSuXjVBxiZMBxg39J/736oVkQ5BbmZ2mjk4YSf5NziHIsuxF4/L2jSDu3CYEPqRMKs5Ag+7jV9AFrYdEEQYfV9NIsDQPJ5XOC7zPaMvsFMeL4QPpMtNdukzL00TWHbSRYbIx5x6g7/AJkea9AH7v28P94BWIOZyG/UOyz+k5wcrI3CDQTlbZR07F138cNf2xAREREREREREREtwcDt0R0H7BG78+WI9AeSAj2x+xj6uTSjs2Gd7M+CNpuDf85a7Ap/jTS0mStTFkfspQu/gi0BmK+3aTUksyPXYsYsZ7AwfqwrZ4nJq7Q9VNadpiP3oaVW82i9F3q+RJmp3kiZPEa7PhN5FHkM26ykWiluRJ/UYKiHh7lLyOvnBrLt5L9oFlGyksdXm+vzmWKE5wrLNcsRAe4o33AbKR5hWD5qh04Kvd1WhymtlRnuUn6oLZBmXWcKNZlZJvkMKc3nNXZTKrEMer+5i/I/Hk+hrZMxApx3Hd/2AE2Ns7oPmEt0v+h/Uh3L1nDtkPzWsprWfP2wIm/lddERERERERERER0+zBwS0T3hwqbTE5H5OggkdobyxPjMOs1P/Tu6A4nJyc42Rurm/g4At90AmTANicfa1frmsEN7KImF8uHs5cf/AYZG3zhoW3G1ix7EDJ4BbLcpuKX35Zj4nA/+LaRNSjF4KDOciM82is1bRMTjddIljU1/0lZ1h5GyksdOlYUlU1HWkVtDu8KwcBlWXCf/AuOLp2IoXJfyDIUg4MZtYjNkaW2W2yjXV6+Mx43tk1yeMqwueWyKnuMAvZdxmB5Qh6K8jJxOn4Npj4FxHwyEM5PRyo/OCAyxaWeVXHwNvViAYO3RERERERERERE/wAGbonovmHQZPL7pdr8xS/YI5uybeOL0q2C5ueUNBmq5ekXCCdEY/nqtdi0DnAaOdCgqWPnh2SAMRFrNlcQImvqAW/5d3ucrrni8iTHIU42JfyENzxLBRj1gUI995a63OyJNx6MNeDmoct7bJxS89ZQOmJ+kFN94eulm1IZlcqHkzPc5d/V0Yi5gWCxx8My/CzK0ciqkr4NwkuvzES02B1J8XFKF7CPl2m+OQuZF9SXNyUdcbFyv4vjSVmF2C55OBxeg2jZx+4NqcQxeiEB0eK4jD6sTre2h3tHP8yITsRXvcR4bASWJ+uSiEzRB2/lX33wVv4lIiIiIiIiIiKi24OBWyK6j2iaTN5fOrLnAY824s/hNVirDWhdWIvA0dHqSCkd/RHoBkS/4o8VcEKgn2EQ0DMgSKnFuid4ItaWCgZmrX4JfabtgS6s1htDX7MG0mdj1jrDAFziuuWGgdSHRD7lXxmUk5FHVf7hmQj8oFSAuFcgxojFJn08A2u1iy1MxNpVpbbfsjfGjhMFkzwTQUsM85C1YSJC9ooXAwLhX2ETxEZUJh+2fhgzXMycH4GxHyQqwdVi+YmY2XsgVpQT+HQXefQQ74oILlWrOisaIaNnI3J7nhJAdW+qaxJ67YZozTrykfhBIGZWuipqIpavM9yO4jLr5Ic+Spl5InCCcjQgKHgtsrR5K8zC2oA+Yn7DclcYBK8rcYwW/oLZgweiz/MRpWqX5yNfie87wEQlXSIDMmi7cELj4uDtqDlnGLwlIiIiIiIiIiK6TRi4JaL7S3GTyaW5w/91X/F3D4KaOaP70Jfw0jPtYeM4ECtydHMkHEvSvSjmAf/h7rrgmlsg/DvqphZrOhFr5jwO5K/AQOdW6DNhNlZ8HgL/J5zhMDgScclpxYE53/fXYKh9Plb4OaDVM2Ldr7yEPp42aBVcqg6uPsCaH4k+Du3RR8zn7+sMm4dDkKDUwE3EL/oYoqUvZqwaCnu5fkexfjHvS6/0QXu7Vgg6qM6j8fj70ZjYFIgOkHkIwuxlEQh5phUcnlmBLPuh2LR4aAVN+ZpQqXzI4PoaBDqJLZnWCu5P+CPk8xWYPaEPWon5QzYnISnLIJxrSJZ5uKdSq7qVe3e89PEKREwT63LugxVZTgj8TBdMR6+xGCOL8cs+cPDsI/Ljj+4NRXlPUcv7sK7PX3MlBLeC8xMviTITeX3FGx6yzOCJWUvGQB/rdn9zDWZ1Euv8diAcHu6DICVv/vBu6ICBS+KQJA4HPffHfZWyXjHaG/6ivCKVcqrEMeoUiPmyHA6HoFVDb6Uc1opjr4+HM8buBexHTryxIDzdl0oHbzfu+UtNISK6f+3cuRM+Pj4VDsnJbOKCiIiIiIiIKqHW0xOLiIhup+TkZPXVP+SHoUXi9FbkEX5anVBaXtGmkfZG50lbG1jkaQ8lDdbuRb6hm4oyY8YUWcvx4ZvUuTR+m1rkLtLcQ4+qE8rK/Hl+0dCOuvXJwdrJsyhw1WmRi1LOrSma6ONUPJ99x8CiNdtmFHnIcYN1ZxbFhfsVuVvr5oO9Z9HQxUeLTn/hq4yX3aaJRb4PqfNaOhX5vrlGTNOV0dAf1Jn08k4XrXnTt2TZlvZFni9/VXQ0U01XbRou0z2KZp1UJ5jhZvPhMWBWUdx5Nb0CyrqaWuveC+sid5+JRWtOlirxzLiiWQPcdftWDPYdhxZ99dvpoq985Lhm28o5nvTlMONnw2VZN/UrmrWnVKFJBWLffTa05BgTeXOS+7l03sQ+3vGmZ/HyArepkwXzj9G8otOrRDm0NDz2hn4WJ5ZOpLP/eG7RK7OTixZtqPjDlXLhqlnz3Yx//HpBRHSDXnzxxeLra3lDUlKS+g4iIiIiIiKiilnIwG3u1lnimZKI6PY4c+YMGjdurI5RpRybiVYeIUgcuQlFi3urE+lOET3CAn2WeWDWyaNKbWUiujn31/WiACnrQzFxizvenv0qPGurk8uVi5SDJ4BmnnA1a/7b5z//+Q9atWqlDFRJhYmIHOyLl9alA8PF9X1pZa7v0fC3CEL7+/y6k3U4GnHwRu82ZdtQ+afI2rSy1m23bt3wwgsvqFPLevHFF9VXRERERERERBVjU8lERHeCY7PRJ6BU36fIR8xns5Qme/2ekk3kEhHRbXVgHp577rmSYfjrCFu6D1nX1PRbqOD0Rszb5lqJoK2UjI0ff4TF8Wqf2Ep+56FUo/q33Y8//qgEbt977z3ldZU7NRutLFph9il1vDyVmfc2SV8yFi/F+mJNWh7yvri913f5AyOLESb66r+L/fJZH/SZsAaV7pb+NpCBWxmclT88MTa8++67yvD111+r7yAiIiIiIiIyjYFbIqI7QNbJXxC3ZCAcGnrDf1qErj9STwd0/zwL6DQfs563VuckIqLbqzPe/u47fLd8GSLfH4nm5xZhVOhGpNzi4K1VkwH4cMG4SgRtpdZ4dfl3CO1WdbUMpa5du8LR0VF5/fnnn98Zwdu7SF5WGtDPH35O1rC25vX9Rvh+UYSibYHF/chXNRmUnT59ernDyJEjlQAuERERERERUXkYuCUiugPY91uOtJNrMNEjHWvDxmLg6JmITnaHX3gcMn8eA3d1PiIi+odUt0Lthp4YMult9PgzCot/VGu5SrlHsDJslK5Wrv8ozNmSggI1KSHiOUxcvg1Rk4artXanYeXJXDVVKkDKznmYNFxXq3f4pHnYnaomKXJxZOkkBPrr0gOnRCEhW01CAuaJafMO6Nbz3Me7xbTd+EidpihIQWzEJAyX635uOCZF7DYMOqfGYs54fd5eN8h7ZUybNu3WBm8LxfXvlfZwsLKAhYUFHLyCEKMpcmTtwWw/ZyXNwsIG7V9Zi/RCIOnjVrBoFoRE8S+omQVafZykvqEsU/PKWqmtgmfjpYZi2Q/PhpyatXc2Bjaz0a3PpgkGfinbv9BRljM0EtET2sNGpls5G6SLdyNGpGm3JfqCLkWuq0mwmHdZHyXNf4Nuumm6ZRWv5+MYMUXDZLnJJpVlc/7ipbIufzFFdSEaIb5qWYpldp9muMys2CC0d9Atz8KhPYI2G6zROKUmsz9mfjkQzmpenP0ikXghBkGe+nIUy4rVLKuifX4s0nAfzEtEvppUUpM4HRGPl9rvOSvQx6IJQg7rRrM2h6C73LdyOQ27I0SbB+GGtrccsgZu6cHNzU1NJSIiIiIiIiofA7dERHcI66Z+mBVzGnlFRSiSQ+ZRrHnrcdhbqjPQHaf3Urmv2L8t0T2tenP4PGWPIweO6AKc11KwbnoYEh6ehGXLv8Oyj4egYPkkLDxQEv5MiTkM1zELsWzZQoT2uYp1oYuwW4045e6eg4nLsuAbtkyp1RvWKQXzJnyE3WpsN2vnHIT96IpXI0S6eP+rrrH4KHybYbBO8BzzHb57q7N4pashPK6DnJqL3XMnIirLF2Ffi/Svw/BYyjxMnLNbpEgnECXyktEtTJf3MB9kfD0JUUeUxEqRQdtbGbzdE+yBgQkDEZMpzqsFmYj0iET3gBVqoC4Js5/yxgzbCKTlifTzMegt5vV+LxHubx1F0clZ8BD/Zp0swtG3TP/Uqbx5Ez9eDusvjiItdgzc0yMx8PEZsH4/Sbkm58UHIumVPsWBQMW3QYh8eDky8/KQttQX0a+MRaTabm/6koHovsQDkefyUJSXpmxLn34RSrO+8rpxOtxD17etWPbyfrr3mJL+pVyWO+Yn5iEvMwFjMmNKArCC6XLrjeVi+ZuGi5mUdS0XU4TCBIR49cGKNpFKWeadi4DTvO5oP0VtcFtuu28kPL5IE9sutu0LsR29eyPiD11y+VZgTdIYJGSKvCbOR6t1L6FVwxBYzxHlmJeJX6YBs3uHYI86d/n7fA+CHn8JSQFxyCsQ+dwj9sHrMvCrJGo4YWCALxKXrlUC7lL+hjWIdhsK/zZiZH8I2vdeAY8F6vbMcUKEb3uE7NfNe3PbW5YM0sbGxpYZGLglIiIiIiIiczFwS0RERERUjlq1awMZmciUIwfXYmX2AIzq7war6oCViw+G9KmN3fElUT3XfkPg07A2rKzs0XrQcPSw2oddSmA3A7HrE9B80Dg87Wal1Op16z8JAc0SsDYmQ3nv1ewsoFkbtLYX6eL9jz4figl9mitpFUqPxdoDzTHktafhJlvgtXbDgKAAND+wFrFKUDEXmbn2aNNazbtbX4ybOg6POtxInVvjwdvz588rryvLc0oiMmOnwtNWjFjaw29Qb2BdDGJk4v5IzNrfGxEL/OAkt6v+45jx+Xz4WiXdsj5OnSZHYn4vDzjVFyuwH4jlaUmIHOQEpRjbyCBgEqK3a2p19ovA8pEeSlPHTs/7w0/kdI8a+8y7kAY87gtfmVlrJ/i9H4M1E7x1iZWShOWfxeDx9yIQ2NIa1rZO8H0vBEPVVKnccjNm8yzMTB+Dr+b0VsrS2skPy9eOQdoHsxAt+9nPyUIavOH7lNx2sW2DZiNmVZCYYo6hCHnPF0624p0tx2DM82LSgCDM8BHLsraH5yB/eOTHIE7tX7j8vGciLUtsr48nrC1FPttNxPJty+HnrK9zW8Kp31D4Hl6DaDXYGrN5LdyHi3WJ19GfzUTaa19hfj/99izHmtfSMPMzNfx9U9tLREREREREdOsxcEtEREREZKaM1GQgax0mKU0R64ZJ67MAbXPE1a3UF0L11mj9qHjfJRn2TUHSOXu0bq7to9Yebv+yQsrZFGWsgVdfeCYvQuDoMMxbtQ1H8l3xaCc3MZcZUpKQYt8azeuq41JdN7hbifUqi2+DHv1qY2PocEz6OAob96agdstH0dpFk99KkoFafbBWBnD1QdzKsrbNM2he2OKZFWJqni4xLQnpLb11AT69jmPwVWjvW9bHqYODpoSt7WF9KhL++mZ6LZog6DCQLwObevZiHvWlXp6a7j5gInonvASHht2VfutjcjzgN8jzBvKaiF8OW6O9p+adloZrLbfcjEg6lgA85Q1vbWseHp7wRgISxaGNpn6Y2OsXvOTojO5DQxARmwmPAX7wfEg3a0VkkFVPeV0qv1rl590XY99ywOzHbdD+mSDMXp0Ihyf84NvSyPKc+mCozx6s3ZwOFMYgerU7hg6WYdskJIrN9X3CMAzbylOMJyTqauje5PYSERERERER3WoM3BIRERERlePv3FyggQMc1HG0fhULv/sO32mHMZ5qYmkFKChbSdBAbr6mxquTD96OWIbZY3zh/tf/MO+t4Xh96Ykb6odWJxdXi99sheb+s7FsYRiGtLPCkfWhGDUqTK2NW3lHjx7Fe++9p7yWAdvXXntNeV15+Yh+pZWu2dzzebruAn7Q1iv9h52aDe8n1KaSC0Reik5jlmx211xNA7HpXB6OLg1E+/S18H/YBk0m7Cnun/XWuUXllp+lq02ucEdgdBryfluOQM90rB3RCjYeQdiToybfMhXl3RqPhx9FXlocZvSyRsz73nB27o5ItbauISf0ed4XMRtikL93LSKd1GaSTcjLKdnaf257iYiIiIiIiMzDwC0RERERkSnXTiB2exZad2gNWS/Voa4rcCQBR7RROG1t2zJS8MfvQIO6MuzrCveGWThyQttjbRbOp4iURmK5KEDKb/tw5E8x3roz+r4cioVTeiAzeiu03aua5OoO16wjOHFJHZcunRc5EOuVi7+UjH17k5Fr7wbPp4bg7Q/nIcDlCDbG65pprgxjQdtWrVop45WXhsSEfAydNhWe9mqNSm3tVmd3OB2LQ4I2mPbHHqzdnngbgqFC4i9IbBOCGbKpZKUGab5hbdty5SNx+1rEnAI8fIZi4hc7kLZtDNI+mW+6+WKTPNC+TT5+SdBE1gu1W1xBuRnh3tIT2B6HOO18SUlIhCc83ETuj8Uo5YqWvhj61lfYkbQDY/6Yjfll+pa9WRXk/Y8ErF2dgCwnT/R+bQY2JSRhfssYzF6naa5aQ2kuecNyBK1YA/vnByrNJMugrIfY3Jif45QxvaSTYvs8PUTqP7m9REREREREROZh4JaIiIiIqLRrBcg9tw+L3pqGrQ8OQ0BXXVO6Vp36okftfVgcEYsMWZM1PwWxc0dh2vaSYGzK+ijEpopEsYzk9QuxLrcznu4gw74N4NPfEydWLy5Jj56HZSc94efbQKRbIffAIoTNX4sT2WJUph8/jILaDqgtF1ya80NwxXmknFdr9Tr5wK/DCaxcEosUOZ6fjI0Ry3Cigx98lNZ2k7B1bhgW78xQavAWZB3B8WTA3q6GTDSbbBr51gVtJRvYOwNrv4xEYlYWsg5HYuBo2WyuqmMggjpGY8zotUiX23VhD0IGeCPoZ1kvU3Bzh6dsFvdkPvJzKgjlmjOvozPsRR4iYtORlZWOmGmBCDmmplXIGlkbAtF9+AzsuSBGC/ORsCsG+WIDi2tsm80d/q/7Ys+0MYg8JvObjugJQSgpmQrKTXD38ABOJiJJbKsSfO4VhKlOEQiaFqOUZX56NMYGRMB5chB6y75kL6xF4NP+mLFLdzznH96DmHx7ON9YC9jlqCjvvyBisC/GLElSgvP56TGIOygO+fo2uuTSnPwR2C8aEZ8DgX4ltd97vz4Vzp8HIUTsS1ECSN8wFi997oypr/dW0m9me9955x3ExsbihRdeUKcQERERERER3TwGbomIiIiIiu3GR7LvWv/hCJwShYx2E7AwrC9cq6vJ1Ztj5Ny34XMxCq8PF/O9OAlb6wRggm9JH6mundxx4rMAZRmTtjhg2LQAeKqVCmt3noDZg4B1bw9X0kN/skfAxxPQWY3MNh8+GxPcE/DRKF0eQve5YVzYMDTXJRty6Yy+7TIQNU7MFyNrzdZG5/GzMQTrMOlFmbdQ7KobgNnjO+sCv3V9MCFsALB+IoaLbRw+Zhmy+oViQjezetAtJmvbSrcmaCs5IXDVDow5NxatHBzg0Csa3lMCxdQsZCm1bN0xcXscQnLGwNnGAhbOftjTaxN+maarVwnL3hj7ljsie9vA5vUK6rWaM2+nWYj7wgPLn3aGg4M7gtIDMaMXkJmprSlt2uNzErHGMxq9nUVerWzgvdYTy/fMwuNqemU4vbwGO0YmYayHyK+DJyIb+kEXcpQqKjfAY9BE9E4OQhM7b0T8ISZYemJG/Cb4bh+olKVNw0AkDhdl+Z4a7OwyH4lr2yO6n4PS76zN42vguTQOszrpkm+dCvL+UCDW7AkB3m8FG5mPhhOR/tYOrBlpqqdga/g9L0rGKRADO6qTpI4z8Eu0L6L9nMVybOA8OhFDo3/BDP08N7G93bp1UwY3Nzd1ChEREREREdHNs6j19MSi3K2z1FEiolvvzJkzaNy4sTpGRERk3L1wvUiIeA5RjT7D7H6yBu29SwZvZeBWDnea6BEW6LNMHdEavglFS0vCnneEU7PRqlkQEtXREh6YdfIoJjZVR+8Ad1W5/sO+/vprjBw5UgniymBuaTJdmj59ulJTl4iIiIiIiMgUBm6J6LZj4JaIiMzBwC0R3Y127twJHx8fdcy0JUuW4MUXX1THiIiIiIiIiMpi4JaIbjsGbomIyBwM3BLR3Sg5ORnffPON8tcUWRuXtW2JiIiIiIioIgzcEtFtx8AtERGZg9cLIiIiIiIiIiK6n1VT/xIRERERERERERERERERURVh4JaIiIiIiIiIiIiIiIiIqIoxcEtEREREREREREREREREVMUYuCUiIiIiIiIiIiIiIiIiqmIM3BIRERERERERERERERERVTGLWk9PLMrdOksdJSK69c6cOaO+IiIiKl/jxo3VV0RERERERERERPcXBm6J6LaTgVt+EU9ERBXh9YKIiIiIiIiIiO5nbCqZiIiIiIiIiIiIiIiIiKiKMXBLRERERERERERERERERFTFGLglIiIiIiIiIiIiIiIiIqpiDNwSEREREREREREREREREVUxBm6JiIiIiIiIiIiIiIiIiKoYA7dERERERERERERERERERFWMgVsiIiIiIiIiIiIiIiIioipmUevpiUW5W2epo0REt96ZM2fQuHFjdeze8e6772Lnzp3qmHHdunXDO++8o44REd3b5Dnxm2++QXJyMpYsWQI3Nzc1xTz36vWCiIiIiIiIiIjIHAzcEtFtdy9+ES+DEz4+PuqYaTJoIYMXMoBLxuQhfukfCN5biOx6tvghrCFc1JSKXUZUaAqOPeOBGV7qpPvR+QuIuVATvh526gSiqiGDte7u7uqY7vyXlJSkjpmHgVsiIiIiIiIiIrqfsalkIqIbIGuUSTIgKwOzxgaZJgMZcvjnyGBmIvzXX1bHy1OZeW+Tw38ieC8wfEITxE1zrkTQ9gbEJ6HjqCTsVkfvFan7MhH8xUUcUseJqkrpc90/e+4jIiIiIiIiIiK6+zFwS0R0E2SNshdffNHoQGbIK0J2PWv0bFoTNaws1YlUGS59mmH/J25oq44TVRX5YxVt08hsaYCIiIiIiIiIiKhy2FQyEd1291LTl7KJZFmLTNa4la9lYOKFF15QUw3JPnDlvDKI27VrVyWgYV4gIw+H1qchLPYKkq4Adg41MX50YzzbsLpBesiOK0gtEOlO1ggd0wi+Banwfy8Hx9W54FhO08Op54zOi/Un8Mw5G4zPycHcM9b4dKE7Op9PR/jnWVifWoSrVhZo61UPn45whNIwr7KcAgx+uRpWLc3DcZFflxZ18OkbrnBXfxqUfSgZbywRec4DathYYvAwF4zvUBupcl1brulmElr0dMXy/nXUMWOuIWnbGbyxQWy3eFsLT1u0TM7Blf76ppJNl9vuBYl4Q1MltWeg+p7L57EgIhNRZ66JbasOry4OCB+ibpt0LgXBCy4jJlO8rlkdvk87YkYfB9TQpRqnlkl3P1GcMq9iHyllElgD38+5gKh0MU9NSwwLfAjj29ro3nM9GzGR6Qg7VIhsuU9dbBA+wQ1etrrk8vKhlOMBG7H/XJASeRKvXXHA/tEPKm8DLmJBcAaSn2mC8C41b8/2Emnoz4/SjfTvzaaSiYiIiIiIiIjofsYat0RElSCDsSNHjlSCtpL8K8eNDfpmQr/++mtlXB/MqMjFHSkI+NECr01rhv0Lm2Gx1zWELUgpDrKm/vCHkj5+ukhf0AiftihE8ByR7tIQyxe6YryjLgi6v7z+Ysub90guDnk2wA8fOMMLFzD3/Uz82uZB7Fzggf0z7eGScAFhu66oM0tXsGBXTcwIb4a4MHu0Tb6M8P/m6pIyUxCyMB8uAxsiTmzLhoGW2PxlKlZdFFno3xz7A611QeOFHhUEbYXD5zBq/TX0fFks61N3zGhagF1iOXrllVvn0SLvcl2QwWg1aHv9IhZ8cAGxTg9gwzwPxE2vg3p7L8D/W/1CxbbPuYwULyfELWiOuHE2SNn0J+YeKgk2m3YFOy7aYcksUSZT7eB68jL8Q7NQw0/kfZ47lncFoiL/LG7e+FBUCoJTrLFwligTsU9D6+fjtch0XFVSzc1HdXg9Zg27w39j93V1UlIutuTURM/2NW/z9hLpyB+oyB+qmPpBCxEREREREREREZnGwC0R0R3G7jFnbA1rCN96sulgS7h3skaLzCuIlzU1cRHrdxXCt7+LLr1abbQdUhfBTSxwQdaSvBVaPIAZPevBxcEaNa7bIXBaIyzp74Aa8opRxwm9mgExh7N08yqs8ObLznCvaYkajs7o1QKIP52jS8q7jgvXLeHVzhY1xLbU6+KIz0bY4RFdaiVcw+6f8nC1gz1GtxXLsrKGu09dDKmnJgvll5sRBy5j8d82CH7hQdSzAmrUc8KMkTbI/vmyGvi8hgt5FvBqXUdse3XUaNoAM16xh49DofL28tVE4BBH1JNl0tAZgzyAq03tivPeQubtylUcSpXzXkPL/g0RO9kFLWpWV/apr1dN4Hge4pVlVSIfbWzRy+oKdh/WBVtTf81Haota6FJLjNzW7SXS8fHxUQZ3d3flhy5ERERERERERERkPgZuiYj+IbIWmjlq1AJS/nsWg95IRMdRYlCaNC4ClOBaIVIvV0fLJjWVeRXV6mHwyw3R2UEdv1k1q5U0jVutJmpeycbcGcfgLfMiBqXJYX2NTkV12MnAoJY+3eUBDG5aiLDJJ/DavLNYdagQ7p2c0EITcDVPLpLSgJYNtSsS+dRcxcovt7JSUwoAt5p4RHslbGiFltcLkKQEe+0xuEs1rPr0BPw/SUZUXA7qtHaCV0NN2ZtkIYtRVV22Oiz+WOhGy6iOGjbXEL/0NHzGqXmPzNfkuzL5qI+e7YDNB2QUPwe7jlyDbwe1SeXbur1EumaS9a0RSNOnTy9ueYCIiIiIiIiIiIgqxsAtEVElmNdHrXHmvjf1B7XJ35Am2L/QA/un2aKFmvaP+/tPvPeBbCrZEVvnibyI/HzaVk0zSx08G9QMccF18WzDa4iNSoP31GQc+ltNvoVuSbldKcJl9aWsNdt2WHPsDGuA0R7VcGhbBnoEn8L3Si3ZW+kKdn+Zqmsq+QPZzLO+WWe9yuWjrZd4b+LfOJ75F2JT1GaSTamS7aV7lbEgrWw6mYiIiIiIiIiIiMzDwC0RUSXcTL+N5gYwklKvoUXXevB1VANu16D2dSpZwqXONRw7relj9no2DsWdR9JtCIYi6yqSrlhjtF892FnJCddwpRJdnl49dx4xB7OBhvXRs787Pv+wPgb/nYdVR9QZzFYb7s7AsXPajbyOq5ratOWXW1kurmKDkq/gV22N3IxCpFazgruTeH3xImLiLiK7Xj107tkI4dMbIrh+AVbtKwl13hpXkJRWhJ59GqKFrWzmWSgo0v2VKpsP2Vzylb/x/do8xDez0TWTLNw520v3KvnjFFnLVn+ui42NVf4SERERERERERGReRi4JSKqBBmQuJEaZC+++KL6qmJ2thY4fuAS4s/nI/v8eSxYkoMkNQ2oh/5dLBGzPhUxFwuB67k4tDIdARvycFUJ0NWGSwMg9fwVXL0iBuU9ppgxr0011K92Bd9vy0J2Tj6SYs/go0Q1zQw1/srFR1+cx1eHc8XYNVw9nYdfr1igvq0u3XzV0flJG9Q4kIUFh3JwtSAfxzddwMqLarJQfrkJTpZwRyGS0uX2XgM61EFArTzMXXkeFwuAqxf/RPi3ebB7og46K1fHfKyOOo+PYi8rZXP1YjYOZQD17WS7x7dSdZF3YPeuFCSJMs4+k4aQtZrAfKXzUR/PdgJWHSiAb/u6Jc1e3zHbS/eyd955B0lJSSgqKrqpFgqIiIiIiIiIiIjuRwzcEhFV0o0Ebs3t31ZqO8wJoXWv4o3QJPjMyELOE7bojOu4rFY2dXnmISzuWoS500+i4+izCEmuiU8nu6rNAldHF5/aqH/oArzfTEW8Ms0UM+Z1cMWMUdZI2ZQGn6AkvHHQCoGeFsCV6xUEhVVtGmLFMEvsjzyLjqNOwHveFbgPccJ4DzW9MsSyFvavji1fnoP3G0l4L7Umumj6yq2o3NDwAQxrek2U22mM3ComVquH0ZPrw+vkRfQblwjv6X8hqV19LB+iLrSeK8LfqA1sS1H69/Weno2L3vUxo7uYdkvVxrNj6uPZvy5jkCjjHhF5aOljDRdcQ7bM+w3ko4VXLbhct4Kvl6aZ5Dtme+leJvu4HTlyJHx8fNi/LRERERERERERUSVZ1Hp6YlHu1lnqKBHRrXfmzBk0btxYHbv7ff3110pgojJkDbQbCfjerN0LEvHGIXVEq21d7B/9oDpyp/gTIaMuYYs6ptUz0AMzvNSRO8DdVa5E/wwZqHV3d1fHdD9ykee+yrh3rhfXkH0gBcH/yUV8phitBrg3s0VooAva1tHVYjd2HrFzsUboKw3h66RrNt3kucbRFj+ENYSLOorr5xH+5gWsgg0+/8QNXtqfZqaeg/97OTiujipqVoevT12EPlMfdqZ+xnn5PBZEZGL1ObEt10XeHGoi0P9BDGtT9sccFzedRI8NhWjbryEW9zFsUqHi7TRy7pfl1bA2xo9xRedyykshy+I14K3S26ilPTeXV1Z3mpyLWLX0Ej5PLER2AVDDxhK+fetjWncHXWsK8UnoGJlf5hqpK6vqGD+tOYa5GClfKwu09bBD6MuucFe6QbiMqNAUzIX+uDLxnrb2mPGiE1yU99y7TB5rCl25+u47gWe2GPYdYfozkoNVM88h/Jwlgmc2w2DNj86Kj/9qVpgR3hQ9iz8+pfeJlIdDm9Iw979XcChPjJbej8Y+6wr1WICpdPU+y9Wcc4WaX/1n6gbOL7rytcanC93RWZ1moOAyYr7+E2GHSo77/gMfxPgudUpaEamoLEpJXV9qf4k8enWogxnDnFDPSB6NntNMlq+q+DwjzpmHUxG2PAcxJs7/ivPpmPvVZXxffI61wqB/O2N0h/vkB3Pl7mf1+D+vzluG7vhBhdcX1eULiIq8hMiT5V3PKndMVTy/kfOoqkVPVyzvn1fBeTYTCyanY/FfYlvni8+K9jg9nAyf+WKlXvURG1jTyLlCqOgabuz6YdZn7xouxp1DyIa8kvubUtdrIiIiIrp5Rh5TiIioPDfS/GdVBG2lzqM9sH+hkeGODC4+iBnG8iqGOyloK91d5Ur0zyhdw/Z+rnGbHX8W//4yF79aWiN4hANmPF0TOJ2DgHfOYre2q25YYphID5dDf2vUP5+P4PfOIsbUPPphoB3qq6mKAzlYJVtYv5KH7w8Y74jcpbWd+n57BDS8jpgt5+G/Wn7rakTOnwh55wIWpwK9nhHvGWKLzpZXMHf+OYQd0DblLl3G5r2FyqtDezMh3mKEGdvZsHbx9inldS4Xb5RXXvpBloW9Hcbrx/vV1H1xrVleuLblADPK6s5wGVGzMhB+uAidu9uL7bDH6CZF2LI6HSN/uIG+xzXlEdy2Go4duoyApSajIjql33MgE88sSDevxY27WMvu6nEjhmEN5RQL9OxXMq2zvTKboJk+pDbaFsjPSAoWlP69Smomvj8nXxTi+59N7LvrBfhoSTqy1VFjUn/4AwEbriC7iS1miHXO6F4D2YcvY9DMPww+dyWfdWN5Np4+vImaKFTqXKG6kfcYdT0LUTNTECw+m+5txXaKc08vh2tYFZWCkeuz1JnMLwtDJfsruIMFTovzVY/3ziFJ2/e/wsQ5zczzjHL+n5+DGFghoL9YV1cr4KR6/s9RZgH+/hNh72ciKsMCz8pz7Ag7PGtTiMVfGjvH3oMq3M810XmgWq6ibHrWkW/Snv/roKWcpKjg+qJcz85j7kmgbVdxnPYXn1Xormch8TLiqlPZY8rs+bXHiDqM76BpEcfkedYB/R+rLsoqH5tLXasOxeeLc4UFBnV1VKeUUqlruMrMz97VA2cxdGkeTtvYKPc34c/YwC7D2PWaiIiIiG4GA7dERJUkg7CVCd5Wpn9bIqK7lTwvan+kcv/2cXsBn0fl46JDbSx51x2DvZ3Qs38TLB9SE8jLR9Qu2ee3niW8RLqvHHq6Y/m/rYDrV7AlXvvFqmYe/dDOXlP75Qpi4vIBByt0dgC2xJ03Gliza1hHfb8zRgc5IqAOkHog22jtsUOrM7ElrzoC3vgXgnuK9/g0xIzJDvCtVoTvt12ApntxICkLq84DXrKK0fk8rDdaydqM7XSoWbx9srwWDxLziPL63pyyqGVfMt3TCnZyVs3yfFvoqzGaV1Z3hNS/sDkdcHmiHmb0dxbb4Yxh4xpgdD3g+K4s07X+TNGUx+CXG+AlsZzs5PxyglyCwXsaY5rskyExp9QPC0r8dCi7wuG3pJJAyZ2qXgv1uBGDlzhO5CNzS0/9NEe411JmEzTTfRrh01G1Ibs52LLX4BOC4z/n4Xg1ccw1Fq//Z3rfZR/JwlyTQbvLiIkvBOrUxoxxDdFTrFN+TsL/rzqQnoP1p9TZhJLPurE8G0t3QgtNLeDKnCv0buQ9xlyNu4S54rj38nsIi18W2ynOPaHTHkKoLLttl9Rjz/yyMFSyvwaPaIb/DKsJOzF/2GZ9NFVl6pxm1nkmE8vWivO/jQ0Wz2yK0eL8OXhIU6webYN64nz20SY1mH3kb3wvPgq+/RthvDzHej+E8SH26Alxjv3pktHzkrHPU+nhbvh8SRXv55pwb6eWq3cdtFTinNrzfz2UHLLlX1+Ob/pLXM8sMHj0v/DpkIfEPOKzOtMRg22KsGXtefUYrewxVYn5tceIOng11ARuyznPujxRC23F6Jb4C8qsOhew5WCReF8tdG+qTiqlUtdwlXmfPSD+f+L4hhXeDHJT7m98e7qJ67Xu/sbwel3C2LFaerhbjl0iIiKifwoDt0REN0AGJGRA1pzhhRdeUN9FRHRvi42NxfTp05VBvr4vncuD/O7S3asOWmjutGu0r4vPRzhgmKZmW2k1alVX/mZf0dX2MkvmBaxOBNp2ccLbsnZOYg42V1jRzQp15PfGV66j7NesWdh/qgioZ4NeTXX5UdRywGuvOCDct5YmaAwc2vk3UmvaIGCCHXpWu4bVO7VfMBtnznba2ermSfnrFoZWb6isqoi9FVzF8ZO67y98n64vJ3sEzPTA/vBGar/2N+Iarp66jB0XxS5uYlPSrGaFasJOjTVcMRFbfLKtHf57IBsTFvxhdDh2Nh8Pu9uoc9+DalkowbzsfPH5KXYB38ddg12HB/Dx/1mLY/BvfH9YTdJqXRsBDkX4PioNh8rUAJVqwkVWs7/8NyJjLxcH9tz9mmP/wpYYbSKAc/PKO1eYciPv0Yk/JN9hhWe7aJtct0Uvb10wLuaIHL81ZWHnXQe9RD4PHfrLIJB1I+e0Yqk52C3OKS6P2qGt9puWNnZ4VgazD+fofixRv7ry2YuJ/ROHLqu1Kas56VqeedPZ4Byrdy99vszbzzfG8PpyGfGHRfnWqYVn22iuZ9Xq49lHLcTnMR/xyg6p7DF1uz6Ppc6z9ezRU9b6Py7uK/TnBXEMbRZpLu3sTFwHKncN1zN3n9SvJ5dZgGXfX1CaYFZ4N1FaHgrvqma+lPv+2kBERER0A9jHLRHddvdaH7e3U8dRieorojuH/DKG6J9wT1wv1H7jdH3YKe07GlWmn8crmVj8QToWpFdX+yY11ddmSbqk64sRur4z8QcCpmYDRvplRHF+CnFx1zkMjcrH1bZ1sXX0g6W+xP1T1+9e6X50jVH7i93cVvazVxfxkSfxmtgmbd+xFW+nuj5tP7QFl/H9/FSEHa+GgLebY7S7eWWh0PdDqV2eqsKyusNki2Pp30vycVHpn9AKvo/ZIbDPgyV9zIr0G+rjVnKyxeqpDdW+GE30cavps/PqqVSMnCPKtV7Fx8W0JamI/t9f6pjOK33ri8FEs553MMOyVCcKuj5TUTK9IAcxX/6BYHGM9gx0F/tDDWAcSobPgnz0Gt0MwW0uaT4v+rLQlPWTeegxPw81uzbAD89ble23MudPhE2/hO9lBVHZR2sbGwzr54zO+r48TfXBqt+PZqaXf64odWxU+vxi5JxQTN+vqZE09VgvPq9WVBallNlfCnV9l22w+FM3pWajOec0hanzTOl8Fiu9bdeQ9MNp+EcXKkE/O5eaGPSEA4Z3dTDd77jq7v98VWI/K0zPb/b1xcj1TN/vcfH5s5LHVMXzmzj3FufFvPPsxW2n0GNtIQaPbSnOIcDxb4/B/8dqmmNZLZ/S5++KruFqWeu2vxL75HoWomakYa4MeMs+eZvUwrP96+FZ94r7Zr6Xrg1EREREtxsDt0R02zFwS0RE5rj/ArfqiF41C/Qc4ooZXZVGONV5ZP99drqggqI63Nvpmz7NxILJ6VjcwB5xSi2tXHz/wVmEXa6N5R+otTJNBGtquNTGwgmN0LZMzNLML32Fq7tOwzvqKgKC1BpGh5PhMz8PXsOaILyLLnBV8Xaa+HJbaOvTAJ8OqafUYqy4LFSmAirmlNWdqOAydm+6iKj/5SNe1g62ssT44CYY1rB6qS/elbkVurIqFbjwsMfWEfJ4vIYLBy8iZHU+Losy2jBKBtZMfPGvW1wJ25qY8XZj9HTU1OIyQfsF/d38xbxhWaoTBX3QpzTtMQvZNPenpxGcIo4xtZb0oSXHEBBfA+GzmsBXOW7VslaOV3vsXpiENw5Ww+ipDVDjizTDwK2iEKnxaYj8bx5izl1Tary17e2Mxc/YFx/72a3tML6DJthUz1bXjK+Z6eWfK7T5LQncmn9+0ZepkQBRpQN65ZRFKeYGbs05pylMnWeM5lMysW2XM/H9ZjHsvYJDsqVYW5E+XaQbKTetu/vzVdn9bHp+s68v5gRuFeYfUzrlza+uW/Zh66P5+UIta3RRujsw8zz7dxqCJ2Qh/jFHxI60wILgDCx+wA5bpz6kNhetls8/FbhViG1NysCy9TlYfboQ2QXiNNKuLv4jrie6c59p98q1gYiIiOh2q+D3nEREREREZDYnS7iLP1evX9eN6/2dhfi4dOw+ZdjH7bARDggfYQtfGzH6QC0Mf6L0156l+3XVBCqTsrFFBvOOZ8F7VCI6jjqLsDNiPDMfO0r1NevS2k6sxwEzHtMFbLp0dTQaVJFNNTaR3waL7MuGE0tcQdLBdMT8LxPZ6vgupT/OIiyeJdcthvl5SlrMgczipiN1zNhO+eW2Mo8YXm6AH2Y1w+LiAJheOWVRkUqU1R3Fqg4693fH5x94IO5tW7S4Voi5UemGfRQWlA0glmFVDfUcaouhDlr4NMJrHsDFg9km+6tV6PdJz5pKgMClwwNmBW2l90a6oPdjD9zjX8xboGc/eczaY5iTGK1mhcF9NMfs35nYIiOal3PhrxxziQj4X5HS7OiWXww/XTo10XmYPXrWvIYFkZk4pk41ZAkXr4YIndwcsZ86YbRY76HoC/he0+R3mT5si/t41qko3fxzRYkbeU9ZteHSQP69huxSx+XVv3XHuLurNhhacVmU7ypSL4s/DpaQrd5W7pxmgnr+z84r0I0XK8BluWhHXXqxOg54dkgTLP5EbMMIa9TLyUfI6oqbZr67P1+V3c8VKe/6ol7PrhSp160S2XnyGl0dLV114zqVPabMmL90H7cGfdQLFZ1na9UVn1GR34M5OCTuH7aIY7atWIYuaGuMuddwrcruk+qwc3fG6Debie1uhPC2FuJ6konPjTUDX8r9cW0gIiIiunkM3BIRERER3SoNbSBbSU1KyEaSNnZ7JBOvLc1E1Gl1XKEPRDZEaH8rIDMX722UkQRzXEN8zN9IrWaFAOVLa/1QG21FWul+GfXBmp4v1EWAAxCzPh27jQbt7NGxqQVwMQ+x5zQBwetZiPwiE8FinUoA4+J5RCUCLu3qaNbtgODW4r1l+o41Yzu1X253qAcXW02NwJtWubK6E8jmMWXgKCS+ZB/UcH8AveQX8ukFSJETHHT9ZB46nSXHVHm4IL+VF9vqLoOJRhXiqtJtbjXUsFYmGKffJ/2d8WYLIPXnS4hS+oM0j/yC/t7+Yr4aWnrKY9YZ44fVhsv1AnwS9WdxgO9ibDZirlfHs/21x5wdetYRn7+fLxgG3/VsnfC2n/iMpOdjy3l1mpSZgtdkIHHBn+oEwcoBPdvJAE8hjisHxK1h/rmixI28p6zq6OIpa7UW4Ptdsv1ZPXE+iSsQxS2Ox9Zi9BaVRXbcZaWv0LZe9rpaiZU6p5nQ0BY+YvtT92Ub9lV8OBvfi1OeSxtb3Wd2yTHx+T6h+TxVh513LciKn9npV4wfG6XcvZ8vM/ez2cq7vtijc1txXFyWfUtrr2cX8P2+InGOs4aX3CGVPaZu5eexwvOsSJc3FVfy8fnqfKTKfmi9y/tVhJnXcAPm7pMLCH9DbHfoOV1fzVK12rr8oQhJqdofppl2718biIiIiG4eA7dERERERLdMfbw2qCZqnM/BqBnJWBWXji3rT2PQ0nzAxhrDuhjvB86uawOMdwSOb8nAFu33pihUaurGaIeDWbh6/RJiDxUBzWrjJeVLa/3wIAartXPitYEDvWr18JKfNezy8vHR98bDA20H2cPX6hoWzDmNuVvE+mLPIeSdS9hy3QLPPl1fqelzcW8eDskah//nqlm3Ewb3qgUX+eVvnMFGFDO9neYwURZqqkk3WlZVqJ63HXraAFuW/o6Q9WnKtq76Mh0Lzos0Dxu0lDM1tcdgJyB113m8sVKdZ+E5hCWJebzs0Fn7pJd5pbjMVi09i09kTdDGNfGIWU+DNug5xBYtrhdirlhP2dpahKYP4m2l1tlf+OqUDJbkYMfBQqCONQb31B5zD2G4pwVw5m/sMBGds+vqhNDSLcY71MUwsXwcuoRBC85hi9yXW5Lwxg6xLpua6NxEnc8M2ecuFx8L+uG4sbyYca4ow+z3GPksH89BDe+6GC+O6fi1fyBg6R9i+h+YO/MPpXZ8i6fr6pqXvuGyuI5jCbp1rVp6Ev+OuoJsJ1uE9tIFwW70nGbIAcPF9tfLy0PA1NOIilXP/4vycFGc/9/u46DM1fb/aqNFtWuYO+ek7hwbl4YFszKVZnNbtLYrpzblvcGs/XwDjF1fWvR5QJxLi7BqgXouVa5n57EqT+xrP0ddM/mVPaYqM7/m3Ksf4s8Zq3Fv+jxbo30t+FYrQvwZsfwWtdFLdxiZZM41vDTz9okDBvlYAuL+ZuRM3f1NTOxZcf0R9zfVLNG5TcX93BIRERGReRi4JSIiIiK6hey6NMaGETZokpOH8KWZCNl2BWhii8XvNkJnk19I18GwITaoJ2vtGTSVWYgosYxg7bAmG2lx2VglFuvbvq5hs4uoCa/WVsCVPKyOM/blMFDDyxHjG8uaPZkwGluxdUL4NAcMa1CEVevF+lbmYHdhTYwf2xChHWTNmkys3CWDUrXQXfYDqdW0FmRXkId2XSrT76WOqe00h/GyqGgpV2+irKqM7YOY8a4jgj0ssHtHlrKt4YeBR7wdsOIV2S+tJMpyqivCO1QX5a3Okyi2s6cj/vOCrvHXYudyi8ssPP4aXNvaYfE4V/MDRC4uePsxC+D4X/hcW3ONVDXReYgdvKpdw+LV6biYdAlR50SxedYu039yi4etYSeP5f+aqsJpi2dfsEMLgyd1G3Qe1RCL+9WE3ckchMh9+UO+WIENwqeUd14pK/VIdvGxoB+WGbQEUKLCc4UR5r3HyGd5Ry5Qzb74mE6Kl/kUn90L1TF4mCuW9Nf3M3qjZVGELRt06wo/UIQmnRywdVpDuCvlfDPnNEN2Xo3wn7G28MUVzF1Z6vyvryjZsCGWyHNsvSJ8/4PMUxaiUqqjZ78GWPhMZZoJvkuZtZ9vhJHri3ouHd8M2L1NnCc117MZXrJtZamyx1Ql5tece/XDXKVJbiNMnWdrOeLZNrqXvl6lr2NGVHgNN8KsfVId7v3d8cOwkvub4JW5OFSnJoLfeMigH3AiIiIiujkWtZ6eWJS7dZY6SkR06505IzuRIyIiqljjxqWrmhEREREREREREd0fGLglottOBm75RTwREVWE1wsiIiIiIiIiIrqfsalkIiIiIiIiIiIiIiIiIqIqxsAtEREREREREREREREREVEVY+CWiIiIiIiIiIiIiIiIiKiKMXBLRERERERERERERERERFTFGLglIiIiIiIiIiIiIiIiIqpiDNwSEREREREREREREREREVUxBm6JiIiIiIiIiIiIiIiIiKoYA7dERERERERERERERERERFWMgVsiIiIiIiIiIiIiIiIioirGwC0RERERERERERERERERURVj4JaIiIiIiIiIiIiIiIiIqIoxcEtEREREREREREREREREVMUYuCUiIiIiIiIiIiIiIiIiqmIM3BIRERERERERERERERERVTEGbomIiIiIiIiIiIiIiIiIqhgDt0REREREREREREREREREVYyBWyIiIiIiIiIiIiIiIiKiKsbALRERERERERERERERERFRFWPgloiIiIiIiIiIiIiIiIioijFwS0RERERERERERERERERUxSxqPT2xKHfrLHWUiOjWO3PmDBo3bqyOERERGSevF0RERERERERERPc6UzETBm6J6LZj4JaIiMzB6wUREREREREREd3P2FQyEREREREREREREREREVEVY+CWiIiIiIiIiIiIiIiIiKiKMXBLRERERERERERERERERFTFGLglIiIiIiIiIiIiIiIiIqpiDNwSEREREREREREREREREVUxBm6JiIiIiIiIiIiIiIiIiKoYA7dERERERERERERERERERFWMgVsiIiIiIiIiIiIiIiIioirGwC0RERERERHd0c6cOaO+IiIiIqL7De8Fie5d/HyXxcAtEREREREREREREREREVEVY+CWiIiIiIiIiIiIiIiIiKiKMXBLRERERERERERERERERFTFGLglIiIiIiIiIiIiIiIiIqpiDNwSEREREREREREREREREVUxBm6JiIiIiIiIiIiIiIiI6J7z7rvvwsfHRxnk6+Tk5OJx/SCnaef7+uuv1Xf/8xi4JSIiIiL6Yw/W7k1XR6Lhb2EB/w3q6F0geoQFLEZEq2P3h/R1L6G9jdhusa8sHNpj5kE1Qcg6HI3ow1nq2M1KwuyH757jQR4LrT5OUsfIHGFhYQgMDLyh4ZtvvlGXcmPSv/VHK68g7MnRjSufZQt/cRa6C1zPxplDZ5B9XTd67LtgBH93TDdyh5B5mvXjJXWsrLz0YziWnqeOEREREd3jUs/Bf1Qi/NdfVifcSpcRFZqIjqHnkKpOMXQFh6JOYtCCNFxUp9wzrl/E4vdOIHjH7ShXuhV27txZPMgArRy00+RQer4zZ84o06oCA7dEREREdO/b4K8L8JUeHp4NGeJKWjcRA3vNwh7d3IZOzUYri1aYfUodp6r3RwT8/NbAfcFRpKWlIe3nSPg1VdOQjjUT+qDPZ7+o40Tlkw/lMgB7I8NPP/2kLsUE5fxh5NyjnlMykxOQuD8BR9XArSHdjwb056l/3jF8GxyM4DLDLPwkv2376zdsjFqMH//QzW3g4k+YpZ/vjpWN3zYsxuLdKep4BY5+K7b9W1EqVOISfppTfnCciIiIbqGci1i14CR8xiWi46hEeL95EiE7MnFVTb6zFSIpRTdcUKeU67YGmW9SfJJS/iHx6nh+AU6fv4ZfU+6OPUF3PgZuiYiIiOg+MRSbiopQpB1+mwh3keI+Lg5FmbPwuG5GutMlxGEPeiNwpAecnJzg1MYTHrZqGpwQuE3s2y981XGi8nXr1g0vvPDCDQ1PPvmkupTyOT0/H2tWrdEM89HbCfCYfFSci3YgULy+U3m+GI7wcO0QhCfriQQHb4wJfxd9G+nmu/vY4dGXxfYMLP7VBxEREd31NmO4pSUsm04z+mOrY9ObwVKkD9+oTrgJm1+0xMOz/smf111G1KwMhB8uQufu9ggfYY/RTYqwZXU6Rv5wN9T0rI1n3/bA/pkN0UKdcs+o5YQZ8zywdUR9dQLRzWHgloiIiIjue0kftzJaq02Z3iwIieJfUDN9E7SyKeVWCPr4JThblTRLm7V3NgY2s9HVprNpgoFfJirTJWU5Q2di9hMy3XgzqFmxQWjvoNbGc2iPoM3apn7zkbjEv7hpYBtPf6wor9rXhWiE+DrrlmXljO7TYmCq4WB93iL9Sub3/1bfbLRO1uYQdG+o5q1hd4TEapam1Cj0x8xPvGEj0ss2KayW1zyxffr8PxGCPcWLMF6eyIox2IaB8xJFKaj5fWaFeLUCfUSaMr9So7qkXMs0HV2J8pASvxyo5MXCwgbtX1mBxEI1QZUVqy2PgYg4LHNWlq5sIxE9ob1SNsp2aI4LqbyyNbZv5PuVY6X4WAhCTOmNOR+NIE/9sSiOJc0ylaaUg2fjJblO/TFfmIgVI9Q8ym2eEI2sUtust3btWoN+gMob5Lx3g9DQUERGRt7QIIO35nDw7A2/QX6awVf5sYGyj43V6Fc+V00QdFi8PhyEJuo8uqaU+2DsBN37ZirngSzs+XggmuiPiWYDMXtveUf4LWKiVu2lH2ch+KONyBD/Nn5UUhtTabZ400/4z8xgBM/5CXJq3tmfsDR8iq4m75QPsfR/Gcq8krKcFTvw0wKZbqKma2EG9n33KaYoNYGn4NPvEpChNt1cLOcYNs7Vr+NTbPy9pGnk0s075/2+FV/I/Ml5Zy5FXLrug6DM93WCeJWAxSLt26PKZCD3GLYuCtPNPykMX2w7BW3Dy3m/b8Sn76jLe0es+7ixZpl1tVY/3Fay7fhjK8KCIxD3lzqulXcGPy1V1ym3ec3h4uaqRSLO/LgUH07RrXNK+FLs0yzW2D7QTYvTlFEEtp41zGfGL9/iU/0y527EsVwxUdn/H2KjuFxkbPqweHkV5QHXxT5b+mHxPvtwaRwyTJxviIiIbljyHCzQtXxaojAWC/7RQOstlvoXNovrrssT9TCjvzN8vZ0xbFwDjK4HHN+VhePKTNdwMS4JAW+W1MgNj8tWUozLw6H1pzHoDd38PpNPI8ro/Yoq5yKiPjkBn9FifjEM+uQcDpVuOeZ6gTKPt1hexzcM1797gZimbUr5fDrC3zumm3fcCQSvvwg5d+r6E+j4Xo6yTce3pJS8p6L1q+nK8kzlT5V9/A+ETBfzKes+hoCl5zX3VMDVpBRNeknelG2I1D3/bYkUrxf8KV79iRA5n/JabTI6+Ky6T4TDyfAR6QGb1MwYbLdY95fpuFi8bt0+9Ff3ScX70NBPh7IrHH5LKmcf0x2BgVsiIiIiIhPc3zqKopOz4CH+zTpZhKNvyfq5UiJmr7JGZEIa4l4T09IjMfDxGbB+Pwl5RUXIiw9E0it9ECKDLnrfzkLc0DicTotAmbqg8v2+kfD4Ik28Pw9pX3ggsndvRKhNkGZ9OxCtJqQjcE8eigryEDc4Ef4efbDCWGymMAEhXiKtTSTS8kRezkXAaV53tJ8igw4mfLsGSeMSkJeXh6NfeCN6qHdJ3veHoH3vFfBYoOZtjhMifNsjZL+arliBWT/7Iy4pDRFPqZMMJCIy1gPL0/KQl7YDE/NnwjtghRKI1SlVnoWJmPlEd0Q/FY28ArENv81AfnB7BG7I1+2TH4aK9+hqUJfsExMqWx67xsL7lSQEbhPbm5eG5Y//gjXaiNExkXffaPhu0O2Lo9PyEeQViGgTXwjg2yBEPrwcmaJs05b6IvqVsYjUx8XNKVvtvpnTCmtfaQXnKdaYJR628zJ/QYjlbPSZZtjId+LHkbCeI47FvEz8Mg2Y7RuIFZr8JX68HNZfHEVa7Bi4IwtrR7THGIQgSZZP2ib4bu8D70+Mf6nl5+eHcePGGfT9Y2yQ88h57yayn6Mff/zRrEHOe1u5jUFcWhymthSvW05VXo9x0yXJHztEfGuPoS/7w9NenD6+HAjv4LWAUqt3PvyxFkGPD0SksSaM/wF1uwYh/O2+aCD+9X07HEFd66opQMaPCbD8dxBCX/VG3ex9WDZ/B6x6Tsb74eF4/3UvZK5ZjK3a340c/AnJnmMxKbQ/ytaLzUNC1CxsyvbC2BnhCJ8xFm0yvsWspeLzos4hZfwYD6t+Yh3vv4vx4vz006LVSDDWil3GDkQsOoZ/jXwf4R++j6D/K8TGz1bjmJi35XNi+S96ipk8ESDy+nwr8fJ6KrZ+thgJToMQ+r7I/9QBsNv9BT7don4VKbdvUTwaDAwV2/c+Qgc2QHzkYiPB2Lpo06EBLh0+pgY+gUu//4bsRp54+AF1QrFL+OnLCOyoMUBZZ/g7r6JlylJE/FcXGc3evwwRMVboO1lsg1jneK9M/CdyK7RxU4N9oJ+27xQaPCfy+X4oXnmyEDvml5RR3uFvMfd7oLtcpkgPaHYMixf9hEv1nkRQ+CT0dQIa9JmE8AlPKsurKA9nNkXgP1kl+8wraz3mbmBfBEREdCt5YEB/ZyyY/63meQPI/88CLHAagAFt1AmKLOydNQgPWVsqNXHrPxaMzdp2fP9Yh1c62CppltYPYdBX8sFAV6u3X5S4r57UDJbt5iBJ/JvTTkwbG4yHxbKUmriF6Vg3qiNs5XvF8NC/F+OY/sdKG4fDss1wvN73IZE2XCzRDPZWcK0GpO77C9+rPy4TExEw0wP7wxvparEePoehS/OR4lQbM0bYY5jTNaxamoLww9eUuUu7uC0FAVuuiCKzQ/gIO/GcegVzP03B90a7u8jB9/MyMPck4PuMA8KfsQZO5iBgXophn7UXryDeppZYvx2erVUo1p+GKGOd3l6/IO4tMrEqrybGj3DAjC7V8OuWDARvy4FLL1dsfaO2rnWsro7Y+lYDuFS4/iuIiRTpydXw0mhXrB5pgxoyXTx8lbn1+zsdYZ9mYwts8OlkV3zuY4mkuAsI/q/60JSThpCPL2PLFWsEi7wFtwZiRN7Cdl2B14hG2DqkpjKb7xDxeoRsikarDnw7VAcuX8WxTN2U47/lIxtWeNbbtmS7My0xbIjcbkukHMjE0G/UAy8pBSPFPsxu4YDV0xtgvJvch2lYYOZvDp5sa4f/HsjGhAV/GB2Onc3Hw+426tx0p2LgloiIiIjuE7oamkotRGW4mX5rnTD18/no3cYJ9rKJXvuBWJ6WhMhBThCPj7BuMxT+bZIQvV3zdNUvAstf84S7k70yj4GcLKTBG75Pyfdbw2nQbMSsChJTJLHc96Px+HvLMaadeKelNTwnR2N+p2jM+NLI09vmWZiZPgZfzekNJzG7tZMflq8dg7QPZiHaVK2m50Mww0es29oaHiMjMKOTWOcKXWAz+rOZSHvtK8zvp8/bcqx5LQ0zP9PWG+6NiKVj4OkmyqPMxkkeCHo/EB4i0drJFzPCx8B63XKsLQ4mlirPzTMQcmEqIid7wtpSbEPLQMx40x4r1sXoZq+MSpZH9BcRyH9tlloe9qI8ZiBIBs9U0e+HIHNyJKaq+8Lj5RmYaL8Ca39WZyhN7veRHkrZOj3vDz/EYI8aMzarbLX75rUxkCFrv+AZ8BUbY23viaGDPZAfG2dQW9zj/eXF+feUeXVai0hNLWonMW1+Lw841RfbcCoSId/6ImKBn1o+Yv9M6Y3EVaZry8qA7Jo1a9SxsmTa3Ra0lcLCwtC9e3ezBhm8rYzE4Caac48YtDXCjRHHlr2TExzE8Q9LBzjJ84Z8reiNrxLjsPyLqejtlID508TnotN8xC0eA79B4liPnY/HxXEWsqCcH2tUQsLXupqT+uFm+jO18x2E/i0awK622Bibh/F86CQMamsHZTOdPOHpdAnHTmqW36o/hj7ugrp2Nso8Bi7GY8fRxugx2BsuNcR4DRd0f6E/Gh/dgXjNt4cNej2PHv8S67C0gYvPIHS3O4z4hLK1Fo7FbEWeyF93F7GmapZo8FhPdLVJwGFTX5Id+xE7sr3x734tYSfeYmnXBs+P8MblmB9xTNaYuJqPy2iMfzWT22cJu7Z98eqwriiOv2vUbeeNxun7cFjJdzaO/ZaBxp4Pw05J1fgjHj/+0RL9/doo60Rtsf1+/dG02iWlBohN6+cROmkQ2iiJYhvaeqJB5rHiLw0lg32gatCtJx51EmVsaYemT/eBt+VhJByVJ8hLiN+WgKYD1GXK9Ke6o2W6KBfNMrUqykNebh7s/tW0eJ91fe4VDG1TB6YuT0RERDfi8bFvotP6CCwu/iFbPtZ9tw6dxo826B4n/atB6PKhNeYl56Aw/wI2PhWDfv8nA7FKKha/OAh7BuxHTmEhcg6MRtKofph2pBeWifENw8R994cnUXhwghJglDbHW+OzY3/g51HuODbjCQxK8MP+nEIU5hzG6FOvYNBczY3Fsc1I+/d/8ccf8+CjTipXLSeEjrRGvStXEDb9JHwmn0LY+j+RWqCm4wq2bM/DxZo2mPFWI/T0dsbot+phcM0irNqeYaQf3ItY+V/x5oZ2WDjqIfh6P4TQIDu0vV6AyG1GIrenLiHyDNC2jwtCezrBt6c7FvYR1/sz2Vipfa6uZ4tw/fJeqQ0XXMP3RlqDufpzFlblWSAg0B2DvZ3Qc0gDDHcE4uOykFqzNuo9YAHldsGmBurVqWnG+q8gVcY+G1jj2bZ14O7VEJ+Nc0B4p5oipTQ7vD2zEWInN0TnxnXg5WeHzmJq/CnZrIgombhcxFwvydvgUfUQUAeIOZSFGrYib7YWyny61yX3VHouj1iL7S7A7kNyzZcRf7QIaGyDLg4l2z14pDtGi2e2nkPcMcPLAhf/l4Utf4vZL1xDKizQpYsj3J3E/gt8EJ+OEHmsWbyjK/TeSBf0fqzMLwDxSt/6YhCFTHc8Bm6JiIiI6D5Ruo/bo5h4w10bOsDBXn0pWdvD+lQk/PVNJatNnOZrv4m2NxKw1Wvqh4m9fsFLjs7oPjQEEbGZ8BjgB8+HZGIifjksHkwf13aC6YT2XtZI/M2w2V0p6VgC8JQ3vLXPjx6e8EYCEk1VErTU5kys6xkPpP+RJl4nIVEszvcJXQhZr5WnGE9I1AQL7XUB13KUBJ2EJ3zhJ96dVhxLNCxPZRvSZ6K9JtDV/gMx8w18s1+58tBtr7enrE6nZ63Juy49/YP2xfmysGiPmSJreabyZmS/6+Y1s2y1+0b/uux3A4YM9qcn2vsAaVkldRAdtIWd+Is4wqLhb1dS1jZDo+V3W+UyFby9W4O2t1uZPm5fb6+m3Ah7OOt3Yfov2COOPycfb/HJVT3kDV8xkn5Y17z4zSrdx622Bm1l2dhoj2cbWF6Mxwp9U8lqs7sF2qaOrY0EbPX+TEGGXVO4ab+TesAVrpYZSJGt1OlV0y7BBa7/Ai7nl/7i6xIyUoHsmLnFAerg4LnYkS3yY7yCCi6dTwGaN4ab9luVBi5wg8iXDFLWa4MnW6bgP++G4YsVWxH3ex4atGkDl7LfoYl8PwzPRhn47ZhYYXYiDp9tDM82ZcK2IuOXkN2gMVzlt5h6Yn//+/9aKkFey5qWuLRvRXEzxbomq8W2asrUYB/oacuoWlM0bSO27y/ZV54oS7FPjq3Q7yMxhMhmqw2XqVVRHpp2ehI2P0dgytzF2PjjYWTYuKFNswYVntaIiIjMl4iEnACM6b8XK9aLC5n0x2JEbByAMS/aILk4yJiEFV/Gotf8LzFA/oLR0h6dpn+M0afmYMkBmW4PG3HPlXYwBsf+yId16ynYlf4zJoh7CVOen/wefOSPWcWzkdv4n3FhxxS0lJde65bwe84DiYc1Tfm0nICwF1vqfqCnTqqInZc7tn7qik97WqOluL5+v+USnplwElHn5A1LNg7J5xu3mnhEf39SrQ7ayl+NpRWUPF/oZebjN3G5d2lig+I6o/Vs0LEOkJp+tUyg9+Lpq0pAsWOLkge/ei1qirurIiSnaEKjYt26+qiCe020FX+S0suGTo+dlg9FRVg8S9ckcMdRKZh7Xky6VqSkl1bx+uvAt5MlapzLRo83TiJ4aSp+tbaD72MOZX8MV8saNU5fRPD0E+q6L2GLmiQdOyXvFUU5Fn9fUA+jwz2wf/SD6ngF3O3Q0wGIOZIlyjkbu8V2tW37gFLOuu22RNum1ZVZgepiPfJOqBCnZc3k1rUw2LYIqxacwDMfnMaCXdfg7uUELxcrZW5zlQ7eMmh7d2HgloiIiIjoZp2aDe8n1KaSC2RQ+DRmGTTBVRF3BEanIe+35Qj0TMfaEa1g4xGEPaaa3xUycyoRksnPgonKUUblZ5c/d15OZZZmRH5+uX3MKny+QppBoF0MS3uriTepkuVRmu8XaYb5EsPyfmriTbrpsr0R1mMQV2p7in6bqCaaVjp4e7cHbWWftYWFhWYN5vZtq1emj9uO2h9i3CY5eRV/zqrSxZ8QsUBtKvlDGRTWNbt7c/LE/lFf3oCmA0MNgtRyUJpFNldhvqaZ5rp4NCAU7094Hl6u2Tj83SxMmbURZ8pWdxHs8LBnY5w5nIhLvx/GKaPNJFfs0s8RumaK35bNFIv8K01WV1YhCgzyaAnv0YZlEh4ehCdLtwqoqigPlm59ETQjFGN7tYRV0g7MDwvDF/tvvBY3ERGRcdZ4fuxoHJy7QOkn/9hXn+DgqNF43jZTxitLXAHsbbU/LHODW9N0JMnfsMplRJ3El27rMLydLWRTycO/TpaTTdP8EskayVj8YrPippLbhJT60a2ldUmAszKs6qBzf3d8/oEH4t62RYtrhZgblW7YXHFpV64bqXVajvzrSmse5sq+UvkbsOwrMkBridFvN8LWDzSD0ixy5ejX79KnCXZOdUSwd3VcSMhB8Edn0WOptu1rVWoqRn2Zi9MNHbD10+bYv7AueqpJt4YDurerDhzPw+5DeYgX29mzUwW/dBaUR/xaDyL4g4ZYPsIWXuK+bPUP5/HMhFMmmq8unz54y6Dt3YeBWyIiIiKimyVrLbYJwQzZVLLysJ5vWNu2AvnHYrB2u3iQb+mLoW99hR1JOzDmj9mYHytTPdC+TTpiZLW6YulIErN7POyhjpdwb+kJbI9DnHb9SUlIhCc8jLXRWUY+Eg+nw+khZ/HaXVZORczPcbokVdJJsXJPj+ImwSrt2FH8It7tbCJI4/yQ2K7YaMRoA9c3GIypXHnotjcu4ag6Lmn3pTOcm4ny2BxjWJPxhvJ2m8pWKtTmLgG/iOPI2d5EP0bu7nDPj8YmbX/MldgeffCWNW2riFN7yMr46bFx4qyg+iMOMWLEqVP7klq4dyJZY9apO3rIppKVbyYKDWvbVuRBVzTIPoVkbZ+xf13Cn2gAV21liOvaAzoVKb8DdaxL11ioA7v6wKnjpwwP/3LyU9fRFThxBsnaeS7J9Yt8OYityTiFwyczgAZN4dn133hl8ivwzvoJcSaa6Ldr64Wmv8fjP/87ZryZZKlOXdhlnEGKNrD61xllPTLfGWkZaODbA20eUL81vla6ZrE5MpBxTmzfA3XE67qo61CIYye0veQK5ZRL+XnIRuqhw0jNtYNLC2/0ePENTH62AU79dLi4f18iIqJbpttoTMAcLNiyGQtmARNeM9IgcU0gS/uD2MJkJJ+yhoO4lsvngKwsB/T6cDt+u1CInOSPYT29C4K1VTNNyse3L3XB506f4ZRsKrmwECc/LPvsVhkXt51SaoeGxJc0B1LD/QH0kj+mSi9Airh7UGrXJl/Br/pr9fXLxbVwNb2/6DhY42FZu/Z0XknQ92Ie9stauG7WJbVwVfWa1FBqt+4/XvKQdvH4FaUW7MNNaqtTBLHu4iBx0hUcEn/cncqGqFs2kfdj4j4jxRL1HGrrBjGphq3xcHaF68/8E4u/PIuoDBsMHtIEiz9xQ6h4qLq4Nxu71fmLpRTiuPjj5eWEejWrizwb1vJt2VTmTZRj8X1bDnavTELYDvN/ZNuigzVcruRjwX/FXZqjNbqoBdqyia527aFT+v14TaxH3slZom0T4PgOsZ6vxQ2ud0OETm6O2Dds4FJQgFW7KxNKLyGDtwza3n0YuCUiIiIiKo+bOzxls7Yn85FvqparozPsD0ciIjZdPNynI2ZaIEI0rWBVxPrCWgQ+7Y8Zu3T14/IP70FMvj2clecrdwRO6Y0908Yg8phYf2E+Ej7xR9De3gh52Uh4r1cQpjpFIGhaDNLF7Pnp0RgbEAHnyUHorfkFuIFlIQgReRdbiPTVgRizwQNBAZ5KUu/Xp8L586CS9A1j8dLnzpj6emVqvyZiRnAkEuUzdk4CZr42E1nDx8DPxI+OrQcFYYz9WowZEYkkWeQ5iYgc7Azvz7XBazNVsjx6vzIG1vrtzc9CwryxmFW8L60xdMIY2K8bA/8lSaI0xPKORWJgQ29EFPefZb5bU7ZlJU7xL8n/B4GYme6HwOdNhPDajMVUnyTMHBmCPfLH6Pny+G0P59Hm9ycsA7b3UtBW9l9rrF9bOVS2b9ubJmt0nIrBitUxus9PGZ4IDBaf1b1j4S2O67WrI/CSz1jsEdP1n+Eq4VAXrrL54QuFKLxqEAotYWsHm/R9iPs9G3l52Ti1bTW2looPlqueF7q3OoOt3+9DhgxkXk3FT99txJlW3eGl+aYxY/O32CrWUViYh9TY1diR3QZenqXDopbwfNIbNofXY8X+S0oQtDBjH5bOjECcPjBcvwEayG3KlNskxlt2RXe7OGzadgrZ4g2F2cewflUc6vh2RctqYol/H8bqL7/FjmRdHdzC9DM4VWgDO1OVLew80O5fYp7fG+DhlkbDtsBDXuj6kFjP2sPKOpErtv+bCGxMklsA2NS2QcaBOJz6Kw95f53C1lVbYU6RZsRsxL4MscDrhboyyvOEdyu5xAbw9m2KS/8VZahsRyGyf9+KTz9YL7ZFvrMu6opTy6ULGcp+lpMqysMfe5Zikdhnl+TMhWK/n0kR226NyjX+R0REZI6WGD2+HRb074cFj7yJ0a3VycXcMfRlH2we+zLWyQcF8Zx1cNZbWOA0AaNlh6dIxpwu9dFvoe6+39qgOxKdzAva/hm0spAnHu2sncRzorik5qfHYsnqUjVuK6metx162gBblv6OkPVpiIlLx6ov07HgvEjzsBFbWxO+T8o+cPMQ8vFZbIlLw4KPL2LVFQs8+2Rdpb9YQ/XQv4vI3LlsjFr4h1jeHwiblY1D1SwxuKuRpjWa2mOwuO4f2pSKsC3imWFLEkZtEhd0J1v013ZBdDEHwfrlfZGLVFTHs520/Qzp1Otih2fF9sSsPINwubzYs3hj+ln8+5sLumaaq+n6kU1N+gsxB7NwtaL1O9igxtl8LIj6E6uOX0bq8YvYLR8fXa3KBq1tLZTAdHyMvpyyDJpKruddG77VirA4MgmrRDlvWZKGN2Lzka0/BtSoWtIhsR80gWQDTWujZ50iHD9fhBYdHiiuRVzDS253EVaJ58kF4plty8okhMQXoV47O/jWEkel7Ev3wGW8t+RPJGVmYXdcgRKcfsRNJNJ9g4FbIiIiIqLyWPbG2LfcEdnbBjavmwhmdZqFuC88sPxpZzg4uCMoPRAzeokHefGgZZYu85G4tj2i+zlA6WP08TXwXBqHWZ10yfbPr8HR94CZnjawsLKB91InzP9tDYaWff4V+fXEjPhN8N0+EM42YlkNA5E4fBN+ea+cIE4vXzjM84SNhQ2chyZg4NqYkv5/O87AL9G+iPZz1qWPTsTQ6F8wo6OabhYPDPTaA39HC1jYtcd8x1mI+ay36VbGLB/H/JObEHguCE3ENsj3RNSPwNqXb6D+YGXLQ+yLuC/E/hb70sbGGYG/+WKg9klfpCdFByJpQhNRHmJ5nhFwWLAWY5T+iCvplpRtWR5vBSJ/grvIvwPav2eNqXsiMdRky1xOCIw+ivkNV8BX7h+xzf7H/LH2fV81/f6TnJysBGiNDf8sdwROC4RTYTRCBocgxkgrb5L7mzGIC/cDvh2LgYPHYjn8MGuP5jNcFaq1hHfXutgXOQVTvjdRxbRRX4wZ2AAJX4bhnXc+wKZsL/QQn7W8PPnVqDls4DksCD0Qg7khsu/V+Uh4oD+CholzmTqH1KCrFwo2fIApU97B3O2W6D52EDzLfnMJuPXHpEAvZG74EFOCgzFl7h7UGjAC3vomixt44smWl7DxgymI+N8lsY0u6PF6AP51YhnCpoj5Z65GRocAvPG0+rWcWF7QCFccW/KO0tfrlPmH4frcGPRtpEsuyw4ebRqLj+SjaGPku1Kdunjy5THofnWdss7gsKU401Ks8/90jRE37jMG/66fgC9mvoN3PtqE7E490BJ5okyVZJMatHXF2RXTEDxpCubuskPfUf3RUi0ju8cCEPSsAxK+kNsxBWHf/QnP4T2gdMUmtPR+EnXjF2NKyHrIPV1+Huzw6AiRf7HPZsn8TwnDxuyueGXYo8ZrGBMREd0kpxfHYEAhMGBcgNGWSJxeWo1dk/Ixzk02hWyL/1vniw1731MDfS3x3qZlcFrysK6544fGIT1oO8LVNnV9nhsNzO0Cy8fmlO0/VqwtIOILtPyqI2ytLWHbaTHg5QFkZSlB4Bti+yBmvOuIYA8L7N6RheClmQg/DDzi7YAVrzyoBGZrdGiEFSOs4Zqei5ClWYhKr47B4n4ktIPxWqwuzzyExT1FWmK2WF62uELXxPg3HsIwfZTRQB0MC2qA8bIFoh8yEfyD2JJmtlgc9JBh08YetTEo72+x/mx8/7elWL+z8eXVehChUxww2PE61q8Xy1udiwtN7PDxoPq6ILNTPYzuUB1XjueIdeXgQoXrF+lvOWJ8o0LM/SQFz3ySjXgHG3w6zrlM7WF4NMRCv5qo+Ycop6gs7Ha2xTA5U5rsR1ewdcaMt+qgZ818hItyDjlYBN9+TpjRVb3L9HTAeHHbdjw+CyE/mbrRqofunjL4XB29HpUtmaj02+1QiKiVYtm7CuHaQbMPvRpi+TDxpHzwEgZNTsMbyrofxPi2+j5x6X5gUevpiUW5W2epo0REt96ZM2fQuLG4mhEREZWD14uqkfRxKzT5bdat6z+2jGj4WwSh/cmj/1ggKXqEBfpg023cJvqn/ZPnB33g1piuXbvCzc2sNsfpLnDsu2AsRgDCnytTD6NKyPxsdJ6EoK511Sm3X1Wsk4iIqLL4rHgvuIaYeScQnGGLH8IaGgZ76b72T3y+fXx8sHPnTuX1iy++iBdeeEGZppWUlISRI0cWzzd9+nS88847yut/GmvcEhERERHRvUE2vZkvm7UGPDxuqpdYuo/JwKx8kDc2MGh7j5D9vhXKppyBBg9WfcCyMC8b2X/swNZfGsO7HQOoREREdI/5OwvxsSlYLZvnqFVNdi1M9I+Sz3IyECsH/Y9x9eP6wdh8VYU1bonotuOv4oiIyBy8XlSNe6rGbfJstHcPQsJDgdj021fobawpabor8fxAt1TmT/j0g41IeeBRBEz4N1pq21auAsdWB2NxvB1aDnwVAY/pmj3+p7DGLRER3Q14L3iXSz0H//dycLymJcYHNcGwhmz2l0rw810WA7dEdNvx5EtERObg9YKITOH5gYiIiOj+xXtBonsXP99lsalkIiIiIiIiIiIiIiIiIqIqxsAtEREREREREREREREREVEVY+CWiIiIiIiIiIiIiIiIiKiKMXBLRERERERERERERERERFTFGLglIiIiIiIiIiIiIiIiIqpiDNwSERERERHRHa1x48bqKyIiIiK63/BekOjexc93WQzcEhERERERERERERERERFVMQZuiYiIiIiIiIiIiIiIiIiqGAO3RERERERERERERERERERVjIFbIiIiIiIiIiIiIiIiIqIqxsAtEREREREREREREREREVEVY+CWiIiIiIiIiIiIiIiIiKiKMXBLRERERERERERERERERFTFLGo9PbEod+ssdZSI6NY7c+YMGjdurI4REREZJ68XRERERERERERE9zpTMRMGbonotmPgloiIzCGvF46OjuoYERFV1tmzZ9GoUSN1jIiIiIiI6M51vz+/1KpVS31liE0lExERERERERERERERERFVMQZuiYiIiIiIiIiIiIiIiIiqGAO3RERERERERERERERERERVjIFbIiIiIiIiIiIiIiIiIqIqxsAtEREREREREREREREREVEVY+CWiIiIiIiIiIiIiIiIiKiKMXBLRERERERERERERERE95yoqCi8//776NmzJ1599VXltZxGdKeyqPX0xKLcrbPUUSKiW+/MmTNo3LixOkZERGScvF44OjqqY7fW5s2bERwcjNOnT6tTzNekSROEh4ejV69e6hQiojvT2bNn0ahRI3WMiIiIiOj+9fPPPyuBWvldgzHy+2r5XQG/t6469/vzS61atdRXhljjloiIiIjueTcatJXk++T7iYiIiIiIiOjOJ2vUyhq2poK2kkyTP9Bm7Vu60zBwS0RERET3PH3QNjc3t9KDdKNBXyIiuoWuF6CgQH1NRERERGSEvqat3hNPPIGjR48WP+PL1/patjJ4K5tOLi/AS/RPY+CWiIiIiIhKOY/tc6Zi6rJf1XEioqqR/+s3CJv6DuZuO4uCMxsw68tdyFHT7jf5x6KxYstx5KvjREREdDe4fc9Wvy4Ty52zXazh7mLqnkZ33zdV3PelqlNuzMyZM9VXOlu2bFH+ygCtHPRNJOvJoK020HtPEWU6VZTpN1X0aH9+2yyx/m/AbxYqh4FbIiIiIqI73q/4RjxsTQ3fgLPX1UlSFT+EEdG9S/kiUJ53jA3/2I86zuPnmFS0fikEfliLGYuPoHHnjrBVU+8pf27HLGNlrQyzsP1PIPXIARyJP4Kb+yqTiIiIymP8Hkh3LaZbw+g9zZXT2P7jWdg9FohRT7uoEytPNnssa9zqydq2cpoMzMqArhxkugzeavu2ldO077ub5JzYjsjwd3THaug7mLtsJ07/rSbSXYmBWyIiIiKiu8Vfe7HqJn99TERkjlYDJ2NysBwC0clBTGjaTx0Xw8BWupluO0c89eZk+LlbodHT4/FuWCiGPmKtpt1jHLthlL58+zYRExzQaaQ6HjwK3RyBJgNDMTPUDzKViIiIbiOHTgjUX5c112K6NYze09Rsgn6vh2L8M01wM3d7pYOvclwGbbXTGzVqpL66B5xYiU++2YnUOh3Rb/gIjOjdETbJ2xH59S5cUmehu49FracnFuVunaWOEhHderK5Ce0vmIiIiIyR1wtHx9vzNFy7dm3lr77P2sq4mffeOrLG7SqctrZG4VU7dBs9Hk85y8nfYOqqE2g+eCZeeESMX7+E/auWYsOR8yiEJWwbd8GQoU+hSS39vKlo8nADZCSeRs51Szh2GIpn6u3Cyv+q4+2GYtTAFuJBWTbnNRc7azRB8+yzOJEjlla/Awa/7IfWsqqbsqzzaN7KEqePFqLL60F4ytFw3Y6t+2HE4I6oy5+KEv1jzp49exu+iFLPB46DMXO4PNHo5Cdtx/LvduG0OD+gpiNa9x2Boe3r6mqOfrYT1q1ao/D3Izh/RZyL3J/CkC4Z+GHVgeLxFwK6wEWeH7TnLXEesnUvfd7KR4eulji+u/R5Sri4HyuWbsCRCzIPtmjSaQj8n765L/vuCOo5tps8tz6oThNkDaBVx5pj8MwX8IgyTzbatgeOHkxDYTWx/f/3AgKfUGuolHc9ICIiIpOU6+35bhg/4SmUfTrNx+lty7FS3pcUlrpvMXlPo95L1WqLDnlHcUDct1jaNsFTLwaii3ymEy79sgJLN8r7JihpXZ7zx1PuRu5o/j6OtYtWqMtojkZ2J3D6qj6v5eStFJP3ccae8x68kW0uP83gnkZmqJx7OmXe3A7oZnkcu5JyUCjy22HwKPi1NH7HJ4O0soatKbLZZFkLt2fPnmWCvLLG6pQpU9Sxu0EOdi34AJtzOuHVoH5opD575/8vEmE/ZKDTy5PR7y+5TzXfGfx9GttXrNSVZbVSz+1puxC5bDtO/yX2g6XYD50199al7i1NPu9fT8Wuxd9gu7KvnNHcJRsnklxM7GtHvPqi370VSK+kWrWMfEAFfo1CRERERHSXsPPqhc4O57HzO2P9GOXjyLcRWHcE6Og/HuMDfNAgbWepX9rmIONaawx5JRBPNbHE+filWH6kEfzGjcHgh+1w/pe12J6szir9mQ3r3q9i/PBucMk5IB6wtMvKxIkUG3Ts2gWNxJPc8TWadft3BI6sw+L/3m29LRGRWf7ahW8W70TGv/wwPng8Brhni4/8auz6S00XMrPt4BMozi3tHJCTtBmRP+SjS+B4BP5fI+SL8c3xul7NTq+T5w5L+IyajMkvPQabMzuxfPNpJU3nLI6k/AtDxHmqnzxv/bIZP18Qk/OPYMWCdTiCjhjxplhu1wZI/TESX/18P9UtSMPp/I54YZQ4p7sV4vSWSKw8Iaebcz0gIiKiyrr081eI/DEVDXqOweTRvZTr6zdrflX6aj27cZFy7W317zEY/5J67V25X0lTpKShwFc+W3WCw9+nsfm/atcTp9YiYs0RWD4hlhkciMesT2NnVDS0d0M6l7Dr66U4kO2IToPH4NXe1sjWNN9cXt4M/L0Xy8V9XKqTDwLfFPdqHuLRbc0ibDinppd6zitvueXdx1VYHnrm3NOdO4KzzYZg7Oh+aGJxHgc2/2yyX1/5g3BT9EHb0jVw716/4/cU8ce5UXHQVrJu7y+OpXF4ylWdUCwHu5ZGYuelJvB7c7JSuzn7t3VYvSdHpJ3FhmWbcbbuUxgTPBlj/q8Bzv74Db5X7i3Nf94/viYSm5OAJn0DMWZ4GxSmyWWrrh/HSs2+HtFOnU5lMHBLRERERHS3qNYYvf06wfaCeCAu/ZCUfxB7j+bD1ssP/Vo6wtG9G4Z0cwZS9uOADHIoHNDx/zqhiWsTdGuv+1Vro8efQov6Lnik6yMiNQeXNIEXNPfBkEdc4NjyKfg95iCWdRwnip+0HdB5+Kvo93QntLD7FXsPadbdsh+6NBWP/EcOmnygJqK7WK2O8A+ajDcHPALHBxzRsa04n1zPRp7mm7hGj/fDI67i3PJka3G2EGeMdk+ho6sjmvh0VJrFy/wrW5mvYY83MfntV9HN1Ra27l5oLWbO/1uXpuOATr27oYk4T3VSzlvnkZoi5vl1L47k26LTgH7iHCaW23UIfFyBtP0H7qPzjuac/kIvNEc+Th87a+b1gIiIiEy6uBNzi/u3FYPSv/95HIhPA9yfgv/jLrB17YReXg4oPHEEv+M49hzMKXl+EtfeAf06oXXtwpIfTRU/W+melXA+Q3fP0vBpvBk8Ga92Fct8oAm8lJuhbGjvhhT5J3Bc3AM5PCqu72I5Lo+Ie5/malq5eTOUc2A/Tl8vub96ZKAfej3cGNWz9QE2zXPeA+Uv1/R9nBnloTLrnq5eJzzTtQkcxfo7uonxC6km+/x/8skn1Vdl6fu7NVUj956p+WllLY4lW1hbqePFaqLj85MxeawfHqlvC0evdpBbnJ2bJ/4vRMEV8X92Cs7nWMKx8wi8FfwW+shGNK+b+7x/FidOiQeC5k/hhcebwEXs92fk9wh6v+3FIc2+btG3i5pApTFwS0RERER0N3HrB//HbHH+x5XYpX3q/SsbmeKPS+OSh03bOnbi/0Lgmm78Zjg+KBsKy0S2JrBrpX+akF86XAdy/reo+MuNdfKXuUW6ZCK6x1gBGf9biU8+UL/MXKX+FP8GWF05hh8Wf4h3lHPHXOy8qCZUIPsv5YyHRvLLO4Ut7OQp734971RzgaODOA/LcrnN1wMiIqJ7Xuk+bpX+/VORKu9TkjYgTH3mifhZXHGvF4grbD7yr4i3Pah2WSDUbdcPQwd3EncrZRU/R0lWV3Fs81f48F3dMuf+KK/iRqjXd0dnY0ssL2+G8pRf2jmigb47hmqN0OW5oejdSvaJo1OSv/KXa/o+zvzyuNX3dDI4a4zsxq9Vq1ZKbVtTTL33rlOQL+4Jc5BfoI4XEzfxl/Zg5fwZyr6cOnUVSu7im6Dfi/KHgEexakEYpr8zA19tPoarMvhr9vN+Ji7liP3ubLzLxPN/yjBvDvZ+qVvG1NB1ugQqg4FbIiIiIqK7TKO+fmhbIw2bYzTBkgfslFpt59NKfnucc1n+2tkSqK4bvxm6hywH2D2gGzegrtvWa0TJlxtyeKWbkX6hiOiud+J7fPPjWbj0mIjpM2di5uDi6h6VlINdK9fhSGE7BE4Ty5k5Ht3qqUkVsHtAOePJVgdVOciWpzwL3dh953oqzmeK87Asl9t8PSAiIrrnVbMW9xq2Sq1FZaglo1cOqCtjm+69MFH7zBM8BK3UtMw/S669+WlHsP/gWXGHUr6c3Suw7rdCtBs5XdwLzcT4rvIqboSR63uJ8vJmSH8PlVHczPIlnP5lP47/WSbKJ5S33PLu48wvj1t9TyeDr8YCsLIJZdl/rQwYGiOny+Du3eVf+JdsDjntLM7qJijyf1mOD8LnYbtsRtnAcXy/bCfOPij253S5zwaj+C7+egGu1GmHIWPfxczpoRjTu5HSjPKK3WKPmf28r+73NOPNVev2tS06DC9ZBhnHwC0RERER0d2mWgsMGdIW1tfVccm6HTq1skbm7lXYcOw8ziftxMqd4unXtSM61FfnqawTsVj5a6qyrB/+lymW1QLNrdU0LXXdOQc2Y1PyZaAgA4c3LsRXP6XB2OM/Ed3lrlxTalkUXs3HlZRfsWGP9quiyshD3hX5twB52edxes927JeVLsxg/UgntLbOxO7vNuD4BfHeH1ciNgVw7tjhPvrBSCb2/3c/Uv9Kxf7l23EC1mjSstHtuR4QERHd9xqhk5e4y0iKxbqDGeIu5jJ+/3k5Fq4/jCsi7ZHWtsXPTzkpe7H8qxVYl5AhfzZVrrwrujqxBflZ4pq9F9sPmrgZEtf3R2TztPEbsF1c31N/Ffc+xb/jLS9vhqwfbo0m1TKxN3onTot7qOM/LEXkGnEfoVStLK285ZZ3H2d+edyOe7pFixapr0rIoOywYcOU4G1pMs3Y9DufLTo+0RrWf+3FN99sx5Fjx3FkzwZ8s+00UL8jOhXXYtYrxDX5gF5QiPy/U/Hrxr0lAd+rv2LlrA/wcdRepP5dCKtatsq+srEW/5v9vC/2+8Niv5/ajhXxmu8RVLp9nYMDmzfh9xxx7F86rKZQaQzcEhERERHdjZo/Cz/x8FTCGq2fH4MBrYH9y+di7lexyHDuhsAXu6CuOkdl2TZ1Rn70IrGs7Thr2wEjTC6rZN1H/xOBDz75BtsvuqDLY41kY0xEdK9p3RMDHnbA2W3i8/5FNDLsXGCLTKXv2cpxxBP9u6HJlV+x9JO5+GYv4CKb7fszxWS/ZcWsW2Po6AFojf3KeyNjMuDSNRAvPXGjZ7y7kS3s/t6FRbMisO4U0KRnIIYo1SZu/fWAiIiIxJ3L/41CYFcXZMREYm54BNYetcQjT7YRV2SgUd9XS56HFmzWXXuHdBRX5fI5ej+Dbu4F+HWZuGYvEzdDzs5iqrYGqp41Og4ZgQ62qdgp5l0UnQ/npnLNOuXlzUCtTvAP6AaX9FhEinuopQfFrd3AV9GvoZpeiunlln8fZ3Z53IZ7OhmILR28lTVuZVPJctAyNu/dxPrhoXjzBbE//9yFFcuWYsWWg8hz64VXxz5lJPDdGj3FTnFI3YyI8EWITreDizhAlBqy1h11x8V5mfYB5q49DbvHR8DfS+4x85/3G/V+Ab0aA8fXR4jj+TAcWsjjWVW8r2VzzGIdX29XE6g0i1pPTyzK3TpLHSUiuvXkhfHua2qCiIj+afJ64eh4o7+pLV/t2rWVv7m5ucrfyriZ9xIR/ZPOnj2LRo1K+jWle9iv32DqqvPo9noQntL3UUdERERExeR3DMuXL1eaoDZGNo98d9a0vXfc788vtWrVUl8ZYo1bIiIiIiIiIiIiIiIiumfom0A+evSoUqtWNpUsg7VbtmxRfpjNoC3dqRi4JSIiIiIiIiIiIiIionuODODKoK0M3spg7RNPPKGmEN2ZGLglIiIiontekyZNlL+y2ePKDpL+/URERHeER17AzJlsJpmIiIiI6F7DwC0RERER3fPCw8NvOPgq3yffT0REREREREREdDtZ1Hp6YlHu1lnqKBHRrSc7gpdNUhAREZVHXi8cHR3VMSIiqqyzZ8+iUaNG6hgREREREdGd635/fqlVq5b6yhBr3BIRERERERERERERERERVTEGbomIiIiIiIiIiIiIiIiIqhgDt0REREREREREREREREREVYyBWyIiIiIiIiIiIiIiIiKiKmZR6+mJRblbZ6mjRES33pkzZ9C4cWN1jIiIyDh5vSAiIiIiIiIiIrrXmYqZMHBLRLcdA7dERGQOXi+IiG4Oz6NERERERHS34POLcWwqmYiIiIiIiIiIiIiIiIioijFwS0RERERERERERERERERUxRi4JSIiIiIiIiIiIiIiIiKqYgzcEhERERERERERERERERFVMQZuiYiIiIiIiIiIiIiIiIiqGAO3RERERERERERERERERERVzKLW0xOLcrfOUkeJiG69M2fOoHHjxuoYERGRcbfzerFx40aMHz8ev//+uzrFfP/6178wd+5c9O3bV51Stf7zn//g6NGj6ph5unbtqgxEdG/jfTcREREREd0t7oXnl507d+Kbb75BcnIylixZAjc3NzXlxjFwS0S3Hb9AIiIic9zO60XTpk1vKGirJ4O3p06dUseqzo8//ojPP/9cHaucadOmoVWrVuoYEd2LeN9NRERERER3i5t9fpHB0pEjR6pjOrcqeGoOuX53d3d1DMp6k5KS1LEbx6aSiYiIiOiepw/aFhUVVXqQbiboeyvJwO2NqmwtXSIiIiIiIiKiO5UMnMoar9rhnyTXr1V6/EYxcEtEREREdBeStWf//e9/lzs4OjqqcwPnz59XX1Fl7F6QiI4L/lTHiIjuXgkRz+G5iATdyLUsnNh7AlnXdKO3Wu65BCScy1XH7gYJmPfcRGxMV0fvYRkbJuK5tzYiQx0XewtHlk7C8OfE8WEw/d6XeyQKk4aL7Vb3fe7JjZgzWo6LYfjrWLQ3S53zVsvAxreew7wD6ijdWQ7MM/uzoHye9OfVO1H6Rky8wXObvGZM3HA/nRGI6IZV4rx5r+nWrZtB7V45fiswcEtEREREdBeSQdmKhvsFg6tEt8mlfVg0JVAXxHhuOF6fvQ0pBWqaJNMnDS9OnxSxGynaQGDuEUTp3+8/CnO2pED79tKUoMl4dXn+gZi0NAG5pgKL8gui5+bB4Ovy3ATMC3wOk9br1qN8oa7kTT8Mx6gpi7Dvkm72+5rYd1FzP8LG0+r4zTASGEje8hE+WroPtzzslb8bH8n9fpsCzvel46vwYTTg9+EyLHu/Bxqok6ucsc/4LZWAqLCNwMAPsWzZh+jheAKr3otCSudQfLZwIRbOmYAeze3VealSbvu+u0/cRND1jnenb9u1AmSdTsC2VR9h0qjhWFTmRxa6H7wE+uvuL0aVvj+qKteysO/LknwNHz8H285pM5aLExvmYJQmPTZVTZIqfL+G2IeTxDzlBvdv9j7SQAFyzx3B7g2LEDYhENNMrDf3uLiXFOlymeX+OEY5BnXbWTJozlvZ4hphkPeNOHHH/h5Nt19fV36IJIbhryNslfYeWvdjIf4Q4/aJjY3F9OnTlUG+vhUYuCUiIiIiugvJpo9l08nlDURENyw/AYvemoOkthOwcNl3+O7LUHS+uBiTlh7RpV87gSUyvVMYli0X6V+H4bGUeZi2/IQuXX5JNDMMsa6vKu9fNrMHMr6ehIUHTH8BGBa6Duj/obK8ZbOHocGPH+Gj7WaG/q6liPV9hIPt30Zof1dYqZPRcBg++07kTwzLvvwQQxx2Yc4n2259QPFu4/g03vsuEsOaqeO3WOuXRZlP9cGtDntl7dyKw0/5wrO6OoFuXk4OChp2QWc3K1hZFX9y7n3nU5AEV3Tp5KZst9WlEzhe4Aqf7q3RwN4e9o5ucKurzktE95WM6EkYNWsjkmwaoEZWAa6q0/UyosMQ9qMrXo1YJu5/PkQPeX/0RUK5P067/QqQ8OVEzEnyxASZr+WRCO2UgcVTonBEDeAV7F6EaasKMGS2TF+GsG4ZWBQaBd2dW8XvL5GF2C+jUG6DsDd9H1nKgYUInLIMu/LE+fnvXBiLoWZsmYZRnxyB64j3sDByGcZ1UBOMkcuw8sEE+UOd4iEAbZTELGwL/6j4HlbmzediFMK+U/N+h5HH47T1wID3I0VZLkPknFfR/OBHeP3Lqj4mbw/ZFPLXX39dPHzzzTdqSgk5TTvPrWq+2BRZ47Zr16544YUX1Ck3j4FbIiIiIqK7kDlNJVfeNSTFnob/G4noOCoRPtOTsfuy+qSeeg7+o07j+wPJxenPfJKCpOu6ZMX5dIRP16V1HHcCwesvIltNkrVi/ddfVscEZXknEKX/lff1LGxZcBI+o8V7xeC/9DyyNcvOPpSMgDd1y/Z+8yTmHpCP638iRIy/cUi8PHRJpCVhtzK3mP/4OQRPVvPyhsjLNhNhmpx0hIjteW1bjm78+kUsEO/rseSCbrwU4/kQKrkcojvesX2IzfXBkOdaw17Gcuyaw6+PJwqOJemaQTtzBMdr9sCQfm6wkkE0azd0ftwVub+d0KWn7kbsaU8EBD6qvN/KbQBG9a+N3dG7jAZNM37ZheQmAzCsm6uyPCsnH/g9ZY8Tvyepc5QnFwkLpyGq+jC8N8oTtdWppVnZucLH91Hg5HGYs9R/nmGNidI1YZRmK5dvQ5S+dsrwaVh5suSry4rSDZSp7VSqFs4kw5rJBrWhh7+OOTEpynSlVvP4KKSIf1HjS2pzGDTLLOQeXIkwfRO0o8Ow8ogmX0pe5iH2oL7ZWll7KdZIrZsM7NqRgb4+rYFL2zCtVG2tgt0f4blxK0VO1HzNi0WCvglgWeNbzbOOpnlgmbbhCP5WU4wrQMrOecX5Gz5pHnZXYt9IKT9r3x+FBP0FErpmmtft3VbcTK9M1xdRynqxLYFLcEItj1y5nc+FIVbZP7r3Rm0pKTvlvdkpiJ09SpeXMtteQimnj8WV81wUXhfzFtfGKRDvj1DLp0wtKHWdGxYpx4vuPTeSD9PHu3L8yHyJq/pHIk1fa0pp2jhQN/9zgZMQddDE8a0oZ5/JGqHjZNBBd9wqy9OOy2O3zGcEyIpfVLy850bPwUbtPr6Wgt3aMivVYkBKjP7zJdK+NFKrLDsBK8NKyips1RFRQhrammnKMXuiOF05/rQ1qUrlvezxKcpOHGAleTLymcs9YpAfbYsJyvLW7sM2/b5Vl6dPM7bvSjO9L40cS9NXamq6GTv+hHLyW7oWYaAMRGkLV7YOoS8buV+PlTobiH0bO/v14n1bptaguIc1fa6Ri9ee/0rVYDRx3JR3bq30vixPaqzhub10yxgFyUb3s57p85pgYp+Y2rY7SYPes/HdglC82q8dyrZhJPbZf5PhGTAKj8obHHH/M+ClAaj980bsMnaDY841zuTnPwvbQkuVkdLyxOtYeU4dL3YY+3bmwmfwELSW+apeG83794NnwWEkKT3mFGBf3D7Y9xkCHyeZbgW3fn7onLsLCUrrGxW9v0Tu7kVYlOeDzg3VCcbc7H0kjmCROKbDdqqF2m4cvlv2Id4e7AN3O90kA6JcopZZIeD9tzGknSvsa8uVlpBB3ecC9UFqITMDWU6ucJM/1Ckeaqs//EvC8ZNilZ1097Ayb08/rcn7HSUD+3Ylw7Wf2K8NRf7Ffq3t2BpD/Hvg6k6xb1Pk8fc6osTxkrL8dU1zxmbcc5o4zysqOm9qa1srrehor2mG5/HKkkHSd999FyNHjlQGGZgtTdZ81afLIK62KePbwcfHRxnc3d2VvN0KDNwSEREREd2FZI3bzz//vNyhsv3aZsedQcAPFgic1gz75zVEeNOreOPjVJQ8w13Bgl01MSO8GeLC7NE2+TLC/6s+gv39J8Lez8SvbZ0Qt8ADcVPFE/WPGQjbdUWXXq48xESk4xPY4T+fiveG1YfXyQsY9YMa6M1MQcjCfLgMbIi4hc2wYaAlNn+ZilUXH8SMhR74tK2Yp21d7F/ojs76+T/NRY0+cn6xvPE2SFmfgQXGIjW2Tnjbzwrxm85jt3jevPjfTCzOt8a0IfXVGTRM5kOkVWY5RHeDdq/iu+9ehac6KmVeygAaOMBBjjQZgA8XjCyu+ViQdQSxe1Lg5vOorqnVtD+QglqoZa0kK9yatQZOJBv90qtB7w/x3ft9DZppzbyYBft6ytrKkYuEiNfxUcoAzJ7eF67l1cTMT0FszD7U7tZFrVFxZ8naOQfT1lth2LxlouyX4UNZE+YDXSBSLyXmMFzHLMSyZQsR2ucq1oUuwu58NVGoKN0UXW0NKwToa9m0S8Kcd9R1Z8ViTug6WD03D8tkzeX3fZDxxUfKl8YN+s3Gd3OHwVX8Gzb3O8zuZ6Sh3dMrMfnD3XgoUORLbNfCEfbYFjYZKw2aad6NqB2uGPflMixbMA6tDy7C4h9LfQN+Lhbb8n3QpYl4XfdR+LQW+zNefzQVYN/eBDR4oovIiWp3FGIbjcPiZWKdo1sj4YvFiFUXmRUzB2E/NkDAHLG+yA/RI/cwymvWNXf3HExclgXfMLWWUqcUzJvwEXZrvsMsr+xz4+dh0teAn9y3In3Swwn46D1tX3ApWPlDJnq8r8uP37WN+HC17utl137jMKDWViyKFnNfO4FVixPgNuJV+BTXBhXlcESU3ULx3oVvwzd3I8JGhSGhQ6jIi9j2ca1xRLPtWsr+e0tcOdWa6br9l4vdcyciKssXYV+X1IKaOGe35kvXFGzcUwOvfrgQ7z2l3+eVy0d5x7vnGLFemS9xVX9b5EupNSWPw7BYuL6sHkcvuyL2w4+wzUTT5+Xusw7jDI5bWSPfYHyM9synUyCOyYmzk/CYXJ5Y/2eDodnHudi3YBIWww/zZAsDCyehzW8fYZrcZ9LxJZj2RQZ8puiOj3HNkrBP8wU5riVj5RSRt4ZqCwURAbDfGobJ36k1hPQ119SaactmDwHWT8Oi3QYhtnJpj8+3u/2Nje8HIizBE6GR8jM3Aa2Paj5z11KwbrrYdw9P0q3v4yEoWG7YYkLKqrXI7CmbmY7EhwMKsPHDVUpAxOi+K63Cfak9lkLR9+o6TFu4WxNQLHX8VZDfE8tlLcLHxLaKvInz26uusQgrXl4WYueEIdYxALO/Fuub0QO5RwzPBieWi7K+6FP8efDR1hqUyjnXIFXkPSwBbYJ1x+HsfxdgmTgOEio4bso7t1ZqX5brBKLEMZzRTT2uwsS5/WsZnFGTBVP7WSr3vFbOPjHrulHVyruXEFv4h/j81rLWBAabNEdrUTLJJntuKecaV+7n3x6P+rRGyk/7iq8XBQf+hwTHzuhSJmjqiVfFZ+7VduqolJUp3tcADkrzF5kyVonW/9IEsKq74iGXLGRkypGK3q8S56PFC1Mw4KW+cFcnGXWz95Fwg8+4cRjSVl15uftE+O0X7GvcABlLND8W0PyIosGjQzDuZR9x1OlkpIryzRfnouIfHmh/sNYG7b2Ag3v3IUueKApSsG1bAmq3bm5wn3pnaAD3f1khZXcsTmh/ONF6pDi/jsOjrn0x+7vPMEwcL67+n+G7j3X32mbdc5r8/Fd03hTnFnnNelRc/8Xn/7uFr8L1x7BS16yS83hlySCsbI7YnGCs7G/2VjVdbIqszStrAevJoPGtqOHLwC0RERER0V1INsUzb968cgdZK9d8l/H95ivw6u8C33qWgJUtvPzs4Hs+HzHFtU2s8ObLznCvaYkajs7o1QKIP62rYXo1PhvfW9XGND8H1BBPGTWcnPH2c7Vhd6X8OkyK1AuIPGKJN190Qj0r8d56jhj9f1Y4fvCyLmicdx0XrlvCq50tasAS9bo44rMRdnhEebMRtvUwbaYbpnWR84vluT+AXvWuYfdv2qfZEnZdnRDqlI+Pvj2LTzYVoucgJ3SupSZqVZAPs5dDdDfK3Y0ly7PQ45nOJc0QS0pfhs9h+KgwxDZ6G6G91a+0HBrAHn/jb23QUNaiL8jRBH/KcXollvzcGkOeLv9LmeQNYfjoZ6DvCyaCtmpNQuVLvBcnYlFKD7z9oqfhNtwhanuNw8LP1Bo8IoeunbrA9XwCEjS/wSmuUWFlj9aDhqOH1T7s0gRTKko3LhmxP2hqD8laNoNGIaBtDWTI75VrP4pxCz/DqE72SrlZNZRfGGcg4Tf918jlS9i8DplPvYqRHeT7rWDfaRwmPJWJdZu1X/J5ImCMD1ytxRx1xfI7AUdOGP7a5sSOjbB6Wv+lqz08O7dGyr6Duhrc1w7jl/gGSm2dYh0CME7W4LYS6+zcBY/iiPzdgJCBXZuPiG0MgI+LWJ+1LCs/3Q9/jMpA7PoEMf84PO0my8cKbv0nIaBZAtbGlJSB6bIX71+1G2305SvTB/rB89wu7Cvet/YY8JKulpNVbTd0ftIVBSfUWkfV3TBkbA9kLV+Cld8twta6QzCuh/arY1f0fV6US23xXntPPN1dlMGDPTBEv+3iOGontv3w7+rsFUmPxdoDzTHktafhJn94IWuTBQWg+YG1iC2+H5D5HQnPhvaoXfzjjMrlw5zj3UB+rtjXzdHmYf1xNByh4/uKKcaYt8/MV4B922Nh1X8UBsjlifU36BaAsX61cVWWiSizlbvblLQwYC/OXf09kbJHF2xJ+O9WXH1qOIa0FnkX90qu3Yagr4tcrurgBqzL6oFXh3uq7xefuQk9kLl+g9Kfc8GBbYi1kq0W6GqmyRYJAkYPQO0r2q/Yy6c9Pj17if10zRU95P5SPnOPokt78ZlLVD9zB9diZbZmfS4+GNKnNnbHH9alC/aiLPTb4+YtllNwHCfM/b1ghftSeyzpao5ZxYvPS/H1pNTxV0F+3QfMRuS0AbrjWZzfHu3UTtzAHoaSmr4LG4+I432kvizE+gYYng1ys3Nh37p18eeh79hQjHvUviSQbPJcI/b9upXI1R834jh09RX7vvZu7DsmEis4bkyp1L4sVy4yc+3RprVabm59MW7qODzqUHLNML2fKzivmXEM3b0c0MAe4v5Gc229Jl8XyJbnTSjnGlfB59++fRe0PrcPB9Wg4uGD+wx/pGRSLnYvi0JWzwHoXHyeFgyiQSI/Yv8YZ/z9J76bj4Pdx2JIE5HZyqjsfSTEvUinzmhuZpP1GeniQ3d6H1Lkj4WWL8PCKV2Q8sU0LDmuziA+2507uZa0yuLYBp4tfTB8zkIsnBeKvtViS36wJnLY+fVQdPltDkbJwO7wiVhZIwAfvGj8ilPVWj8XimH1dmHay89hVNg8rNyZrAs4l8Oca7DJz39F581r7hgwOxJh+trUdrrz0r7ftJ//kvP4jdAHb8sj51myZIk6dvsYC9KaE1SuCAO3RERERER3of/85z+6QEQ5g6yVa748HBMPYjHfntY1LyyHCVmIQZEu2KKoDrvSgUg17UKmeNGwBlroRhX1HmuE0O4V1ZYTUgpxHAUImaCuVzZD/K142rwm1i25PIDBTQsRNvkEXpt3FqsOFcK9kxNa1NMll2FlhRop5xGibyp5VArmyofM6+ryyrDFsy/Ywi4+F1uc7PCmt406vZQK82HmcojuNrlHsGTqPGT6v4eR2g+5JGuufSdrCoXC5+xHeP1rtS5Oky7wcUzA4khdbYUC2Rzjwt2AfQNdTYvyiHnDZm5Ds7cmaGoVGrMbG88OwexX3LDxm43Gm4bU9HH73dcLEeqVgGkGNR3vHFbWVsiImVfcbJ2uKUl5LlRnkKprvu6s3hqtHwUyLilVZXQqSjcqExlZrmjurn2vG55+eQA85fdpVrVh9Wcs5umb01Sb3CswVt5lZCAlGWjT0vDLTld3MZ6cotkPhrWzFdrlXzuC3Tvc0aNzScBS+TL75P+QICO3xw5iX+kaSLVqGX45LFxVlpmCpHNWcHfXfFmoLbcy5Pz2aN1c++WiPdxkDZezmsCZybKX7wcS5unLTwwvzoPS81zxNtZG7dLXV+2Xri2GYewTh7FuQxZ6vDSgzI8UrDTf7ilfkoq8lLdF5UpJQop9a8Mvy+u6wd1KbEfx5hrJr1CZfJh1vGs5PYq+7ZKw6JVRCJu3EtuO5MLV61GlH1ql6VV92T4ny9bMfWY2IzXVxPI8B78KHzlJlpls+vFFfR6ew/B5Ceo+1H0GmrtrwyyGwRKl5lfb5miu3a+ubmguG28W9y9KLbXW7jBYe4cheNW3El8Ma4/ParrX2v2lpeQnax0mFZfpc5i0XnzQNPumtrED1tS+K62cfalnkLeWrfGoKMdMtYJi6eOvovxaWV/FkWUlTSXrmnJWey2V+85KlK32eC9VLm3+ry9qR0/D8EkfIWrDPqTUao5HH3YtObZNnmt0+z5r/aTifD333CSsE1lT0ss9bspRiX1Zvjbo0a82NoYOx6SPo7Bxbwpqt3wUrV1Klm96P5d/XjPnGLp7uaGLbwMkLF6IffIGR7bmMXeRuCOxl5VJTTB9javo8w97T3RpfQL/OyjL7wgO7i31IyWjcnHk68mYlzkM7w2/kWCjifefXon5O9rh1UGVXOaN3EdWUkqKOLfrf0QhPiP2rYfAr0MuYvYYX16DTiPx9pi+aO0o+zRvjSHyB0rnY7FLaQ0kC7EfhmHXw2r/vF9/iCFXF2PyDebttqvdHH0nLcSyOaHwa/E3EiInYdSLE8s0ba5lzjXY5Oe/ovOmKP8a+UewOFRtKlkM8keWhp9/4/cRlVFRYFam3YoAakVkrV5Zy1a/rltVw/eGTutERERERFS1yqtx6+hYtjcm81hg8FgP7F+oHZpjmLZWyO1S0waLDdYrhrCG0K26Dp4Naoa44Lp4tuE1xEalwXtqMg6ZqsybmopR82VTyQ8pzTbvX+iK8RUVyd9Fuv54rxTBdOPOZuTDrOUQ3UWupWDjzDDsavY2QvuZ/qJQqSk0oDNyd+xWm1FzxZB3x6HdEV1thYDPTsCzj6eYLGviliM3AfNCFyG3/3sY18FUb7V6nfHqKE+4+k7AOIcoTFuYgHJr88qalX36ovXpjf/f3v3ARVXm+wP/qIEo2gUV1nXWhFKscP1JBnmF1sbuFdvFknYLXi9gU9lW1hZzYVPaggrakgqyZjVYf6LF+FuwrtjK7hX35ujGuIl5xyVnzckEozGDzEkcBSf09zwzZ2AGYQAFEfq8e53k/J0z55w55znne57vA51bmt7rQ/1fsxxp616TaetKlFSSnthgc63RfJmuxnfTyXJkPaOkSpYp75SUe1fjQlO36l23sn1QgYrp0e6BfPvDbCOqjDaY9u+Cf7dqIPUeq2ttq8u03/ZeiH5OeYGgtctDzHhldJcu4Nw5x+ddOO/pc/uKFRd6+WN7frwHQi0fTL+cirlBFuxbm46kdC1MYjvbU6+2btdUt9Scrjzvs6vkFY3s1nVQOiUl5RWxWT2fz/pa6FIUtP8+HaSQvjKd78sO2WxdtEEtdLq+Nhj+qKRK/qNyrNlTOXef19RE5G0qQE58GLw+3orMlBTk7O7+6z+hvyxwXy/RtaaQ7u3jpke8EJKQh+KCHMTN8IJxWyZSZK1Hl3adPevivNanx1D/Uv1UlFHuMCI/JQnxj2pgmhkjzjsqBLpeo66G2+/fkWHCeMAI29Eq7PLrKE2yO/P2HOS8PwWrnuogG0nrC7mSuFZ1EEzveP56lL9RhoDFSYjoqnjm6orLkT3j7ydKl24vUXhhyq0qsSm7eSYdE4AAKGmjGypRYQxFYkJbG7eyHWOvHRWo6mB7XS+8JoRi3sOrsLq4GHk/hVtq8/Z6fg3ugSYDCpRUyRtk4Fssf9XdyrhetmjRInvQtD0ZPJUB1WvlmWeeQU1NDS5dutRrn8vALRERERHRAOSpjduetm3r4I0J/pdQaXStmSXuTN1u7js3zl/cWtRdgDMbldR4/EvsOtKWM+zCxU4WNm4YJjRfQKVrVreLbXfFF+oasOtgIzBxHOYvDMYbq8fh4XPnscWlDS43sgZvgC+WRY22p22WX+KCp+9x0YKiN60YPe9GPPxNI3J2dpznrMv16OZyiAaMFiuqCrJQpkrD6ylhbenlpI+0SFmmxWU/Q9+R9hTldmMikbrO8cCmeHUivD81ICQ8rPPArc2Mst/nwrwgDzkeHu65ctRa80XksjTM+CAfRfv7NdRxVWRNQNXCOESMUR47XuwqyGTG558CgWM6q+LT1XgnmfbRDFONy+e1WGD6wAizDKTImhUTYxEnUyXbt3fHD3o7FigrDuHQx+6PDhu+MANBqm4GJ2T7tVWImB3h8kBWcjzMNuzVQv+BOAbu7O4jRxWCJ9pQU9NafU98X0/bWk5vgdHkMj0saBBfQXVTZ5/puu0DERhgg+Gf7Wp69uDhr3V/EQqqI7EkIQg6jRamvnxwrAqGymKEybXt2K8bxDcS26HXnur2/Hi3nTCi6iOxDSeEInLBUmRqMhF9qhwVHZYFrmSfeeIvs7/D+Gmt0i9ZYT5YhVq5nQLFPrYZYKhzjLFr3UeO34Cprbqy4P4bCpwgJqg2ue/XernNg6AKEJ8+Rn54Ddw+vc6AqmPdPYZ7xn+M2EZGA4yugdRePOZ6ti+FE5+jRmxHt3Y2XXhe39Mw19oQ+dNYBPk6jzXHP3byeLeJbet6vLuVGS2oFeef2kY/BM2Yh7gnVkOzSAXjXzynM3YQx814uWpGscddONfN43FzDXxdK86ttbD6BSHsP+OwarUGSyYYUd7adrgnns9rfX0M9bthfoh8TAnIF69GopcJhil3ObJU9FBXv3/JnmHiQCW0lfvgG3mXxwCbbHs4a5sKaWtSEeZWcOvgPNYirlUn3GsKdzr/wTJ7tg3jH5U2ZJXsG+bNyxH/RCeZTK62HNkDfoFiq3xkcjtP1taa4eXbUZS5FmUZKdB+pPRKTedwzllrWuwLm1gL7/a1pMUUtt471faOJj1y45Ow0W1DKqmPPaSw73mZ00VX502LGbW2SMQtDILztGvzdC9+lWTQ1DV4K2vaXsugrSTbuF28eDHUanWvtG8rMXBLRERERDQAyeCsDN521F0Zf8SpvXBiz1dYd0gGPr7FqWozEjJqsb8bVUe9w0fjAZsV2VtP24OkF05+gZw1X2NHg+NuLXjCMNTst0B/6ltcOGvBu29b24K8wWOQPKkFRW9+huoz8k75LPaXHsP9Gxrsiey8v7Ei948N+L/29WrBhWPn8c/mIRg3yj43JowfBpy24URzsyNAO2oIxjacx5bqRjSebRTLEvOeckxrJ7bdjr2nHTVjhVP/I77z2RFYtVCFXz00HB//pR67Ooi5drUe3V0O0cBghaFgOfLNschOiYBv+xobU4IR8nU5irfV2gMQNosRpWV6+M4KgyNRmJMN1oZa6AqehObTGCT+p/OpphXmD/QwOh/6yBoZz6SjXLUKmeI3pDzn6T7fCCxZEYGDeTkotzeOfTmb1QzdBi2MvnchbJIy8DriO9oX5r/vFNvECuvXYnu+4WxrrY15mxa6EzaxvWyo3VaAMmsk5s1s21pdje9YENT3B7WlfWyxwvT2amRtPgTIh5Y3+sO3ToedRgusVguMWwpR6rqNAwLFEuphPilrmV7+4C/svlj4/60YpWJ+MQUsBzai8G/+iL2vmzWvLJXYdTAa0bMu/x5+s+ci7EAFKqDGXTcrA7sUiKj7QsV3LLJvK1uTBYZiLWTy1FZi++s/MCs1ngKhXhjWOr192/5Vg+JPwvDg3LbQc+fbXoXo2FDUb9Wg9IhcotgGxlJkpG6E8fLNdbkWE7YU6BGyOAnzfrwEcWMqULi9/ZHRi8ar8eBME0o36hyB+6ZalK8thmnmg1B3u4Zw17o83r//A7HlGmBukPsI8GqsQuHvNdhq34ZiK9aZcMjmC/8b7b3tdG+fdZ8XIv5TDZvcr7Vyp9lQv7sQWasrYZapHidGIza0HmXiO5hk4cImfidvZyBlgyNgF/Yf0fB2/gZEWal2R5H7eWrGAsT6VaD4baMjtbzFgI0FFfBfuABh4tzrNXMe1LYyFDjPtyd1KHw2F5VfOAISMhhtfm8nDGJm+3luc9ll546e8JoVg2jfKhSt1aFefgF7KtgUZP3NNRDuQbt9J18EMb5fBbNj13VjX5pRtrnt+Cv7v2Ww3j0PEZcFURw8r683fMVlp2qXWJ5VHGviXJa/weXXPj4KMaHO412s79di2292Oxug5m/5yBHj7cuW+/aTGnHy8e1GcMkLkTHR8N1fBM3uevuxYG824LEs7JTXvi6Om67OrVfCWlcF/UfO/ViDijU5KHKum7iOH6kVX210d8Jmns9rXR5DffDd+oPNWo9acS54cl0NYhLnec4o0pkufv92flGYO9OAir8B6gj3UpYr6wENlueZEZuTiojRysBW4jw2OwKWv5RCJ7a741q/FfoANaKU66fH+WcsdQSqWztH9g1Vwuud1BK/2nKkWD9RTnR7icgDv9kxjvNkiQlWcc63GLUo1Qci5l4lrbPbdT0IobfaUP6nMtTK84z47VVtKILBuS3GhyEiwICt/+XYJ/bjt2wnLKERCO3kPNRvfCIw7x5vVKwvRFWd1bEtxXct31gO881R4nvIiQIReBNQf9Js/73Jr9SdMmenujpv+viK30IVdu4S21ucd82781HkflrtdY888og9WCtr4MruWpKBWhmw3bRpkz2AK//uDQzcEhERERGR3dh5QXj7J8OgW/8Z7kz5BAu03+K+5O8hfLgygScjv4fM3/nj/1SfxOxlhzH7xbPwjhmP56McM0+4PxCZY5vw+FOfYPZT9dDf6I1g+xhpFB747Xis/DcxPsOEO1PrkHPSB8/HBTgeik2biP+XeAM+3CDXy4TZmmYEx43HitvsMyN4li8iTzfi/sc/wxb5uvdtE1Hw4A3Ytf5zqFd+jjVnRuEX4sMalfSSp6q/wdN/suBj2XP2C+Rus2Huwu9hurg7Gj07ECvGNyP3rS9bA7utPK1HT5ZDNBCc1EH7vhU4pkW6s11ApdMcEON9IpH68lKoPshEkhif9Fg+DMFpyHNrS80ATXwSktPyUTkyEa9rEl3acDOLc40GpVVKHY2DW6E9Bljfz0Wyy2fFx6ejvJtpG31npuDX9zRA+6IWJsfPHajTYrmyrKTkdGhPRSDt5cXubcldJ0ISsrF0fCVyliUj+fFiWO6NQxissLrkCFXNCobp9SWIT0hCxg5/JGYtQZjLQ8Suxncm8MeZyF5oQ9FjSWLeZOR/EoZVL8Q5avVMSUT2L1WofCEFycmpKP5GjbgZYl85V2xYGKIXBEK3OglJmw45hrm6OQ4vZkyDIT8FSeJ4SNnwOSIzXkRcNwOtlg90MN0TgdCO9plPBKJmAn733KU86O0ev7lpyJxTj6I0sc7JGdCNjXBLr2up3gqNpry15o5vpDi2HwLKVsntk4TMv/thyctpiHSpyONp2/vNzUDeokDon5ftvYltsNaMqN88jNBuvKFQ+/YfUDEyFklz/MS2ViH2F9GwlGg6fUHh6olr6oo8xKEMGbLtzUWZqByzBHkrIt1rS12lLo/3CZGImVEPbarY3rvEeWLqYuSlB8PwkqPNvKTMfQh6LBuJU5Tp2+nOPusJrxlL7Z+/L1O26ZmE9B1eSHw5FZH2fewHdUYelozVI+dRsc2SUqAxRyEtPtTxEopY9+xfit+I+A0liXEFddMQ4doMxbAgxL2wCtOqHanlkx4rxOd3r8KLDylHtU8Ylop1D3aeb5+ogFdSHlIjHQdQ4I/TsFS1D7kp4nhOyYVh7AzHb/dKDQvB4jWroD4lzp+y/cNFGai4cQnS5nYzLNV+3zUasHVtPsqdKeq73JcqRNxigkZuS/tnJyJzUVjnL/R4XF+xb1bIGr1FSE8Wx9qLBoQsVIuh53BOBmzk+LRMqBvE+EVi+z2tQ0C469lAjs9GrPg9pMtli/1XbIlB5gq5jG4Q3/X1DDXqi5eL85/4rqsq4Juchnn2lLpdHDddnVuvgFlXCM0WpbbwGDXScmKBbemOdXtM/A4XZCLtnu7tZ4/nta6OoT74bteaYa3YZqJckf++LxLzNEhs33Zrd3X1+7eTQVdxXPp5ekmpHroSvTiL1kKbJra52Ket3VqDfQqvyKXIftgLpemOa33OwWCkPadc67sxf49cdTmyFjqNKCdWd/OFEed58mAOksU5P2X1IYSkZyNOSStdX1UKzXpda3AyRJxD04L3iXOLWCfx2ys0q9vKPeL/cp+EKc19yOO3TJwFstO6+bu/prwQ9ujryJ5/AVufTXZsy9R86HzE+j7VFlAPmyf+3p2LpEVFkL+47pQ5O9fFeVMcp2mZ0Ti9MV2UG8VxdiAED94rtty5c46XUvqAs71bT23e9pX2NWx7q8btkJHz0i9ZK15ReomIet/x48cxadJ1+Eo7ERFdV/ryejFkyBD7v7LNkZ66mnl72549e+ypkK9EVlYWbr/9dqWPiAYjlrsHN/mQWHvT68hb0HGNwa7GD0xmlKbmAitfb334ej0anNueqD/IF360CF7TkzagiYhooOrp/Yus2Sqfi/TEnDlz+rQmbnBwcGvAVtb8lW3sXi0Gbomoz/EBEhERdUdfXi8mT56MTz/9VOnruVtuuQVHjx5V+vqXvEnpSTrkgIAAe8CWQVuiwY/l7sHtuxm4HRi47Yl6CwO3RETfJT29f5GpiGVK4p6QbeDKtnD7igzavvnmm/a/e+tzGLgloj7HB0hERNQdfXm9KC8vx4oVK64oeCuDtmvWrEFMTIwyhIjo+sRy9+DGwO31i9ueqLcwcEtE9F3S0/uX5557rsfpiJ1t4A4kDNwSUZ/jAyQiIuoOXi/619L84zhg6lajNtRD6x6/CRG39WbLgEQd43mUiIiIiIgGCt6/dIyBWyLqczwBExFRd/B6QUR0dXgeJSIiIiKigYL3Lx0bqvxLRERERERERERERERERET9hIFbIiIiIiIiIiIiIiIiIqJ+xsAtEREREREREREREREREVE/Y+CWiIiIiIiIiIiIiIiIiKifMXBLRERERERERERERERERNTPhoycl37JWvGK0ktE1PuOHz+OSZMmKX1EREQdk9cLIiIiIiIiIiKiwa6zmAkDt0TU5xi4JSKi7uD1gojo6vA8SkREREREAwXvXzrGVMlERERERERERERERERERP2MgVsiIiIiIiIiIiIiIiIion7GwC0RERERERERERERERERUT9j4JaIiIiIiIiIiIiIiIiIqJ8xcEtERERERERERERERERE1M8YuCUiIiIiIiIiIiIiIiIi6mdDRs5Lv2SteEXpJSLqfcePH8ekSZOUPiIioo715fWivLwcK1aswKeffqoM6b5bbrkFa9asQUxMjDKkf73zzjv417/+pfR1z5w5c+wdEQ1uLHcTEREREdFAMRjuX3bv3o0333wTtbW12LhxI4KCgpQxV46BWyLqc3yARERE3dGX14vJkydfUdDWSQZvjx49qvT1nz179uCNN95Q+nomKysLt99+u9JHRIMRy91ERERERDRQXO39iwyWLl68WOlz6K3gaXfIzw8ODlb6YP/cmpoape/KMVUyEREREQ16zqDtpUuXetxJVxP07U0ycHulelpLl4iIiIiIiIjoeiUDp7LGq2t3LcnPd9W+/0oxcEtERERENADJ2rM/+9nPPHYBAQHK1EBDQ4Py17XRePxL6I+fV/qoJ7jtiIiIiIiIaEA4oEH8E+WoV3q/S+655x632r2yvzcwcEtERERENADJoGxXXX/6eOfXeLzka5xS+qn7uO3ouvF1FQp/l4z4+HjRJWF53k6Ybcq4jpzQIX9FkmP6pAxoD1qVEZer355++QOeE+XIiE+GZr9jPvs09s92dklI+V0hqr62jx58TpYjPT4d5SeV/qtSj/In4pG+veNHaDZ9LuLXGpQ+IiIiatVig+WYATu35CIjJQmFB5ThrawwvpWB5ARH+SSlq/LRtdJiQdX6tvVKWpGPnXWuK2aFaXs+UlzG604oo6Qu53chyiwZYprOyhl2XZUj5fgMpdwoxmes1cPcooy7jA3WOiP02wuRk5aMrE4+13qkHPlivFym5rL95sJe5nJ8z7ZOg9aSUaMBWrd1L4ep82JtP3Ps1+VJyvdIWo6cLQZYW7el5zIhXT2dTodnn33W3sm/ewMDt0REREREA5BMfSxTJ3vq+lP4o7fhw1UqjFX6qfu47ei60GRA4RP5qJmehoLiEpSsz0TkqSJkvGVUJmhHTp9ZiPp7clC8uRgFj6mgW53V/SCk1QBNphZIyEZquK8yUJiYiNdLxOeLrnj9asT5VyL/1Z2wKKPpSlig23EI0feEKf1ERETkVP/XDKS8Uo6aEYHwtthwQRnuVP/XHOTsUWHp2mKUbFqNaFk++qMB/Ru7tcGwPh35NWFIk+u1eQMyZ9Wj6HdaGJUAnk1fiKwtNsTlyfHFyLmnXpTdtDA5xnY5fxtRjlivhceEsF2VI1tM2CjHz5LlRjF+Uw7uMmuQtdmxNpc5UIDk3xWj8rwf/M5Z0VEMtX5HFlJeNUL182wUbChG6kxlREfkMrzUSCsoQEFrtwTT7CMt2PlSLnSqpY51F+umPqVFTkknZeB+Jo/HrG1A7Asb7GXwDflLEXIwF8vX9/cx2TdkKuRNmza1dm+++aYypo0c5jpNb6Uv7oyscTtnzhw88sgjypCrx8AtEREREdEA1J1UyT2lX3cYCdo6vLTyMO7MrIP9BeyLFuxY9wnUy8Qw0SW81YDGi2L4qc+xJMUErctb2hf2HMWdT36GI+Jvuaw7133pGCGdbcC6F02YnSKGp5qw8i+nHQ9BTpvxK7flfIWXHj+MlXualf5m7Hj1MO7/k1L/VKzPu6+aWtfnoVc/R0137kjrzFj5pJhHfv7jLp9vdx7V247h/lTHePWzNdjVoDyhOFGHhJRjKPqzYxs8vV8OdEz/kFhP+/RPHsO7dW1PNBzb8XOsedb5eZ9g3ZG21MfdGd+67ZTPf/dALRKUz7v/VTNq5D6wa0HNTmXd5f5ZL/Zfpvh32xllfHsevqvQWF2LJb9xjJv9m0+w5oDyWEQMVy+rgb71c4Ejf/oYd7528rKHWTRIfFwFnVWNuPhQ+HmJ/tEhePAnYbB9XNNxGrSPKqHzikXKwiB4DfOC36wULJlpRumOTh7AuWoxo/z3uTCGr0LmApUy8HJeo1VQz40APjmCGmXYYGGvXbxCC7P4T7vCpVaE2Db6tRlIUmp8ZLzVVoPCvE3Mk7wRJqXfKmvRxudA97GsRbIc4nQO8+bll9dsPlmJioYYqEOV/vY1cDLcazVbjVpkJCu1OJJdalIbN4r10sDQdgpBbUkK4vP0g/JBIRERfTcE/jgPJesysXTBDFyew0hcl/+nFmFLUhAhC0g+QYj9RSx83y9HZUdvldlrdmqgOyiupUqNyJQ8nXvN0kYDSnPE9VNeZxNSkLPFqAQmLdiZ2a6mZJMeueIaXyqu8e4OoWq3FeqH4xAq12uYL0IWLkCY7RBq7C3m2FC1twp+P4mDerwc74WgBQ8i0loJw7HuzN/Gqi9E4Xk1IicqAzrSVTnyuBFHhkcjboEsN4p+sR0j/10F60cmpcxiRKEol+TsVjbqjFSUFK/GqofVCB7tGORGbBdtsReWvLAKcTNU8POVH9pGBnXjk51BauF0PSzjVQjy84Nfa+cLx1w1OPKJ+MhZEY51F+s2b56HMnC/qkdVZS1UC8R+nSjWX+xX34BQxCVE48JusW/NnZUJ3Wvptq99bVgrjrutVdiZpxyXMpOO0SVcbjVC66wtvSwf5R+fU0YoXGtbJyTbA/ZtcxugiU+HdnuhvezZUzJI+txzz2Hx4sX2TgZm25M1X53jZRDXNZVxX1Cr1fYuODjYvm69gYFbIiIiIqIBSNa4feONNzx2V9Ku7ZG9TfB+6PuoeCIQE3Aeu9aexKsYjXdeuw17c8Yh/JOvkPLnM8BYfzwwqQX/XeUMEDaj8qANE2aMxlRlSKuLFhTlfgX91ADsXheCvSt9gZ1fInt/M+A/GpEBLaj+RAnUHj2HSvHnLqPzyUcjqmuHIOqHjvqn1dqTyPlmBApeDcGHr47Hfd80YslbXX3Pr7Am/wzM4eOxV35+6giY//Il1lQ7npic+PPnWLJnCFY8OwUfrrsJr039FivzzfYAtEMzSmvEZ2bdhFUzgFPvme3T/ypLTF8wBUXhLchZ5zq92I4HLiB4cTD2aibijVlA0WtfYJfL/WxX4901Y13lcDz/0hSxD/wwvfYMXvof5db3UB1Stn6LqJ//AHtfDcbzk214z8Pm8PhdT5vxdEETJvx0IvaK77X9pzfgv9efwBYZM58+Cvd5NeG/DzifMp3Ge9WXMHemP7yVITTIzFiKkpKlcK2TefrreiDQH/5Kv6v6k7XAaF+MVPoBL0y5VQVbndlz7VgZtM1MR5lqFfJSwuBS1/ZyTWbodlXB954opUbE4BG4IA8laxKhEv8lrilB3oJAMdSKqnUZKMKD0BSXoLggA9M+ykXWXx2P3FQLUhE7sgKFsr/FhC1FBgT9fCnUt8Ygr+R1JE4U0yS8jpKXYyCX5mT++07Y5kbB+QjLUVPDC0ucNWxm1CD/mVKY5UiLDvk5OqgeLUBxSTEKHpU1qXOxUwZ2QyMx10svzv1yQsmMfXoLImZFKA8+iYiIBiAZSOxUPT4/AYz0cbnS3RyCUJhQ6/LOqjs9tO+pkLq+GMXrUhF6sBBFe5TSUUstSn+XC/1ER+3O4rVL4FeRgydLZA1BP0SoQ8V1u6o1YGg7sA+GgEhEXRY0DcPSkhIsFfcqrSynxXyB8PeTPadlrBKht7gEsIap8IMJFtSflj1dza9oMqCowIzYX8QgWBnUoa7KkTfHYvW6xQhTtrXNYoTuH2YEqSOUMksQ1KmpiJuufLjHfSJ89L+omhSI+o1tAfD8XfaSjF1gRBxSH1WLUpZD/QmxfZtEGccZuHR7aW0a7ggHDn5QBYt8E81mxs6dBviGhriVp64PgQi+xQtmvQ6mRmWQFLpYlNtSEaHquExo2Z1vL/slakTZT5TvVsva1y8qZT+FectWnJ6/GsXFG7A61oby1VuUwLcFuvwc6AKWIG+TOKafj4bV6Nr8hglaWZs6ItNRm7pgKVR7clCod32tT5T//+GNpasLlP7uk0FYmY64O8FY2d5sb6Uu7oyszStrATvJoHFv1PBl4JaIiIiIaACSqXg0Go3HTtbK7akJd4/BinA/jL1xOHDiK2ww3oDfLBqPsV6A99gALPsPLxw5eAYn4IuomeJv4xlHW6wXLdh1ZBjmR3QQ0jlwGuuafZH1oD+8hw6D90QVkmcBOw7IBxY3Ivz2Idh12PHw4sShJmC6D8KPnEe1fcB5/NM2HJHKV2k8ewkTJo/E1OHi7n24PxKTxyFTrIfnWp8t+Or8EISH3uj4/MmBeP6XflD7fyvGncK2ym8xd+EEzB17g7hD8sX0uDFYefMQfGV/iCF54TeP/gBTx/titNgOo+/6PipyJjqmxw0InuWDqaebsd8lJWyw2I4PTPKBt9cohMf54WGvZuyQgWpFV+Pdyc//PoKH3wDvgO/jvqnA/mNnxfAW6P9+Hqem/xtWho+G93AfBKvHIanT5o27+K7nL+KrizcgfMYoeIvvNTYqAK//fDT+j33ecZg/Ywj01coTjRNnof9mOObfIY4T+m6w6rFxswXR90d2GJTzHxMofqBWuL5/YJNx/jNWD79PC6oKsqA9ForEn3cStK3TYrl8ACe7RekoNEdj1aKw70Zg8KQOpfppWJLsqPHh5ReKuIVhMP9DeYA7LAhxv46GZfNGlJYUomJMHFKju3qkaMLO7V6Y9yPno8ta6P7sUnNI1rB5KAVLpnujXp6Wm6xiL4Vg2g/9xDaXNamTkLkiRgyRQhB5rxeqDiqpA08aUNUQgbvEOZmIiGhw8kegH3CuySUI1WKP7uGsLJ53KAxLHlND5SOupGMiESXug4wmJXfIwe0os0RjaVKYcq2PQGpaNE5v227PaOF3RxRC66pwUCmCHzpYhcC7o1oDkJ2zQl+shWV+LCJ9lEGSWzRIrE+nAdGO5zeV/AEH7/014m7u4bW+s3LkAY0jcJqSA91Nq5D5Y2c5RpRHZkUiZIzS2wX7C4THqmCeKYOFxSj4XRTMf8zCRuebtWNCETlL1VbWDJiGsFvVSMovQIEmEzFDdW0vrYk1jFyeiaiP8pEiA7tJ6Sj1XoIXFzlKP9eb0PhMJI6tRNaj8UjJ0aB0d60j4OyBb3gqCl5Xyn7i+6pmiWOqwQCDywvAfgtTEBcqyn9evgiaLY5f2xGY5PiTlSg3hiBusfOYFuXT2EjHTFJLMGLzNiDHWZt6dASi7gCqPjrkGG/nh9hfLEbYRNe3ArrPGbz1RE6zceNGpa/vdBSk7Y0avgzcEhERERENQO+8844jkOGhk7Vye2r0CJdbafO3OAIbnk5zpM61p8/9k7gLbLlkHz02fATC65pQKYN+h85D/28+uLeDV69PmMU8Z6xIUJYhu4Q9YhlK2t2pP/TB6GPN4rOs2H/4IqJ+NBaRN4rlHgUufCKGT/FBuHLnEv4jXwzfVw/1s8ewZttJ1Iz0x9wZfl3U+vTDw1FDseU1ExJerYV271ncGDoe4RNl0PFbnDgzDLfe7BKAHDoWDz86EZGtMehhGN1WjRDe4m/z/3zWmir5zuyzYt3bvo/kPdTlVmvoGNw5Wcxzui0w29V4d+6fb2f/LCtqvhDbb8II+6CudfFdJ/wbHp78LXKeNOFXms+wpfpbBM8aj6lKY7vTw32Aaqs9oH7K0IQjU0ciqv160eBkNWLjUxqcTsjG4suq1Dt4zYxChKUMBdtqYWuxwWIshabE3GkNXbu6clTelI3M+eJ3KVMAK4PduLRxW7KpAJnhBmRlt0v9O1iZa2CW6eQWtZ3XkzQG+Wy4zdRE/PruQyjbbkH0L2Kh6qpGilGPXUHRiBqv9OM06i0qhAS7nPuHBWHeo7EIk8/SxkcgZkYNCn+ZghxNKXYarVCFRyBIeZAa8u9zgd1V9hoYloNVMIffhQjXB8RERESDShCi5gbCUFSAKhkdk9lA1hRCL+43RJGnEyMxsv21UUliY6/5OT0EIa7Xb1UQQlALswyS+YUhKtSEfQctYh4jDn4QaE8p7JkVxk1PQnM6EdlJVxJs7GT+Y6X4w3szsPShHi7TUzlyZqq9jFdckAn1Z7lYvqkbTWx0wGwWZc6ZS5B6j8rRZEdoHB6cacWuf3S8vMBZi7HqsRiEBvjBT6YW/u0ShDToUGlPG22BbnUOKn+otM+7aTXiLhThyStctz7nG4KYjAIU52fiwannYNiQgZRF6e6pjdvx8vFC/S5Na6pkR3Md8j5fmUDw9W1/o6eMl+VTr+DWsqCda5RRbH/vJiOKMpVUyaLLfV8Md1m2DMxftvge6iowK8f1RgC1K7JWr6xl6/ys3qrhy8AtEREREdEA5KnGbUBAp1Uue274CBQV3IYPXbuciZggx/n7Yf4kG/TVzag+0ITRHaVJdpp0IyraL2fZ9xzjbh+ByLPN2F9zBvqTPpg/TdbCBfSHzmD/YZujpqxjSnhPuwlv509EwQJveNc0IiXzKB5/r7P2XJ2GY3piCHbnBGLZbUNRvbMe0SuP4l2Xdnx64sSflVTJT9/s+B5Zozr/3nbf4oKs3NuprsZfKzfigd9Owd6VY/DAxBbotF9g9lO1qHZWoZw2CvdBBtStqKz+lmmSvyvs7c/moHKK5/Zn4ROJpTmx8P6vDCQlJCFjhy/m3usHL3E+6rROxoQ4pIplhiZlYt7HucjZ7pqgrQM+fgj9SQxCj5VDZ3+w9h3gFY1sZ+Da2bmlPr6Ac+cckdwL510juh0R5+sdFZg2X43u128IhFo+DHw5FXODLNi3Nh1J6VqYmpTRUyMxF/tgOGaBYb+JaZKJiGjQU/00G6l3GJGfkoT4RzUwzYxBGFQI7Gbt0C7ZrC4vs/khLDIUxgNG2I5WYZdfR2mS3Zm35yDn/SlY9VTM5S90ubxoKssF9uwo7XQ8fz3K3yhDwOIkRHhs16KdbpYj7VlFYiNhfU+vpOPtGX8/UbIZOdKlDKI02WHtPHjpZkwAAqCkjW6oRIUxFIkJbW3cynaMvUQZqqqD7XW98JoQinkPr8Lq4mLk/RQuqY0vV//XLEeq5NdkqmRRtrQ319FLmgwoUFIlb5CBb7H8VXcr43rZokWL7EHT9mTwVAZUr5VnnnkGNTU1uHTpUq99LgO3REREREQDkKc2bq+kbdsOjRuGCc0XUKlk8rK76Hq36kiXvOt/v8COw8D8mR2/Zj5u3A1AXTP+6ZpD1XU5Q/0QNeVb7CqxonLqCEwXg6aGj0TjgXq8e2wIfniz8+nAWRzZexJHzozC1Jk/wLLfTME7PxkG/e5v4DEGe+oUdu09hcaxYxE5/ya89OxErBxnwxZ7+7w3YMKNLfj4mEtt14uNqN7bgJpO2pytOdGCqXPGYm6AUnNVfBXPqZrP4tgXgMrfpaarm67Gd+ZGBIs77BOnOqup257n73qhrgG7DjYCE8dh/sJgvLF6HB4+dx5blCyojnTJwI49DdAf98Jcpkke/Fqs9lTGZao0vN5V+7OC75Q4ZCsPaApWTMPpaivmhnuolTFMJt+V/wYh7sk42Dbno+wKX6gYlAIDEWgzwFCn9EvtHhha9xehoDoSSxKCoNNoYfL0QLGpCvv+N8J+3m4jUz6aYapxCfq2WGD6wAhzE2A7YUTVR2ZgQigiFyxFpiYT0afKUdF6XpDpkq3Q6cpQZQxjmmQiIhr8hvkh8rECR8CreDUSvUwwTLnLkamihwInBAHVJvfrd30DzAiCSnkX154u+UAltJX74Bt5l8cAm3W/BlnbVEhbk4owt4KbP/wDAeOnLmldW8z4/IR7TeFO5z9YBq0ojxj/qLQhG7/c3m/evBzxT3SSCcVTOfIjLVKWadFanHDyHXlFL4b6BYqt8pEJrklra2vN8PLtqPRai7KMFGg/UnqlpnM456w1LfaFTayF92UZRM7B1tU7ctdakx658UnY6LYhldTHztTGHTB/ZoZqYRwixijltos9+GKqYLHsGtS2tgksuL4QYDGj1haJuIVB8FUWb3N7YaB3yaCpa/BW1rS9lkFbSbZxu3jxYqjV6l5p31Zi4JaIiIiIaACSwVkZvO2o6zXBY5A8qQVFb36G6jPyDvYs9pcew/0bGloDlWOjfDH3k/PYgpG4d7IysB3v2Tfi4eHNyF3/BU7Ie8JmC97VfIJf7Wh0TCBrxAYPQ/VxG6JClScek0ci6owNu5p9EOWy3I/3nMZyrbIcuT7HxHqNGiqW4EkT3tY2IFd3xr7eF041oroeGDdavkI+FgujbsCubSew69S34qbTiurSk1iy/TwudJK+afSoIThy4Gvsb2hCo9gP6zaehWtsWzqy5yu8W9cslteMI1u/RpH4Hg+Et61lV+O7KzJqBLwPWLCuuhEXmptQo/sKxa436GL9duw9DceW9vxdvb+xIvePDfi/h+Sb6S24cOw8/tk8BONG2We2m363mPDAeeyaKvb7Vaa3ouudFYaC5cg3xyI7JQK+l6XgtcL8gR5G14c2UosN1joDSlfnoGz8EsSGKsO7MiEWaQleKM3UwNBJ5Qib1QzdBi2MvnchbJIycDAJCEQQ6mE+aYNNtp03MVpsv3qUvVEKk/wR2ywwvp2BlA1GmaxObGsTthToEbI4CfN+vARxYypQ2FprORCBN8k238z2ZcnpLXt3wTA32r2tO/GJ6vuD2lI+tlhhens1sjYfAsR0Xo1VKPy9BluPOHaKrc6EQzZf+N9o77UL+VEM8LcKGGS6bKZJJiKi7wibtR61uwvx5LoaxCTO60E2CxczFiDWrwLFbxvt7ZLaLAZsLKiA/8IFCHOWvfyiMHemARV/A9QRnad+tR7QYHmeGbE5qYgYrQxs5YWI2RGw/KUUOlHOcFzvt0IfoEbUzY4pPM4/Y6kjUN3avY7EiYAq4fV2mUCcuihHTglGyNflKLY3sSG/txGlZXr4zgoTJRNJrJ8oZ5ralzM74Tc7BmpbGQpKTLDam+zQolQfiJh7lRcIvzZC/4FZqckchNBbbSj/UxlqZQYRUb6q2lAEg3NbjA9DRIABW//LsU/s6bDLdsISGoHQ662c4xOBefd4o2J9IarqrI5tKb5r+cZymG8W5TJ78P/yMqHvaF+Y/75TlOOtsIrpS0VZs4u8N23GRyEm1ITSjTqY5fK+FsfsZr0yUvDxFb+FKuzcJba3Vdwv7M5HkcvovvDII4/Yg7WyBq7sriUZqJUB202bNtkDuPLv3sDALRERERERdWIUHvjteKz8tyY8nmHCnal1yDnpg+fjAtrehB45BnOnABPCfDtPFzx0HFY+Nw73ffMNfpZ6GHf+5gtsGemH5+e1PRGYMM0HE+CFyOnO4KU/IuUClRq4DmJ9UgORdLERCbJ9WbE+686OxBuPqaA0w9qxsSq89LgvsNOM2bKd3mcbcWr2ODx/r+MN7An3/wBFcy5hzbOf4M5ln+Hp2uF47UlVp99neuJ4ZI65gMcza6B+3oKzd49CJC7ijEsN3eDbvXBkwzGxvGNI2DsEK5aNR6RLoLOr8d02bSIKFg7DjvWfY/ZvavD0US9EuWyMU9Xf4Ok/WfCx0u/xu4pl/b/EG/Dhhs9wZ4oJszXNCI4bjxW32Wd1mOyL+aOAuXeMYZrkwe6kDtr3rcAxLdITlPavlE5zQE5ghm69BqVVLnUsTpaLaZOQ/Gwp6meuwoaMnqTkBVQL0pD4PT1y1+lgbVEG1mmxXPncpOR0aE9FIO3lxe5twQ0Ww8IQvSAQutVJSNp0SAzwgzojD0vG6pHzqNgGSSnQmKOQFh9qr6lc+/YfUDEyFklzxFYepkLsL6JhKdGgXKm1HDYvBoG7c5G0qAiHYEGVzoS5sy6PpAf+OBPZC20oeiwJ8QnJyP8kDKteiHPU6Jm6GHnpwTC85GinLClzH4Iey0aiOO+3uvkuqMUqhM1mmmQiIvpuMKx1lEvy3/dFYp4GiZ7bTemczDrywipMq85HSpJY5mOF+PzuVXjxIdcArQy6holigRp3KUHWy9VDV6KHFbXQprmX2+LXGuxTeEUuRfbDXihNd1zvcw4GI+055Xrfjfl7pKtypE8kUl9eCtUHmUgS45Mey4chOA15rW3q1kKnEeXMaovS3wWfMCx9OQ3BB3OQLMqiKasPISQ9G3FKWun6qlJo1utag5MhSXlIC96HzEVinUT5qtCsbiv7iP/LfRJmdOyT+EUZKEMsstN6Vq69NrwQ9ujryJ5/AVufTXZsy9R86HzE+j7VFlB3LxOK75+QjaXjK5GzLBnJjxfDcm8cwsTet3aSccqdKJ+mZULdUIT0RaLM+rQOAeHi+HQSx2laZjROb0xHcrI4zg6E4MF7xZY7d87x4mEfcLZ366nN277SvoZtb9W4HTJyXvola8UrSi8RUe87fvw4Jk0ajK/EExFRb+rL68WQIUPs/8o2R3rqaubtbXv27LGnQr4SWVlZuP3225W+wefENhPu3+GM9LgIGIU/O9vkvUb06w5j3QQVNi90qZLmoqvxPSO+88VhLq/knsK6lfU48dBteD5cGUTfGSx3U6fqSrH8JWCVxvlQkoiIiIiof/X0/kXWbJXPRXpizpw5fVoTNzg4uDVgK2v+yjZ2rxYDt0TU5/gAiYiIuqMvrxeTJ0/Gp59+qvT13C233IKjR48qff1L3qT0JB1yQECAPWA7mIO215trGbi9cLAGC7YNw/OpExDu34Ij2z5Dwp4b8NqLwVdWg5cGNJa7iYiIiIhooOjp/YtMRSxTEveEbANXtoXbV2TQ9s0337T/3Vufw8AtEfU5PkAiIqLu6MvrRXl5OVasWHFFwVsZtF2zZg1iYmKUIUSeXdsat+dRve0L5OiaUdMMjPYfjl/98iY8HHyDMp6+S1juJiIiIiKigaKn9y/PPfdcj9MRO9vAHUgYuCWiPscHSERE1B28XvSvpfnHccDUrUZtiNyUZt2MWyY42yam/sTzKBERERERDRS8f+kYA7dE1Od4AiYiou7g9YKI6OrwPEpERERERAMF7186NlT5l4iIiIiIiIiIiIiIiIiI+gkDt0RERERERERERERERERE/YyBWyIiIiIiIiIiIiIiIiKifsbALRERERERERERERERERFRP2PgloiIiIiIiIiIiIiIiIionw0ZOS/9krXiFaWXiKj3HT9+HJMmTVL6iIiIOiavF0RERERERERERINdZzETBm6JqM8xcEtERN3B6wUR0dXheZSIiIiIiAYK3r90jKmSiYiIiIiIiIiIiIiIiIj6GQO3RERERERERERERERERET9jIFbIiIiIiIiIiIiIiIiIqJ+xsAtEREREREREREREREREVE/Y+CWiIiIiIiIiIiIiIiIiKifMXBLRERERERERERERERERNTPhoycl37JWvGK0ktE1PuOHz+OSZMmKX1EREQd68vrRXl5OVasWIFPP/1UGdJ9t9xyC9asWYOYmBhlSP9655138K9//Uvp6545c+bYOyIa3FjuJiIiIiKigWIw3L/s3r0bb775Jmpra7Fx40YEBQUpY64cA7dE1Of4AImIiLqjL68XkydPvqKgrZMM3h49elTp6z979uzBG2+8ofT1TFZWFm6//Xalj4gGI5a7iYiIiIhooLja+xcZLF28eLHS59BbwdPukJ8fHBys9MH+uTU1NUrflWOqZCIiIiIa9JxB20uXLvW4k64m6NubZOD2SvW0li4RERERERER0fVKBk5ljVfX7lqSn++qff+VYuCWiIiIiGgAkrVnf/azn3nsAgIClKmBhoYG5a/rxMVGVO/9CqcuKv3fVSfqkJBigvaE0n+lGr7CrsONSg8RERERERHRNXBAg/gnylGv9H6X3HPPPW61e2V/b2DgloiIiIhoAJJB2a6664l+3WHcue5LpU+o/wZrtF+h+IjSf63tr8GdKTXQK70D3Ymq01j5x1OoVvqJesXJcqTHxyPerdPAoIxuz/pJOfJXJDmmS0hGxlsGWFuUke3Ub0+//AHPiXJkxCdDs99q77VP4/bZSUj5XSGqvraPHnzs2zsd5SeV/qtSj/In4pG+veNHaDZ9LuLXdrYniYiIvsNabLAcM2DnllxkpCSh8IAyvJUVxrcykJzgKJ+k5O2E2aaM6k8tFlStb1uvpBX52FnnumJWmLbnI8VlvM715dEu53chyiwZYprOyhl2X1eh8HfJ9mXJMtzy9ttJjs9Qyo1ifMZaPcydlBtFyQXWOiP02wuRk5aMrE4+13pElEXFeLlMzWX7zUVXZdxGA7Ru614Ok6N4eh1y7NflScr3SFqOnC2uZXDPZUK6ejqdDs8++6y9k3/3BgZuiYiIiIgGIJn6WKZO9tRd18b/AEXrbsWK25R+uioTfjIFH74ahOlKP1GvOGeF1UuNtIICFLR2SzBNGe3mZDlyMsuAhatRvLkExXmJCNyTi9y/WZQJumA1QJOpBRKykRruqwwUJibi9ZISlIiueP1qxPlXIv/VnejmUqlDFuh2HEL0PWFKPxERETnV/zUDKa+Uo2ZEILwtNlxQhjvV/zUHOXtUWLq2GCWbViP6VBEy/mhA/8ZubTCsT0d+TRjS5Hpt3oDMWfUo+p0WRiWAZ9MXImuLDXF5cnwxcu6pR6Eoe5kcY7ucv40oR6zXwmNC2CYDCp/IR830NBQUi3Lc+kxEyu30ltExvsWEjXL8rBx7ubFkUw7uMmuQtdmxNpc5UIDk3xWj8rwf/GT5VBnsqn5HFlJeNUL182wUbChG6kxlREc8lnEt2PlSLnSqpY51F+umPqVFTomy7tcZeTxmbQNiX9ggtmUxNuQvRcjBXCxf39/HZN+QqZA3bdrU2r355pvKmDZymOs0vZW+uDOyxu2cOXPwyCOPKEOuHgO3REREREQDUHdSJffYRQvefdUE9bLDuFN0D736OWpc7vYaqz/Dr1aKcSmHMXvlMWyp+VYZ46hRm1B6ElvE/LPF+Dsf/wRrqs+LMV/iadH/uKwKWv11Wy3XdimC7fNrP8eaZx3Ld8xvRc3OY7g/1THs/lfNqHFNrXy2AeteVD4v1YSVfznd+mCl8/VRav9uaBJ/NeFxMe7p/fbBnbvYiF3rP4FaWQ91di32n1XGCZ4+y67hJF7K/lhZz4+x5K0GdJjUWNYCXnYMu84p/WjGjlfF521Q0lzXmbHyScc63Pm4+/c9sc2EOzPr0PrSvIdpL3P2FLTOdRf7PWH9SZcU1uex/y33764/I5/etGD/ho/da1HjFNaJ42NlZbPSTwPe6XpYxqsQ5OcHv9bOF17KaFf1/1uJ2ptjkXiPCl7DAK/xajz4n34wfVqjTOFBixnlv8+FMXwVMheolIGX8xqtgnpuBPDJEXRjqQOKvXbxCi3M4j/tCpdaEWLb6NdmIEmp8eFai9m8TcyTvBEmpd8qa9HG50D3saxFshzaOjHN5uWX12w+WYmKhhioQ5X+9jVwMtxrNVuNWmQkK7U4kjOgPag8LjVuFOulgcHlgW51hALcAAAbaUlEQVRtSQri8/SD8kEhERF9NwT+OA8l6zKxdMEMXJ7DSFyX/6cWYUtSEOEnSkQ+QYj9RSx83y9HZUdvldlrdmqgOyiupUqNyJQ8nXvN0kYDSnPE9VNeZxNSkLPFqAQmLdiZ2a6mZJMeueIaXyqu8e4OoWq3FeqH4xAq12uYL0IWLkCY7RBq7LcSNlTtrYLfT+KgHi/HeyFowYOItFbCcKw787ex6gtReF6NyInKgI58XAWdVY24+FDIxWF0CB78SRhsH9c4yiTHjTgyPBpxC4Ls5Ua5HSP/XQXrRyalzGJEoSiX5OxWNuqMVJQUr8aqh9UIHu0Y5EZsF22xF5a8sApxM1Tw85Uf2kYGdeOTnUFqwWMZtwZHPhEfOSvCse5i3ebNc1n360o9qiproVog9utEsf5iv/oGhCIuIRoXdot9a+6sTOheS7d97WvDWnHcba3CzjzluEwS5T+jS7jcaoTWWVt6WT7KP269gXVwrW1tz8LjPKYlAzTx6dBuL7SXPXtKBkmfe+45LF682N7JwGx7suarc7wM4rqmMu4LarXa3gUHB9vXrTcwcEtERERENADJGrdvvPGGx66n7dpWa08i55sRKHg1BB++Oh73fdNoDzLa1dUhpaAZ4b+8GR+uuxmb/+Mi3lhTB73LPdqRPY346t4J2K0JxubZl6Dd8CWq8T08X3AbXpNVQaePwYcFwYh0TH6ZIwcuIHhxMPZqJorpxfzrP8Pjh0fgtVemYG+OP6Z/dgYv/Y9yy3fRgqLcr6CfGoDd60Kwd6UvsPNLZO9vCxp2vD5A5LLb8GGyj/jLB6+JdXs+3D55p6q1Zqw0+6DgFbFd1t2EzHFN+NWGk26B0M4+C/gKa144jX9O+55YT/G5v/fDBMNXyOkouDlzJOajGbucr7WL71j5yRDcFz5G9Ijl5J+BOXw89srvmzoC5r98iTXVrk99nHoy7RloX6lH8fAbsV0j1m91ACLNp7H47dP2safeM+NXhhuQ+ewUfCj2i/zuj2u+wCkMQ/hdPhh96Bz0ziBvjRU7zg7H/DuGKwNooKs/UQs06ZDvfKjTLqDnKvDHq1HyQgwClX7p9CkL/Mb6K32dkEHbzHSUqVYhLyUMLnVtL9dkhm5XFXzvieq41u8AFrggDyVrEqES/yWuKUHeArklrahal4EiPAhNcQmKCzIw7aNcZP3V8chNtSAVsSMrUCj7W0zYUmRA0M+XQn1rDPJKXkfiRDFNwusoedl9v5j/vhO2uVFwPsJy1NTwwhJnDZsZNch/phRmOdIi9n+ODqpHC1BcUoyCR1XQrc7FTnkchEZirpcelQflhJIZ+/QWRMyK6DC4T0RENCDIQGKn6vH5CWCkj8uV7uYQhMKEWtf3Gd3ooX1PhdT1xShel4rQg4Uo2qMEJFtqUfq7XOgnOmp3Fq9dAr+KHDxZImsI+iFCHSqu21WtAUPbgX0wBEQi6rKgaRiWlpRg6QylV7KcFvMFwt9P9pyWsUqE3uISwBqmwg8mWFBvL/Z3Nb+iyYCiAjNifxGDYGVQh2YsRUnJUrHUNqe/FisQ6A97yfDmWKxetxhhyra2WYzQ/cOMIHWEUmYJgjo1FXHTlQ/3uE+Ej/4XVZMCUb+xLQCev8tekrELjIhD6qNqUcpy8FzGnYY7xP3hwQ+qYJFvotnM2LnTAN/QELfy1PUhEMG3eMGs18Hk+mZw6GJRbktFhKrjMqFld7697JeoEWU/Ub5bLWtfv6iU/RTmLVtxev5qFBdvwOpYG8pXb1EC3xbo8nOgC1iCvE3imH4+Glaja/MbJmhlbeqITEdt6oKlUO3JQaHe9bU+Uf7/hzeWri5Q+rtPBmFlOuLuBGNle7O9lbq4M7I2r6wF7CSDxr1Rw5eBWyIiIiKiAUim4tFoNB47WSu3JxrPXsKEySMxdbi4Mx7uj8Tkccic6YULaIF++1k03j0GSyYPF3cRwxE8zx8PDW/CrsPKzMIEMX7Z9FHw9vLB1LtHYGqzDdU9aKsxWMz/wCQfMf8oRM4bgWDbMCx88PsIHn4DvAPG474pwP6jSlXXA6exrtkXWQ/6w3voMHhPVCF5FrDjQNur7le7Pg4tuHXhROienODYLkN9MTdcbIMj5+FaUbfTz7o4GslZN2HjQrmeov9Gx/fYdaiDV/KHjsMDM4dgx/6vHP2HzkMvlqeeJp9UtOCr80MQHnqj4/tODsTzv/SD2r+t1nObHkx71IItJ73wm0XjMVY+f7pxHJYl3ojwoRdwSvQ2N14ExvsgfOwNgNgvc+MC8JJ6hH1WTBuF+7yaoT/kCAif+GcTTkwdiaiR9l4aDAKmIexWNZLyC1CgyUTMUF1bQK8rx0qx8f1QxM3z9FDFgqqCLGiPhSLx550Ebeu0WC4fwMluUToKzdFYtSjsuxEYPKlDqX4aliQ7anx4+YntuTAM5n8oD3CHBSHu19GwbN6I0pJCVIyJQ2p0V48UTdi53QvzfuR8dFkL3Z9dag7JGjYPpWDJdG/Uy9NUk1XspRBM+6Gf2OZe8JuVhMwVMWKIFILIe71QdVBJHXjSgKqGCNwlrhtERESDkz8C/YBzTS5BqBZ7dA9nXTLyuAvDksfUUPmIK+mYSESJexajSckdcnA7yizRWJoUplzrI5CaFo3T27bbM1r43RGF0LoqHFSCiocOViHw7qjWAGTnrNAXa2GZH4tI+b6qk1s0SKxPpwHRjuc3lfwBB+/9NeJu7uG13qrHxs0WRN8f6V6GO6BxBE5TcqC7aRUyf+wsx4jyyKxIhMj3V7uh/mStKHtWwTxTBguLUfC7KJj/mIWNR5QJxoQicpaqrazpsYzrhcjlmYj6KB8pMrCblI5S7yV4cZGj9HO9CY3PROLYSmQ9Go+UHA1Kd9c6As4e+IanouB1pewnvq9qljimGgwwuLz37bcwBXGhovzn5Yug2eL4tR2BSY4/WYlyYwjiFjuPaVE+jXV5NbslGLF5G5DjrE09OgJRdwBVHx1yjLfzQ+wvFiNsoutbAd3nDN56IqfZuHGj0td3OgrS9kYNXwZuiYiIiIgGoHfeeccRyPDQyVq5PRH+I18M31cP9bPHsGbbSdSM9MfcGX7wFjfuNV8AJ/bUO1Lv2rt6FJ0Bml1SF48e0f4G/hLgmtq4C95DXW5PxE2et/jHu5OHCSfM4m70jBUJretzGAl73D/vatfHYRi8R7Rg/1vHWtMF29Mst1tOp581dDiGNzdizfNKqmTR2dNGd7gewxAe7oPRMigsxlcfEJ8z3Rfh9s3ih4ejhmLLayYkvFoL7d6zuDF0PMIndlS7tQfTnm7BibHDMdU12DpZhcyHvoex4s8JEb6IbLAgeuVRPF36OfafG4W5s8faxwHjMH8G8N8H5Gv6Z1FpbMHcmf72/UaDQ+CsxVj1WAxCA/zgJ9Ou/XYJQhp0qLSn1PPghA45v9+JKU+kQe3pgVtdOSpvykbmfHGcyhTAymA3Lm3clmwqQGa4AVnZ7VL/DlbmGphlOrlFbef1JI1BPhtuMzURv777EMq2i9/pL2Kh6vQBrMKox66gaESNV/pxGvUWFUKCXc5hw4Iw79FYhMlnaeMjEDOjBoW/TEGOphQ7jVaowiMQpOzXkH+fC+yustfAsBysgjn8LkS4PiAmIiIaVIIQNTcQhqICVMnomMwGsqYQelH+Duw0ychIjGx/bVQS4dhrfk4PQYjr9VsVhBDUwiyDZH5hiAo1Yd9Bi5jHiIMfBNpTCntmhXHTk9CcTkR20pUEGzuZ/1gp/vDeDCx9qIfLtBqx8SkNTidkY/FUZZjTzFR7Ga+4IBPqz3KxfFMnbdx2wWw2i2UtQaq9yQ4v+IXG4cGZVuz6R8fL81zGtUC3OgeVP1Ta5920GnEXivDkFa5bn/MNQUxGAYrzM/Hg1HMwbMhAyqJ099TG7Xj5eKF+l6Y1VbKjuQ5xPLskaPL1bf82rjJelk+9glvLgnauUUax/b2bjCjKVFIliy73fTHcZdkyMH/Z4nuoq8CsHNcbAdSuyFq9spat87N6q4YvA7dERERERAOQpxq3AQGXt8bUHd7TbsLb+RNRsMAb3jWNSMk8isffO6OMBcIfvAkfFtzm1nWVZrhPTboRFe3W58Nl31NG9pZm6NefcKRKfnGK4zPsaZa76dyXyH5RpkoOQIVMRSzmt6eN7sw0X9yHJuj+dQqVh6GkSZaGY3piCHbnBGLZbUNRvbPeHkx916UtojY9mbYLE1R47aWbsTnRF7eeaULOS8fw0FtftaaJnh4utsXhczhy+hvozEyTPOiNCUAAnCn1OmE1QJNZCOvCbKTO9Jj4WBxfcUhdoEJoUibmfZyLnO1d1OX18UPoT2IQeqwcuq6Cx4OFVzSynYFrZ+eW+vgCzp1zRHIvnHeN6HbEBv2OCkybr0b36zcEQi0fBr6cirlBFuxbm46kdC1MsplwaWok5mIfDMcsMOw3MU0yERENeqqfijLOHUbkpyQh/lENTDNjEAYVArtZO7RLNqvLy2x+CIsMhfGAEbajVdjl11GaZHfm7TnIeX8KVj0Vc/kLXW4vj9pgcwumOXQ8fz3K3yhDwOIkRHRRvHMjm8T4fQ4qp6xCpijzdcaeVSQ2Etb39Eo63p7x9xMlm5EjXcogXphyq0psys6Dl25cy7gNlagwhiIxoa2NW9mOsZcoQ1V1sL2uF14TQjHv4VVYXVyMvJ/CJbXx5er/muVIlfyaTJUsypb25jp6SZMBBUqq5A0y8C2Wv+puZVwvW7RokT1o2p4MnsqA6rXyzDPPoKamBpcuXeq1z2XgloiIiIhoAPLUxm1P27Z1OIsje0/iyJlRmDrzB1j2myl45yfDoN/9DU5gOCaMA/YfbnRr1xUX++/Oddy4G4C6ZvzTpY3dvlmfZtR8cQnzfzIRU0eJz5Rslxz/doflAmqafbDswbEYbX+S0IJmT6s5NMBRi3X7aejFfI40ycKpU9i19xQax45F5Pyb8NKzE7FynA1bqtoC6616Mq3/MEw41Ywjrtux4SvsOmgR+1p894Mnsd8MBE//PhIfnYw/PzoCX+1tbEsTLdMlN5/Du1vPY/+UEUyTPKjUoiwjBdqPlF6p6RzOeapRYjOj7Pe5MC/IQ46Hh3Othsnku/LfIMQ9GQfb5nyUXckLBoNVYCACbQYY6pR+qd35w7q/CAXVkViSEASdRguTp/NLUxX2/W8EotxSGcuUj2aYalyCvi0WmD4wwtwkdukJI6o+EieBCaGIXLAUmZpMRJ8qR4WSHdmRLtkKna4MVcYwpkkmIqLBb5gfIh8rcAS8ilcj0csEw5S7HJkqeihwQhBQbXK/ftc3wIwgqJR3ce3pkg9UQlu5D76Rd3kMsFn3a5C1TYW0NakIcwuw+sM/EDB+6pLWtcWMz0+4l+s6nf9gGbSiPGL8o9KGbPxye79583LEP9FJJpQWq71JjDJVGl5PadckxkdapCzTorU44eQ78oqy9/gFiq3ykUmUXtvU1prh5dtRlLmLMq7YFzaxFt6Xvat7Drau3pG71pr0yI1Pwka3DamkPnamNu6A+TMzVAvjEDFGKbdd7MEXUwWLZdegtrVNYMH1hQCLGbW2SMQtDIKvsnhbh9mmeocMmroGb2VN22sZtJVkG7eLFy+GWq3ulfZtJQZuiYiIiIgGIBmclcHbjror9fGe01iu/QIn5H2b7Sz2HxN3raOGYrj4b+69IzD2sAVP687Y27y9UPcFVq48hi3djBFPGD8MOG3DieZmXOiFGzfv2Tfi4eHNyF2vrG+zBe9qPsGvdjQ6JujK+BsQjG9Rc1Ksj8dI6jCMHgXoK82oOduExuNf4Omtzcq4bhgxFOOGNuPdnRY0ivlrdMeR69IucEfstViP23Bk6gglTbLUhLe1Dci1b3/gwqlGVNcD40a3f41e8jxt4/GT2HFQ2U6T/fDweBte3XQSp+R2PPMV1q1twJojl+CNG9BosOBXG75E9RmxjS4248jhC2gcMQSjHXML4/DALGDLARvm3jGGaZIHlSCE3mpD+Z/KUCtrV9osqNpQBEOAGlE3y/FWmD/Qw+h8aCNrVDyTjnLVKmQuVPW81uWEWKQleKE0UwNDJ5UjbFYzdBu0MPrehbBJysDBJCBQbPV6mE/aYJNt502MRmxoPcreKIVJ/mTFPjC+nYGUDUaZrE5scxO2FOgRsjgJ8368BHFjKlDYWms5EIE3yTbfzPZlyekte3fBMDfava078Ynq+4PaUj62WGF6ezWyNh8CxHRejVUo/L0GW484doqtzoRDNl/432jvtQv5UQzwtwoYZkYxTTIREX1n2Kz1qN1diCfX1SAmcV4Pslm4mLEAsX4VKH7baG+X1GYxYGNBBfwXLkCYs5jvF4W5Mw2o+Bugjug89av1gAbL88yIzUlFRFthXeGFiNkRsPylFDpRznBc77dC31qu62L+GUvbMn/Yu9eROBFQJbzeLhOIkxWGguXIN8ciOyUCvu1vWaYEI+TrchRvq7XX+rVZjCgt08N3VpgomUhi/UQ50+QaHPTAb3YM1LYyFJSYYG2xwWLUolQfiJh7lbTOXxuh/8Cs1GTuoow7PgwRAQZs/S/HPrGnwy7bCUtoBEKvt3KOTwTm3eONivWFqKqzOral+K7lG8thvlmUy+zB/8vLhL6jfWH++05RjrfCKqYvFWXNLvLetBkfhZhQE0o36mCWy/taHLOb9cpIwcdX/BaqsHOX2N5Wcb+wOx9FLqP7wiOPPGIP1soauLK7lmSgVgZsN23aZA/gyr97AwO3REREREQkjMIDqYFIutiIhMcP487UOqw7OxJvPKZytGc6bSLeedQHX/3ZjNkpJsx+5SzGPTgeD3czK3PwLF9Enm7E/Y9/hi290Tjl0HFY+dw43PfNN/iZbHv2N19gy0g/PD/vsqcUHZv4b0ic3II1zx7D4grX6qbt+eKBx8bhgW/O4KHf1iB67XncqvbBBLSg0dNsTv4qPJ/iA/NfvoBazP/4QS8khw2xNw7sVnvZlUyX7AXMDx+nDBDGqvDS477ATrn9D2P2s404NXscnr+3g7fIu5i2Zo8FT/9Z1qSWbkTib8V+bz6DBXI7PvU1PrptHDY/JF83H4bpj4hlqZrx+FMm3LnsGFIO34Dn0ybCNdvz1PCRmHDRC3PDmSZ5sAlJykNa8D5kyjZWk1JQaFZj1QtxSk0PM3TrNSitUn7QB7dCewywvp+LZKU9K0eXjvKTjkm6olqQhsTv6ZG7Tger832KOi2WK8tKSk6H9lQE0l5e7N4W3GAxLAzRCwKhW52EpE2HxAA/qDPysGSsHjmPOvaBxhyFtPhQe2C89u0/oGJkLJLm+Il5VYj9RTQsJRqUK7WWw+bFIHB3LpIWFeEQLKjSmTB3VqhjpIvAH2cie6ENRY8lIT4hGfmfhLXt56mLkZceDMNLjnbKkjL3IeixbCROsc/qcPNdUItVCJvNNMlERPTdYFjrKJfkv++LxDwNEtu33dpdMuvIC6swrTofKUlimY8V4vO7V+HFh1wDtDLoGiaKBWrcpQRZL1cPXYkeVtRCm+ZaDhPdWoN9Cq/Ipch+2Aul6Y7rfc7BYKQ95yzXdT1/j5zUQfu+FTimRXqC+/I0B8R4n0ikvrwUqg8ykSTGJz2WD0NwGvJa29SthU4jypnVFqW/Cz5hWPpyGoIP5iA5IQkpqw8hJD0bcUpa6fqqUmjW61qDk57LuCr7PgkzOvZJ/KIMlCEW2Wk9aWriWvFC2KOvI3v+BWx9NtmxLVPzofMR6/tUW0DdvUwovn9CNpaOr0TOsmQkP14My71xCBN739qd+1tZPk3LhLqhCOmLRJn1aR0CwsXx6SSO07TMaJzemI7kZHGcHQjBg/eKLXfunOPFwz7gbO/WU5u3faV9DdveqnE7ZOS89EvWileUXiKi3nf8+HFMmjQYX4knIqLe1JfXiyFDhtj/lW2O9NTVzNvb9uzZY0+FfCWysrJw++23K33k7ks8nfI1dih9ruYn90M7vifqkPD8t1j2h2BE8lVb6gGWu6lTdaVY/hKwSuN8KElERERE1L96ev8ia7bK5yI9MWfOnD6tiRscHNwasJU1f2Ubu1eLgVsi6nN8gERERN3Rl9eLyZMn49NPP1X6eu6WW27B0aNHlb7+JW9SepIOOSAgwB6wZdB2ALjYjMZvmrH/TyeQM3wsdMndrM5MpGC5m4iIiIiIBoqe3r/IVMQyJXFPyDZwZVu4fUUGbd9880373731OQzcElGf4wMkIiLqjr68XpSXl2PFihVXFLyVQds1a9YgJiZGGULUR05+joRnG1ETMAKvrQpC+ChlOFE3sdxNREREREQDRU/vX5577rkepyN2toE7kDBwS0R9jg+QiIioO3i96F9L84/jgKlbjdoQeRQy0Qf/76lgpY+uJZ5HiYiIiIhooOD9S8cYuCWiPscTMBERdQevF0REV4fnUSIiIiIiGih4/9Kxocq/RERERERERERERERERETUTxi4JSIiIiIiIiIiIiIiIiLqZwzcEhERERERERERERERERH1MwZuiYiIiIiIiIiIiIiIiIj6GQO3RERERERERERERERERET9bMjIeemXrBWvKL1ERL3v+PHjmDRpktJHRETUMXm9ICIiIiIiIiIiGuw6i5kwcEtEfY6BWyIi6g5eL4iIiIiIiIiI6LuMqZKJiIiIiIiIiIiIiIiIiPoZA7dERERERERERERERERERP2MgVsiIiIiIiIiIiIiIiIion7GwC0RERERERERERERERERUT9j4JaIiIiIiIiIiIiIiIiIqJ8NGTkv/ZK14hWll4io9x0/fhyTJk1S+oiIiDrmvF7s2LFDGUJERETUcxcvXsS5c+fws5/9TBlCRERERDQwMHBLRH2OgVsiIuoO18Ctv78/hg5lchgiIiLqORm4PXv2LO69915lCBERERHRwMDALRH1OQZuiYioO1wDt2PHjmXgloiIiK6IM3CrVquVIUREREREAwOfhhERERERERERERERERER9TMGbomIiIiIiIiIiIiIiIiI+hkDt0RERERERERERERERERE/YyBWyIiIiIiIiIiIiIiIiKifsbALRERERERERERERERERFRP2PgloiIiIiIiIiIiIiIiIionzFwS0RERERERERERERERETUz4aMnJd+yVrxitJLRNT7jh8/jkmTJil9REREHeP1goiIiIiIiIiIvstY45aIiIiIiIiIiIiIiIiIqJ8xcEtERERERERERERERERE1M8YuCUiIiIiIiIiIiIiIiIi6mcM3BIRERERERERERERERER9TMGbomIiIiIiIiIiIiIiIiI+hkDt0RERERERERERERERERE/YyBWyIiIiIiIiIiIiIiIiKifgX8f27kuj2DrxvhAAAAAElFTkSuQmCC)"
   ]
  },
  {
   "cell_type": "markdown",
   "metadata": {
    "id": "cTqrmOqxtxZ0"
   },
   "source": [
    "# **2. Data Warehouse con SQLite**"
   ]
  },
  {
   "cell_type": "code",
   "execution_count": null,
   "metadata": {
    "id": "AERQfa2-uy40"
   },
   "outputs": [],
   "source": [
    "import sqlite3\n",
    "\n",
    "# Creamos la conexión a la BD con el método connect\n",
    "conn = sqlite3.connect('/content/reviews_scrapping.db')"
   ]
  },
  {
   "cell_type": "markdown",
   "metadata": {
    "id": "G0Obxz3sv6Eh"
   },
   "source": [
    "## **Creando la tabla en la BD**"
   ]
  },
  {
   "cell_type": "code",
   "execution_count": null,
   "metadata": {
    "id": "DE0plfh0v6Us"
   },
   "outputs": [],
   "source": [
    "# Creando las tablas en las que se van a cargar los reviews (scrappeadas) y el análsis de sentimiento\n",
    "cursor = conn.cursor()\n",
    "\n",
    "cursor.execute('''\n",
    "CREATE TABLE IF NOT EXISTS reviews(\n",
    " id integer primary key,\n",
    " Usuario text,\n",
    " Date text,\n",
    " Rating integer,\n",
    " Comment text,\n",
    " Sentiment text,\n",
    " Score real,\n",
    " Comment_preprocessed text\n",
    ")\n",
    "''')\n",
    "\n",
    "conn.commit()"
   ]
  },
  {
   "cell_type": "code",
   "execution_count": null,
   "metadata": {
    "id": "tPlXKMWG3A38"
   },
   "outputs": [],
   "source": [
    "query = cursor.execute(\n",
    "    '''\n",
    "SELECT * FROM reviews\n",
    "'''\n",
    ")\n",
    "print(query.fetchall())"
   ]
  },
  {
   "cell_type": "markdown",
   "metadata": {
    "id": "Tz-Ysq085Pxd"
   },
   "source": [
    "# **4. Análisis de sentimiento con BERT**"
   ]
  },
  {
   "cell_type": "markdown",
   "metadata": {
    "id": "Z4HjBiRp5psx"
   },
   "source": [
    "Este paso es necesario porque se debe subir el resultado del análisis de sentimiento a la BD de SQLite (Data Warehouse del Punto 2)."
   ]
  },
  {
   "cell_type": "markdown",
   "metadata": {
    "id": "qMOGuOzS5-Km"
   },
   "source": [
    "## **4.1. Librerías**"
   ]
  },
  {
   "cell_type": "code",
   "execution_count": null,
   "metadata": {
    "colab": {
     "base_uri": "https://localhost:8080/"
    },
    "id": "OhkqWmvS5_3A",
    "outputId": "f2616898-0da0-4dc9-e0dd-4941aca7d7b6"
   },
   "outputs": [
    {
     "name": "stdout",
     "output_type": "stream",
     "text": [
      "Requirement already satisfied: requests in /usr/local/lib/python3.10/dist-packages (2.32.3)\n",
      "Requirement already satisfied: charset-normalizer<4,>=2 in /usr/local/lib/python3.10/dist-packages (from requests) (3.4.0)\n",
      "Requirement already satisfied: idna<4,>=2.5 in /usr/local/lib/python3.10/dist-packages (from requests) (3.10)\n",
      "Requirement already satisfied: urllib3<3,>=1.21.1 in /usr/local/lib/python3.10/dist-packages (from requests) (2.2.3)\n",
      "Requirement already satisfied: certifi>=2017.4.17 in /usr/local/lib/python3.10/dist-packages (from requests) (2024.8.30)\n",
      "Requirement already satisfied: pandas in /usr/local/lib/python3.10/dist-packages (2.2.2)\n",
      "Requirement already satisfied: numpy>=1.22.4 in /usr/local/lib/python3.10/dist-packages (from pandas) (1.26.4)\n",
      "Requirement already satisfied: python-dateutil>=2.8.2 in /usr/local/lib/python3.10/dist-packages (from pandas) (2.8.2)\n",
      "Requirement already satisfied: pytz>=2020.1 in /usr/local/lib/python3.10/dist-packages (from pandas) (2024.2)\n",
      "Requirement already satisfied: tzdata>=2022.7 in /usr/local/lib/python3.10/dist-packages (from pandas) (2024.2)\n",
      "Requirement already satisfied: six>=1.5 in /usr/local/lib/python3.10/dist-packages (from python-dateutil>=2.8.2->pandas) (1.16.0)\n",
      "Requirement already satisfied: numpy in /usr/local/lib/python3.10/dist-packages (1.26.4)\n",
      "Requirement already satisfied: transformers in /usr/local/lib/python3.10/dist-packages (4.46.2)\n",
      "Requirement already satisfied: filelock in /usr/local/lib/python3.10/dist-packages (from transformers) (3.16.1)\n",
      "Requirement already satisfied: huggingface-hub<1.0,>=0.23.2 in /usr/local/lib/python3.10/dist-packages (from transformers) (0.26.2)\n",
      "Requirement already satisfied: numpy>=1.17 in /usr/local/lib/python3.10/dist-packages (from transformers) (1.26.4)\n",
      "Requirement already satisfied: packaging>=20.0 in /usr/local/lib/python3.10/dist-packages (from transformers) (24.2)\n",
      "Requirement already satisfied: pyyaml>=5.1 in /usr/local/lib/python3.10/dist-packages (from transformers) (6.0.2)\n",
      "Requirement already satisfied: regex!=2019.12.17 in /usr/local/lib/python3.10/dist-packages (from transformers) (2024.9.11)\n",
      "Requirement already satisfied: requests in /usr/local/lib/python3.10/dist-packages (from transformers) (2.32.3)\n",
      "Requirement already satisfied: safetensors>=0.4.1 in /usr/local/lib/python3.10/dist-packages (from transformers) (0.4.5)\n",
      "Requirement already satisfied: tokenizers<0.21,>=0.20 in /usr/local/lib/python3.10/dist-packages (from transformers) (0.20.3)\n",
      "Requirement already satisfied: tqdm>=4.27 in /usr/local/lib/python3.10/dist-packages (from transformers) (4.66.6)\n",
      "Requirement already satisfied: fsspec>=2023.5.0 in /usr/local/lib/python3.10/dist-packages (from huggingface-hub<1.0,>=0.23.2->transformers) (2024.10.0)\n",
      "Requirement already satisfied: typing-extensions>=3.7.4.3 in /usr/local/lib/python3.10/dist-packages (from huggingface-hub<1.0,>=0.23.2->transformers) (4.12.2)\n",
      "Requirement already satisfied: charset-normalizer<4,>=2 in /usr/local/lib/python3.10/dist-packages (from requests->transformers) (3.4.0)\n",
      "Requirement already satisfied: idna<4,>=2.5 in /usr/local/lib/python3.10/dist-packages (from requests->transformers) (3.10)\n",
      "Requirement already satisfied: urllib3<3,>=1.21.1 in /usr/local/lib/python3.10/dist-packages (from requests->transformers) (2.2.3)\n",
      "Requirement already satisfied: certifi>=2017.4.17 in /usr/local/lib/python3.10/dist-packages (from requests->transformers) (2024.8.30)\n"
     ]
    }
   ],
   "source": [
    "!pip install requests\n",
    "!pip install pandas\n",
    "!pip install numpy\n",
    "!pip install transformers"
   ]
  },
  {
   "cell_type": "code",
   "execution_count": null,
   "metadata": {
    "id": "-K6616Yu6GgK"
   },
   "outputs": [],
   "source": [
    "import requests\n",
    "import json\n",
    "import pandas as pd\n",
    "import numpy as np\n",
    "from transformers import pipeline, AutoTokenizer, AutoModelForSequenceClassification\n",
    "import re\n",
    "from datetime import datetime"
   ]
  },
  {
   "cell_type": "markdown",
   "metadata": {
    "id": "YV1S5vlZ6PIl"
   },
   "source": [
    "## **4.2. Scrapper**"
   ]
  },
  {
   "cell_type": "code",
   "execution_count": null,
   "metadata": {
    "colab": {
     "base_uri": "https://localhost:8080/"
    },
    "id": "f4bKnaXY6VJV",
    "outputId": "4bd9f2bb-9909-4b6c-886c-8a192c1b23d2"
   },
   "outputs": [
    {
     "name": "stdout",
     "output_type": "stream",
     "text": [
      "Solicitud exitosa con estado: <Response [200]>\n"
     ]
    }
   ],
   "source": [
    "# URL de los comentarios del producto en documento JSON\n",
    "url = 'https://www.mercadolibre.com.co/noindex/catalog/reviews/MCO16518530/search?objectId=MCO16518530&siteId=MCO&isItem=false&rating=&order=&offset=0&limit=30&x-is-webview=false'\n",
    "\n",
    "# Solicitud GET a la URL\n",
    "response = requests.get(url)\n",
    "if response.status_code == 200:\n",
    "    print(f'Solicitud exitosa con estado: {response}')\n",
    "else:\n",
    "    print('Solicitud no exitosa')"
   ]
  },
  {
   "cell_type": "markdown",
   "metadata": {
    "id": "KUbsRQ5U6b3M"
   },
   "source": [
    "### **Calificación y texto de reviews**"
   ]
  },
  {
   "cell_type": "code",
   "execution_count": null,
   "metadata": {
    "colab": {
     "base_uri": "https://localhost:8080/",
     "height": 990
    },
    "id": "SPACJciX6cvX",
    "outputId": "98479066-9ccf-48cb-a262-46efe9777625"
   },
   "outputs": [
    {
     "data": {
      "application/vnd.google.colaboratory.intrinsic+json": {
       "summary": "{\n  \"name\": \"df\",\n  \"rows\": 30,\n  \"fields\": [\n    {\n      \"column\": \"Usuario\",\n      \"properties\": {\n        \"dtype\": \"string\",\n        \"num_unique_values\": 30,\n        \"samples\": [\n          \"usuario_28\",\n          \"usuario_16\",\n          \"usuario_24\"\n        ],\n        \"semantic_type\": \"\",\n        \"description\": \"\"\n      }\n    },\n    {\n      \"column\": \"Date\",\n      \"properties\": {\n        \"dtype\": \"object\",\n        \"num_unique_values\": 30,\n        \"samples\": [\n          \"2022-01-13\",\n          \"2024-07-16\",\n          \"2022-02-04\"\n        ],\n        \"semantic_type\": \"\",\n        \"description\": \"\"\n      }\n    },\n    {\n      \"column\": \"Rating\",\n      \"properties\": {\n        \"dtype\": \"number\",\n        \"std\": 0,\n        \"min\": 4,\n        \"max\": 5,\n        \"num_unique_values\": 2,\n        \"samples\": [\n          4,\n          5\n        ],\n        \"semantic_type\": \"\",\n        \"description\": \"\"\n      }\n    },\n    {\n      \"column\": \"Comment\",\n      \"properties\": {\n        \"dtype\": \"string\",\n        \"num_unique_values\": 30,\n        \"samples\": [\n          \"Muy buen producto lo recomiendo.\",\n          \"\\ud835\\udcdf\\ud835\\udcea\\ud835\\udcfb\\ud835\\udcea \\ud835\\udcee\\ud835\\udcf5 \\ud835\\udcf9\\ud835\\udcfb\\ud835\\udcee\\ud835\\udcec\\ud835\\udcf2\\ud835\\udcf8 \\ud835\\udcee\\ud835\\udcfc\\ud835\\udcfd\\u00e1 \\ud835\\udceb\\ud835\\udcf2\\ud835\\udcee\\ud835\\udcf7.\"\n        ],\n        \"semantic_type\": \"\",\n        \"description\": \"\"\n      }\n    }\n  ]\n}",
       "type": "dataframe",
       "variable_name": "df"
      },
      "text/html": [
       "\n",
       "  <div id=\"df-cf87c640-155a-4dc5-aab8-8e5f596e249f\" class=\"colab-df-container\">\n",
       "    <div>\n",
       "<style scoped>\n",
       "    .dataframe tbody tr th:only-of-type {\n",
       "        vertical-align: middle;\n",
       "    }\n",
       "\n",
       "    .dataframe tbody tr th {\n",
       "        vertical-align: top;\n",
       "    }\n",
       "\n",
       "    .dataframe thead th {\n",
       "        text-align: right;\n",
       "    }\n",
       "</style>\n",
       "<table border=\"1\" class=\"dataframe\">\n",
       "  <thead>\n",
       "    <tr style=\"text-align: right;\">\n",
       "      <th></th>\n",
       "      <th>Usuario</th>\n",
       "      <th>Date</th>\n",
       "      <th>Rating</th>\n",
       "      <th>Comment</th>\n",
       "    </tr>\n",
       "  </thead>\n",
       "  <tbody>\n",
       "    <tr>\n",
       "      <th>0</th>\n",
       "      <td>usuario_1</td>\n",
       "      <td>2023-10-01</td>\n",
       "      <td>5</td>\n",
       "      <td>Hay que ser objetivos, para el precio es muy b...</td>\n",
       "    </tr>\n",
       "    <tr>\n",
       "      <th>1</th>\n",
       "      <td>usuario_2</td>\n",
       "      <td>2024-01-05</td>\n",
       "      <td>5</td>\n",
       "      <td>Buen producto y relación calidad precio.</td>\n",
       "    </tr>\n",
       "    <tr>\n",
       "      <th>2</th>\n",
       "      <td>usuario_3</td>\n",
       "      <td>2022-01-10</td>\n",
       "      <td>5</td>\n",
       "      <td>Es un equipo básico pero muy funcional, toma b...</td>\n",
       "    </tr>\n",
       "    <tr>\n",
       "      <th>3</th>\n",
       "      <td>usuario_4</td>\n",
       "      <td>2024-01-21</td>\n",
       "      <td>4</td>\n",
       "      <td>La verdad es que esta bueno para lo básico, es...</td>\n",
       "    </tr>\n",
       "    <tr>\n",
       "      <th>4</th>\n",
       "      <td>usuario_5</td>\n",
       "      <td>2024-09-30</td>\n",
       "      <td>5</td>\n",
       "      <td>Apenas se está probando y todo muy bien. Si al...</td>\n",
       "    </tr>\n",
       "    <tr>\n",
       "      <th>5</th>\n",
       "      <td>usuario_6</td>\n",
       "      <td>2024-09-29</td>\n",
       "      <td>5</td>\n",
       "      <td>Aún lo estamos ensayando pero hasta ahora ah s...</td>\n",
       "    </tr>\n",
       "    <tr>\n",
       "      <th>6</th>\n",
       "      <td>usuario_7</td>\n",
       "      <td>2024-11-09</td>\n",
       "      <td>5</td>\n",
       "      <td>Super.</td>\n",
       "    </tr>\n",
       "    <tr>\n",
       "      <th>7</th>\n",
       "      <td>usuario_8</td>\n",
       "      <td>2024-10-28</td>\n",
       "      <td>5</td>\n",
       "      <td>Muy buen producto a bueb precio. Los audífonos...</td>\n",
       "    </tr>\n",
       "    <tr>\n",
       "      <th>8</th>\n",
       "      <td>usuario_9</td>\n",
       "      <td>2024-10-26</td>\n",
       "      <td>5</td>\n",
       "      <td>Muy buen producto cumple sus espectativas.</td>\n",
       "    </tr>\n",
       "    <tr>\n",
       "      <th>9</th>\n",
       "      <td>usuario_10</td>\n",
       "      <td>2024-10-14</td>\n",
       "      <td>5</td>\n",
       "      <td>Es un buen celular duradero para mis actividades.</td>\n",
       "    </tr>\n",
       "    <tr>\n",
       "      <th>10</th>\n",
       "      <td>usuario_11</td>\n",
       "      <td>2024-10-02</td>\n",
       "      <td>5</td>\n",
       "      <td>Excelente producto.</td>\n",
       "    </tr>\n",
       "    <tr>\n",
       "      <th>11</th>\n",
       "      <td>usuario_12</td>\n",
       "      <td>2024-09-02</td>\n",
       "      <td>5</td>\n",
       "      <td>Muy. Bueno voy a comprar otro hoy mismo.</td>\n",
       "    </tr>\n",
       "    <tr>\n",
       "      <th>12</th>\n",
       "      <td>usuario_13</td>\n",
       "      <td>2024-08-10</td>\n",
       "      <td>5</td>\n",
       "      <td>Muy bueno hasta la presente.</td>\n",
       "    </tr>\n",
       "    <tr>\n",
       "      <th>13</th>\n",
       "      <td>usuario_14</td>\n",
       "      <td>2024-08-06</td>\n",
       "      <td>5</td>\n",
       "      <td>Buena relación calidad y relación costo benefi...</td>\n",
       "    </tr>\n",
       "    <tr>\n",
       "      <th>14</th>\n",
       "      <td>usuario_15</td>\n",
       "      <td>2024-07-25</td>\n",
       "      <td>5</td>\n",
       "      <td>Un producto que hasta el momento ha salido muy...</td>\n",
       "    </tr>\n",
       "    <tr>\n",
       "      <th>15</th>\n",
       "      <td>usuario_16</td>\n",
       "      <td>2024-07-16</td>\n",
       "      <td>4</td>\n",
       "      <td>𝓟𝓪𝓻𝓪 𝓮𝓵 𝓹𝓻𝓮𝓬𝓲𝓸 𝓮𝓼𝓽á 𝓫𝓲𝓮𝓷.</td>\n",
       "    </tr>\n",
       "    <tr>\n",
       "      <th>16</th>\n",
       "      <td>usuario_17</td>\n",
       "      <td>2024-06-21</td>\n",
       "      <td>5</td>\n",
       "      <td>Excelente producto, 100% recomendado!!.</td>\n",
       "    </tr>\n",
       "    <tr>\n",
       "      <th>17</th>\n",
       "      <td>usuario_18</td>\n",
       "      <td>2024-06-17</td>\n",
       "      <td>5</td>\n",
       "      <td>Un equipo bueno por el precio.</td>\n",
       "    </tr>\n",
       "    <tr>\n",
       "      <th>18</th>\n",
       "      <td>usuario_19</td>\n",
       "      <td>2024-05-21</td>\n",
       "      <td>5</td>\n",
       "      <td>Excelente !.</td>\n",
       "    </tr>\n",
       "    <tr>\n",
       "      <th>19</th>\n",
       "      <td>usuario_20</td>\n",
       "      <td>2024-05-06</td>\n",
       "      <td>5</td>\n",
       "      <td>Para una persona que no necesita aplicaciones ...</td>\n",
       "    </tr>\n",
       "    <tr>\n",
       "      <th>20</th>\n",
       "      <td>usuario_21</td>\n",
       "      <td>2024-04-28</td>\n",
       "      <td>5</td>\n",
       "      <td>Me gustó.</td>\n",
       "    </tr>\n",
       "    <tr>\n",
       "      <th>21</th>\n",
       "      <td>usuario_22</td>\n",
       "      <td>2024-04-20</td>\n",
       "      <td>4</td>\n",
       "      <td>Muy buen teléfono, se lo compré a mi papá para...</td>\n",
       "    </tr>\n",
       "    <tr>\n",
       "      <th>22</th>\n",
       "      <td>usuario_23</td>\n",
       "      <td>2024-03-11</td>\n",
       "      <td>5</td>\n",
       "      <td>Buen producto por lo que vale.</td>\n",
       "    </tr>\n",
       "    <tr>\n",
       "      <th>23</th>\n",
       "      <td>usuario_24</td>\n",
       "      <td>2022-02-04</td>\n",
       "      <td>5</td>\n",
       "      <td>Muy buen precio y buen celular, hasta ahora ha...</td>\n",
       "    </tr>\n",
       "    <tr>\n",
       "      <th>24</th>\n",
       "      <td>usuario_25</td>\n",
       "      <td>2022-01-23</td>\n",
       "      <td>5</td>\n",
       "      <td>Excelente producto calidad precio.</td>\n",
       "    </tr>\n",
       "    <tr>\n",
       "      <th>25</th>\n",
       "      <td>usuario_26</td>\n",
       "      <td>2022-01-17</td>\n",
       "      <td>5</td>\n",
       "      <td>Sencillo y practico, buen producto.</td>\n",
       "    </tr>\n",
       "    <tr>\n",
       "      <th>26</th>\n",
       "      <td>usuario_27</td>\n",
       "      <td>2022-01-14</td>\n",
       "      <td>5</td>\n",
       "      <td>Muy bueno. Cumple con las funciones que necesito.</td>\n",
       "    </tr>\n",
       "    <tr>\n",
       "      <th>27</th>\n",
       "      <td>usuario_28</td>\n",
       "      <td>2022-01-13</td>\n",
       "      <td>5</td>\n",
       "      <td>Muy buen producto lo recomiendo.</td>\n",
       "    </tr>\n",
       "    <tr>\n",
       "      <th>28</th>\n",
       "      <td>usuario_29</td>\n",
       "      <td>2022-01-12</td>\n",
       "      <td>5</td>\n",
       "      <td>Todo bien, todo correcto, sin ningún problema.</td>\n",
       "    </tr>\n",
       "    <tr>\n",
       "      <th>29</th>\n",
       "      <td>usuario_30</td>\n",
       "      <td>2022-01-06</td>\n",
       "      <td>5</td>\n",
       "      <td>Me gustó es muy bueno tiene una excelente rapi...</td>\n",
       "    </tr>\n",
       "  </tbody>\n",
       "</table>\n",
       "</div>\n",
       "    <div class=\"colab-df-buttons\">\n",
       "\n",
       "  <div class=\"colab-df-container\">\n",
       "    <button class=\"colab-df-convert\" onclick=\"convertToInteractive('df-cf87c640-155a-4dc5-aab8-8e5f596e249f')\"\n",
       "            title=\"Convert this dataframe to an interactive table.\"\n",
       "            style=\"display:none;\">\n",
       "\n",
       "  <svg xmlns=\"http://www.w3.org/2000/svg\" height=\"24px\" viewBox=\"0 -960 960 960\">\n",
       "    <path d=\"M120-120v-720h720v720H120Zm60-500h600v-160H180v160Zm220 220h160v-160H400v160Zm0 220h160v-160H400v160ZM180-400h160v-160H180v160Zm440 0h160v-160H620v160ZM180-180h160v-160H180v160Zm440 0h160v-160H620v160Z\"/>\n",
       "  </svg>\n",
       "    </button>\n",
       "\n",
       "  <style>\n",
       "    .colab-df-container {\n",
       "      display:flex;\n",
       "      gap: 12px;\n",
       "    }\n",
       "\n",
       "    .colab-df-convert {\n",
       "      background-color: #E8F0FE;\n",
       "      border: none;\n",
       "      border-radius: 50%;\n",
       "      cursor: pointer;\n",
       "      display: none;\n",
       "      fill: #1967D2;\n",
       "      height: 32px;\n",
       "      padding: 0 0 0 0;\n",
       "      width: 32px;\n",
       "    }\n",
       "\n",
       "    .colab-df-convert:hover {\n",
       "      background-color: #E2EBFA;\n",
       "      box-shadow: 0px 1px 2px rgba(60, 64, 67, 0.3), 0px 1px 3px 1px rgba(60, 64, 67, 0.15);\n",
       "      fill: #174EA6;\n",
       "    }\n",
       "\n",
       "    .colab-df-buttons div {\n",
       "      margin-bottom: 4px;\n",
       "    }\n",
       "\n",
       "    [theme=dark] .colab-df-convert {\n",
       "      background-color: #3B4455;\n",
       "      fill: #D2E3FC;\n",
       "    }\n",
       "\n",
       "    [theme=dark] .colab-df-convert:hover {\n",
       "      background-color: #434B5C;\n",
       "      box-shadow: 0px 1px 3px 1px rgba(0, 0, 0, 0.15);\n",
       "      filter: drop-shadow(0px 1px 2px rgba(0, 0, 0, 0.3));\n",
       "      fill: #FFFFFF;\n",
       "    }\n",
       "  </style>\n",
       "\n",
       "    <script>\n",
       "      const buttonEl =\n",
       "        document.querySelector('#df-cf87c640-155a-4dc5-aab8-8e5f596e249f button.colab-df-convert');\n",
       "      buttonEl.style.display =\n",
       "        google.colab.kernel.accessAllowed ? 'block' : 'none';\n",
       "\n",
       "      async function convertToInteractive(key) {\n",
       "        const element = document.querySelector('#df-cf87c640-155a-4dc5-aab8-8e5f596e249f');\n",
       "        const dataTable =\n",
       "          await google.colab.kernel.invokeFunction('convertToInteractive',\n",
       "                                                    [key], {});\n",
       "        if (!dataTable) return;\n",
       "\n",
       "        const docLinkHtml = 'Like what you see? Visit the ' +\n",
       "          '<a target=\"_blank\" href=https://colab.research.google.com/notebooks/data_table.ipynb>data table notebook</a>'\n",
       "          + ' to learn more about interactive tables.';\n",
       "        element.innerHTML = '';\n",
       "        dataTable['output_type'] = 'display_data';\n",
       "        await google.colab.output.renderOutput(dataTable, element);\n",
       "        const docLink = document.createElement('div');\n",
       "        docLink.innerHTML = docLinkHtml;\n",
       "        element.appendChild(docLink);\n",
       "      }\n",
       "    </script>\n",
       "  </div>\n",
       "\n",
       "\n",
       "<div id=\"df-7ffad3ef-e5bf-42f7-82b2-b517343473b9\">\n",
       "  <button class=\"colab-df-quickchart\" onclick=\"quickchart('df-7ffad3ef-e5bf-42f7-82b2-b517343473b9')\"\n",
       "            title=\"Suggest charts\"\n",
       "            style=\"display:none;\">\n",
       "\n",
       "<svg xmlns=\"http://www.w3.org/2000/svg\" height=\"24px\"viewBox=\"0 0 24 24\"\n",
       "     width=\"24px\">\n",
       "    <g>\n",
       "        <path d=\"M19 3H5c-1.1 0-2 .9-2 2v14c0 1.1.9 2 2 2h14c1.1 0 2-.9 2-2V5c0-1.1-.9-2-2-2zM9 17H7v-7h2v7zm4 0h-2V7h2v10zm4 0h-2v-4h2v4z\"/>\n",
       "    </g>\n",
       "</svg>\n",
       "  </button>\n",
       "\n",
       "<style>\n",
       "  .colab-df-quickchart {\n",
       "      --bg-color: #E8F0FE;\n",
       "      --fill-color: #1967D2;\n",
       "      --hover-bg-color: #E2EBFA;\n",
       "      --hover-fill-color: #174EA6;\n",
       "      --disabled-fill-color: #AAA;\n",
       "      --disabled-bg-color: #DDD;\n",
       "  }\n",
       "\n",
       "  [theme=dark] .colab-df-quickchart {\n",
       "      --bg-color: #3B4455;\n",
       "      --fill-color: #D2E3FC;\n",
       "      --hover-bg-color: #434B5C;\n",
       "      --hover-fill-color: #FFFFFF;\n",
       "      --disabled-bg-color: #3B4455;\n",
       "      --disabled-fill-color: #666;\n",
       "  }\n",
       "\n",
       "  .colab-df-quickchart {\n",
       "    background-color: var(--bg-color);\n",
       "    border: none;\n",
       "    border-radius: 50%;\n",
       "    cursor: pointer;\n",
       "    display: none;\n",
       "    fill: var(--fill-color);\n",
       "    height: 32px;\n",
       "    padding: 0;\n",
       "    width: 32px;\n",
       "  }\n",
       "\n",
       "  .colab-df-quickchart:hover {\n",
       "    background-color: var(--hover-bg-color);\n",
       "    box-shadow: 0 1px 2px rgba(60, 64, 67, 0.3), 0 1px 3px 1px rgba(60, 64, 67, 0.15);\n",
       "    fill: var(--button-hover-fill-color);\n",
       "  }\n",
       "\n",
       "  .colab-df-quickchart-complete:disabled,\n",
       "  .colab-df-quickchart-complete:disabled:hover {\n",
       "    background-color: var(--disabled-bg-color);\n",
       "    fill: var(--disabled-fill-color);\n",
       "    box-shadow: none;\n",
       "  }\n",
       "\n",
       "  .colab-df-spinner {\n",
       "    border: 2px solid var(--fill-color);\n",
       "    border-color: transparent;\n",
       "    border-bottom-color: var(--fill-color);\n",
       "    animation:\n",
       "      spin 1s steps(1) infinite;\n",
       "  }\n",
       "\n",
       "  @keyframes spin {\n",
       "    0% {\n",
       "      border-color: transparent;\n",
       "      border-bottom-color: var(--fill-color);\n",
       "      border-left-color: var(--fill-color);\n",
       "    }\n",
       "    20% {\n",
       "      border-color: transparent;\n",
       "      border-left-color: var(--fill-color);\n",
       "      border-top-color: var(--fill-color);\n",
       "    }\n",
       "    30% {\n",
       "      border-color: transparent;\n",
       "      border-left-color: var(--fill-color);\n",
       "      border-top-color: var(--fill-color);\n",
       "      border-right-color: var(--fill-color);\n",
       "    }\n",
       "    40% {\n",
       "      border-color: transparent;\n",
       "      border-right-color: var(--fill-color);\n",
       "      border-top-color: var(--fill-color);\n",
       "    }\n",
       "    60% {\n",
       "      border-color: transparent;\n",
       "      border-right-color: var(--fill-color);\n",
       "    }\n",
       "    80% {\n",
       "      border-color: transparent;\n",
       "      border-right-color: var(--fill-color);\n",
       "      border-bottom-color: var(--fill-color);\n",
       "    }\n",
       "    90% {\n",
       "      border-color: transparent;\n",
       "      border-bottom-color: var(--fill-color);\n",
       "    }\n",
       "  }\n",
       "</style>\n",
       "\n",
       "  <script>\n",
       "    async function quickchart(key) {\n",
       "      const quickchartButtonEl =\n",
       "        document.querySelector('#' + key + ' button');\n",
       "      quickchartButtonEl.disabled = true;  // To prevent multiple clicks.\n",
       "      quickchartButtonEl.classList.add('colab-df-spinner');\n",
       "      try {\n",
       "        const charts = await google.colab.kernel.invokeFunction(\n",
       "            'suggestCharts', [key], {});\n",
       "      } catch (error) {\n",
       "        console.error('Error during call to suggestCharts:', error);\n",
       "      }\n",
       "      quickchartButtonEl.classList.remove('colab-df-spinner');\n",
       "      quickchartButtonEl.classList.add('colab-df-quickchart-complete');\n",
       "    }\n",
       "    (() => {\n",
       "      let quickchartButtonEl =\n",
       "        document.querySelector('#df-7ffad3ef-e5bf-42f7-82b2-b517343473b9 button');\n",
       "      quickchartButtonEl.style.display =\n",
       "        google.colab.kernel.accessAllowed ? 'block' : 'none';\n",
       "    })();\n",
       "  </script>\n",
       "</div>\n",
       "\n",
       "  <div id=\"id_b0efaec5-af32-4558-a5d2-64c86d82587d\">\n",
       "    <style>\n",
       "      .colab-df-generate {\n",
       "        background-color: #E8F0FE;\n",
       "        border: none;\n",
       "        border-radius: 50%;\n",
       "        cursor: pointer;\n",
       "        display: none;\n",
       "        fill: #1967D2;\n",
       "        height: 32px;\n",
       "        padding: 0 0 0 0;\n",
       "        width: 32px;\n",
       "      }\n",
       "\n",
       "      .colab-df-generate:hover {\n",
       "        background-color: #E2EBFA;\n",
       "        box-shadow: 0px 1px 2px rgba(60, 64, 67, 0.3), 0px 1px 3px 1px rgba(60, 64, 67, 0.15);\n",
       "        fill: #174EA6;\n",
       "      }\n",
       "\n",
       "      [theme=dark] .colab-df-generate {\n",
       "        background-color: #3B4455;\n",
       "        fill: #D2E3FC;\n",
       "      }\n",
       "\n",
       "      [theme=dark] .colab-df-generate:hover {\n",
       "        background-color: #434B5C;\n",
       "        box-shadow: 0px 1px 3px 1px rgba(0, 0, 0, 0.15);\n",
       "        filter: drop-shadow(0px 1px 2px rgba(0, 0, 0, 0.3));\n",
       "        fill: #FFFFFF;\n",
       "      }\n",
       "    </style>\n",
       "    <button class=\"colab-df-generate\" onclick=\"generateWithVariable('df')\"\n",
       "            title=\"Generate code using this dataframe.\"\n",
       "            style=\"display:none;\">\n",
       "\n",
       "  <svg xmlns=\"http://www.w3.org/2000/svg\" height=\"24px\"viewBox=\"0 0 24 24\"\n",
       "       width=\"24px\">\n",
       "    <path d=\"M7,19H8.4L18.45,9,17,7.55,7,17.6ZM5,21V16.75L18.45,3.32a2,2,0,0,1,2.83,0l1.4,1.43a1.91,1.91,0,0,1,.58,1.4,1.91,1.91,0,0,1-.58,1.4L9.25,21ZM18.45,9,17,7.55Zm-12,3A5.31,5.31,0,0,0,4.9,8.1,5.31,5.31,0,0,0,1,6.5,5.31,5.31,0,0,0,4.9,4.9,5.31,5.31,0,0,0,6.5,1,5.31,5.31,0,0,0,8.1,4.9,5.31,5.31,0,0,0,12,6.5,5.46,5.46,0,0,0,6.5,12Z\"/>\n",
       "  </svg>\n",
       "    </button>\n",
       "    <script>\n",
       "      (() => {\n",
       "      const buttonEl =\n",
       "        document.querySelector('#id_b0efaec5-af32-4558-a5d2-64c86d82587d button.colab-df-generate');\n",
       "      buttonEl.style.display =\n",
       "        google.colab.kernel.accessAllowed ? 'block' : 'none';\n",
       "\n",
       "      buttonEl.onclick = () => {\n",
       "        google.colab.notebook.generateWithVariable('df');\n",
       "      }\n",
       "      })();\n",
       "    </script>\n",
       "  </div>\n",
       "\n",
       "    </div>\n",
       "  </div>\n"
      ],
      "text/plain": [
       "       Usuario        Date  Rating  \\\n",
       "0    usuario_1  2023-10-01       5   \n",
       "1    usuario_2  2024-01-05       5   \n",
       "2    usuario_3  2022-01-10       5   \n",
       "3    usuario_4  2024-01-21       4   \n",
       "4    usuario_5  2024-09-30       5   \n",
       "5    usuario_6  2024-09-29       5   \n",
       "6    usuario_7  2024-11-09       5   \n",
       "7    usuario_8  2024-10-28       5   \n",
       "8    usuario_9  2024-10-26       5   \n",
       "9   usuario_10  2024-10-14       5   \n",
       "10  usuario_11  2024-10-02       5   \n",
       "11  usuario_12  2024-09-02       5   \n",
       "12  usuario_13  2024-08-10       5   \n",
       "13  usuario_14  2024-08-06       5   \n",
       "14  usuario_15  2024-07-25       5   \n",
       "15  usuario_16  2024-07-16       4   \n",
       "16  usuario_17  2024-06-21       5   \n",
       "17  usuario_18  2024-06-17       5   \n",
       "18  usuario_19  2024-05-21       5   \n",
       "19  usuario_20  2024-05-06       5   \n",
       "20  usuario_21  2024-04-28       5   \n",
       "21  usuario_22  2024-04-20       4   \n",
       "22  usuario_23  2024-03-11       5   \n",
       "23  usuario_24  2022-02-04       5   \n",
       "24  usuario_25  2022-01-23       5   \n",
       "25  usuario_26  2022-01-17       5   \n",
       "26  usuario_27  2022-01-14       5   \n",
       "27  usuario_28  2022-01-13       5   \n",
       "28  usuario_29  2022-01-12       5   \n",
       "29  usuario_30  2022-01-06       5   \n",
       "\n",
       "                                              Comment  \n",
       "0   Hay que ser objetivos, para el precio es muy b...  \n",
       "1            Buen producto y relación calidad precio.  \n",
       "2   Es un equipo básico pero muy funcional, toma b...  \n",
       "3   La verdad es que esta bueno para lo básico, es...  \n",
       "4   Apenas se está probando y todo muy bien. Si al...  \n",
       "5   Aún lo estamos ensayando pero hasta ahora ah s...  \n",
       "6                                              Super.  \n",
       "7   Muy buen producto a bueb precio. Los audífonos...  \n",
       "8          Muy buen producto cumple sus espectativas.  \n",
       "9   Es un buen celular duradero para mis actividades.  \n",
       "10                                Excelente producto.  \n",
       "11           Muy. Bueno voy a comprar otro hoy mismo.  \n",
       "12                       Muy bueno hasta la presente.  \n",
       "13  Buena relación calidad y relación costo benefi...  \n",
       "14  Un producto que hasta el momento ha salido muy...  \n",
       "15                          𝓟𝓪𝓻𝓪 𝓮𝓵 𝓹𝓻𝓮𝓬𝓲𝓸 𝓮𝓼𝓽á 𝓫𝓲𝓮𝓷.  \n",
       "16            Excelente producto, 100% recomendado!!.  \n",
       "17                     Un equipo bueno por el precio.  \n",
       "18                                       Excelente !.  \n",
       "19  Para una persona que no necesita aplicaciones ...  \n",
       "20                                          Me gustó.  \n",
       "21  Muy buen teléfono, se lo compré a mi papá para...  \n",
       "22                     Buen producto por lo que vale.  \n",
       "23  Muy buen precio y buen celular, hasta ahora ha...  \n",
       "24                 Excelente producto calidad precio.  \n",
       "25                Sencillo y practico, buen producto.  \n",
       "26  Muy bueno. Cumple con las funciones que necesito.  \n",
       "27                   Muy buen producto lo recomiendo.  \n",
       "28     Todo bien, todo correcto, sin ningún problema.  \n",
       "29  Me gustó es muy bueno tiene una excelente rapi...  "
      ]
     },
     "metadata": {},
     "output_type": "display_data"
    }
   ],
   "source": [
    "# Diccionario para traducir los meses del español al inglés\n",
    "meses = {\n",
    "    'ene.': 'Jan', 'feb.': 'Feb', 'mar.': 'Mar', 'abr.': 'Apr', 'may.': 'May', 'jun.': 'Jun',\n",
    "    'jul.': 'Jul', 'ago.': 'Aug', 'sep.': 'Sep', 'oct.': 'Oct', 'nov.': 'Nov', 'dic.': 'Dec'\n",
    "}\n",
    "\n",
    "data = response.json()\n",
    "reviews = data['reviews']\n",
    "ratings = []\n",
    "comments = []\n",
    "dates = []\n",
    "\n",
    "for review in reviews:\n",
    "    date_str = review['comment']['time']['text']  # Extrayendo la fecha del comentario\n",
    "    rating = review['aria_label']  # Extrayendo la calificación desde 'aria_label' del JSON\n",
    "    text = review['comment']['content']['text']\n",
    "\n",
    "    # Reemplazando el mes en español por el mes en inglés\n",
    "    for mes_es, mes_en in meses.items():\n",
    "        date_str = date_str.replace(mes_es, mes_en)\n",
    "\n",
    "    # Convertiendo la fecha al formato YYYY-MM-DD\n",
    "    date_obj = datetime.strptime(date_str, '%d %b %Y')\n",
    "    date_formatted = date_obj.strftime('%Y-%m-%d')\n",
    "\n",
    "    # Usamos una expresión regular para extraer el número de la calificación\n",
    "    rating_num = int(re.search(r'(\\d)', rating).group(1))\n",
    "\n",
    "    dates.append(date_formatted)\n",
    "    ratings.append(rating_num)\n",
    "    comments.append(text)\n",
    "\n",
    "# DataFrame\n",
    "df = pd.DataFrame({'Date': dates, 'Rating': ratings, 'Comment': comments})\n",
    "df['Usuario'] = ['usuario_' + str(i+1) for i in range(len(df))]\n",
    "df = df[['Usuario', 'Date', 'Rating', 'Comment']]\n",
    "\n",
    "display(df)"
   ]
  },
  {
   "cell_type": "code",
   "execution_count": null,
   "metadata": {
    "colab": {
     "base_uri": "https://localhost:8080/",
     "height": 678
    },
    "id": "5TJWN3cTO506",
    "outputId": "b4e7efd5-7284-4467-ea7c-a36060346865"
   },
   "outputs": [
    {
     "data": {
      "image/png": "[encoded data removed]",
      "text/plain": [
       "<Figure size 800x800 with 1 Axes>"
      ]
     },
     "metadata": {},
     "output_type": "display_data"
    }
   ],
   "source": [
    "# Assuming your data is in a pandas DataFrame called 'df'\n",
    "rating_counts = df['Rating'].value_counts()\n",
    "# Definiendo colores para el gráfico de pastel\n",
    "colors = plt.cm.Paired(range(len(rating_counts)))\n",
    "\n",
    "# Creando el gráfico de pastel con estilo adicional\n",
    "plt.figure(figsize=(8, 8))\n",
    "plt.pie(rating_counts, labels=rating_counts.index, autopct='%1.1f%%', startangle=90, colors=colors, wedgeprops={'edgecolor': 'black'})\n",
    "plt.title('Distribución del Rating', fontsize=16)\n",
    "plt.axis('equal')  # La relación de aspecto igual asegura que el pastel se dibuje como un círculo.\n",
    "\n",
    "# Añadir una leyenda\n",
    "plt.legend(title='Ratings', loc='upper left', bbox_to_anchor=(1, 0.5))\n",
    "\n",
    "# Mostrar el gráfico\n",
    "plt.show()"
   ]
  },
  {
   "cell_type": "markdown",
   "metadata": {
    "id": "Vixlnd6Q6pfJ"
   },
   "source": [
    "**NOTA:** En esta versión agregamos la fecha del comentario y dejamos solo el valor numérico del rating (antes estaba algo como \"Calificación 4 de 5\")."
   ]
  },
  {
   "cell_type": "markdown",
   "metadata": {
    "id": "HryPuwoU6tF9"
   },
   "source": [
    "## **4.3. Modelo BERT**"
   ]
  },
  {
   "cell_type": "code",
   "execution_count": null,
   "metadata": {
    "colab": {
     "base_uri": "https://localhost:8080/",
     "height": 286,
     "referenced_widgets": [
      "2e48a1d1baab42d487d5eb0157f5726e",
      "877bcba83dcc4e26b823d1dc86abcbd0",
      "115b1e745e73455a911b1cb93e2b4730",
      "18ec4744a8624c2aa07a4820117c2c6d",
      "cad0aaf3ed264e8d8256c8307624b9b2",
      "23446c4f7a1c41cf83df3408dab8dfda",
      "ea135f9e5de34de98ed66a9231bd8775",
      "13c4c11332f34230a0bbd90d9d788d31",
      "4b8d4b100f284b018dcf6ee5f831b133",
      "395462aa23754c8d9e4a1e9ec43e90fd",
      "7351b5c47c0c4db3bb4363e71d2cbbee",
      "37841937da334e2ea21b6e488de7ceda",
      "3605c2a3e4d648a1a6950523f53d0daf",
      "e54cb31665f54aa99a5fd99ff6cd3bd6",
      "6d5ebfbc3074435b89a887321a525439",
      "cfb30297b9c44b7fa30118f49e93ca21",
      "9127cb36b05b4e05bfce2edeb3494af3",
      "c3c43b4ae8364440a98c86ae3b61f1a2",
      "45984f2a28ec48deb865812bbcae90b6",
      "3961ebe8351b4094bdd508c81563807d",
      "41440c82b07e484782e59c3410377c31",
      "dd36dfdb47f145e199bfe25fb745e219",
      "2f09ea9a3a1642fea5cda7c6cdc5602f",
      "0521e55da2434f8d8e03599d0fa62357",
      "1f621b36ea684c248704b64b4046482c",
      "43c5fb8df2734656acec0e889c4c30c4",
      "0eb594c0e118426eac1023204934012c",
      "64ca869562834f9fbf9d9a5ecceb848e",
      "834017d4badb4cdaaff47a9142609066",
      "f100650bcb3c4037a32940c4f346d5fc",
      "a818b6d5754443dbaf869729b9591a7b",
      "0b4a07378fcd4deab51dc541fa6a789b",
      "67249385ae0242f3a376e7a67de1e7d2",
      "b7fb19efe7d548b08e5d305c79cf28ea",
      "dc9e50ce581d4a4fa1f842c0d63d984e",
      "593a464e6d8b43b183cb7f0c7e488224",
      "56cb798422ea4c86b1ee56001dd5f017",
      "53beb43531e7443daec89732e19a69f5",
      "09753a7193574aafbe89e8c37d7b62e1",
      "bce6e439e55f4066a9833f4ea614b3e4",
      "a7e59d06621b4d958c76434f2907f03e",
      "6a83f712cc754d43bc874ababb187dcd",
      "0ce4743e87c34803883c6169a5e29649",
      "86a60969b06b4bed8cc09c4b1c9b08d8",
      "9c547026cb7c427a97447d56071a4b65",
      "6c06e7bbbb024fcba4e39a0b3f9bfa78",
      "f49826f48c994d87a58851d38c238dbf",
      "827506a983fc4c68a5d20e8b9585b700",
      "93fb11bd96b34282bc9e3ad6b32139a3",
      "6f386f511e0045ae92bbad7e4b922951",
      "56e6ef74e57d4f31820673ba6f30f1d4",
      "c0e2b54eee2d44dd9a203e2b13ce5777",
      "b72796b2d50049bd9e224da3e1492480",
      "e75eb65cf24f4cb995df60cafc67e121",
      "94a139670c844f00a7dcfec722da8a6a"
     ]
    },
    "id": "cCVRmi1R618H",
    "outputId": "47802c4f-e7dd-49ef-918f-26dc0024ffee"
   },
   "outputs": [
    {
     "name": "stderr",
     "output_type": "stream",
     "text": [
      "/usr/local/lib/python3.10/dist-packages/huggingface_hub/utils/_auth.py:94: UserWarning: \n",
      "The secret `HF_TOKEN` does not exist in your Colab secrets.\n",
      "To authenticate with the Hugging Face Hub, create a token in your settings tab (https://huggingface.co/settings/tokens), set it as secret in your Google Colab and restart your session.\n",
      "You will be able to reuse this secret in all of your notebooks.\n",
      "Please note that authentication is recommended but still optional to access public models or datasets.\n",
      "  warnings.warn(\n"
     ]
    },
    {
     "data": {
      "application/vnd.jupyter.widget-view+json": {
       "model_id": "2e48a1d1baab42d487d5eb0157f5726e",
       "version_major": 2,
       "version_minor": 0
      },
      "text/plain": [
       "tokenizer_config.json:   0%|          | 0.00/39.0 [00:00<?, ?B/s]"
      ]
     },
     "metadata": {},
     "output_type": "display_data"
    },
    {
     "data": {
      "application/vnd.jupyter.widget-view+json": {
       "model_id": "37841937da334e2ea21b6e488de7ceda",
       "version_major": 2,
       "version_minor": 0
      },
      "text/plain": [
       "config.json:   0%|          | 0.00/953 [00:00<?, ?B/s]"
      ]
     },
     "metadata": {},
     "output_type": "display_data"
    },
    {
     "data": {
      "application/vnd.jupyter.widget-view+json": {
       "model_id": "2f09ea9a3a1642fea5cda7c6cdc5602f",
       "version_major": 2,
       "version_minor": 0
      },
      "text/plain": [
       "vocab.txt:   0%|          | 0.00/872k [00:00<?, ?B/s]"
      ]
     },
     "metadata": {},
     "output_type": "display_data"
    },
    {
     "data": {
      "application/vnd.jupyter.widget-view+json": {
       "model_id": "b7fb19efe7d548b08e5d305c79cf28ea",
       "version_major": 2,
       "version_minor": 0
      },
      "text/plain": [
       "special_tokens_map.json:   0%|          | 0.00/112 [00:00<?, ?B/s]"
      ]
     },
     "metadata": {},
     "output_type": "display_data"
    },
    {
     "data": {
      "application/vnd.jupyter.widget-view+json": {
       "model_id": "9c547026cb7c427a97447d56071a4b65",
       "version_major": 2,
       "version_minor": 0
      },
      "text/plain": [
       "pytorch_model.bin:   0%|          | 0.00/669M [00:00<?, ?B/s]"
      ]
     },
     "metadata": {},
     "output_type": "display_data"
    }
   ],
   "source": [
    "# Modelo y tokenizador de BETO\n",
    "model_name = \"nlptown/bert-base-multilingual-uncased-sentiment\"\n",
    "tokenizer = AutoTokenizer.from_pretrained(model_name)\n",
    "model = AutoModelForSequenceClassification.from_pretrained(model_name)\n",
    "\n",
    "# Creando el pipeline de análisis de sentimiento\n",
    "sentiment_analysis = pipeline(\"sentiment-analysis\", model=model, tokenizer=tokenizer)"
   ]
  },
  {
   "cell_type": "code",
   "execution_count": null,
   "metadata": {
    "colab": {
     "base_uri": "https://localhost:8080/",
     "height": 206
    },
    "id": "dMZGVA0-7IAH",
    "outputId": "8243cc1e-7a05-4f50-e307-ba17ef050e12"
   },
   "outputs": [
    {
     "data": {
      "application/vnd.google.colaboratory.intrinsic+json": {
       "summary": "{\n  \"name\": \"display(df\",\n  \"rows\": 5,\n  \"fields\": [\n    {\n      \"column\": \"Usuario\",\n      \"properties\": {\n        \"dtype\": \"string\",\n        \"num_unique_values\": 5,\n        \"samples\": [\n          \"usuario_2\",\n          \"usuario_5\",\n          \"usuario_3\"\n        ],\n        \"semantic_type\": \"\",\n        \"description\": \"\"\n      }\n    },\n    {\n      \"column\": \"Date\",\n      \"properties\": {\n        \"dtype\": \"object\",\n        \"num_unique_values\": 5,\n        \"samples\": [\n          \"2024-01-05\",\n          \"2024-09-30\",\n          \"2022-01-10\"\n        ],\n        \"semantic_type\": \"\",\n        \"description\": \"\"\n      }\n    },\n    {\n      \"column\": \"Rating\",\n      \"properties\": {\n        \"dtype\": \"number\",\n        \"std\": 0,\n        \"min\": 4,\n        \"max\": 5,\n        \"num_unique_values\": 2,\n        \"samples\": [\n          4,\n          5\n        ],\n        \"semantic_type\": \"\",\n        \"description\": \"\"\n      }\n    },\n    {\n      \"column\": \"Comment\",\n      \"properties\": {\n        \"dtype\": \"string\",\n        \"num_unique_values\": 5,\n        \"samples\": [\n          \"Buen producto y relaci\\u00f3n calidad precio.\",\n          \"Apenas se est\\u00e1 probando y todo muy bien. Si algo cambia negativamente cambiaria la calificaci\\u00f3n.\"\n        ],\n        \"semantic_type\": \"\",\n        \"description\": \"\"\n      }\n    },\n    {\n      \"column\": \"Sentiment\",\n      \"properties\": {\n        \"dtype\": \"string\",\n        \"num_unique_values\": 3,\n        \"samples\": [\n          \"Neutral\",\n          \"Positivo\"\n        ],\n        \"semantic_type\": \"\",\n        \"description\": \"\"\n      }\n    },\n    {\n      \"column\": \"Score\",\n      \"properties\": {\n        \"dtype\": \"number\",\n        \"std\": 0.06357704481649933,\n        \"min\": 0.38766705989837646,\n        \"max\": 0.5630262494087219,\n        \"num_unique_values\": 5,\n        \"samples\": [\n          0.49320852756500244,\n          0.38766705989837646\n        ],\n        \"semantic_type\": \"\",\n        \"description\": \"\"\n      }\n    }\n  ]\n}",
       "type": "dataframe"
      },
      "text/html": [
       "\n",
       "  <div id=\"df-fc1b5ca3-50da-4922-b9b1-81d43445a75e\" class=\"colab-df-container\">\n",
       "    <div>\n",
       "<style scoped>\n",
       "    .dataframe tbody tr th:only-of-type {\n",
       "        vertical-align: middle;\n",
       "    }\n",
       "\n",
       "    .dataframe tbody tr th {\n",
       "        vertical-align: top;\n",
       "    }\n",
       "\n",
       "    .dataframe thead th {\n",
       "        text-align: right;\n",
       "    }\n",
       "</style>\n",
       "<table border=\"1\" class=\"dataframe\">\n",
       "  <thead>\n",
       "    <tr style=\"text-align: right;\">\n",
       "      <th></th>\n",
       "      <th>Usuario</th>\n",
       "      <th>Date</th>\n",
       "      <th>Rating</th>\n",
       "      <th>Comment</th>\n",
       "      <th>Sentiment</th>\n",
       "      <th>Score</th>\n",
       "    </tr>\n",
       "  </thead>\n",
       "  <tbody>\n",
       "    <tr>\n",
       "      <th>0</th>\n",
       "      <td>usuario_1</td>\n",
       "      <td>2023-10-01</td>\n",
       "      <td>5</td>\n",
       "      <td>Hay que ser objetivos, para el precio es muy b...</td>\n",
       "      <td>Neutral</td>\n",
       "      <td>0.470996</td>\n",
       "    </tr>\n",
       "    <tr>\n",
       "      <th>1</th>\n",
       "      <td>usuario_2</td>\n",
       "      <td>2024-01-05</td>\n",
       "      <td>5</td>\n",
       "      <td>Buen producto y relación calidad precio.</td>\n",
       "      <td>Neutral</td>\n",
       "      <td>0.493209</td>\n",
       "    </tr>\n",
       "    <tr>\n",
       "      <th>2</th>\n",
       "      <td>usuario_3</td>\n",
       "      <td>2022-01-10</td>\n",
       "      <td>5</td>\n",
       "      <td>Es un equipo básico pero muy funcional, toma b...</td>\n",
       "      <td>Neutral</td>\n",
       "      <td>0.503735</td>\n",
       "    </tr>\n",
       "    <tr>\n",
       "      <th>3</th>\n",
       "      <td>usuario_4</td>\n",
       "      <td>2024-01-21</td>\n",
       "      <td>4</td>\n",
       "      <td>La verdad es que esta bueno para lo básico, es...</td>\n",
       "      <td>Positivo</td>\n",
       "      <td>0.563026</td>\n",
       "    </tr>\n",
       "    <tr>\n",
       "      <th>4</th>\n",
       "      <td>usuario_5</td>\n",
       "      <td>2024-09-30</td>\n",
       "      <td>5</td>\n",
       "      <td>Apenas se está probando y todo muy bien. Si al...</td>\n",
       "      <td>Negativo</td>\n",
       "      <td>0.387667</td>\n",
       "    </tr>\n",
       "  </tbody>\n",
       "</table>\n",
       "</div>\n",
       "    <div class=\"colab-df-buttons\">\n",
       "\n",
       "  <div class=\"colab-df-container\">\n",
       "    <button class=\"colab-df-convert\" onclick=\"convertToInteractive('df-fc1b5ca3-50da-4922-b9b1-81d43445a75e')\"\n",
       "            title=\"Convert this dataframe to an interactive table.\"\n",
       "            style=\"display:none;\">\n",
       "\n",
       "  <svg xmlns=\"http://www.w3.org/2000/svg\" height=\"24px\" viewBox=\"0 -960 960 960\">\n",
       "    <path d=\"M120-120v-720h720v720H120Zm60-500h600v-160H180v160Zm220 220h160v-160H400v160Zm0 220h160v-160H400v160ZM180-400h160v-160H180v160Zm440 0h160v-160H620v160ZM180-180h160v-160H180v160Zm440 0h160v-160H620v160Z\"/>\n",
       "  </svg>\n",
       "    </button>\n",
       "\n",
       "  <style>\n",
       "    .colab-df-container {\n",
       "      display:flex;\n",
       "      gap: 12px;\n",
       "    }\n",
       "\n",
       "    .colab-df-convert {\n",
       "      background-color: #E8F0FE;\n",
       "      border: none;\n",
       "      border-radius: 50%;\n",
       "      cursor: pointer;\n",
       "      display: none;\n",
       "      fill: #1967D2;\n",
       "      height: 32px;\n",
       "      padding: 0 0 0 0;\n",
       "      width: 32px;\n",
       "    }\n",
       "\n",
       "    .colab-df-convert:hover {\n",
       "      background-color: #E2EBFA;\n",
       "      box-shadow: 0px 1px 2px rgba(60, 64, 67, 0.3), 0px 1px 3px 1px rgba(60, 64, 67, 0.15);\n",
       "      fill: #174EA6;\n",
       "    }\n",
       "\n",
       "    .colab-df-buttons div {\n",
       "      margin-bottom: 4px;\n",
       "    }\n",
       "\n",
       "    [theme=dark] .colab-df-convert {\n",
       "      background-color: #3B4455;\n",
       "      fill: #D2E3FC;\n",
       "    }\n",
       "\n",
       "    [theme=dark] .colab-df-convert:hover {\n",
       "      background-color: #434B5C;\n",
       "      box-shadow: 0px 1px 3px 1px rgba(0, 0, 0, 0.15);\n",
       "      filter: drop-shadow(0px 1px 2px rgba(0, 0, 0, 0.3));\n",
       "      fill: #FFFFFF;\n",
       "    }\n",
       "  </style>\n",
       "\n",
       "    <script>\n",
       "      const buttonEl =\n",
       "        document.querySelector('#df-fc1b5ca3-50da-4922-b9b1-81d43445a75e button.colab-df-convert');\n",
       "      buttonEl.style.display =\n",
       "        google.colab.kernel.accessAllowed ? 'block' : 'none';\n",
       "\n",
       "      async function convertToInteractive(key) {\n",
       "        const element = document.querySelector('#df-fc1b5ca3-50da-4922-b9b1-81d43445a75e');\n",
       "        const dataTable =\n",
       "          await google.colab.kernel.invokeFunction('convertToInteractive',\n",
       "                                                    [key], {});\n",
       "        if (!dataTable) return;\n",
       "\n",
       "        const docLinkHtml = 'Like what you see? Visit the ' +\n",
       "          '<a target=\"_blank\" href=https://colab.research.google.com/notebooks/data_table.ipynb>data table notebook</a>'\n",
       "          + ' to learn more about interactive tables.';\n",
       "        element.innerHTML = '';\n",
       "        dataTable['output_type'] = 'display_data';\n",
       "        await google.colab.output.renderOutput(dataTable, element);\n",
       "        const docLink = document.createElement('div');\n",
       "        docLink.innerHTML = docLinkHtml;\n",
       "        element.appendChild(docLink);\n",
       "      }\n",
       "    </script>\n",
       "  </div>\n",
       "\n",
       "\n",
       "<div id=\"df-787a5aa7-b579-4523-b54a-3db978d0b10b\">\n",
       "  <button class=\"colab-df-quickchart\" onclick=\"quickchart('df-787a5aa7-b579-4523-b54a-3db978d0b10b')\"\n",
       "            title=\"Suggest charts\"\n",
       "            style=\"display:none;\">\n",
       "\n",
       "<svg xmlns=\"http://www.w3.org/2000/svg\" height=\"24px\"viewBox=\"0 0 24 24\"\n",
       "     width=\"24px\">\n",
       "    <g>\n",
       "        <path d=\"M19 3H5c-1.1 0-2 .9-2 2v14c0 1.1.9 2 2 2h14c1.1 0 2-.9 2-2V5c0-1.1-.9-2-2-2zM9 17H7v-7h2v7zm4 0h-2V7h2v10zm4 0h-2v-4h2v4z\"/>\n",
       "    </g>\n",
       "</svg>\n",
       "  </button>\n",
       "\n",
       "<style>\n",
       "  .colab-df-quickchart {\n",
       "      --bg-color: #E8F0FE;\n",
       "      --fill-color: #1967D2;\n",
       "      --hover-bg-color: #E2EBFA;\n",
       "      --hover-fill-color: #174EA6;\n",
       "      --disabled-fill-color: #AAA;\n",
       "      --disabled-bg-color: #DDD;\n",
       "  }\n",
       "\n",
       "  [theme=dark] .colab-df-quickchart {\n",
       "      --bg-color: #3B4455;\n",
       "      --fill-color: #D2E3FC;\n",
       "      --hover-bg-color: #434B5C;\n",
       "      --hover-fill-color: #FFFFFF;\n",
       "      --disabled-bg-color: #3B4455;\n",
       "      --disabled-fill-color: #666;\n",
       "  }\n",
       "\n",
       "  .colab-df-quickchart {\n",
       "    background-color: var(--bg-color);\n",
       "    border: none;\n",
       "    border-radius: 50%;\n",
       "    cursor: pointer;\n",
       "    display: none;\n",
       "    fill: var(--fill-color);\n",
       "    height: 32px;\n",
       "    padding: 0;\n",
       "    width: 32px;\n",
       "  }\n",
       "\n",
       "  .colab-df-quickchart:hover {\n",
       "    background-color: var(--hover-bg-color);\n",
       "    box-shadow: 0 1px 2px rgba(60, 64, 67, 0.3), 0 1px 3px 1px rgba(60, 64, 67, 0.15);\n",
       "    fill: var(--button-hover-fill-color);\n",
       "  }\n",
       "\n",
       "  .colab-df-quickchart-complete:disabled,\n",
       "  .colab-df-quickchart-complete:disabled:hover {\n",
       "    background-color: var(--disabled-bg-color);\n",
       "    fill: var(--disabled-fill-color);\n",
       "    box-shadow: none;\n",
       "  }\n",
       "\n",
       "  .colab-df-spinner {\n",
       "    border: 2px solid var(--fill-color);\n",
       "    border-color: transparent;\n",
       "    border-bottom-color: var(--fill-color);\n",
       "    animation:\n",
       "      spin 1s steps(1) infinite;\n",
       "  }\n",
       "\n",
       "  @keyframes spin {\n",
       "    0% {\n",
       "      border-color: transparent;\n",
       "      border-bottom-color: var(--fill-color);\n",
       "      border-left-color: var(--fill-color);\n",
       "    }\n",
       "    20% {\n",
       "      border-color: transparent;\n",
       "      border-left-color: var(--fill-color);\n",
       "      border-top-color: var(--fill-color);\n",
       "    }\n",
       "    30% {\n",
       "      border-color: transparent;\n",
       "      border-left-color: var(--fill-color);\n",
       "      border-top-color: var(--fill-color);\n",
       "      border-right-color: var(--fill-color);\n",
       "    }\n",
       "    40% {\n",
       "      border-color: transparent;\n",
       "      border-right-color: var(--fill-color);\n",
       "      border-top-color: var(--fill-color);\n",
       "    }\n",
       "    60% {\n",
       "      border-color: transparent;\n",
       "      border-right-color: var(--fill-color);\n",
       "    }\n",
       "    80% {\n",
       "      border-color: transparent;\n",
       "      border-right-color: var(--fill-color);\n",
       "      border-bottom-color: var(--fill-color);\n",
       "    }\n",
       "    90% {\n",
       "      border-color: transparent;\n",
       "      border-bottom-color: var(--fill-color);\n",
       "    }\n",
       "  }\n",
       "</style>\n",
       "\n",
       "  <script>\n",
       "    async function quickchart(key) {\n",
       "      const quickchartButtonEl =\n",
       "        document.querySelector('#' + key + ' button');\n",
       "      quickchartButtonEl.disabled = true;  // To prevent multiple clicks.\n",
       "      quickchartButtonEl.classList.add('colab-df-spinner');\n",
       "      try {\n",
       "        const charts = await google.colab.kernel.invokeFunction(\n",
       "            'suggestCharts', [key], {});\n",
       "      } catch (error) {\n",
       "        console.error('Error during call to suggestCharts:', error);\n",
       "      }\n",
       "      quickchartButtonEl.classList.remove('colab-df-spinner');\n",
       "      quickchartButtonEl.classList.add('colab-df-quickchart-complete');\n",
       "    }\n",
       "    (() => {\n",
       "      let quickchartButtonEl =\n",
       "        document.querySelector('#df-787a5aa7-b579-4523-b54a-3db978d0b10b button');\n",
       "      quickchartButtonEl.style.display =\n",
       "        google.colab.kernel.accessAllowed ? 'block' : 'none';\n",
       "    })();\n",
       "  </script>\n",
       "</div>\n",
       "\n",
       "    </div>\n",
       "  </div>\n"
      ],
      "text/plain": [
       "     Usuario        Date  Rating  \\\n",
       "0  usuario_1  2023-10-01       5   \n",
       "1  usuario_2  2024-01-05       5   \n",
       "2  usuario_3  2022-01-10       5   \n",
       "3  usuario_4  2024-01-21       4   \n",
       "4  usuario_5  2024-09-30       5   \n",
       "\n",
       "                                             Comment Sentiment     Score  \n",
       "0  Hay que ser objetivos, para el precio es muy b...   Neutral  0.470996  \n",
       "1           Buen producto y relación calidad precio.   Neutral  0.493209  \n",
       "2  Es un equipo básico pero muy funcional, toma b...   Neutral  0.503735  \n",
       "3  La verdad es que esta bueno para lo básico, es...  Positivo  0.563026  \n",
       "4  Apenas se está probando y todo muy bien. Si al...  Negativo  0.387667  "
      ]
     },
     "metadata": {},
     "output_type": "display_data"
    }
   ],
   "source": [
    "# Función para analizar el sentimiento\n",
    "def analizar_sentimiento_beto(texto):\n",
    "    result = sentiment_analysis(texto)[0]\n",
    "    score = result['score']\n",
    "\n",
    "    # Determinar el sentimiento basado en el score\n",
    "    if score >= 0.55:\n",
    "        sentiment = 'Positivo'\n",
    "    elif score <= 0.45:\n",
    "        sentiment = 'Negativo'\n",
    "    else:\n",
    "        sentiment = 'Neutral'\n",
    "\n",
    "    return sentiment, score\n",
    "\n",
    "# Aplicando el análisis de sentimiento\n",
    "df['Sentiment'], df['Score'] = zip(*df['Comment'].apply(analizar_sentimiento_beto))\n",
    "display(df.head())"
   ]
  },
  {
   "cell_type": "code",
   "execution_count": null,
   "metadata": {
    "colab": {
     "base_uri": "https://localhost:8080/",
     "height": 209
    },
    "id": "f-6UEwfY7LoA",
    "outputId": "b3a2ee4e-6461-4788-902a-68e01494009f"
   },
   "outputs": [
    {
     "data": {
      "text/html": [
       "<div>\n",
       "<style scoped>\n",
       "    .dataframe tbody tr th:only-of-type {\n",
       "        vertical-align: middle;\n",
       "    }\n",
       "\n",
       "    .dataframe tbody tr th {\n",
       "        vertical-align: top;\n",
       "    }\n",
       "\n",
       "    .dataframe thead th {\n",
       "        text-align: right;\n",
       "    }\n",
       "</style>\n",
       "<table border=\"1\" class=\"dataframe\">\n",
       "  <thead>\n",
       "    <tr style=\"text-align: right;\">\n",
       "      <th></th>\n",
       "      <th>count</th>\n",
       "    </tr>\n",
       "    <tr>\n",
       "      <th>Sentiment</th>\n",
       "      <th></th>\n",
       "    </tr>\n",
       "  </thead>\n",
       "  <tbody>\n",
       "    <tr>\n",
       "      <th>Positivo</th>\n",
       "      <td>18</td>\n",
       "    </tr>\n",
       "    <tr>\n",
       "      <th>Neutral</th>\n",
       "      <td>10</td>\n",
       "    </tr>\n",
       "    <tr>\n",
       "      <th>Negativo</th>\n",
       "      <td>2</td>\n",
       "    </tr>\n",
       "  </tbody>\n",
       "</table>\n",
       "</div><br><label><b>dtype:</b> int64</label>"
      ],
      "text/plain": [
       "Sentiment\n",
       "Positivo    18\n",
       "Neutral     10\n",
       "Negativo     2\n",
       "Name: count, dtype: int64"
      ]
     },
     "metadata": {},
     "output_type": "display_data"
    }
   ],
   "source": [
    "sentimiento_counts = df['Sentiment'].value_counts()\n",
    "display(sentimiento_counts)"
   ]
  },
  {
   "cell_type": "code",
   "execution_count": null,
   "metadata": {
    "colab": {
     "base_uri": "https://localhost:8080/",
     "height": 675
    },
    "id": "-5Ky-SVZ7T31",
    "outputId": "4cb7ac37-601e-4a4b-8171-102c1a1b3061"
   },
   "outputs": [
    {
     "data": {
      "image/png": "[encoded data removed]",
      "text/plain": [
       "<Figure size 800x800 with 1 Axes>"
      ]
     },
     "metadata": {},
     "output_type": "display_data"
    }
   ],
   "source": [
    "import matplotlib.pyplot as plt\n",
    "\n",
    "# Generando el gráfico de dona\n",
    "plt.figure(figsize=(8, 8))\n",
    "plt.pie(sentimiento_counts, labels=sentimiento_counts.index, autopct='%1.1f%%', startangle=140, wedgeprops=dict(width=0.3))\n",
    "plt.title('Distribución de Sentimientos')\n",
    "plt.legend(sentimiento_counts.index, loc=\"center left\", bbox_to_anchor=(1, 0, 0.5, 1))\n",
    "plt.show()"
   ]
  },
  {
   "cell_type": "markdown",
   "metadata": {
    "id": "bpCV3cVo7cHs"
   },
   "source": [
    "### **Preprocesamiento de comments**"
   ]
  },
  {
   "cell_type": "markdown",
   "metadata": {
    "id": "HBqRLjXG7k5I"
   },
   "source": [
    "Importante en esta etapa para el modelo que entrenaremos luego"
   ]
  },
  {
   "cell_type": "code",
   "execution_count": null,
   "metadata": {
    "colab": {
     "base_uri": "https://localhost:8080/"
    },
    "id": "WSnNl-5j7qGM",
    "outputId": "7793dc05-5588-4a21-f0d9-01f1f3527cc8"
   },
   "outputs": [
    {
     "name": "stderr",
     "output_type": "stream",
     "text": [
      "[nltk_data] Downloading package punkt_tab to /root/nltk_data...\n",
      "[nltk_data]   Unzipping tokenizers/punkt_tab.zip.\n",
      "[nltk_data] Downloading package punkt to /root/nltk_data...\n",
      "[nltk_data]   Unzipping tokenizers/punkt.zip.\n",
      "[nltk_data] Downloading package stopwords to /root/nltk_data...\n",
      "[nltk_data]   Unzipping corpora/stopwords.zip.\n",
      "[nltk_data] Downloading package wordnet to /root/nltk_data...\n"
     ]
    }
   ],
   "source": [
    "from types import prepare_class\n",
    "import re, nltk\n",
    "from nltk.tokenize import word_tokenize\n",
    "from nltk.corpus import stopwords\n",
    "from nltk.stem import WordNetLemmatizer\n",
    "\n",
    "nltk.download('punkt_tab')\n",
    "nltk.download('punkt')\n",
    "nltk.download('stopwords')\n",
    "nltk.download('wordnet')\n",
    "stop_words = set(stopwords.words('spanish'))\n",
    "lemmatizer = WordNetLemmatizer()"
   ]
  },
  {
   "cell_type": "code",
   "execution_count": null,
   "metadata": {
    "id": "QxSh3G9D7u6N"
   },
   "outputs": [],
   "source": [
    "def data_processor(data):\n",
    "  preprocessed_data = []\n",
    "  for text in data:\n",
    "    # convertir en minuscula\n",
    "    text = str(text).lower()\n",
    "    # eliminar signos de puntuacion\n",
    "    text = re.sub(r'[^\\w\\s]', '', text)\n",
    "    # Tokenizar\n",
    "    words = word_tokenize(text)\n",
    "    # eliminar stopwords\n",
    "    words = [word for word in words if word not in stop_words]\n",
    "    # lematización\n",
    "    words = [lemmatizer.lemmatize(word) for word in words]\n",
    "    preprocessed_text = ' '.join(words)\n",
    "    preprocessed_data.append(preprocessed_text)\n",
    "  return preprocessed_data\n",
    "\n",
    "df['Comment_preprocessed'] = data_processor(df['Comment'])\n",
    "display(df.head())"
   ]
  },
  {
   "cell_type": "markdown",
   "metadata": {
    "id": "hLu6wTl1BRy1"
   },
   "source": [
    "### **Verificaciones preliminares antes de subir al Warehouse**"
   ]
  },
  {
   "cell_type": "code",
   "execution_count": null,
   "metadata": {
    "id": "4Dr_ReEY91ck"
   },
   "outputs": [],
   "source": [
    "# Eliminando registros duplicados\n",
    "df = df.drop_duplicates()\n",
    "# Rellenando valores nulos con un valor predeterminado\n",
    "df['Rating'] = df['Rating'].fillna(0)\n",
    "# Convertir una columna de texto a fecha\n",
    "#df['Date'] = pd.to_datetime(df['Date'])\n",
    "# Convertir una columna de texto a numérico\n",
    "df['Rating'] = pd.to_numeric(df['Rating'], errors='coerce')\n",
    "df.head()"
   ]
  },
  {
   "cell_type": "code",
   "execution_count": null,
   "metadata": {
    "id": "6r62zaiZAAMw"
   },
   "outputs": [],
   "source": [
    "# Verificación de valores nulos\n",
    "print(df.isnull().sum())"
   ]
  },
  {
   "cell_type": "code",
   "execution_count": null,
   "metadata": {
    "id": "ry4C4ZTbAL8t"
   },
   "outputs": [],
   "source": [
    "# Resumen estadístico de columnas numéricas\n",
    "df.describe()"
   ]
  },
  {
   "cell_type": "markdown",
   "metadata": {
    "id": "iXQyFcq4AYzA"
   },
   "source": [
    "Esto tiene sentido porque la mayoría de calificaciónes de los usuarios eran 5 de 5 y unas pocas 4 de 5."
   ]
  },
  {
   "cell_type": "code",
   "execution_count": null,
   "metadata": {
    "id": "cDgVk6oLAgoW"
   },
   "outputs": [],
   "source": [
    "# Boxplot para mirar datos atíplicos\n",
    "df.boxplot(column=['Rating'])"
   ]
  },
  {
   "cell_type": "markdown",
   "metadata": {
    "id": "9ZskVkBSA2tO"
   },
   "source": [
    "De nuevo, el rating en su mayoría es 5 de 5 y unos pocos 4 de 5. Además, el rating es un valor discreto."
   ]
  },
  {
   "cell_type": "code",
   "execution_count": null,
   "metadata": {
    "id": "a-Y0YXwhBDzt"
   },
   "outputs": [],
   "source": [
    "df.head()"
   ]
  },
  {
   "cell_type": "markdown",
   "metadata": {
    "id": "hKdgQPJ777dL"
   },
   "source": [
    "## **4.4. Subiendo el Dataframe al Warehouse de la seccipón 2**"
   ]
  },
  {
   "cell_type": "markdown",
   "metadata": {
    "id": "y2DdD1Y3B0yI"
   },
   "source": [
    "Guardando en la BD de SQLite con el métdo to_sql.\n",
    "\n",
    "La tabla en la BD se llama reviews, la conexión es conn (numeral 2)."
   ]
  },
  {
   "cell_type": "code",
   "execution_count": null,
   "metadata": {
    "id": "AOYCNGFPCADV"
   },
   "outputs": [],
   "source": [
    "#df.to_sql('reviews', conn, if_exists='append', index=False)\n",
    "df.to_sql('reviews', conn, if_exists='replace', index=False)"
   ]
  },
  {
   "cell_type": "markdown",
   "metadata": {
    "id": "kc1on0hSFLGI"
   },
   "source": [
    "Se tuvo que usar replace porque no permitió usar el método append."
   ]
  },
  {
   "cell_type": "markdown",
   "metadata": {
    "id": "jthz07OFGbVf"
   },
   "source": [
    "### **Queries dentro de la BD**"
   ]
  },
  {
   "cell_type": "code",
   "execution_count": null,
   "metadata": {
    "id": "ZhbZN8QxFX8W"
   },
   "outputs": [],
   "source": [
    "# Consulta para verificar datos\n",
    "query = cursor.execute('''\n",
    "select * from reviews\n",
    "''')\n",
    "print(query.fetchall())"
   ]
  },
  {
   "cell_type": "markdown",
   "metadata": {
    "id": "OrCHeHv3GXfm"
   },
   "source": [
    "### **Query contando el cuántos sentiment hay por tipo**"
   ]
  },
  {
   "cell_type": "code",
   "execution_count": null,
   "metadata": {
    "colab": {
     "base_uri": "https://localhost:8080/"
    },
    "id": "jv96QGcvF9bJ",
    "outputId": "0862571c-9233-4f58-e34d-2dfe75d2620d"
   },
   "outputs": [
    {
     "name": "stdout",
     "output_type": "stream",
     "text": [
      "[(2, 'Negativo'), (10, 'Neutral'), (18, 'Positivo')]\n"
     ]
    }
   ],
   "source": [
    "query = cursor.execute('''\n",
    "select count(*), sentiment\n",
    "from reviews\n",
    "group by sentiment\n",
    "''')\n",
    "print(query.fetchall())"
   ]
  },
  {
   "cell_type": "markdown",
   "metadata": {
    "id": "rhSvRLvdHV_E"
   },
   "source": [
    "## **4.5. Palabras clave más relevantes**"
   ]
  },
  {
   "cell_type": "code",
   "execution_count": null,
   "metadata": {
    "colab": {
     "base_uri": "https://localhost:8080/"
    },
    "collapsed": true,
    "id": "OjfF1azzHvHV",
    "jupyter": {
     "outputs_hidden": true
    },
    "outputId": "5a2328eb-a73a-47b7-e6a0-d291ce711e6a"
   },
   "outputs": [
    {
     "name": "stdout",
     "output_type": "stream",
     "text": [
      "Collecting sklearn\n",
      "  Using cached sklearn-0.0.post12.tar.gz (2.6 kB)\n",
      "  \u001b[1;31merror\u001b[0m: \u001b[1msubprocess-exited-with-error\u001b[0m\n",
      "  \n",
      "  \u001b[31m×\u001b[0m \u001b[32mpython setup.py egg_info\u001b[0m did not run successfully.\n",
      "  \u001b[31m│\u001b[0m exit code: \u001b[1;36m1\u001b[0m\n",
      "  \u001b[31m╰─>\u001b[0m See above for output.\n",
      "  \n",
      "  \u001b[1;35mnote\u001b[0m: This error originates from a subprocess, and is likely not a problem with pip.\n",
      "  Preparing metadata (setup.py) ... \u001b[?25l\u001b[?25herror\n",
      "\u001b[1;31merror\u001b[0m: \u001b[1mmetadata-generation-failed\u001b[0m\n",
      "\n",
      "\u001b[31m×\u001b[0m Encountered error while generating package metadata.\n",
      "\u001b[31m╰─>\u001b[0m See above for output.\n",
      "\n",
      "\u001b[1;35mnote\u001b[0m: This is an issue with the package mentioned above, not pip.\n",
      "\u001b[1;36mhint\u001b[0m: See above for details.\n",
      "Requirement already satisfied: matplotlib in /usr/local/lib/python3.10/dist-packages (3.8.0)\n",
      "Requirement already satisfied: contourpy>=1.0.1 in /usr/local/lib/python3.10/dist-packages (from matplotlib) (1.3.1)\n",
      "Requirement already satisfied: cycler>=0.10 in /usr/local/lib/python3.10/dist-packages (from matplotlib) (0.12.1)\n",
      "Requirement already satisfied: fonttools>=4.22.0 in /usr/local/lib/python3.10/dist-packages (from matplotlib) (4.55.0)\n",
      "Requirement already satisfied: kiwisolver>=1.0.1 in /usr/local/lib/python3.10/dist-packages (from matplotlib) (1.4.7)\n",
      "Requirement already satisfied: numpy<2,>=1.21 in /usr/local/lib/python3.10/dist-packages (from matplotlib) (1.26.4)\n",
      "Requirement already satisfied: packaging>=20.0 in /usr/local/lib/python3.10/dist-packages (from matplotlib) (24.2)\n",
      "Requirement already satisfied: pillow>=6.2.0 in /usr/local/lib/python3.10/dist-packages (from matplotlib) (11.0.0)\n",
      "Requirement already satisfied: pyparsing>=2.3.1 in /usr/local/lib/python3.10/dist-packages (from matplotlib) (3.2.0)\n",
      "Requirement already satisfied: python-dateutil>=2.7 in /usr/local/lib/python3.10/dist-packages (from matplotlib) (2.8.2)\n",
      "Requirement already satisfied: six>=1.5 in /usr/local/lib/python3.10/dist-packages (from python-dateutil>=2.7->matplotlib) (1.16.0)\n",
      "Requirement already satisfied: seaborn in /usr/local/lib/python3.10/dist-packages (0.13.2)\n",
      "Requirement already satisfied: numpy!=1.24.0,>=1.20 in /usr/local/lib/python3.10/dist-packages (from seaborn) (1.26.4)\n",
      "Requirement already satisfied: pandas>=1.2 in /usr/local/lib/python3.10/dist-packages (from seaborn) (2.2.2)\n",
      "Requirement already satisfied: matplotlib!=3.6.1,>=3.4 in /usr/local/lib/python3.10/dist-packages (from seaborn) (3.8.0)\n",
      "Requirement already satisfied: contourpy>=1.0.1 in /usr/local/lib/python3.10/dist-packages (from matplotlib!=3.6.1,>=3.4->seaborn) (1.3.1)\n",
      "Requirement already satisfied: cycler>=0.10 in /usr/local/lib/python3.10/dist-packages (from matplotlib!=3.6.1,>=3.4->seaborn) (0.12.1)\n",
      "Requirement already satisfied: fonttools>=4.22.0 in /usr/local/lib/python3.10/dist-packages (from matplotlib!=3.6.1,>=3.4->seaborn) (4.55.0)\n",
      "Requirement already satisfied: kiwisolver>=1.0.1 in /usr/local/lib/python3.10/dist-packages (from matplotlib!=3.6.1,>=3.4->seaborn) (1.4.7)\n",
      "Requirement already satisfied: packaging>=20.0 in /usr/local/lib/python3.10/dist-packages (from matplotlib!=3.6.1,>=3.4->seaborn) (24.2)\n",
      "Requirement already satisfied: pillow>=6.2.0 in /usr/local/lib/python3.10/dist-packages (from matplotlib!=3.6.1,>=3.4->seaborn) (11.0.0)\n",
      "Requirement already satisfied: pyparsing>=2.3.1 in /usr/local/lib/python3.10/dist-packages (from matplotlib!=3.6.1,>=3.4->seaborn) (3.2.0)\n",
      "Requirement already satisfied: python-dateutil>=2.7 in /usr/local/lib/python3.10/dist-packages (from matplotlib!=3.6.1,>=3.4->seaborn) (2.8.2)\n",
      "Requirement already satisfied: pytz>=2020.1 in /usr/local/lib/python3.10/dist-packages (from pandas>=1.2->seaborn) (2024.2)\n",
      "Requirement already satisfied: tzdata>=2022.7 in /usr/local/lib/python3.10/dist-packages (from pandas>=1.2->seaborn) (2024.2)\n",
      "Requirement already satisfied: six>=1.5 in /usr/local/lib/python3.10/dist-packages (from python-dateutil>=2.7->matplotlib!=3.6.1,>=3.4->seaborn) (1.16.0)\n",
      "Requirement already satisfied: nltk in /usr/local/lib/python3.10/dist-packages (3.9.1)\n",
      "Requirement already satisfied: click in /usr/local/lib/python3.10/dist-packages (from nltk) (8.1.7)\n",
      "Requirement already satisfied: joblib in /usr/local/lib/python3.10/dist-packages (from nltk) (1.4.2)\n",
      "Requirement already satisfied: regex>=2021.8.3 in /usr/local/lib/python3.10/dist-packages (from nltk) (2024.9.11)\n",
      "Requirement already satisfied: tqdm in /usr/local/lib/python3.10/dist-packages (from nltk) (4.66.6)\n",
      "\u001b[31mERROR: Could not find a version that satisfies the requirement collectios (from versions: none)\u001b[0m\u001b[31m\n",
      "\u001b[0m\u001b[31mERROR: No matching distribution found for collectios\u001b[0m\u001b[31m\n",
      "\u001b[0m"
     ]
    }
   ],
   "source": [
    "!pip install sklearn\n",
    "!pip install matplotlib\n",
    "!pip install seaborn\n",
    "!pip install nltk\n",
    "!pip install collectios"
   ]
  },
  {
   "cell_type": "code",
   "execution_count": null,
   "metadata": {
    "colab": {
     "base_uri": "https://localhost:8080/"
    },
    "id": "kZnqD3MrH1ZW",
    "outputId": "5836f29c-ad0e-4270-d2c7-96dd7bf80106"
   },
   "outputs": [
    {
     "name": "stderr",
     "output_type": "stream",
     "text": [
      "[nltk_data] Downloading package stopwords to /root/nltk_data...\n",
      "[nltk_data]   Package stopwords is already up-to-date!\n",
      "[nltk_data] Downloading package punkt to /root/nltk_data...\n",
      "[nltk_data]   Package punkt is already up-to-date!\n"
     ]
    }
   ],
   "source": [
    "import nltk\n",
    "from nltk.corpus import stopwords\n",
    "from nltk.tokenize import word_tokenize\n",
    "from collections import Counter\n",
    "import pandas as pd\n",
    "import matplotlib.pyplot as plt\n",
    "import seaborn as sns\n",
    "\n",
    "# Descargar las stopwords en español de NLTK\n",
    "nltk.download('stopwords')\n",
    "nltk.download('punkt')\n",
    "\n",
    "# Configurar las stopwords en español\n",
    "stop_words = set(stopwords.words('spanish'))"
   ]
  },
  {
   "cell_type": "code",
   "execution_count": null,
   "metadata": {
    "colab": {
     "base_uri": "https://localhost:8080/",
     "height": 810
    },
    "id": "Ch7HQDs9H6z2",
    "outputId": "fd748727-3b01-4537-f12e-72d2a26d7e68"
   },
   "outputs": [
    {
     "name": "stderr",
     "output_type": "stream",
     "text": [
      "<ipython-input-102-895620975c7a>:22: FutureWarning: \n",
      "\n",
      "Passing `palette` without assigning `hue` is deprecated and will be removed in v0.14.0. Assign the `y` variable to `hue` and set `legend=False` for the same effect.\n",
      "\n",
      "  sns.barplot(x='Frecuencia', y='Palabra', data=top_words, palette='viridis')\n"
     ]
    },
    {
     "data": {
      "image/png": "[encoded data removed]",
      "text/plain": [
       "<Figure size 1200x800 with 1 Axes>"
      ]
     },
     "metadata": {},
     "output_type": "display_data"
    }
   ],
   "source": [
    "# Tokenizando y filtrando palabras clave\n",
    "all_words = []\n",
    "for comment in df['Comment_preprocessed']:\n",
    "    words = word_tokenize(comment)\n",
    "    filtered_words = [word for word in words if word.isalnum() and word not in stop_words]\n",
    "    all_words.extend(filtered_words)\n",
    "\n",
    "# Conteo de frecuencia de las palabras clave\n",
    "word_freq = Counter(all_words)\n",
    "\n",
    "# Convirtiendo a DataFrame para facilitar el análisis\n",
    "word_freq_df = pd.DataFrame(word_freq.items(), columns=['Palabra', 'Frecuencia'])\n",
    "\n",
    "# Ordenando por frecuencia descendente\n",
    "word_freq_df = word_freq_df.sort_values(by='Frecuencia', ascending=False)\n",
    "\n",
    "# Mostrando lel Top-10 de palabras clave\n",
    "top_words = word_freq_df.head(10)\n",
    "\n",
    "# Visualizando las frecuencias de las palabras clave más mencionadas\n",
    "plt.figure(figsize=(12, 8))\n",
    "sns.barplot(x='Frecuencia', y='Palabra', data=top_words, palette='viridis')\n",
    "plt.title('Frecuencia de Palabras Clave en Opiniones de Usuarios')\n",
    "plt.xlabel('Frecuencia')\n",
    "plt.ylabel('Palabra clave')\n",
    "\n",
    "# Añadir los números en cada barrita\n",
    "for index, value in enumerate(top_words['Frecuencia']):\n",
    "    plt.text(value, index, str(value))\n",
    "plt.show()"
   ]
  },
  {
   "cell_type": "markdown",
   "metadata": {
    "id": "V7va1rViJyGL"
   },
   "source": [
    "# **3. Entrenando un modelo de clasificación**"
   ]
  },
  {
   "cell_type": "markdown",
   "metadata": {
    "id": "vzzU_DhfMW2J"
   },
   "source": [
    "Requerimos un modelo de clasificación porque lo que vamos a entrenar son categorías. Los labels de los sentimientos (negativo, neutral y positivo) y los comentarios son strings."
   ]
  },
  {
   "cell_type": "code",
   "execution_count": null,
   "metadata": {
    "id": "HpqMrGP9VdbK"
   },
   "outputs": [],
   "source": [
    "from sklearn.model_selection import train_test_split, GridSearchCV\n",
    "from sklearn.linear_model import LogisticRegression\n",
    "from sklearn.metrics import classification_report\n",
    "from sklearn.feature_extraction.text import TfidfVectorizer"
   ]
  },
  {
   "cell_type": "code",
   "execution_count": null,
   "metadata": {
    "id": "INmiLun4VeqD"
   },
   "outputs": [],
   "source": [
    "# Definiendo las características (X) y la variable objetivo (y)\n",
    "review  = df['Comment_preprocessed']\n",
    "label = df['Sentiment']"
   ]
  },
  {
   "cell_type": "code",
   "execution_count": null,
   "metadata": {
    "id": "mNfUMdBVVlPT"
   },
   "outputs": [],
   "source": [
    "# Dividiendo los datos en conjuntos de entrenamiento y prueba (80/20)\n",
    "X_train, X_test, y_train, y_test = train_test_split(review, label, test_size=0.2, random_state=2)"
   ]
  },
  {
   "cell_type": "code",
   "execution_count": null,
   "metadata": {
    "id": "seUfGLpVVukv"
   },
   "outputs": [],
   "source": [
    "# Convertiendo los textos en vectores de características\n",
    "vectorizer = TfidfVectorizer()\n",
    "X_train_vec = vectorizer.fit_transform(X_train)\n",
    "X_test_vec = vectorizer.transform(X_test)"
   ]
  },
  {
   "cell_type": "markdown",
   "metadata": {
    "id": "TDtl2pKaV31-"
   },
   "source": [
    "### **Logit multinomial**"
   ]
  },
  {
   "cell_type": "markdown",
   "metadata": {
    "id": "5JpyhYcjXMla"
   },
   "source": [
    "#### **Ingenieria de features (hierparámetros)**"
   ]
  },
  {
   "cell_type": "code",
   "execution_count": null,
   "metadata": {
    "colab": {
     "base_uri": "https://localhost:8080/"
    },
    "id": "VsTa_3JxXHII",
    "outputId": "5af64553-c918-4dc9-c79f-f23708bf9c34"
   },
   "outputs": [
    {
     "name": "stdout",
     "output_type": "stream",
     "text": [
      "Fitting 5 folds for each of 15 candidates, totalling 75 fits\n"
     ]
    },
    {
     "name": "stderr",
     "output_type": "stream",
     "text": [
      "/usr/local/lib/python3.10/dist-packages/sklearn/model_selection/_split.py:776: UserWarning: The least populated class in y has only 2 members, which is less than n_splits=5.\n",
      "  warnings.warn(\n",
      "/usr/local/lib/python3.10/dist-packages/sklearn/linear_model/_logistic.py:1247: FutureWarning: 'multi_class' was deprecated in version 1.5 and will be removed in 1.7. From then on, it will always use 'multinomial'. Leave it to its default value to avoid this warning.\n",
      "  warnings.warn(\n"
     ]
    }
   ],
   "source": [
    "# Definiendo el modelo de regresión logística multinomial\n",
    "clf = LogisticRegression(multi_class='multinomial', solver='lbfgs', max_iter=200, random_state=2)\n",
    "\n",
    "# Sugeriendo algunos hiperparámetros comunes para el ajuste\n",
    "param_grid = {\n",
    "    'C': [0.01, 0.1, 1, 10, 100],\n",
    "    'penalty': ['l2'],\n",
    "    'solver': ['newton-cg', 'lbfgs', 'saga']\n",
    "}\n",
    "\n",
    "# Aplicando GridSearchCV para encontrar los mejores parámetros\n",
    "grid_search = GridSearchCV(estimator=clf, param_grid=param_grid, cv=5, n_jobs=-1, verbose=2)\n",
    "grid_search.fit(X_train_vec, y_train)\n",
    "\n",
    "# Mejor modelo encontrado por GridSearchCV\n",
    "best_clf = grid_search.best_estimator_"
   ]
  },
  {
   "cell_type": "code",
   "execution_count": null,
   "metadata": {
    "colab": {
     "base_uri": "https://localhost:8080/"
    },
    "id": "-kaP3mpuXkYg",
    "outputId": "21468595-8591-4b5d-f91b-b64e9c831631"
   },
   "outputs": [
    {
     "name": "stdout",
     "output_type": "stream",
     "text": [
      "LogisticRegression(C=0.01, max_iter=200, multi_class='multinomial',\n",
      "                   random_state=2, solver='newton-cg')\n"
     ]
    }
   ],
   "source": [
    "print(best_clf)"
   ]
  },
  {
   "cell_type": "code",
   "execution_count": null,
   "metadata": {
    "id": "NEHW5B43XmyC"
   },
   "outputs": [],
   "source": [
    "# Predicciones con el modelo sugerido por GridSearch solver\n",
    "y_pred = best_clf.predict(X_test_vec)"
   ]
  },
  {
   "cell_type": "code",
   "execution_count": null,
   "metadata": {
    "colab": {
     "base_uri": "https://localhost:8080/"
    },
    "id": "_JLFgJlZXuuM",
    "outputId": "805ccf56-8a34-433d-aa4f-5bddf01ee45e"
   },
   "outputs": [
    {
     "name": "stdout",
     "output_type": "stream",
     "text": [
      "              precision    recall  f1-score   support\n",
      "\n",
      "     Neutral       0.00      0.00      0.00         3\n",
      "    Positivo       0.50      1.00      0.67         3\n",
      "\n",
      "    accuracy                           0.50         6\n",
      "   macro avg       0.25      0.50      0.33         6\n",
      "weighted avg       0.25      0.50      0.33         6\n",
      "\n"
     ]
    },
    {
     "name": "stderr",
     "output_type": "stream",
     "text": [
      "/usr/local/lib/python3.10/dist-packages/sklearn/metrics/_classification.py:1531: UndefinedMetricWarning: Precision is ill-defined and being set to 0.0 in labels with no predicted samples. Use `zero_division` parameter to control this behavior.\n",
      "  _warn_prf(average, modifier, f\"{metric.capitalize()} is\", len(result))\n",
      "/usr/local/lib/python3.10/dist-packages/sklearn/metrics/_classification.py:1531: UndefinedMetricWarning: Precision is ill-defined and being set to 0.0 in labels with no predicted samples. Use `zero_division` parameter to control this behavior.\n",
      "  _warn_prf(average, modifier, f\"{metric.capitalize()} is\", len(result))\n",
      "/usr/local/lib/python3.10/dist-packages/sklearn/metrics/_classification.py:1531: UndefinedMetricWarning: Precision is ill-defined and being set to 0.0 in labels with no predicted samples. Use `zero_division` parameter to control this behavior.\n",
      "  _warn_prf(average, modifier, f\"{metric.capitalize()} is\", len(result))\n"
     ]
    }
   ],
   "source": [
    "# Evaluar el modelo\n",
    "print(classification_report(y_test, y_pred))"
   ]
  },
  {
   "cell_type": "markdown",
   "metadata": {
    "id": "9Dm4H9uUH5Sw"
   },
   "source": [
    "## **Exploración otros modelos de entrenamieto:**"
   ]
  },
  {
   "cell_type": "code",
   "execution_count": null,
   "metadata": {
    "colab": {
     "base_uri": "https://localhost:8080/"
    },
    "id": "4dJxtx3yH571",
    "outputId": "7c61cdea-3f25-4c79-9346-0097e40d689a"
   },
   "outputs": [
    {
     "name": "stdout",
     "output_type": "stream",
     "text": [
      "<class 'pandas.core.frame.DataFrame'>\n",
      "RangeIndex: 30 entries, 0 to 29\n",
      "Data columns (total 7 columns):\n",
      " #   Column                Non-Null Count  Dtype  \n",
      "---  ------                --------------  -----  \n",
      " 0   Usuario               30 non-null     object \n",
      " 1   Date                  30 non-null     object \n",
      " 2   Rating                30 non-null     int64  \n",
      " 3   Comment               30 non-null     object \n",
      " 4   Sentiment             30 non-null     object \n",
      " 5   Score                 30 non-null     float64\n",
      " 6   Comment_preprocessed  30 non-null     object \n",
      "dtypes: float64(1), int64(1), object(5)\n",
      "memory usage: 1.8+ KB\n"
     ]
    }
   ],
   "source": [
    "df.info()"
   ]
  },
  {
   "cell_type": "code",
   "execution_count": null,
   "metadata": {
    "colab": {
     "base_uri": "https://localhost:8080/",
     "height": 1000
    },
    "id": "lcRmXrxbMOdQ",
    "outputId": "0b7366dd-fd7f-4a6e-c322-91899ce35604"
   },
   "outputs": [
    {
     "name": "stdout",
     "output_type": "stream",
     "text": [
      "Distribución de clases después de SMOTE:\n",
      "Sentiment\n",
      "Neutral     15\n",
      "Positivo    15\n",
      "Negativo    15\n",
      "Name: count, dtype: int64\n",
      "\n",
      "Training Logistic Regression...\n",
      "Logistic Regression Accuracy: 0.0000\n",
      "Logistic Regression Classification Report:\n",
      "              precision    recall  f1-score   support\n",
      "\n",
      "     Neutral       0.00      0.00      0.00       3.0\n",
      "    Positivo       0.00      0.00      0.00       3.0\n",
      "\n",
      "    accuracy                           0.00       6.0\n",
      "   macro avg       0.00      0.00      0.00       6.0\n",
      "weighted avg       0.00      0.00      0.00       6.0\n",
      "\n",
      "\n",
      "Training Decision Tree...\n",
      "Decision Tree Accuracy: 0.1667\n",
      "Decision Tree Classification Report:\n",
      "              precision    recall  f1-score   support\n",
      "\n",
      "     Neutral       0.25      0.33      0.29         3\n",
      "    Positivo       0.00      0.00      0.00         3\n",
      "\n",
      "    accuracy                           0.17         6\n",
      "   macro avg       0.12      0.17      0.14         6\n",
      "weighted avg       0.12      0.17      0.14         6\n",
      "\n",
      "\n",
      "Training Random Forest...\n",
      "Random Forest Accuracy: 0.1667\n",
      "Random Forest Classification Report:\n",
      "              precision    recall  f1-score   support\n",
      "\n",
      "     Neutral       0.00      0.00      0.00         3\n",
      "    Positivo       0.25      0.33      0.29         3\n",
      "\n",
      "    accuracy                           0.17         6\n",
      "   macro avg       0.12      0.17      0.14         6\n",
      "weighted avg       0.12      0.17      0.14         6\n",
      "\n",
      "\n",
      "Training SVM...\n",
      "SVM Accuracy: 0.1667\n",
      "SVM Classification Report:\n",
      "              precision    recall  f1-score   support\n",
      "\n",
      "     Neutral       0.00      0.00      0.00         3\n",
      "    Positivo       0.25      0.33      0.29         3\n",
      "\n",
      "    accuracy                           0.17         6\n",
      "   macro avg       0.12      0.17      0.14         6\n",
      "weighted avg       0.12      0.17      0.14         6\n",
      "\n",
      "\n",
      "Training Naive Bayes...\n",
      "Naive Bayes Accuracy: 0.1667\n",
      "Naive Bayes Classification Report:\n",
      "              precision    recall  f1-score   support\n",
      "\n",
      "    Negativo       0.00      0.00      0.00         0\n",
      "     Neutral       0.25      0.33      0.29         3\n",
      "    Positivo       0.00      0.00      0.00         3\n",
      "\n",
      "    accuracy                           0.17         6\n",
      "   macro avg       0.08      0.11      0.10         6\n",
      "weighted avg       0.12      0.17      0.14         6\n",
      "\n",
      "\n",
      "Summary of Results:\n",
      "                     Accuracy\n",
      "Logistic Regression  0.000000\n",
      "Decision Tree        0.166667\n",
      "Random Forest        0.166667\n",
      "SVM                  0.166667\n",
      "Naive Bayes          0.166667\n"
     ]
    },
    {
     "data": {
      "image/png": "[encoded data removed]",
      "text/plain": [
       "<Figure size 640x480 with 2 Axes>"
      ]
     },
     "metadata": {},
     "output_type": "display_data"
    },
    {
     "data": {
      "image/png": "[encoded data removed]",
      "text/plain": [
       "<Figure size 640x480 with 2 Axes>"
      ]
     },
     "metadata": {},
     "output_type": "display_data"
    },
    {
     "data": {
      "image/png": "[encoded data removed]",
      "text/plain": [
       "<Figure size 640x480 with 2 Axes>"
      ]
     },
     "metadata": {},
     "output_type": "display_data"
    },
    {
     "data": {
      "image/png": "[encoded data removed]",
      "text/plain": [
       "<Figure size 640x480 with 2 Axes>"
      ]
     },
     "metadata": {},
     "output_type": "display_data"
    },
    {
     "data": {
      "image/png": "[encoded data removed]",
      "text/plain": [
       "<Figure size 640x480 with 2 Axes>"
      ]
     },
     "metadata": {},
     "output_type": "display_data"
    }
   ],
   "source": [
    "# Importar librerías necesarias\n",
    "from sklearn.model_selection import train_test_split\n",
    "from sklearn.linear_model import LogisticRegression\n",
    "from sklearn.tree import DecisionTreeClassifier\n",
    "from sklearn.ensemble import RandomForestClassifier\n",
    "from sklearn.svm import SVC\n",
    "from sklearn.naive_bayes import MultinomialNB\n",
    "from sklearn.metrics import classification_report, confusion_matrix, ConfusionMatrixDisplay, accuracy_score\n",
    "from imblearn.over_sampling import SMOTE\n",
    "from sklearn.feature_extraction.text import TfidfVectorizer\n",
    "import pandas as pd\n",
    "\n",
    "# Vectorización de los textos\n",
    "vectorizer = TfidfVectorizer(min_df=1, max_df=0.8, ngram_range=(1, 3))\n",
    "X = vectorizer.fit_transform(df['Comment_preprocessed'])\n",
    "y = df['Sentiment']\n",
    "\n",
    "# Dividir los datos en conjuntos de entrenamiento y prueba\n",
    "X_train, X_test, y_train, y_test = train_test_split(X, y, test_size=0.2, random_state=42)\n",
    "\n",
    "# Balancear las clases con SMOTE\n",
    "smote = SMOTE(k_neighbors=1, random_state=42)\n",
    "X_train_balanced, y_train_balanced = smote.fit_resample(X_train, y_train)\n",
    "\n",
    "# Verificar distribución de clases balanceadas\n",
    "print(\"Distribución de clases después de SMOTE:\")\n",
    "print(pd.Series(y_train_balanced).value_counts())\n",
    "\n",
    "# Modelos con class_weight para balanceo\n",
    "models = {\n",
    "    \"Logistic Regression\": LogisticRegression(max_iter=1000, random_state=42, class_weight='balanced'),\n",
    "    \"Decision Tree\": DecisionTreeClassifier(random_state=42, class_weight='balanced'),\n",
    "    \"Random Forest\": RandomForestClassifier(n_estimators=100, random_state=42, class_weight='balanced'),\n",
    "    \"SVM\": SVC(kernel='linear', probability=True, random_state=42, class_weight='balanced'),\n",
    "    \"Naive Bayes\": MultinomialNB()  # No aplica class_weight\n",
    "}\n",
    "\n",
    "# Entrenar y evaluar modelos\n",
    "results = {}\n",
    "for name, model in models.items():\n",
    "    print(f\"\\nTraining {name}...\")\n",
    "\n",
    "    # Entrenar el modelo\n",
    "    model.fit(X_train_balanced, y_train_balanced)\n",
    "\n",
    "    # Predicción en el conjunto de prueba\n",
    "    y_pred = model.predict(X_test)\n",
    "\n",
    "    # Evaluar el modelo\n",
    "    acc = accuracy_score(y_test, y_pred)\n",
    "    report = classification_report(y_test, y_pred, zero_division=0)\n",
    "    results[name] = {\n",
    "        \"Accuracy\": acc,\n",
    "        \"Classification Report\": report\n",
    "    }\n",
    "\n",
    "    # Mostrar métricas y matriz de confusión\n",
    "    print(f\"{name} Accuracy: {acc:.4f}\")\n",
    "    print(f\"{name} Classification Report:\\n{report}\")\n",
    "    cm = confusion_matrix(y_test, y_pred, labels=model.classes_)\n",
    "    disp = ConfusionMatrixDisplay(confusion_matrix=cm, display_labels=model.classes_)\n",
    "    disp.plot(cmap='viridis')\n",
    "\n",
    "# Resumen de resultados\n",
    "summary = pd.DataFrame({name: results[name]['Accuracy'] for name in results.keys()}, index=[\"Accuracy\"])\n",
    "print(\"\\nSummary of Results:\")\n",
    "print(summary.T)\n"
   ]
  },
  {
   "cell_type": "markdown",
   "metadata": {
    "id": "smnWgPitaFoa"
   },
   "source": [
    "**Problemas Potenciales**\n",
    "Desbalance severo de clases: Aunque se aplicó SMOTE o submuestreo, el desbalance inicial puede haber causado que los modelos no aprendan correctamente.\n",
    "\n",
    "**Conjunto de datos pequeño: Un dataset con solo 30 observaciones es demasiado pequeño para entrenar modelos de clasificación de manera efectiva.**\n",
    "\n",
    "Representación de texto insuficiente: Es posible que el vectorizador TF-IDF no esté capturando la información relevante de los textos debido a parámetros subóptimos o falta de datos.\n"
   ]
  },
  {
   "cell_type": "markdown",
   "metadata": {
    "id": "z_h0IfMnbYeH"
   },
   "source": [
    "**Muchahos aca creo que uno podría seguir intentando ajustar cosas pero es que realmente el dataframe no ayuda por la cantidad tan limitada de comentarios.**"
   ]
  }
 ],
 "metadata": {
  "colab": {
   "provenance": []
  },
  "kernelspec": {
   "display_name": "Python 3 (ipykernel)",
   "language": "python",
   "name": "python3"
  },
  "language_info": {
   "codemirror_mode": {
    "name": "ipython",
    "version": 3
   },
   "file_extension": ".py",
   "mimetype": "text/x-python",
   "name": "python",
   "nbconvert_exporter": "python",
   "pygments_lexer": "ipython3",
   "version": "3.12.7"
  },
  "widgets": {
   "application/vnd.jupyter.widget-state+json": {
    "0521e55da2434f8d8e03599d0fa62357": {
     "model_module": "@jupyter-widgets/controls",
     "model_module_version": "1.5.0",
     "model_name": "HTMLModel",
     "state": {
      "_dom_classes": [],
      "_model_module": "@jupyter-widgets/controls",
      "_model_module_version": "1.5.0",
      "_model_name": "HTMLModel",
      "_view_count": null,
      "_view_module": "@jupyter-widgets/controls",
      "_view_module_version": "1.5.0",
      "_view_name": "HTMLView",
      "description": "",
      "description_tooltip": null,
      "layout": "IPY_MODEL_64ca869562834f9fbf9d9a5ecceb848e",
      "placeholder": "​",
      "style": "IPY_MODEL_834017d4badb4cdaaff47a9142609066",
      "value": "vocab.txt: 100%"
     }
    },
    "09753a7193574aafbe89e8c37d7b62e1": {
     "model_module": "@jupyter-widgets/base",
     "model_module_version": "1.2.0",
     "model_name": "LayoutModel",
     "state": {
      "_model_module": "@jupyter-widgets/base",
      "_model_module_version": "1.2.0",
      "_model_name": "LayoutModel",
      "_view_count": null,
      "_view_module": "@jupyter-widgets/base",
      "_view_module_version": "1.2.0",
      "_view_name": "LayoutView",
      "align_content": null,
      "align_items": null,
      "align_self": null,
      "border": null,
      "bottom": null,
      "display": null,
      "flex": null,
      "flex_flow": null,
      "grid_area": null,
      "grid_auto_columns": null,
      "grid_auto_flow": null,
      "grid_auto_rows": null,
      "grid_column": null,
      "grid_gap": null,
      "grid_row": null,
      "grid_template_areas": null,
      "grid_template_columns": null,
      "grid_template_rows": null,
      "height": null,
      "justify_content": null,
      "justify_items": null,
      "left": null,
      "margin": null,
      "max_height": null,
      "max_width": null,
      "min_height": null,
      "min_width": null,
      "object_fit": null,
      "object_position": null,
      "order": null,
      "overflow": null,
      "overflow_x": null,
      "overflow_y": null,
      "padding": null,
      "right": null,
      "top": null,
      "visibility": null,
      "width": null
     }
    },
    "0b4a07378fcd4deab51dc541fa6a789b": {
     "model_module": "@jupyter-widgets/base",
     "model_module_version": "1.2.0",
     "model_name": "LayoutModel",
     "state": {
      "_model_module": "@jupyter-widgets/base",
      "_model_module_version": "1.2.0",
      "_model_name": "LayoutModel",
      "_view_count": null,
      "_view_module": "@jupyter-widgets/base",
      "_view_module_version": "1.2.0",
      "_view_name": "LayoutView",
      "align_content": null,
      "align_items": null,
      "align_self": null,
      "border": null,
      "bottom": null,
      "display": null,
      "flex": null,
      "flex_flow": null,
      "grid_area": null,
      "grid_auto_columns": null,
      "grid_auto_flow": null,
      "grid_auto_rows": null,
      "grid_column": null,
      "grid_gap": null,
      "grid_row": null,
      "grid_template_areas": null,
      "grid_template_columns": null,
      "grid_template_rows": null,
      "height": null,
      "justify_content": null,
      "justify_items": null,
      "left": null,
      "margin": null,
      "max_height": null,
      "max_width": null,
      "min_height": null,
      "min_width": null,
      "object_fit": null,
      "object_position": null,
      "order": null,
      "overflow": null,
      "overflow_x": null,
      "overflow_y": null,
      "padding": null,
      "right": null,
      "top": null,
      "visibility": null,
      "width": null
     }
    },
    "0ce4743e87c34803883c6169a5e29649": {
     "model_module": "@jupyter-widgets/base",
     "model_module_version": "1.2.0",
     "model_name": "LayoutModel",
     "state": {
      "_model_module": "@jupyter-widgets/base",
      "_model_module_version": "1.2.0",
      "_model_name": "LayoutModel",
      "_view_count": null,
      "_view_module": "@jupyter-widgets/base",
      "_view_module_version": "1.2.0",
      "_view_name": "LayoutView",
      "align_content": null,
      "align_items": null,
      "align_self": null,
      "border": null,
      "bottom": null,
      "display": null,
      "flex": null,
      "flex_flow": null,
      "grid_area": null,
      "grid_auto_columns": null,
      "grid_auto_flow": null,
      "grid_auto_rows": null,
      "grid_column": null,
      "grid_gap": null,
      "grid_row": null,
      "grid_template_areas": null,
      "grid_template_columns": null,
      "grid_template_rows": null,
      "height": null,
      "justify_content": null,
      "justify_items": null,
      "left": null,
      "margin": null,
      "max_height": null,
      "max_width": null,
      "min_height": null,
      "min_width": null,
      "object_fit": null,
      "object_position": null,
      "order": null,
      "overflow": null,
      "overflow_x": null,
      "overflow_y": null,
      "padding": null,
      "right": null,
      "top": null,
      "visibility": null,
      "width": null
     }
    },
    "0eb594c0e118426eac1023204934012c": {
     "model_module": "@jupyter-widgets/base",
     "model_module_version": "1.2.0",
     "model_name": "LayoutModel",
     "state": {
      "_model_module": "@jupyter-widgets/base",
      "_model_module_version": "1.2.0",
      "_model_name": "LayoutModel",
      "_view_count": null,
      "_view_module": "@jupyter-widgets/base",
      "_view_module_version": "1.2.0",
      "_view_name": "LayoutView",
      "align_content": null,
      "align_items": null,
      "align_self": null,
      "border": null,
      "bottom": null,
      "display": null,
      "flex": null,
      "flex_flow": null,
      "grid_area": null,
      "grid_auto_columns": null,
      "grid_auto_flow": null,
      "grid_auto_rows": null,
      "grid_column": null,
      "grid_gap": null,
      "grid_row": null,
      "grid_template_areas": null,
      "grid_template_columns": null,
      "grid_template_rows": null,
      "height": null,
      "justify_content": null,
      "justify_items": null,
      "left": null,
      "margin": null,
      "max_height": null,
      "max_width": null,
      "min_height": null,
      "min_width": null,
      "object_fit": null,
      "object_position": null,
      "order": null,
      "overflow": null,
      "overflow_x": null,
      "overflow_y": null,
      "padding": null,
      "right": null,
      "top": null,
      "visibility": null,
      "width": null
     }
    },
    "115b1e745e73455a911b1cb93e2b4730": {
     "model_module": "@jupyter-widgets/controls",
     "model_module_version": "1.5.0",
     "model_name": "FloatProgressModel",
     "state": {
      "_dom_classes": [],
      "_model_module": "@jupyter-widgets/controls",
      "_model_module_version": "1.5.0",
      "_model_name": "FloatProgressModel",
      "_view_count": null,
      "_view_module": "@jupyter-widgets/controls",
      "_view_module_version": "1.5.0",
      "_view_name": "ProgressView",
      "bar_style": "success",
      "description": "",
      "description_tooltip": null,
      "layout": "IPY_MODEL_13c4c11332f34230a0bbd90d9d788d31",
      "max": 39,
      "min": 0,
      "orientation": "horizontal",
      "style": "IPY_MODEL_4b8d4b100f284b018dcf6ee5f831b133",
      "value": 39
     }
    },
    "13c4c11332f34230a0bbd90d9d788d31": {
     "model_module": "@jupyter-widgets/base",
     "model_module_version": "1.2.0",
     "model_name": "LayoutModel",
     "state": {
      "_model_module": "@jupyter-widgets/base",
      "_model_module_version": "1.2.0",
      "_model_name": "LayoutModel",
      "_view_count": null,
      "_view_module": "@jupyter-widgets/base",
      "_view_module_version": "1.2.0",
      "_view_name": "LayoutView",
      "align_content": null,
      "align_items": null,
      "align_self": null,
      "border": null,
      "bottom": null,
      "display": null,
      "flex": null,
      "flex_flow": null,
      "grid_area": null,
      "grid_auto_columns": null,
      "grid_auto_flow": null,
      "grid_auto_rows": null,
      "grid_column": null,
      "grid_gap": null,
      "grid_row": null,
      "grid_template_areas": null,
      "grid_template_columns": null,
      "grid_template_rows": null,
      "height": null,
      "justify_content": null,
      "justify_items": null,
      "left": null,
      "margin": null,
      "max_height": null,
      "max_width": null,
      "min_height": null,
      "min_width": null,
      "object_fit": null,
      "object_position": null,
      "order": null,
      "overflow": null,
      "overflow_x": null,
      "overflow_y": null,
      "padding": null,
      "right": null,
      "top": null,
      "visibility": null,
      "width": null
     }
    },
    "18ec4744a8624c2aa07a4820117c2c6d": {
     "model_module": "@jupyter-widgets/controls",
     "model_module_version": "1.5.0",
     "model_name": "HTMLModel",
     "state": {
      "_dom_classes": [],
      "_model_module": "@jupyter-widgets/controls",
      "_model_module_version": "1.5.0",
      "_model_name": "HTMLModel",
      "_view_count": null,
      "_view_module": "@jupyter-widgets/controls",
      "_view_module_version": "1.5.0",
      "_view_name": "HTMLView",
      "description": "",
      "description_tooltip": null,
      "layout": "IPY_MODEL_395462aa23754c8d9e4a1e9ec43e90fd",
      "placeholder": "​",
      "style": "IPY_MODEL_7351b5c47c0c4db3bb4363e71d2cbbee",
      "value": " 39.0/39.0 [00:00&lt;00:00, 1.50kB/s]"
     }
    },
    "1f621b36ea684c248704b64b4046482c": {
     "model_module": "@jupyter-widgets/controls",
     "model_module_version": "1.5.0",
     "model_name": "FloatProgressModel",
     "state": {
      "_dom_classes": [],
      "_model_module": "@jupyter-widgets/controls",
      "_model_module_version": "1.5.0",
      "_model_name": "FloatProgressModel",
      "_view_count": null,
      "_view_module": "@jupyter-widgets/controls",
      "_view_module_version": "1.5.0",
      "_view_name": "ProgressView",
      "bar_style": "success",
      "description": "",
      "description_tooltip": null,
      "layout": "IPY_MODEL_f100650bcb3c4037a32940c4f346d5fc",
      "max": 871891,
      "min": 0,
      "orientation": "horizontal",
      "style": "IPY_MODEL_a818b6d5754443dbaf869729b9591a7b",
      "value": 871891
     }
    },
    "23446c4f7a1c41cf83df3408dab8dfda": {
     "model_module": "@jupyter-widgets/base",
     "model_module_version": "1.2.0",
     "model_name": "LayoutModel",
     "state": {
      "_model_module": "@jupyter-widgets/base",
      "_model_module_version": "1.2.0",
      "_model_name": "LayoutModel",
      "_view_count": null,
      "_view_module": "@jupyter-widgets/base",
      "_view_module_version": "1.2.0",
      "_view_name": "LayoutView",
      "align_content": null,
      "align_items": null,
      "align_self": null,
      "border": null,
      "bottom": null,
      "display": null,
      "flex": null,
      "flex_flow": null,
      "grid_area": null,
      "grid_auto_columns": null,
      "grid_auto_flow": null,
      "grid_auto_rows": null,
      "grid_column": null,
      "grid_gap": null,
      "grid_row": null,
      "grid_template_areas": null,
      "grid_template_columns": null,
      "grid_template_rows": null,
      "height": null,
      "justify_content": null,
      "justify_items": null,
      "left": null,
      "margin": null,
      "max_height": null,
      "max_width": null,
      "min_height": null,
      "min_width": null,
      "object_fit": null,
      "object_position": null,
      "order": null,
      "overflow": null,
      "overflow_x": null,
      "overflow_y": null,
      "padding": null,
      "right": null,
      "top": null,
      "visibility": null,
      "width": null
     }
    },
    "2e48a1d1baab42d487d5eb0157f5726e": {
     "model_module": "@jupyter-widgets/controls",
     "model_module_version": "1.5.0",
     "model_name": "HBoxModel",
     "state": {
      "_dom_classes": [],
      "_model_module": "@jupyter-widgets/controls",
      "_model_module_version": "1.5.0",
      "_model_name": "HBoxModel",
      "_view_count": null,
      "_view_module": "@jupyter-widgets/controls",
      "_view_module_version": "1.5.0",
      "_view_name": "HBoxView",
      "box_style": "",
      "children": [
       "IPY_MODEL_877bcba83dcc4e26b823d1dc86abcbd0",
       "IPY_MODEL_115b1e745e73455a911b1cb93e2b4730",
       "IPY_MODEL_18ec4744a8624c2aa07a4820117c2c6d"
      ],
      "layout": "IPY_MODEL_cad0aaf3ed264e8d8256c8307624b9b2"
     }
    },
    "2f09ea9a3a1642fea5cda7c6cdc5602f": {
     "model_module": "@jupyter-widgets/controls",
     "model_module_version": "1.5.0",
     "model_name": "HBoxModel",
     "state": {
      "_dom_classes": [],
      "_model_module": "@jupyter-widgets/controls",
      "_model_module_version": "1.5.0",
      "_model_name": "HBoxModel",
      "_view_count": null,
      "_view_module": "@jupyter-widgets/controls",
      "_view_module_version": "1.5.0",
      "_view_name": "HBoxView",
      "box_style": "",
      "children": [
       "IPY_MODEL_0521e55da2434f8d8e03599d0fa62357",
       "IPY_MODEL_1f621b36ea684c248704b64b4046482c",
       "IPY_MODEL_43c5fb8df2734656acec0e889c4c30c4"
      ],
      "layout": "IPY_MODEL_0eb594c0e118426eac1023204934012c"
     }
    },
    "3605c2a3e4d648a1a6950523f53d0daf": {
     "model_module": "@jupyter-widgets/controls",
     "model_module_version": "1.5.0",
     "model_name": "HTMLModel",
     "state": {
      "_dom_classes": [],
      "_model_module": "@jupyter-widgets/controls",
      "_model_module_version": "1.5.0",
      "_model_name": "HTMLModel",
      "_view_count": null,
      "_view_module": "@jupyter-widgets/controls",
      "_view_module_version": "1.5.0",
      "_view_name": "HTMLView",
      "description": "",
      "description_tooltip": null,
      "layout": "IPY_MODEL_9127cb36b05b4e05bfce2edeb3494af3",
      "placeholder": "​",
      "style": "IPY_MODEL_c3c43b4ae8364440a98c86ae3b61f1a2",
      "value": "config.json: 100%"
     }
    },
    "37841937da334e2ea21b6e488de7ceda": {
     "model_module": "@jupyter-widgets/controls",
     "model_module_version": "1.5.0",
     "model_name": "HBoxModel",
     "state": {
      "_dom_classes": [],
      "_model_module": "@jupyter-widgets/controls",
      "_model_module_version": "1.5.0",
      "_model_name": "HBoxModel",
      "_view_count": null,
      "_view_module": "@jupyter-widgets/controls",
      "_view_module_version": "1.5.0",
      "_view_name": "HBoxView",
      "box_style": "",
      "children": [
       "IPY_MODEL_3605c2a3e4d648a1a6950523f53d0daf",
       "IPY_MODEL_e54cb31665f54aa99a5fd99ff6cd3bd6",
       "IPY_MODEL_6d5ebfbc3074435b89a887321a525439"
      ],
      "layout": "IPY_MODEL_cfb30297b9c44b7fa30118f49e93ca21"
     }
    },
    "395462aa23754c8d9e4a1e9ec43e90fd": {
     "model_module": "@jupyter-widgets/base",
     "model_module_version": "1.2.0",
     "model_name": "LayoutModel",
     "state": {
      "_model_module": "@jupyter-widgets/base",
      "_model_module_version": "1.2.0",
      "_model_name": "LayoutModel",
      "_view_count": null,
      "_view_module": "@jupyter-widgets/base",
      "_view_module_version": "1.2.0",
      "_view_name": "LayoutView",
      "align_content": null,
      "align_items": null,
      "align_self": null,
      "border": null,
      "bottom": null,
      "display": null,
      "flex": null,
      "flex_flow": null,
      "grid_area": null,
      "grid_auto_columns": null,
      "grid_auto_flow": null,
      "grid_auto_rows": null,
      "grid_column": null,
      "grid_gap": null,
      "grid_row": null,
      "grid_template_areas": null,
      "grid_template_columns": null,
      "grid_template_rows": null,
      "height": null,
      "justify_content": null,
      "justify_items": null,
      "left": null,
      "margin": null,
      "max_height": null,
      "max_width": null,
      "min_height": null,
      "min_width": null,
      "object_fit": null,
      "object_position": null,
      "order": null,
      "overflow": null,
      "overflow_x": null,
      "overflow_y": null,
      "padding": null,
      "right": null,
      "top": null,
      "visibility": null,
      "width": null
     }
    },
    "3961ebe8351b4094bdd508c81563807d": {
     "model_module": "@jupyter-widgets/controls",
     "model_module_version": "1.5.0",
     "model_name": "ProgressStyleModel",
     "state": {
      "_model_module": "@jupyter-widgets/controls",
      "_model_module_version": "1.5.0",
      "_model_name": "ProgressStyleModel",
      "_view_count": null,
      "_view_module": "@jupyter-widgets/base",
      "_view_module_version": "1.2.0",
      "_view_name": "StyleView",
      "bar_color": null,
      "description_width": ""
     }
    },
    "41440c82b07e484782e59c3410377c31": {
     "model_module": "@jupyter-widgets/base",
     "model_module_version": "1.2.0",
     "model_name": "LayoutModel",
     "state": {
      "_model_module": "@jupyter-widgets/base",
      "_model_module_version": "1.2.0",
      "_model_name": "LayoutModel",
      "_view_count": null,
      "_view_module": "@jupyter-widgets/base",
      "_view_module_version": "1.2.0",
      "_view_name": "LayoutView",
      "align_content": null,
      "align_items": null,
      "align_self": null,
      "border": null,
      "bottom": null,
      "display": null,
      "flex": null,
      "flex_flow": null,
      "grid_area": null,
      "grid_auto_columns": null,
      "grid_auto_flow": null,
      "grid_auto_rows": null,
      "grid_column": null,
      "grid_gap": null,
      "grid_row": null,
      "grid_template_areas": null,
      "grid_template_columns": null,
      "grid_template_rows": null,
      "height": null,
      "justify_content": null,
      "justify_items": null,
      "left": null,
      "margin": null,
      "max_height": null,
      "max_width": null,
      "min_height": null,
      "min_width": null,
      "object_fit": null,
      "object_position": null,
      "order": null,
      "overflow": null,
      "overflow_x": null,
      "overflow_y": null,
      "padding": null,
      "right": null,
      "top": null,
      "visibility": null,
      "width": null
     }
    },
    "43c5fb8df2734656acec0e889c4c30c4": {
     "model_module": "@jupyter-widgets/controls",
     "model_module_version": "1.5.0",
     "model_name": "HTMLModel",
     "state": {
      "_dom_classes": [],
      "_model_module": "@jupyter-widgets/controls",
      "_model_module_version": "1.5.0",
      "_model_name": "HTMLModel",
      "_view_count": null,
      "_view_module": "@jupyter-widgets/controls",
      "_view_module_version": "1.5.0",
      "_view_name": "HTMLView",
      "description": "",
      "description_tooltip": null,
      "layout": "IPY_MODEL_0b4a07378fcd4deab51dc541fa6a789b",
      "placeholder": "​",
      "style": "IPY_MODEL_67249385ae0242f3a376e7a67de1e7d2",
      "value": " 872k/872k [00:00&lt;00:00, 8.82MB/s]"
     }
    },
    "45984f2a28ec48deb865812bbcae90b6": {
     "model_module": "@jupyter-widgets/base",
     "model_module_version": "1.2.0",
     "model_name": "LayoutModel",
     "state": {
      "_model_module": "@jupyter-widgets/base",
      "_model_module_version": "1.2.0",
      "_model_name": "LayoutModel",
      "_view_count": null,
      "_view_module": "@jupyter-widgets/base",
      "_view_module_version": "1.2.0",
      "_view_name": "LayoutView",
      "align_content": null,
      "align_items": null,
      "align_self": null,
      "border": null,
      "bottom": null,
      "display": null,
      "flex": null,
      "flex_flow": null,
      "grid_area": null,
      "grid_auto_columns": null,
      "grid_auto_flow": null,
      "grid_auto_rows": null,
      "grid_column": null,
      "grid_gap": null,
      "grid_row": null,
      "grid_template_areas": null,
      "grid_template_columns": null,
      "grid_template_rows": null,
      "height": null,
      "justify_content": null,
      "justify_items": null,
      "left": null,
      "margin": null,
      "max_height": null,
      "max_width": null,
      "min_height": null,
      "min_width": null,
      "object_fit": null,
      "object_position": null,
      "order": null,
      "overflow": null,
      "overflow_x": null,
      "overflow_y": null,
      "padding": null,
      "right": null,
      "top": null,
      "visibility": null,
      "width": null
     }
    },
    "4b8d4b100f284b018dcf6ee5f831b133": {
     "model_module": "@jupyter-widgets/controls",
     "model_module_version": "1.5.0",
     "model_name": "ProgressStyleModel",
     "state": {
      "_model_module": "@jupyter-widgets/controls",
      "_model_module_version": "1.5.0",
      "_model_name": "ProgressStyleModel",
      "_view_count": null,
      "_view_module": "@jupyter-widgets/base",
      "_view_module_version": "1.2.0",
      "_view_name": "StyleView",
      "bar_color": null,
      "description_width": ""
     }
    },
    "53beb43531e7443daec89732e19a69f5": {
     "model_module": "@jupyter-widgets/base",
     "model_module_version": "1.2.0",
     "model_name": "LayoutModel",
     "state": {
      "_model_module": "@jupyter-widgets/base",
      "_model_module_version": "1.2.0",
      "_model_name": "LayoutModel",
      "_view_count": null,
      "_view_module": "@jupyter-widgets/base",
      "_view_module_version": "1.2.0",
      "_view_name": "LayoutView",
      "align_content": null,
      "align_items": null,
      "align_self": null,
      "border": null,
      "bottom": null,
      "display": null,
      "flex": null,
      "flex_flow": null,
      "grid_area": null,
      "grid_auto_columns": null,
      "grid_auto_flow": null,
      "grid_auto_rows": null,
      "grid_column": null,
      "grid_gap": null,
      "grid_row": null,
      "grid_template_areas": null,
      "grid_template_columns": null,
      "grid_template_rows": null,
      "height": null,
      "justify_content": null,
      "justify_items": null,
      "left": null,
      "margin": null,
      "max_height": null,
      "max_width": null,
      "min_height": null,
      "min_width": null,
      "object_fit": null,
      "object_position": null,
      "order": null,
      "overflow": null,
      "overflow_x": null,
      "overflow_y": null,
      "padding": null,
      "right": null,
      "top": null,
      "visibility": null,
      "width": null
     }
    },
    "56cb798422ea4c86b1ee56001dd5f017": {
     "model_module": "@jupyter-widgets/controls",
     "model_module_version": "1.5.0",
     "model_name": "HTMLModel",
     "state": {
      "_dom_classes": [],
      "_model_module": "@jupyter-widgets/controls",
      "_model_module_version": "1.5.0",
      "_model_name": "HTMLModel",
      "_view_count": null,
      "_view_module": "@jupyter-widgets/controls",
      "_view_module_version": "1.5.0",
      "_view_name": "HTMLView",
      "description": "",
      "description_tooltip": null,
      "layout": "IPY_MODEL_0ce4743e87c34803883c6169a5e29649",
      "placeholder": "​",
      "style": "IPY_MODEL_86a60969b06b4bed8cc09c4b1c9b08d8",
      "value": " 112/112 [00:00&lt;00:00, 5.62kB/s]"
     }
    },
    "56e6ef74e57d4f31820673ba6f30f1d4": {
     "model_module": "@jupyter-widgets/controls",
     "model_module_version": "1.5.0",
     "model_name": "DescriptionStyleModel",
     "state": {
      "_model_module": "@jupyter-widgets/controls",
      "_model_module_version": "1.5.0",
      "_model_name": "DescriptionStyleModel",
      "_view_count": null,
      "_view_module": "@jupyter-widgets/base",
      "_view_module_version": "1.2.0",
      "_view_name": "StyleView",
      "description_width": ""
     }
    },
    "593a464e6d8b43b183cb7f0c7e488224": {
     "model_module": "@jupyter-widgets/controls",
     "model_module_version": "1.5.0",
     "model_name": "FloatProgressModel",
     "state": {
      "_dom_classes": [],
      "_model_module": "@jupyter-widgets/controls",
      "_model_module_version": "1.5.0",
      "_model_name": "FloatProgressModel",
      "_view_count": null,
      "_view_module": "@jupyter-widgets/controls",
      "_view_module_version": "1.5.0",
      "_view_name": "ProgressView",
      "bar_style": "success",
      "description": "",
      "description_tooltip": null,
      "layout": "IPY_MODEL_a7e59d06621b4d958c76434f2907f03e",
      "max": 112,
      "min": 0,
      "orientation": "horizontal",
      "style": "IPY_MODEL_6a83f712cc754d43bc874ababb187dcd",
      "value": 112
     }
    },
    "64ca869562834f9fbf9d9a5ecceb848e": {
     "model_module": "@jupyter-widgets/base",
     "model_module_version": "1.2.0",
     "model_name": "LayoutModel",
     "state": {
      "_model_module": "@jupyter-widgets/base",
      "_model_module_version": "1.2.0",
      "_model_name": "LayoutModel",
      "_view_count": null,
      "_view_module": "@jupyter-widgets/base",
      "_view_module_version": "1.2.0",
      "_view_name": "LayoutView",
      "align_content": null,
      "align_items": null,
      "align_self": null,
      "border": null,
      "bottom": null,
      "display": null,
      "flex": null,
      "flex_flow": null,
      "grid_area": null,
      "grid_auto_columns": null,
      "grid_auto_flow": null,
      "grid_auto_rows": null,
      "grid_column": null,
      "grid_gap": null,
      "grid_row": null,
      "grid_template_areas": null,
      "grid_template_columns": null,
      "grid_template_rows": null,
      "height": null,
      "justify_content": null,
      "justify_items": null,
      "left": null,
      "margin": null,
      "max_height": null,
      "max_width": null,
      "min_height": null,
      "min_width": null,
      "object_fit": null,
      "object_position": null,
      "order": null,
      "overflow": null,
      "overflow_x": null,
      "overflow_y": null,
      "padding": null,
      "right": null,
      "top": null,
      "visibility": null,
      "width": null
     }
    },
    "67249385ae0242f3a376e7a67de1e7d2": {
     "model_module": "@jupyter-widgets/controls",
     "model_module_version": "1.5.0",
     "model_name": "DescriptionStyleModel",
     "state": {
      "_model_module": "@jupyter-widgets/controls",
      "_model_module_version": "1.5.0",
      "_model_name": "DescriptionStyleModel",
      "_view_count": null,
      "_view_module": "@jupyter-widgets/base",
      "_view_module_version": "1.2.0",
      "_view_name": "StyleView",
      "description_width": ""
     }
    },
    "6a83f712cc754d43bc874ababb187dcd": {
     "model_module": "@jupyter-widgets/controls",
     "model_module_version": "1.5.0",
     "model_name": "ProgressStyleModel",
     "state": {
      "_model_module": "@jupyter-widgets/controls",
      "_model_module_version": "1.5.0",
      "_model_name": "ProgressStyleModel",
      "_view_count": null,
      "_view_module": "@jupyter-widgets/base",
      "_view_module_version": "1.2.0",
      "_view_name": "StyleView",
      "bar_color": null,
      "description_width": ""
     }
    },
    "6c06e7bbbb024fcba4e39a0b3f9bfa78": {
     "model_module": "@jupyter-widgets/controls",
     "model_module_version": "1.5.0",
     "model_name": "HTMLModel",
     "state": {
      "_dom_classes": [],
      "_model_module": "@jupyter-widgets/controls",
      "_model_module_version": "1.5.0",
      "_model_name": "HTMLModel",
      "_view_count": null,
      "_view_module": "@jupyter-widgets/controls",
      "_view_module_version": "1.5.0",
      "_view_name": "HTMLView",
      "description": "",
      "description_tooltip": null,
      "layout": "IPY_MODEL_6f386f511e0045ae92bbad7e4b922951",
      "placeholder": "​",
      "style": "IPY_MODEL_56e6ef74e57d4f31820673ba6f30f1d4",
      "value": "pytorch_model.bin: 100%"
     }
    },
    "6d5ebfbc3074435b89a887321a525439": {
     "model_module": "@jupyter-widgets/controls",
     "model_module_version": "1.5.0",
     "model_name": "HTMLModel",
     "state": {
      "_dom_classes": [],
      "_model_module": "@jupyter-widgets/controls",
      "_model_module_version": "1.5.0",
      "_model_name": "HTMLModel",
      "_view_count": null,
      "_view_module": "@jupyter-widgets/controls",
      "_view_module_version": "1.5.0",
      "_view_name": "HTMLView",
      "description": "",
      "description_tooltip": null,
      "layout": "IPY_MODEL_41440c82b07e484782e59c3410377c31",
      "placeholder": "​",
      "style": "IPY_MODEL_dd36dfdb47f145e199bfe25fb745e219",
      "value": " 953/953 [00:00&lt;00:00, 44.3kB/s]"
     }
    },
    "6f386f511e0045ae92bbad7e4b922951": {
     "model_module": "@jupyter-widgets/base",
     "model_module_version": "1.2.0",
     "model_name": "LayoutModel",
     "state": {
      "_model_module": "@jupyter-widgets/base",
      "_model_module_version": "1.2.0",
      "_model_name": "LayoutModel",
      "_view_count": null,
      "_view_module": "@jupyter-widgets/base",
      "_view_module_version": "1.2.0",
      "_view_name": "LayoutView",
      "align_content": null,
      "align_items": null,
      "align_self": null,
      "border": null,
      "bottom": null,
      "display": null,
      "flex": null,
      "flex_flow": null,
      "grid_area": null,
      "grid_auto_columns": null,
      "grid_auto_flow": null,
      "grid_auto_rows": null,
      "grid_column": null,
      "grid_gap": null,
      "grid_row": null,
      "grid_template_areas": null,
      "grid_template_columns": null,
      "grid_template_rows": null,
      "height": null,
      "justify_content": null,
      "justify_items": null,
      "left": null,
      "margin": null,
      "max_height": null,
      "max_width": null,
      "min_height": null,
      "min_width": null,
      "object_fit": null,
      "object_position": null,
      "order": null,
      "overflow": null,
      "overflow_x": null,
      "overflow_y": null,
      "padding": null,
      "right": null,
      "top": null,
      "visibility": null,
      "width": null
     }
    },
    "7351b5c47c0c4db3bb4363e71d2cbbee": {
     "model_module": "@jupyter-widgets/controls",
     "model_module_version": "1.5.0",
     "model_name": "DescriptionStyleModel",
     "state": {
      "_model_module": "@jupyter-widgets/controls",
      "_model_module_version": "1.5.0",
      "_model_name": "DescriptionStyleModel",
      "_view_count": null,
      "_view_module": "@jupyter-widgets/base",
      "_view_module_version": "1.2.0",
      "_view_name": "StyleView",
      "description_width": ""
     }
    },
    "827506a983fc4c68a5d20e8b9585b700": {
     "model_module": "@jupyter-widgets/controls",
     "model_module_version": "1.5.0",
     "model_name": "HTMLModel",
     "state": {
      "_dom_classes": [],
      "_model_module": "@jupyter-widgets/controls",
      "_model_module_version": "1.5.0",
      "_model_name": "HTMLModel",
      "_view_count": null,
      "_view_module": "@jupyter-widgets/controls",
      "_view_module_version": "1.5.0",
      "_view_name": "HTMLView",
      "description": "",
      "description_tooltip": null,
      "layout": "IPY_MODEL_e75eb65cf24f4cb995df60cafc67e121",
      "placeholder": "​",
      "style": "IPY_MODEL_94a139670c844f00a7dcfec722da8a6a",
      "value": " 669M/669M [00:04&lt;00:00, 141MB/s]"
     }
    },
    "834017d4badb4cdaaff47a9142609066": {
     "model_module": "@jupyter-widgets/controls",
     "model_module_version": "1.5.0",
     "model_name": "DescriptionStyleModel",
     "state": {
      "_model_module": "@jupyter-widgets/controls",
      "_model_module_version": "1.5.0",
      "_model_name": "DescriptionStyleModel",
      "_view_count": null,
      "_view_module": "@jupyter-widgets/base",
      "_view_module_version": "1.2.0",
      "_view_name": "StyleView",
      "description_width": ""
     }
    },
    "86a60969b06b4bed8cc09c4b1c9b08d8": {
     "model_module": "@jupyter-widgets/controls",
     "model_module_version": "1.5.0",
     "model_name": "DescriptionStyleModel",
     "state": {
      "_model_module": "@jupyter-widgets/controls",
      "_model_module_version": "1.5.0",
      "_model_name": "DescriptionStyleModel",
      "_view_count": null,
      "_view_module": "@jupyter-widgets/base",
      "_view_module_version": "1.2.0",
      "_view_name": "StyleView",
      "description_width": ""
     }
    },
    "877bcba83dcc4e26b823d1dc86abcbd0": {
     "model_module": "@jupyter-widgets/controls",
     "model_module_version": "1.5.0",
     "model_name": "HTMLModel",
     "state": {
      "_dom_classes": [],
      "_model_module": "@jupyter-widgets/controls",
      "_model_module_version": "1.5.0",
      "_model_name": "HTMLModel",
      "_view_count": null,
      "_view_module": "@jupyter-widgets/controls",
      "_view_module_version": "1.5.0",
      "_view_name": "HTMLView",
      "description": "",
      "description_tooltip": null,
      "layout": "IPY_MODEL_23446c4f7a1c41cf83df3408dab8dfda",
      "placeholder": "​",
      "style": "IPY_MODEL_ea135f9e5de34de98ed66a9231bd8775",
      "value": "tokenizer_config.json: 100%"
     }
    },
    "9127cb36b05b4e05bfce2edeb3494af3": {
     "model_module": "@jupyter-widgets/base",
     "model_module_version": "1.2.0",
     "model_name": "LayoutModel",
     "state": {
      "_model_module": "@jupyter-widgets/base",
      "_model_module_version": "1.2.0",
      "_model_name": "LayoutModel",
      "_view_count": null,
      "_view_module": "@jupyter-widgets/base",
      "_view_module_version": "1.2.0",
      "_view_name": "LayoutView",
      "align_content": null,
      "align_items": null,
      "align_self": null,
      "border": null,
      "bottom": null,
      "display": null,
      "flex": null,
      "flex_flow": null,
      "grid_area": null,
      "grid_auto_columns": null,
      "grid_auto_flow": null,
      "grid_auto_rows": null,
      "grid_column": null,
      "grid_gap": null,
      "grid_row": null,
      "grid_template_areas": null,
      "grid_template_columns": null,
      "grid_template_rows": null,
      "height": null,
      "justify_content": null,
      "justify_items": null,
      "left": null,
      "margin": null,
      "max_height": null,
      "max_width": null,
      "min_height": null,
      "min_width": null,
      "object_fit": null,
      "object_position": null,
      "order": null,
      "overflow": null,
      "overflow_x": null,
      "overflow_y": null,
      "padding": null,
      "right": null,
      "top": null,
      "visibility": null,
      "width": null
     }
    },
    "93fb11bd96b34282bc9e3ad6b32139a3": {
     "model_module": "@jupyter-widgets/base",
     "model_module_version": "1.2.0",
     "model_name": "LayoutModel",
     "state": {
      "_model_module": "@jupyter-widgets/base",
      "_model_module_version": "1.2.0",
      "_model_name": "LayoutModel",
      "_view_count": null,
      "_view_module": "@jupyter-widgets/base",
      "_view_module_version": "1.2.0",
      "_view_name": "LayoutView",
      "align_content": null,
      "align_items": null,
      "align_self": null,
      "border": null,
      "bottom": null,
      "display": null,
      "flex": null,
      "flex_flow": null,
      "grid_area": null,
      "grid_auto_columns": null,
      "grid_auto_flow": null,
      "grid_auto_rows": null,
      "grid_column": null,
      "grid_gap": null,
      "grid_row": null,
      "grid_template_areas": null,
      "grid_template_columns": null,
      "grid_template_rows": null,
      "height": null,
      "justify_content": null,
      "justify_items": null,
      "left": null,
      "margin": null,
      "max_height": null,
      "max_width": null,
      "min_height": null,
      "min_width": null,
      "object_fit": null,
      "object_position": null,
      "order": null,
      "overflow": null,
      "overflow_x": null,
      "overflow_y": null,
      "padding": null,
      "right": null,
      "top": null,
      "visibility": null,
      "width": null
     }
    },
    "94a139670c844f00a7dcfec722da8a6a": {
     "model_module": "@jupyter-widgets/controls",
     "model_module_version": "1.5.0",
     "model_name": "DescriptionStyleModel",
     "state": {
      "_model_module": "@jupyter-widgets/controls",
      "_model_module_version": "1.5.0",
      "_model_name": "DescriptionStyleModel",
      "_view_count": null,
      "_view_module": "@jupyter-widgets/base",
      "_view_module_version": "1.2.0",
      "_view_name": "StyleView",
      "description_width": ""
     }
    },
    "9c547026cb7c427a97447d56071a4b65": {
     "model_module": "@jupyter-widgets/controls",
     "model_module_version": "1.5.0",
     "model_name": "HBoxModel",
     "state": {
      "_dom_classes": [],
      "_model_module": "@jupyter-widgets/controls",
      "_model_module_version": "1.5.0",
      "_model_name": "HBoxModel",
      "_view_count": null,
      "_view_module": "@jupyter-widgets/controls",
      "_view_module_version": "1.5.0",
      "_view_name": "HBoxView",
      "box_style": "",
      "children": [
       "IPY_MODEL_6c06e7bbbb024fcba4e39a0b3f9bfa78",
       "IPY_MODEL_f49826f48c994d87a58851d38c238dbf",
       "IPY_MODEL_827506a983fc4c68a5d20e8b9585b700"
      ],
      "layout": "IPY_MODEL_93fb11bd96b34282bc9e3ad6b32139a3"
     }
    },
    "a7e59d06621b4d958c76434f2907f03e": {
     "model_module": "@jupyter-widgets/base",
     "model_module_version": "1.2.0",
     "model_name": "LayoutModel",
     "state": {
      "_model_module": "@jupyter-widgets/base",
      "_model_module_version": "1.2.0",
      "_model_name": "LayoutModel",
      "_view_count": null,
      "_view_module": "@jupyter-widgets/base",
      "_view_module_version": "1.2.0",
      "_view_name": "LayoutView",
      "align_content": null,
      "align_items": null,
      "align_self": null,
      "border": null,
      "bottom": null,
      "display": null,
      "flex": null,
      "flex_flow": null,
      "grid_area": null,
      "grid_auto_columns": null,
      "grid_auto_flow": null,
      "grid_auto_rows": null,
      "grid_column": null,
      "grid_gap": null,
      "grid_row": null,
      "grid_template_areas": null,
      "grid_template_columns": null,
      "grid_template_rows": null,
      "height": null,
      "justify_content": null,
      "justify_items": null,
      "left": null,
      "margin": null,
      "max_height": null,
      "max_width": null,
      "min_height": null,
      "min_width": null,
      "object_fit": null,
      "object_position": null,
      "order": null,
      "overflow": null,
      "overflow_x": null,
      "overflow_y": null,
      "padding": null,
      "right": null,
      "top": null,
      "visibility": null,
      "width": null
     }
    },
    "a818b6d5754443dbaf869729b9591a7b": {
     "model_module": "@jupyter-widgets/controls",
     "model_module_version": "1.5.0",
     "model_name": "ProgressStyleModel",
     "state": {
      "_model_module": "@jupyter-widgets/controls",
      "_model_module_version": "1.5.0",
      "_model_name": "ProgressStyleModel",
      "_view_count": null,
      "_view_module": "@jupyter-widgets/base",
      "_view_module_version": "1.2.0",
      "_view_name": "StyleView",
      "bar_color": null,
      "description_width": ""
     }
    },
    "b72796b2d50049bd9e224da3e1492480": {
     "model_module": "@jupyter-widgets/controls",
     "model_module_version": "1.5.0",
     "model_name": "ProgressStyleModel",
     "state": {
      "_model_module": "@jupyter-widgets/controls",
      "_model_module_version": "1.5.0",
      "_model_name": "ProgressStyleModel",
      "_view_count": null,
      "_view_module": "@jupyter-widgets/base",
      "_view_module_version": "1.2.0",
      "_view_name": "StyleView",
      "bar_color": null,
      "description_width": ""
     }
    },
    "b7fb19efe7d548b08e5d305c79cf28ea": {
     "model_module": "@jupyter-widgets/controls",
     "model_module_version": "1.5.0",
     "model_name": "HBoxModel",
     "state": {
      "_dom_classes": [],
      "_model_module": "@jupyter-widgets/controls",
      "_model_module_version": "1.5.0",
      "_model_name": "HBoxModel",
      "_view_count": null,
      "_view_module": "@jupyter-widgets/controls",
      "_view_module_version": "1.5.0",
      "_view_name": "HBoxView",
      "box_style": "",
      "children": [
       "IPY_MODEL_dc9e50ce581d4a4fa1f842c0d63d984e",
       "IPY_MODEL_593a464e6d8b43b183cb7f0c7e488224",
       "IPY_MODEL_56cb798422ea4c86b1ee56001dd5f017"
      ],
      "layout": "IPY_MODEL_53beb43531e7443daec89732e19a69f5"
     }
    },
    "bce6e439e55f4066a9833f4ea614b3e4": {
     "model_module": "@jupyter-widgets/controls",
     "model_module_version": "1.5.0",
     "model_name": "DescriptionStyleModel",
     "state": {
      "_model_module": "@jupyter-widgets/controls",
      "_model_module_version": "1.5.0",
      "_model_name": "DescriptionStyleModel",
      "_view_count": null,
      "_view_module": "@jupyter-widgets/base",
      "_view_module_version": "1.2.0",
      "_view_name": "StyleView",
      "description_width": ""
     }
    },
    "c0e2b54eee2d44dd9a203e2b13ce5777": {
     "model_module": "@jupyter-widgets/base",
     "model_module_version": "1.2.0",
     "model_name": "LayoutModel",
     "state": {
      "_model_module": "@jupyter-widgets/base",
      "_model_module_version": "1.2.0",
      "_model_name": "LayoutModel",
      "_view_count": null,
      "_view_module": "@jupyter-widgets/base",
      "_view_module_version": "1.2.0",
      "_view_name": "LayoutView",
      "align_content": null,
      "align_items": null,
      "align_self": null,
      "border": null,
      "bottom": null,
      "display": null,
      "flex": null,
      "flex_flow": null,
      "grid_area": null,
      "grid_auto_columns": null,
      "grid_auto_flow": null,
      "grid_auto_rows": null,
      "grid_column": null,
      "grid_gap": null,
      "grid_row": null,
      "grid_template_areas": null,
      "grid_template_columns": null,
      "grid_template_rows": null,
      "height": null,
      "justify_content": null,
      "justify_items": null,
      "left": null,
      "margin": null,
      "max_height": null,
      "max_width": null,
      "min_height": null,
      "min_width": null,
      "object_fit": null,
      "object_position": null,
      "order": null,
      "overflow": null,
      "overflow_x": null,
      "overflow_y": null,
      "padding": null,
      "right": null,
      "top": null,
      "visibility": null,
      "width": null
     }
    },
    "c3c43b4ae8364440a98c86ae3b61f1a2": {
     "model_module": "@jupyter-widgets/controls",
     "model_module_version": "1.5.0",
     "model_name": "DescriptionStyleModel",
     "state": {
      "_model_module": "@jupyter-widgets/controls",
      "_model_module_version": "1.5.0",
      "_model_name": "DescriptionStyleModel",
      "_view_count": null,
      "_view_module": "@jupyter-widgets/base",
      "_view_module_version": "1.2.0",
      "_view_name": "StyleView",
      "description_width": ""
     }
    },
    "cad0aaf3ed264e8d8256c8307624b9b2": {
     "model_module": "@jupyter-widgets/base",
     "model_module_version": "1.2.0",
     "model_name": "LayoutModel",
     "state": {
      "_model_module": "@jupyter-widgets/base",
      "_model_module_version": "1.2.0",
      "_model_name": "LayoutModel",
      "_view_count": null,
      "_view_module": "@jupyter-widgets/base",
      "_view_module_version": "1.2.0",
      "_view_name": "LayoutView",
      "align_content": null,
      "align_items": null,
      "align_self": null,
      "border": null,
      "bottom": null,
      "display": null,
      "flex": null,
      "flex_flow": null,
      "grid_area": null,
      "grid_auto_columns": null,
      "grid_auto_flow": null,
      "grid_auto_rows": null,
      "grid_column": null,
      "grid_gap": null,
      "grid_row": null,
      "grid_template_areas": null,
      "grid_template_columns": null,
      "grid_template_rows": null,
      "height": null,
      "justify_content": null,
      "justify_items": null,
      "left": null,
      "margin": null,
      "max_height": null,
      "max_width": null,
      "min_height": null,
      "min_width": null,
      "object_fit": null,
      "object_position": null,
      "order": null,
      "overflow": null,
      "overflow_x": null,
      "overflow_y": null,
      "padding": null,
      "right": null,
      "top": null,
      "visibility": null,
      "width": null
     }
    },
    "cfb30297b9c44b7fa30118f49e93ca21": {
     "model_module": "@jupyter-widgets/base",
     "model_module_version": "1.2.0",
     "model_name": "LayoutModel",
     "state": {
      "_model_module": "@jupyter-widgets/base",
      "_model_module_version": "1.2.0",
      "_model_name": "LayoutModel",
      "_view_count": null,
      "_view_module": "@jupyter-widgets/base",
      "_view_module_version": "1.2.0",
      "_view_name": "LayoutView",
      "align_content": null,
      "align_items": null,
      "align_self": null,
      "border": null,
      "bottom": null,
      "display": null,
      "flex": null,
      "flex_flow": null,
      "grid_area": null,
      "grid_auto_columns": null,
      "grid_auto_flow": null,
      "grid_auto_rows": null,
      "grid_column": null,
      "grid_gap": null,
      "grid_row": null,
      "grid_template_areas": null,
      "grid_template_columns": null,
      "grid_template_rows": null,
      "height": null,
      "justify_content": null,
      "justify_items": null,
      "left": null,
      "margin": null,
      "max_height": null,
      "max_width": null,
      "min_height": null,
      "min_width": null,
      "object_fit": null,
      "object_position": null,
      "order": null,
      "overflow": null,
      "overflow_x": null,
      "overflow_y": null,
      "padding": null,
      "right": null,
      "top": null,
      "visibility": null,
      "width": null
     }
    },
    "dc9e50ce581d4a4fa1f842c0d63d984e": {
     "model_module": "@jupyter-widgets/controls",
     "model_module_version": "1.5.0",
     "model_name": "HTMLModel",
     "state": {
      "_dom_classes": [],
      "_model_module": "@jupyter-widgets/controls",
      "_model_module_version": "1.5.0",
      "_model_name": "HTMLModel",
      "_view_count": null,
      "_view_module": "@jupyter-widgets/controls",
      "_view_module_version": "1.5.0",
      "_view_name": "HTMLView",
      "description": "",
      "description_tooltip": null,
      "layout": "IPY_MODEL_09753a7193574aafbe89e8c37d7b62e1",
      "placeholder": "​",
      "style": "IPY_MODEL_bce6e439e55f4066a9833f4ea614b3e4",
      "value": "special_tokens_map.json: 100%"
     }
    },
    "dd36dfdb47f145e199bfe25fb745e219": {
     "model_module": "@jupyter-widgets/controls",
     "model_module_version": "1.5.0",
     "model_name": "DescriptionStyleModel",
     "state": {
      "_model_module": "@jupyter-widgets/controls",
      "_model_module_version": "1.5.0",
      "_model_name": "DescriptionStyleModel",
      "_view_count": null,
      "_view_module": "@jupyter-widgets/base",
      "_view_module_version": "1.2.0",
      "_view_name": "StyleView",
      "description_width": ""
     }
    },
    "e54cb31665f54aa99a5fd99ff6cd3bd6": {
     "model_module": "@jupyter-widgets/controls",
     "model_module_version": "1.5.0",
     "model_name": "FloatProgressModel",
     "state": {
      "_dom_classes": [],
      "_model_module": "@jupyter-widgets/controls",
      "_model_module_version": "1.5.0",
      "_model_name": "FloatProgressModel",
      "_view_count": null,
      "_view_module": "@jupyter-widgets/controls",
      "_view_module_version": "1.5.0",
      "_view_name": "ProgressView",
      "bar_style": "success",
      "description": "",
      "description_tooltip": null,
      "layout": "IPY_MODEL_45984f2a28ec48deb865812bbcae90b6",
      "max": 953,
      "min": 0,
      "orientation": "horizontal",
      "style": "IPY_MODEL_3961ebe8351b4094bdd508c81563807d",
      "value": 953
     }
    },
    "e75eb65cf24f4cb995df60cafc67e121": {
     "model_module": "@jupyter-widgets/base",
     "model_module_version": "1.2.0",
     "model_name": "LayoutModel",
     "state": {
      "_model_module": "@jupyter-widgets/base",
      "_model_module_version": "1.2.0",
      "_model_name": "LayoutModel",
      "_view_count": null,
      "_view_module": "@jupyter-widgets/base",
      "_view_module_version": "1.2.0",
      "_view_name": "LayoutView",
      "align_content": null,
      "align_items": null,
      "align_self": null,
      "border": null,
      "bottom": null,
      "display": null,
      "flex": null,
      "flex_flow": null,
      "grid_area": null,
      "grid_auto_columns": null,
      "grid_auto_flow": null,
      "grid_auto_rows": null,
      "grid_column": null,
      "grid_gap": null,
      "grid_row": null,
      "grid_template_areas": null,
      "grid_template_columns": null,
      "grid_template_rows": null,
      "height": null,
      "justify_content": null,
      "justify_items": null,
      "left": null,
      "margin": null,
      "max_height": null,
      "max_width": null,
      "min_height": null,
      "min_width": null,
      "object_fit": null,
      "object_position": null,
      "order": null,
      "overflow": null,
      "overflow_x": null,
      "overflow_y": null,
      "padding": null,
      "right": null,
      "top": null,
      "visibility": null,
      "width": null
     }
    },
    "ea135f9e5de34de98ed66a9231bd8775": {
     "model_module": "@jupyter-widgets/controls",
     "model_module_version": "1.5.0",
     "model_name": "DescriptionStyleModel",
     "state": {
      "_model_module": "@jupyter-widgets/controls",
      "_model_module_version": "1.5.0",
      "_model_name": "DescriptionStyleModel",
      "_view_count": null,
      "_view_module": "@jupyter-widgets/base",
      "_view_module_version": "1.2.0",
      "_view_name": "StyleView",
      "description_width": ""
     }
    },
    "f100650bcb3c4037a32940c4f346d5fc": {
     "model_module": "@jupyter-widgets/base",
     "model_module_version": "1.2.0",
     "model_name": "LayoutModel",
     "state": {
      "_model_module": "@jupyter-widgets/base",
      "_model_module_version": "1.2.0",
      "_model_name": "LayoutModel",
      "_view_count": null,
      "_view_module": "@jupyter-widgets/base",
      "_view_module_version": "1.2.0",
      "_view_name": "LayoutView",
      "align_content": null,
      "align_items": null,
      "align_self": null,
      "border": null,
      "bottom": null,
      "display": null,
      "flex": null,
      "flex_flow": null,
      "grid_area": null,
      "grid_auto_columns": null,
      "grid_auto_flow": null,
      "grid_auto_rows": null,
      "grid_column": null,
      "grid_gap": null,
      "grid_row": null,
      "grid_template_areas": null,
      "grid_template_columns": null,
      "grid_template_rows": null,
      "height": null,
      "justify_content": null,
      "justify_items": null,
      "left": null,
      "margin": null,
      "max_height": null,
      "max_width": null,
      "min_height": null,
      "min_width": null,
      "object_fit": null,
      "object_position": null,
      "order": null,
      "overflow": null,
      "overflow_x": null,
      "overflow_y": null,
      "padding": null,
      "right": null,
      "top": null,
      "visibility": null,
      "width": null
     }
    },
    "f49826f48c994d87a58851d38c238dbf": {
     "model_module": "@jupyter-widgets/controls",
     "model_module_version": "1.5.0",
     "model_name": "FloatProgressModel",
     "state": {
      "_dom_classes": [],
      "_model_module": "@jupyter-widgets/controls",
      "_model_module_version": "1.5.0",
      "_model_name": "FloatProgressModel",
      "_view_count": null,
      "_view_module": "@jupyter-widgets/controls",
      "_view_module_version": "1.5.0",
      "_view_name": "ProgressView",
      "bar_style": "success",
      "description": "",
      "description_tooltip": null,
      "layout": "IPY_MODEL_c0e2b54eee2d44dd9a203e2b13ce5777",
      "max": 669491321,
      "min": 0,
      "orientation": "horizontal",
      "style": "IPY_MODEL_b72796b2d50049bd9e224da3e1492480",
      "value": 669491321
     }
    }
   }
  }
 },
 "nbformat": 4,
 "nbformat_minor": 4
}
